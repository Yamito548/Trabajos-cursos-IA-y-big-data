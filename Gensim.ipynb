{
  "nbformat": 4,
  "nbformat_minor": 0,
  "metadata": {
    "colab": {
      "provenance": [],
      "authorship_tag": "ABX9TyOmNv1WWGo+TzdIKZ4jx3Uw",
      "include_colab_link": true
    },
    "kernelspec": {
      "name": "python3",
      "display_name": "Python 3"
    },
    "language_info": {
      "name": "python"
    }
  },
  "cells": [
    {
      "cell_type": "markdown",
      "metadata": {
        "id": "view-in-github",
        "colab_type": "text"
      },
      "source": [
        "<a href=\"https://colab.research.google.com/github/Yamito548/Trabajos-cursos-IA-y-big-data/blob/main/Gensim.ipynb\" target=\"_parent\"><img src=\"https://colab.research.google.com/assets/colab-badge.svg\" alt=\"Open In Colab\"/></a>"
      ]
    },
    {
      "cell_type": "markdown",
      "source": [
        "Esta actividad utiliza el dataset de kaagle sobre [worldnews on Reddit](https://www.kaggle.com/datasets/rootuser/worldnews-on-reddit). Básicamente los datos que vemos fueron sacados del subreedit"
      ],
      "metadata": {
        "id": "3dfhIjK579hd"
      }
    },
    {
      "cell_type": "markdown",
      "source": [
        "![unnamed.png](data:image/png;base64,iVBORw0KGgoAAAANSUhEUgAAAgAAAAIACAYAAAD0eNT6AAAAGXRFWHRTb2Z0d2FyZQBBZG9iZSBJbWFnZVJlYWR5ccllPAAAO4hJREFUeNrs3V+sHlW9//GnvxAxOVguVMB2NyFpI2mrv0K9aCsk1KSlxFguugtHhITNQYhA0liPaS/881OUixJ/1jRBjYBuEvhhgN0LagybklgSYLcXFDmelmjahN/pLiLiBbUmwk3P85nu1TN79pp5Zq1ZM7Pmed6vpKmW/efZz56Z9Vnf9W/RuXPnvtcDAAAjZVE/AJzjbQAAYLT8L94CAAAIAAAAgAAAAAAIAAAAgAAAAAAIAAAAgAAAAAAIAAAAgAAAAAAIAAAAgAAAAAAIAAAAgAAAAAAIAAAAgAAAAAAIAAAAgAAAAAAIAAAAEAAAAAABAAAAEAAAAAABAAAAEAAAAAABAAAAROwi3oK4HTt+rHfmzBneCACds2H9Bt6EiC0618fbEK9b/nV7b2ZmhjcCQOec+q/TvAkRYwgAAAACAAAAIAAAAAACAAAAIAAAAAACAAAAIAAAAAACAAAAIAAAAAACAAAAIAAAAAACAAAACIvDgCLHaYAAuorTAAkAAAAgMgwBAABAAAAAAAQAAABAAAAAAAQAAABAAAAAAAQAAABAAAAAAAQAAABAAAAAAAQAAABAAAAAAAQAAABAAAAAAAQAAABAAAAAAAQAAABAAAAAgAAAAAAIAAAAgAAAAAAIAAAAgAAAAAA6ZNHNt4yf420AAGDEAsDYsiUEAAAARgxDAAAAEAAAAAABAAAAEAAAAAABAAAAEAAAAAABAAAAEAAAAAABAAAAEAAAAAABAAAAEAAAAEBYi8718TYAAEAFAAAAEAAAAAABAAAAEAAAAAABAAAAEAAAAAABAAAAEAAAAAABAAAAEAAAAAABAAAAEAAAAAABAAAAEAAAAAABAAAAEAAAACAAAAAAAgAAACAAAAAAAgAAACAAAAAAAgAAACAAAAAAAgAAACAAAAAAAgAAACAAAAAAAgAAACAAAAAAAgAAACAAAAAAAgAAACAAAAAAAgAAAAQAAABAAAAAAAQAAABAAAAAAAQAAABAAAAAAAQAAABAAAAAAAQAAABAAAAAAAQAAABAAAAAAAQAAABAAAAAAAQAAABAAAAAAAQAAAAIAAAAgAAAAAAIAAAAgAAAAAAIAAAAgAAAAAAIAAAAgAAAAAAIAAAAgAAAAAAIAAAAgAAAAAAIAAAAgAAAAAAIAAAAgAAAAAAIAAAAEAAAAAABAAAAEAAAAAABAAAAEAAAAAABAAAAEAAAAAABAAAAEAAAAAABAAAAEAAAAAABAAAAhHERbwFw3psn/to7c/aD3P8+dsXi3tL+H2CQP88c7v19djb587djx3sfnjkz779fMjbW2/jjH/FGoVWLzvXxNjRHD4OZ7z+w4N8/tWF98vdHFi/ufWLVqgv/++OrV5X+2nrYnD01O+/f3ju+8OHz8f7Xv3LLDaW+5p+eeTb5umnp15h+7T7vxd/6r898/StvuMHp563iyO9nkwb/zZPv9mbfOZP8/7JWrvhkEgZWrrist27NWG/d1WNc2B3y1vQLvdf2/iS5/mw+1m+cP7ZsbN798pFLF1uv/Q/695au4eT+6997Z/vX8tv9xr+M8ed/29j1bnsPzOsOKfv+2FzSf2/1HoMAUCs1LC989Z4LN7putosXL553sdpuwOQBkLlATZq/8P/nbvYLD4HUwyS5Cfpfd8P/+e6Cr/+bW75c+gFRp4lj/5G8ziJ/eOyXvZnvPeD0dbPvsU3Rz3/Pqbdq+XnVs3/x5ZO9g6+c6B3s/x3a5uuW9zZfu6K3qf/34ksu7vx9oyCZvubT13s2TKpxNPeMbxhskhr/1378k9a+v+4RBfDP7fx6K99fof7QN74Z3e9lSeraMdeRua70ng16XoEAENWNrgv6S0//et6/KZAofbdta/91DXpY+wSAKj5717/1Nnzvu0G/pnr5k1NHe1PPH2/s5xi/cVVv25bV0VUG/jwXvNIN+4fv/08P9j1Lqdq3gVuyfn1yfZWtNDVJP+Mf+43g/+/fh6F+5iJqwD59y/YL70lMIc9UCHVtZDsyMdIzVaFT15j5GwQAKzW0anDbYmvQdOMplKg31cYNpxStm0jjj2UStV6vHg56L+sILubh+OmbtwctC6qkv+/xGafSfmgKADvu2FBLEDAP8LcPn2/UbePMrpUmPUxNb2vB93Msb2d/v7oXYu/BmUbQXO9/n52tdJ8p/Ojn7lojZeYt6H3Q9eX6jNLPq/tZgcf87B+mnnVm2ETXlP6u8gzs8vtMAGiAyl16aOWV66s2plf1L3RdgCFKVOahrt6JXrevz33j67WMp+v16cH4n4/+stLD0fQQ9ZAI/RpjaPhtQeDb929M5g6EELoyo9/BDY/+olQA04PchEGXQKh747Nf/bdOBIF0IHj1+w84Py90XX++H/yHpWTtOmyp54/L8Ia5psyzukp1QN+3C8NQBICWE64eoFV7tHVO4vEdp9PDp4nZxXp9r/bfQ5fyqW5Q27yIEDTG/+DDhyqV+jWxTz32XXumF/y3h3ZvSYKFJgz6mth+TfL1q84RMD207CQulfN9emyuD+z061AYVCBxqQjo+uzKQ1oh4EC/AXQJU3ouDJO6A0D2mtKz5Q/968p3aEYdMlVemWhIAKilkW3qRveZL1Dl5nOlG1QPxzINTp3BRJP6dvcb7aIlfC6N84ov7F3w30/8bmfy977HD/f2Tc5UChl7+mGizvkBarSm+9dO2Qdo1WtGv39dBy4P7Drme9TlF8uujPL+G8YAkH62KFj6BgFVX1SF0XMH+UZ6I6AqjVIT6bLsOH1b9No0mXDQe6EHQh2Nvxp8Nfz3fue5wsa/qPSuBv9nP7gpKdGX6ZnvuGN978Ajt+d+rP59rGCvAFUQbtv5TBIk6qLe9ecbbFwVhr8y87JTZUcP9xhnoiOeZ4tChK4rPT98AoSuL/2pe5InAaDjISDWnogZN439RtUkr6L3t44e0em5hrSo5K+G+Mm9N/c2X7cit7E+/9+XO31vBQp9ni0EKIiokqAhg6IgoCpC1apF2wHVFgZdQkCsy9FsAQftBoFb+0Fgicewka4x1+oUAWDEqBzpulypqdn7em3RPyBzNv7Qg7OOnr+W9m29+4nk77yGXT36Q0/dlTTWk88etX6cGnHfiXn6PFUOrI374zO9bTeu6j33yO29HRMbcr+GwotCTF0hoI2HtU8IcJlD0IaLWX/eOgVaLan26azpWf3/NlwX/RJHAkCLXC8sTVZpIlUmPWyHcSxNBGta3ooAzSyvo/EvajQ1tq4Svcb0TWNs+1j10KvOyjez+7NU5t/fb9wVRDRk8NJcEPH5eboYAvR7dxm60oTcKqtKMFqdNc29ch0adZmvRAAY0YTpOmGkqR39XKoAZl14k2xBKPS6/jKNpXrb6tWb/fo1TDD57OsLPi7ZqOfGMGVdBQ3bhD4FD0OvJx1Khj0E6PfuOnT1EvMBUJLPnBNCAAFgoKscA0CVtfquF3zZxlQXd9O9KVvV4arAs2+LGkkzlq/edl4jbGhc/luWXnsVeVWAbPjQx6nyYJs7YH6+YeqpufTSFKb/HMEW2egGn+EmQgABoJBmT7v0WrVEr6nJJZ9x6FE1/SDNLlUMvSe8Gv1dORPmzES/bC9cvX/bBMEQ6/CzVN4ft1QUbMMPqjzkTSBUCNht2YOgqw9o1xD4x4YCNQgBLzgskyUAjJDPOJYum5rA5DJJscmzBrKHJPm8h4OoUcyb8GcazmxD+8OHD1nDQqjSvy1Y2ILL5NTrC/7t4Csnc0OIQsv+54ejd+I6pBbDGRnoZghwHW7UM4tlqASABZyHAZ5upteSt0e7TZOnDdoe2iHL/yqjF53ep1K7qgMbb30sCQqn5472tX2OrZEOReP8tiqAViCo0ddr0utbu/WnyRLAoh0FFV6KAk9XuG6PbQ6lic17lIujDwE+E47rOt+EANDxi8mlt232x2+C9s8v+yBtaowrOw9C712ozYvUmNvG8W3UyKr3fH0/CGhjIJtNjuv9Q1UBbrr7iYF7FmQ/Z9eQDAV8wrE828Yk1jL3E+IPmz5LBGcctzMnAIyAT0c6GdDldb31Qv2hxOxJX+W9K7LLc6Mc2+donD702L+tCmBb7udzfoAqAHXuFtjYg3mVWwDQCXGAD008dd0sSM+w2PehqNNFXDYLqRerknvZ2fRmMmDd2/aakmqZxKrXVPee5LbJf6HOf1fJ3Hain3bt23ztit7U9DGnE//UoGqPf4UAEwZWrrist/hf0v//kwMrEmrMk7//cqYfNP55Yf6Bb8lewwab+j+PKh3Zr6Hhg4nxa2oPLnX6yKVu98RZ9gNABdf/+Ee9qS1fdOrV67yBOpYtEwC6XAW4ZXvvtR//pPTHawZzE7v2KeGWGXIw58PXGUqylY+iLYFd2WbDqyHcM7eMTpP51GBOTh1NxvvLVgrMeLzY5gnkNba2A4J8nZ+MuHpe465/0+6G2deqEw71MwMYTI24zg5wOS5bz0k965s4RTU2DAHkBQDHUraORW2Cy5KXOicD1ln+1yx4W9k8e2CPeuxqHLXl76C998uqczMevb6H5l6v9izI/iy2jYI0b+D0O90do3QdAgCqUkfMtTevzswozgUgABQkSZfxJFuDWEsFYH3511Tn5MRs4DHDJiH8amrh3v1a55+3hM9UBLS+PlZ6jToboGgZYt4eBWUnQsbob8e7PYOezYm6yecEwVGcC0AACFgFaOICctlgp86HVzZchOr9qzxvG08vs4Qvb5dAhQf9qXssXT18871sr23Q9z9/dsAGaxVgWLYJHuQjHLyDQM9u12upqSXdMWEOwICL6FWHZSJNTQZUZaJMed9UJUIfZ5rdbjjk5L/908esvX9bo1omAExsX7tgi+D0pL0jb5z/Od488W7y72ain61x1yx/M3kweV1rzr8m2woD7UuQ/Tr6noMmGqpCYNtBUMMieWcJxMx1Vj9H7yIU7Ufi0ikzS7pDPcsIAENAF0PZZX5q/HUBfTrwPvhZlziU2rWuOvRD1bb2P4RklzzLxLyJ8bWlPt9WOdAs/7yqgAkX2degzXqyNG7vQl93NrPuv0wA0GtTaNFmQfOqAP1g1MUA4DoEMIozsVFfB861KjtqAYAhgAFcZ/Y3sSfAx5aVf0jWMQyQLf+H2vr3RctsfvW8N5fcwOfMP+zr/12EGiZYufyyBf92/OS7pT53fMsqa7jp2mRAn3kxBACE4nKIWt6zjQDAReQ88z6ms81DX9D6eumfb4njAUpFjrxxasG/uezed+T3Cz8/xMoArwBgCR5l9wpYmhN6irZEjpHPtRfyEKkQ3jvONsBd5no9xbodNQGgRbEuCWwjBNQ1+S+vgRvfsrr059vmACyNKAC4TOTTZkcL3p9XTnTqvnG9D2IsvbINcLf5XFMxbkdNAGjRVZGdavbh+24PpZCJNv2zabJjqABgO9FvLGdr3aKvkVZm4mBdNJSQHU5w2S3QVvlw2fmwba/t/YlzJazuuTMYPUs8KkpUADCPa0NX9wFBrhOrQiVas8rBNxgVsTVuLg24bXy87S10q1QB8rYm7kIISPZXd+z9h1xJAqSf3a5DlG8TAJDl+nCqazKgGmDXCzS7bC9E719CTf5LGjbL+P+6NctKf75t6Z5ZrhcTlyqALQB14Zjgl77xTefSuc9JbkAZPqug/jYiR0ATABwCgEuSzPaWQ/GtLFQta+lnSYeakJP/8hq2KuV/Gbu83U1l1l29zLsCkBeAZv/yftT3iUr/rgFV91asvX/X4TYMRwAYlbkfBAAHrofd/LGGKoDvboNVhyTqnPyX34MvHwBsSwDbmgBYGFROlu/B21YwxFwB0DXicoCWKETGfAjL31gF0Hk+G7ONykRAAoBLAGh5NYDKUqY0pdcy/vxvy1/QFSsA2cl/IXtstnFt1/X7tiWAPpMAY9py1/U9aLWh7F+Xh77xTecH8w2P/oLtf1GrT3AgVS52AnTsrajhK9ubDr0Vb7r3rw2KzEYXZcb3VdLyfS1mh0ND70HdD23XCXzZSYC+EwD3P38899+LDvKxMVsFpx18+YT136uEpRga/wO3fNmpbKrrZ+vTv2brX4AA0B0uAcA02iFKnOlGOL05kV5P2WGBt154weuBm/15XXdH9G3oVnxhr/fnqydf5fOzdu2ZTv5UpRL+bTufGZr7QXNLpr96j1Pjr2tW9wQ9f6BdDAE4cj1lKtRkwD+mzqtON8AuwxK+EwHTAcN1Z0QML034c+n567pRr5+y/3D7OCV3AsAwc1n/ni2f+zLzCbLj7y77XWsegGsYye7n3kTvH/H3+n/Tb/jLTvjTNasev+asxLbVL8K7mHBHABj2KoCLqnsC/Dl1voBt/N1lQp7rZMA6J/8hDoOWupn90VUJmrrxi0mvv+x1pMD4lZmX2eUPiBBzADyYMnjZzSLMAUG+6+bTywk/942vWwNJ6XkAjsddpsNLE5P/QnJZBeAyua6ur9sWXV+25W7v9a/vKsNX6vXT8AMEgKGjno3LsieV8H12O1NwMI1w3uY7CiNqmMs8rF3mAbRZ/lcj++Tem0t/vG3Cn8vnG5qkt/XuJxb8+0tP3eW8r4BWJlx/62Pz/k2rE44euM/756pjaaC5brLl+Uv619rZucqTzzJSfQ4BAG3zOdFxVOaoEAA8uZbC1fP2CQDpHnjRw1Svp8xQgxr1stWI9D4G+vi6Jv/Zluy5rsfXpjnZzYTU+3bdC8DWwOpr+GwqVHVzo7LvVYhrWRPziigIvvDVe5y2lNb1qGuGeSNok08Va1T2DmAOgKemDgj609PPlvp+LoGk7OtIf1zIff/LNIquO97ZGui2N/Wpur2xbfhgrIbdDcsEO33Ml575tXPPaOZ7D4zU6WroRbdKyOf6u2TZ2Ej8rggAFVxV82RAfbzpcX12QAPsEgDK3BDZA4SuqrmUW/XgG2uIONnutrm27YnHLr+09OfbTjhcesWlrf08qgJtGVApsJl2rByg+52jmPz91KzXtU4AQKFPOR6I47onQNnyv2sIKFMByH7vum/qqlWAxZd81PL577Z6fdi2J3apABw/ufD1V9lFMNQ177qxla55DR8ATdO15xo+l4zQUlUCQEV1HRCki9ZMvCp7EmHIKkA6JFzVwESuVcsXHt1rOyI4t4JgaRjbHgKwff+qQwAxnA+gQOg6B0YVJQ0HYLjF1nP2mbw6ShsZEQACPAxdlD0gKP1xZb+HyyYrRVWA9L4DuqGb2LzFNgTgsoTONjmu7SV42QqGXmPZSXwq/2c/X+P/dUwC9KEJra5VIS1VDbEpFiIOAJGNnftcb5+iAgCXxOvSG8ourbNR2cpUCly+vstM/aLjLtNVijon/6VpEl92gtuspRHMk9czbqsKUHUC4MGXTy74t03XLY/qurftSTGIls4yHwBN8ZkAOEqbnREAAnC9YAZt2pOeK+DaAJd9LdlJfnmp+aoG13HbqgBT08cqVQFcVxOEUrX8b/u5161ZFtV1r+V9rtc+8wHQlKJnHI0/ASCY0AcEpfdYd22Ar7yh2jyA9Gtreue/TdeuWPBvecfzlq0C2GbSN+HIG5YlfCVXANjK/wo3myOqABg+p/oxH2B4xVQ+99mCnQAAL6EOCNK/m9TqM/ve7ApYxts5ASAdbJqkBi7bi1dPumwIsK2Rn/2LWwCwfS81yK5DCaffed+7ArDv8RnrexMjc9CPK1XB2B8AdXId/x/Fs07YCTAQlerL7sdv0qmtgf3P1NfwLb+X3RUwe4Okg4nr3IZQtt24qjf57Ovz/u1XU0eTfx/EtkY+uxRQPWs15mrUFQ7OnP3nhX/LGy7QXISNtz52oQFXSFm54rK5Xv3iC5sQpYcwbLsAltnER6/DNv6/bcvqaK99XScaDnC5/kX7A+igII4GRmjpicwu1/GoXYsEgEDMBLwqBwTpc02vvMrs+7IBQA2+vqeZOJgu/7subwzlzvG1CwKAGuYy2/quXL6wh63P097+VecCqGFOryqwNdLpnr59E5/BD5fJqdcXVBv09Vy3NG6aJgSmq1dlmPkAX3r61zxAENQfPcr/PpNau44hgIBc9zzPLglM96CqXIwuG1m89cIL1opAW4e4qJG0NXa790wP/Ny8MwWanghoKgrZ1zZoGEGhYfLZo9ZQFDvfoYC3544ZBkJJH6BWlp53o7L7HwGgJq4lJKVU0+NOX7RVx6JcPt80+unyf9mNh+qy444NC/5tNmkcX89tOBUQ7v3Oc9FeG2r8NYyw7/HDuRMTf/jwoQUhQcMGZYY/YqCKlc/BP5r0WrZyBpS5nuj9EwBa6QW5NNxqdM2RwulZ0SHGosoOH+jBqx7YgVu+3Hrv31AFwFYF0OS4dOOpMvxtO59Jjtydev54kDX/de60p9e3b3Imeb0KLNkhBduwgi0MxUwPUtfwmNwH//5NHiBopffvc80OC+YABKaJey4XoHrdT224bt7YaYjjUxUiyi61Sn9cW5P/sh7avSVpKLMN6K5+w7n52hW9yamj1ol2ZcKFaeh1foDmDZyf1PfJC0MIK76wd8HnnfjdzuRv02ibZX5mv39b2b+IAov+qIc/Mb7WOvNfr7Urvf90CNZQQDpQlg2ir+39Se9zO7/OQyQAM79CQyy3zrw8Mg2ca+9f78soH1dNAAjMHBDkMhkq/bEavw9xnKZeg+vrMMEhBpoLsGNiQ9JjTlMD7LPFrxr3owfuC1KdSP/du2N+pUVlfpdgoo9V6d/m2/dv7Ow94LMqQA9v7WMR23GyXW0IzYTis6dmRyIAaOa/a+/fZx+LYcIQQA2qbJ8bsvzu05g3tfVvGRPj15RaOpdt6G3DB3nL60JSMLE1/j7DCgo/MRz848u3rKpeq8uJmbB3KEZxYuWr33fbXEohdZT2/ScANMS3F60kGjIAuF7cSxyPN66bGvOf/eCm0j1zDRuol6/Psa0I2O+wrbAPWxlfAebJvTcnr0s9+jKBRg3/jju6/WDStXzDo7/warxeZZfAyr3/UaPA4zKRVFWmUZ34RwCome84euh9910nE7Y9+S+vMSwqheu/H3jk9qSRNePlavwnti9cOqcKQF1bA+cNTWgSnzkFcGL7Nb1DT92VvNa8df36uJ+XDD2x833Iqozrs40r7JPgLlk23OX/ZP6IQ+hJ5qn83x+xARUBoD4+jWkd5feyewKErj6EpIZzPGcynCbf2db5qwdt623njbfX1fvPm8SXF0RUvVh6xfA8mDSpz2dMX6tjWBpYvfev+3qYx//NChKXYSON+zPPhABQK9fed11r78tWIq6KtPE3vnX/xtwxca0M0Pp6W+/bVgXwmURYJO9r2r6/AoiWLtrmCmgII/Yd/3xoKMCnt6WVBISA8myT4JY0PMbd9PkOrkFRjf+o7fdPAGiJS6NaV++77DyAT0ceAFQaV+k8LwRotYA2AkovxVPv21YF0Br8EHsGiL7Og5aqQrb3ryqFtiTO28xIjX/XlvyVpWD7+e9916t3x6TA8u/VtOWY5djv66qNv8uBP2r8h/n9IABEpmxJv8619+aMgqof04UQoJ64luGle+N5uwo+GGgoQGHC1pvf02/QL4STxw8XnkcwzI1/uiHyucY1pq1KACFgcGOYfY/aON3u7YYqAPp5XeaJ0PgTAFrp+ZQpwdV98M6S9etb/f5NhgD1yFViVzVA4+xqWG1ldW3CU/aY4TzqzduWFpqdDE2vP7uXwag1/umHsM8wl0q8hIB8mgFv6wm3Vep23XvEtdLh0vib1Sg0/gSA1no+IT6mikEPgq7dHCYEjBc0nGqYr5/be3885yhdzR3wDQH6vLwJhao6DOr1myWOo9L4px/GPggBdmoI83b8XNLSGve65m2YalDZxl9hc+vTv2bMnwDQnkGTAZs4eEfzAPJeg0r/XZwlrAZUZfZBu+Wp972r4CRBnxCgxj3va+p1KRgU9fpVvVCA2Xzd8ijeyyYn2lVZf00IWNjzN2eJ5N33bahjIqB+1qktXyx9rSr8jE//ltn+BID2ez1FCbSpdJrXG+j6PthaIqh9AKrsmqfG3HYSX5aGFDS8UNS4Dzp+OMTr7XIAEN+lgekQMMqrA9TA/qb/Hgw666OtYO8yMa9Mr9/8rGWDn55pX+r3/FnnTwCIQlEj21T5PS9oDEN5zGwGpO1zfWk8f+PcKX15vX6V9H2XEJpef4z7++shW+e4rc3WCg9oNf5TN34xOTwotmrA30/V8z7q51QvWAeHKQANmmwXsvz/nmPY8jmRz/Y1VN3Qz1t2YqEp+W/wWHEyqjgMqAGmzJ59yDbZ+NrKgSGOHY6JNv8Z37Iq2ZRnymNsX733vM8r6vUX0XJAzQloeqzftUHXA7vJk/h03elhrYbclza9+dPTzyarbbTkNvS1rEb3A8eAofdRr6Vq+V2/Px3i8/bhw0mP/+2G19ebn/9Vh5539nfj83wxu0C6/Lz6Hp/tXwPqaNHrd7PoXB9vQ/2U3rMlu6aXpuhhmy6dDvPSGJXrfYNACE02/HpA6/eqRkN/qwTr06NXr/Ez/Ydok/NC9LD3bWRsQVvXs1a9VBn7Nb3tPzz6S+/XlbyOAWdrpCsvH77f/x0eP54EjhDDG/reKoOXraiYsKPXYF5L1dChAKDeeNF7oHDzXv976W/XoQP9jtXoD1tHhgAwhHSDTa7+3/P+beLYfzR64SqAmFPC9H2/MvPy0N84CgJT01ryd8zpmF5fmti3bcvq2ib4mV6ZHph1lu11XXxirhH9+KpVvY9cev46SS8pDTXJTA3QzPcfCNrL1etXI6jGIS/kmslqpuFT+f5s/z19b65B7DJNtMyr6Oj9TnrZhw83MpciOZo8cx6B73ts9kzR75QJfgSATtGuZibl6gJWD7xJeuBp/LCt7982Tc6bmj6WjOMXTdRzYY4f3nztit6mfqNvO4Wwrt9h27SkL+Qwln62vDXtVdxz6q0FVYei2fPDIO93Y6tExk4NvX6WK2+4gUY/MOYANEjlKvNwa2P2/afmekTqaY3iUZjJyYIrNib/28zWP/LGbO/0O+8n1YFBM/jNhkLrrl7WG7t8cfL1mp7Nr9+hKkem56ZeXNAKw1z5N8vWO784cPVIP5upKmR753k92UG9SFUvsob9pEHTYOb1oGN/7WZnUjOUQ3mfCsDQMA9ukizQDpdecLp8rYYo9vtWr7GOCZG+snsCpANrMsw0F9B0ZPEwn1pIAACASCQz61ONkSoF6YpGW5voAAQAAABQKzYCAgCAAAAAAAgAAACAAAAAAAgAAACAAAAAAAgAAACAAAAAAAgAAACAAAAAAAgAAACAAAAAAAgAAACAAAAAAAgAAACAAAAAAAgAAACAAAAAAAEAAAAQAAAAAAEAAAAQAAAAAAEAAAAQAAAAAAEAAAAQAAAAAAEAAAAQAAAAQN0u4i0Aqjtz9oPemyf+euH/H3ljttLXG7t8cW/pFYsLP2bd1WO88QAIAIAcfPlk78GHD/Vm3znzP43pFYMbU1dHfj/b+s+6+JKLe3t2b+ltvm55YTDZ//zx3pl/fJD8/5XLP5l83rywEeD9Sb8fp/vv/exfzswPK2vGcgOLXuPuPdPJ7878XCtXfPLCf9f/XnzJRxcEo+zH5VEw0/dY8G//+CDnZznV23ztit7E9mtK//z6mX81dXReCEy/7sX/Mv+1+rznJmSa91ev03ytifG1pd6Loq+t3+GbJ/X13593/2Tp+4xdfmnyNyG02xad6+NtqNfks68nD5szZ/857wFRxrqrl+X+t83XLq900/s85IsenD4P57wedPaBk2208ux7/HBv3+TMyFxbegA/uffm3P9+285nvMNK3u/Q1qCW/XoHHrl9QcOn++OH/dAWm5/94KbCcJV273eeuxBgfBRd42Xe70HXQdE9PdkPLlVeu94jBaZN/b/L3qegAjA6AaB/gxUlat+e5uSzR3uHnrqrkZuu6kM6+4BLejEO74k+Vw859XSKeh077lif/El/fVOOV48pdM/dNJLp3p56u6VDz1yPS6/L9xqpq1JheoWh6OvpZ8wGgLxA2Tb9bsoGgMrfy7FjkK3g7Lhjg/PvYt/jM8l97XMPp+8vhQf9Wfzwxcn7pdcyqLqh77vtxlUEBioAo0E3yIuvnAj+oPdN/k0HgJAN7tED91X+XSiUVWnc9KD79v0bgw4tqBGYmj52vmRfsoddZwUgNDUgeq3Zh75+VvWgY3mdPhUAE7YO9u/xF/vXVx1hzva7H9+yOmlIXUOhhlyKXmN6WCFvuMIMe9iu1x0TG5IgbqOP39X//kUfAwLA0NINoPQd6iHRxI1kxpL1gCsq19fd+E9sXxvsZ1UQ0IPQp5zt2jjU1TsbFADM7+3Nk+9euN7q+v2ZCs2qfqPhG4yyr81USUJWcNSgnS9Xf9T+c6wZcxp2slHjODV9vP/eHwsaBvS67uy/x77l9kFBXl9TwdYlVOhnVYOe/d3otf68f59krwUTSgkABICR5VOCK6Kx1SbnA5geq/6YCUm+Y8N5jYnmP+hhXMckvvTPsPXuJ5w/T41u3ROgygQU3wqQHtq6/qb64SAEhSGForpVneOha+m5/r3SZOlZjZ0aXd/QZUr8VcfYdS0V/b7zKjRVwkU2UJjef1MdFxAAoqaHg8qfVRvONh5seQ2LKYX6TCwa7z8oyowhhjTowdhWADDv59f610de46Hfu+aBtH39vdR/DU39znx+X4Zm9qtBaoNPeAnVSNbd+A8KrbqvtWJl462PXaiIEADax0ZALVMjogd41XKybqrdc8m6TWoElPbVG9RYvW7yMswMcT0kmmz8z7/mS6O9PvReFD2Yq5aXTQWh6oO/yd+ZrhHfalde2b8Jauwe6r/2svSxIRpI9cybaPxFzzHb19L3X7v1p/OX516+uAcCwMjTzaIGs2xjWZS+9wcq6Yb6uco89PRxemg0PYTRpesj1AO6jgagjapTW734qhSOy9znumdcJ/fZmOGHJq+tosmebYVGEACi59pDsKky1ljnQ2+84GFWpUc3KvT+1Nno6ev7juHrwR5q7odL5cJnCEZLLts2aJloqMbfbLBUpK5gWff1CgLAUNKNf6DCWL5u+l0RDAVkbbp2Re6DvKm11sNwbdQ57yCZxe+w+11aG6FTKw58esQxU1AO0fjLoJVGaqDrDN5lqx0gACBQb8w8jGPbWS0v0GgdM8qrWiEaRBMwfcJn1bMPfCg4jjmWkdUgNl2tKEs/y55Av19NHi1aYZSs8/cMe27X03qqewQA+PTGqqRn3fyx93bMz4nyNG46HqiHmBfUtNeCe8/6VCvvh+sOeDFXAXx+lqLefxGf6okvhgIIAPAwMV4toYdY3lV3j4eJQO621Vw18bnu1Ki2ca35rI3Xjpxtyhsu2RRoKCzZhGjAZOAmh92SHQtrDK0gAAwl1wN1sswWqzH3ZuH3QK2zcqLrzqeBaGMFis9rbbsCoF0Zs8YD7ouvHQhjC95NVhxAABiqEFBFctpXoN0GEY+Q5eJQVQadr9CGvAmmeTQPoM2VMrYAErKqo+2Hi7QxJm8OzAIBAA2LcWkg4q4C+E6wa6N3vdljGKCtKkCydXZmZr7e51C/S9vXX9gYX9baNQsCAFoQ43wAegTVqwBjNZZyfcak908fa+W9cB4GeKOdSYu24BGyPH7wlcHbb7e1A9+6Ncu4aQkA8KVeju8DX72CB6NbGvhRfqkVe1RVzgEY5E6PhmnK4SjjNhsXn3MqQpiyBKRtASfIlVmN0dbcGyoABABUoOVZz1U49U8P55i2CkbclnqWpl9soXH1qVY0PQxw2jL3IOTkP4l51Y9+zrYPKwMBoLs9vjVjyQ2kM7Z9byTNBzgd8HxyDDefjZp+1cJkQJ8VMwcbXg5oqzqEXtJZZq5Pm/OBqAIQAFCxl6Keme/mGuohfC3ipYGIi886ezUwbYRM18al6QpAdpVEyMl/Tr8fyzLEpmx2XLEBAgAsNG7ou5lHjFsFI06+ewK0UQVwnQfQZFCxzc7fdmM722C3Nf/BhDQTKBkOIACgAu0b7jspMIatggedioY4+MxSb2OuiU9vuql7wDb5b3xLO7vjqQrY1lwgVS+PHrivd+J3O1kFRABA1d5ZlcNDYt8qGHHw2cRF11XTPU2fVTJNLQfMToxUVaXNnTB1VgD3PggAHVflCNfYtwoedfr9xHJwjc9kwDb2BHCeCNhASLGW/2s6z6Hszx/jsmAQAOChyrnebBUcr5vufqJ3285noghpPmvV1bg2PRnQdZc7hay6Z8Vny/+qUtR1GI/LuDrLgkEAGBI6J77K0sA2lgYxBljQe+4/mE2vMYZSra6tcc8Q0CSfXe7K7J5X9Xc5P0zVN/lv3dVuEyF37ZkmBBAA0HVqTKscENPGfABmARc1Sieie02bPJZwNX1AkM+4epnd87x/j/0AlL2v6pz8t3K5e6hWCGBVEAEAHae5AL7rihkTjEcbE+jK6NIBQW4BYLa28PtiJsjp/qxz8p/v/a9hQA03sUkYAQAd9rMKuwQyJhiHFyNs/A2f8nVbBwS5hoC6KgDze//1rv332REx/R5cf+tjvX2PH2aFAAEAXVR1aWBTWwVT/i8IYpkGM6a5Ej7la1sZPLoAUMNywOzPrWs+5ME/+b+jaiFj3+RMbyNBgACAbvZKVKqtsjSwia2CmQBod9pSMo/p1ESfA4J0TTVV1Tjyht89U8fry1Y+mmj8Q30f/c4IAgQAdFSVs+K1IkA3PZpn20LXZ2JXbD3MqYaGAQ6+7Dd5UnMVQla+bPM4fI5X9uG7YqMoCKzd+tPe7j3T0c/nAAEAcw8BzQfwpZuem71ZeVu0xjZcss3jCFtdS3UPLdmO23ULD+GqANmKQt2T/2wdgNA0R0gTBVUV0KRBqgIEAEQsWRo40a2lgaMsb3vWGI9QjfGAoKoNeMh5ANllnHVP/stS2BivachB1RLNFVJVQM8IJg4TABCpHXes925A1Bip7FeHsRb3QY+Req5d2pHR54CguucBVB1mCFXxypb/m5r8l/Wt+zfWXj3Sz6l9BBgiIAAgUlV2CdQNXkfDtPSKS/nFpBqMXTUFrbr4HBCknmNd+xtky/+qfLkOgYU6e8F28E8bdM9rm/CmruH0EAFVAQIAAtxUYRrbxZUeBG1tFTwq1HPq4vsb0wFB2eEFLVdUw+s8V+GN2eCvZaKhyX82qjw0HUAU9BRoFQSoCBAA4OnNk3+N5kGgG5r5AOF7rRpDPRjxxj+DrilXde0JkO5xpo/adb3mfVcR5FUifColoWlfkDZeg4KAOcyKZwcBAC3Tg6DK0kC2Cp7/oM9jSsl5fzSkol6/dl3rauMvvsvNQpeH9fXSDUz6qF3X8wt0nVdprNpa+jfo9/Tk3ptbCyJ6T3SyJVXE+FzEWzA6zC6BSuU+NManB2pbY5ox0bCImXTWxJGysdL1MOXYoOuAIN+NqqzXZWpYIXvUrhkGcGnUNYbvO2kv/Vr0fTdFcq+YEKB7v41r1VQD2gwioAIw8rQioMrDVz1XDgyZ38sf5Z6N7wFBod4z8zswbOPtrqtgfJcDZsv/PnMQhrkSoHtm691PMEGQAIA2aUKg70Mg1FbBse1uB38+BwSFOiY4+3VsPffNjsMAvhPXpqbnN2wTEZT/80LAeAvLEo1dLBeMBkMAETv9zvu1fe2H5oYCfMY7zVbB2mOgyoOo67TUbN2asYHv1Zl/fNB/n/95YXx52CoGmnGvnSNdaFx4z+6q98f8ZYXjOTsUJmX4Pe4VCteQvP/5+UMRsZa6zVDgyuWX5W4+VTdNDGQ4gACAAQ+iuiS7BN6xIRnL9qEHvhq/GHepa6TR6zc2ZQJQ3vujBkZ/VG6e6nhJ1BwQ5NKrM9seV9kgJ7vcblvOskQ1eK6vTx/r0jjpd5m+X2Ps/WdpKFDDFG30yM3eFwoBnAzaHoYARpgeAFUa8FFe3rNuzbLKAUyNn3piLz11V+d7Qk0fEJQ9N0HvX9G17DoMkN3K1/Vn2dZiid01vKkR1p+mwzwriwgAaJl2S/NN4HVuFdyFB2fIr/XzCr+HGDR9QNCLmf0EBi23c1254tojfrHEUETUgbbf+Jsg0OT8AFW/urwUlgCATjPjgb7q2ip4FAPFxPa1nf4ZfJaHZifOlZUu/5dZbrfUY0y+bMOksJAu/29r+OCf0EFAz4OjB+6rNFnYhaoAbBREAECLD+4qSwPZKjgMTabrMp9x7/TEOZfeuc9yu7qWA+7P7EMwDPNi9H7qmXDgkduTIao6w4DCkyYjggCAzIOuKZoQWOWEPtetgkd18uCgXmqXT0ls6oCg7HkCunbLBazVtdx/6dffhcl/PtelCQP6U8cQgaqI7C9CAECLid/19LQ0JvSEsanjuyz6TAZ80WHCnRqJ9KoJBcmy8zEUTlwClq7pQY1S9myDrkz+qxLyzMTV0EGAKgABAC3f3Frb7osJPe00oDHxaQCnMnv5F35sZs6A6/vlPAwwoAqQDi+x7fxXd1VAQUAVgVDVPF0HVAEIAGiR1rZXGetjq+DqIazLjUjdBwRNPjt/8p9r4NgUeDlgOvBu63h4871etXJAcwRCXLe+k0JBAEAgP6+4NHDXiC4NDKXrhy25NrLnH/yDJwNmT/3zWTURcjlg+vVkDyEaNZojEGJnP59JoSAADJ02Z9WrvKdE70sPTW0VjOYa0NgCjOtkRrMzYpHszn++qyZcGuqirZvT1QGf8xCGtRpQJQSEPCgKBIDOantdrEqrVXo02iqYAz9GswLg2yAWVQFsS/98N2Ny3xXwpPX+nHcOwZZVXLi9MCcO2t5vEADQME3yqTKut9txaSCGJwT4NIhF8wCyM8SrjLe7Tlo7+PLCeQDpnf+qhBFCgC3sneJNJAAghhu5ytJAlfN2Mx+gkV5qbJZ6bIiT3d/fSA5NSlWTqo63u+4KaE5xnN9LPREkjAx7CPDpQDCJmACASOghXmWXQJVJN976GEHAkYZgfDbWiasK4N4w2mbdT2bG/kNstrP5OreAlQ4g6fL/qE/+q6MDMUsAIACMuphK51W3AdUNzU3tzuy81uUQ49oDVMOa7gHqPsgelxxis53N17o12un1/ukqRYwbN2lXvR9GsimXOhDjNzI/ggAAJ2+ejGsm7EMVDgzC6PLpHacbr8mp+QdNhTppz3W/hfSEv3RF4s4It/7V61MIiGUSbtmtmkEAQKT0wKyyNBCjyadcb06Y1Nh7euOfpPcfcLzddTngvd95rnfbzmcuVLNctiFuknl9Bx22WK6T3iOqAAQAdP1hvv0aDvGBc3D0GT5SFWDr3U/MGwrT1wl5/TnvCtgPJuledYzbNqeHT2JahjuMhyQRADByflZhl8D0gxyjI1RDGbrcXiVM+GxD3GTvX2LaUMflIKYxllQSABAnPfj2VJwPMCoHpuC8EA2lrpnQE+70NX1DQKyn/h15Y36vP6YQUPa9Zk8FAgAiprFTxvTg0tBWvV7qOmnPd7+FOztS0o4pACy94tKSQWEZNw0BYLTFvhvWt+7fSKkuQhqnXrv1p9G9rqrnG9Q1k9ynAqBydqy91DNn/5mpCHRvV72VyxkiJAAg+l5dlV0CUQ+z/XJs5zD4HBCUbqTranBdxqa70PvP9vi1h0LXdtZjojEBAF1I6v2H544J1vjGQicwmlnzMZ7B4HtiXt2z7V0anDrmItQtlk2BygZF5ggRANARO+5Yz6z+CKiXl14zH+ND1OeAoCZm27sMT8TeQNnG/DUslN7IqC3Z4Qnr+9vxMzAIAAh0s3TnFL2fOy4N5Jjg8HZ14ORFnwOCJrbXX253eU2xH/yTdw08+PCh1q+PQfe9hmK2MbmYAEBv7ow1yWeX+MT0YGeXwPZob/r0w7XK8rb6qwCrHT++/gZB71eZXQHHPAJMLLQ/QPZI5RieafPC1Y2cqkgAQG9q2n4uuu1c8lgouXMqWjsP1uwYb8yNlMsBQbqempptv27N4KVnsY/9D+pht3k+wKDwoXCl4UQQAEaaynTZ/c8NJegYxvLyaIOgUZnAE0M1RtfK177z3ILSbpnGrE1lg2KT5fYyr2l8S/d7qDrPoOm9AfT9sic62p4dIACMfOOvw0aKxuq0zCumzT3Suro08PQ773s81N5t/XVrXNd2LcReiSmzL7x6hE3+HKo0FC0H1H+LfbJrmTF+fUyT80XM9yu8HjhjhABA43++8R/UuOvjdEiKynkx0o2sG7pLjnsEqrYnMqrsb+tVqaGKfSvVMgcEtTEeXFTi78JhNmWPENczRs+aJvYHGNRh0fOC+UMEgJGmsv7GWx9z6tmrAdDnxDijXjd0V5YG6v3zqagoiGndfVuNf14A7Mo+6oPK6U1M/lvQGBUMnXRpfosqcQceub134nc7c8O4rnl1JOp6fuj+UONfNGSpZwSbiREARrrhVxK/1zKOW4Zm9urzFQTUGMUUBh7qwJieHoK7B5Qni+ybnElm4Dfl9NzvO9bqj4ui5V5tbbWb18jHvPXv/Ovj/QUBXP87LwSYqmPoIGuu06Jxf72+J/fezKY/LbuIt6DJG/RM0kgffOVE8neocbhkic/kzLyby9xYyVanl1/a6Ixq83318Il1FzI1opqZXPV3YMZT6xz2UFCZnDqaBMZBr7crB6mYA4JsjUSbk+10n2R7rV2Z/KfngG0tve7DVcsvyx2L17NDK4z0cVXH4svcV/q9M+kvDovO9fE21CeZ1T/1enKDtTl5Tw/cowfua/z7qidgq0yoPNk0vY7908dKNaSuzi9j2pCMI1fp1Sgk6kGuVQbq0ek1zzqM1Wpr5q4sp9LvQdWvrJeeuqu1HrcasGxobfP1uFA1qujcBD1/9H4XXU/JHJ7xtc5DHvreaviLvrY5SpzlwgSAkenxa5wtlh3a2mh09bNriCL7HtT1WtRgmsbTPIz04Gvyd+A6EU+vLVQ4VFm1SzOqdW2kGw1VjjR+3RYzNp5uEPWeDluHREuNi+4JswWz5kXoPbCFWlPNVOM/6P5SMJ0Yv4aSf2QYAqiRNvSJpfFv6+he3fB6gKaXN9b1EDBjj22bnevFt/Fed205lWb7p4ev2j5pz5wOaH5/w7Y3va4RVYjUGBcFgfP7kbxeab7J+eGI1cmEzqUcHR4lJgHW2eheHsdFrxuxzTG37ISfukqAsx079jS0LpZW073CJg7+Kfea1kb1euoMAhoW1Ez8UGvx9azR19LXPPTUXcn3oPGPF0MANTPLzM78w68SsG7NWOUbPaYleXov6no9RUuPsmX58+/LZQsCW9ceVvqZj7xxqv/zfLSzJVZdExp312S7WBpc3bdd2FOhrt+HwrTZV+DI70/lP5/mJp3qOZWefAwCAAAAiBRDAAAAEAAAAAABAAAAEAAAAAABAAAAEAAAAAABAAAAEAAAAAABAAAAEAAAAAABAAAAEAAAAAABAAAAEAAAAAABAAAAEAAAAAABAAAAEAAAACAAAAAAAgAAACAAAAAAAgAAACAAAAAAAgAAACAAAAAAAgAAACAAAAAAAgAAACAAAAAAAgAAACAAAAAAAgAAACAAAAAAAgAAACAAAABAAAAAAAQAAABAAAAAAAQAAABAAAAAAAQAAABAAAAAAAQAAABAAAAAAAQAAABAAAAAAAQAAABAAAAAAAQAAABAAAAAAAQAAABAAAAAgAAAAAAIAAAAgAAAAAAIAAAAgAAAAAAIAAAAgAAAAAAIAAAAgAAAAAAIAAAAgAAAAAAIAAAAgAAAAAAIAAAAgAAAAAAIAAAAgAAAAAABAAAAEAAAAAABAAAAEAAAAAABAAAAEAAAAAABAAAAEAAAAAABAAAAEAAAAAABAAAA1GfRzbeMn+NtAABgxALA2LIlBAAAAEYMQwAAABAAAAAAAQAAABAAAAAAAQAAABAAAAAAAQAAABAAAAAAAQAAABAAAAAAAQAAANTqog0bNvAuAAAwYhad6+NtAABgtDAEAAAAAQAAABAAAAAAAQAAABAAAAAAAQAAABAAAAAAAQAAABAAAAAAAQAAABAAAAAAAQAAABAAAAAAAQAAABAAAAAAAQAAABAAAAAAAQAAAAIAAAAgAAAAAAIAAAAgAAAAAAIAAAAgAAAAgJhdxFsQt1v+dXtvZmaGNwJA55z6r9O8CVQAAAAAAQAAABAAAAAAAQAAABAAAAAAAQAAABAAAAAAAQAAABAAAAAAAQAAABAAAAAgAAAAgJHBYUCRW7VqNW8CACC4Ref6eBsAABgtDAEAAEAAAAAABAAAAEAAAAAABAAAAEAAAAAABAAAAEAAAAAABAAAAEAAAAAABAAAAEAAAAAABAAAAEAAAAAABAAAAEAAAAAABAAAAEAAAACAAAAAAAgAAACAAAAAAAgAAACAAAAAAAgAAAAgZv8twADWQBkAYMAmsgAAAABJRU5ErkJggg==)"
      ],
      "metadata": {
        "id": "b6tKUwxRaF0X"
      }
    },
    {
      "cell_type": "markdown",
      "source": [
        "# Librerías"
      ],
      "metadata": {
        "id": "aBq7bPT98K7N"
      }
    },
    {
      "cell_type": "code",
      "execution_count": null,
      "metadata": {
        "id": "TDNs4QVrwIaQ"
      },
      "outputs": [],
      "source": [
        "from gensim.models import Word2Vec, KeyedVectors\n",
        "import pandas as pd\n",
        "import nltk"
      ]
    },
    {
      "cell_type": "markdown",
      "source": [
        "# Cargamos el dataset"
      ],
      "metadata": {
        "id": "owJpjvE1acxx"
      }
    },
    {
      "cell_type": "code",
      "source": [
        "!pip install gdown\n",
        "import gdown\n",
        "file_id = '1YYIEzxfWH15CClrzOKoLxPJARrsjFRV3'\n",
        "output_file_path = '/content/dataset.csv'\n",
        "# Descargar el archivo\n",
        "!gdown --id $file_id -O $output_file_path"
      ],
      "metadata": {
        "colab": {
          "base_uri": "https://localhost:8080/"
        },
        "id": "cecS0Xngaf0W",
        "outputId": "7fa50bf2-490d-4285-fb35-9d0af35d5ab9"
      },
      "execution_count": null,
      "outputs": [
        {
          "output_type": "stream",
          "name": "stdout",
          "text": [
            "Requirement already satisfied: gdown in /usr/local/lib/python3.10/dist-packages (4.7.3)\n",
            "Requirement already satisfied: filelock in /usr/local/lib/python3.10/dist-packages (from gdown) (3.13.3)\n",
            "Requirement already satisfied: requests[socks] in /usr/local/lib/python3.10/dist-packages (from gdown) (2.31.0)\n",
            "Requirement already satisfied: six in /usr/local/lib/python3.10/dist-packages (from gdown) (1.16.0)\n",
            "Requirement already satisfied: tqdm in /usr/local/lib/python3.10/dist-packages (from gdown) (4.66.2)\n",
            "Requirement already satisfied: beautifulsoup4 in /usr/local/lib/python3.10/dist-packages (from gdown) (4.12.3)\n",
            "Requirement already satisfied: soupsieve>1.2 in /usr/local/lib/python3.10/dist-packages (from beautifulsoup4->gdown) (2.5)\n",
            "Requirement already satisfied: charset-normalizer<4,>=2 in /usr/local/lib/python3.10/dist-packages (from requests[socks]->gdown) (3.3.2)\n",
            "Requirement already satisfied: idna<4,>=2.5 in /usr/local/lib/python3.10/dist-packages (from requests[socks]->gdown) (3.6)\n",
            "Requirement already satisfied: urllib3<3,>=1.21.1 in /usr/local/lib/python3.10/dist-packages (from requests[socks]->gdown) (2.0.7)\n",
            "Requirement already satisfied: certifi>=2017.4.17 in /usr/local/lib/python3.10/dist-packages (from requests[socks]->gdown) (2024.2.2)\n",
            "Requirement already satisfied: PySocks!=1.5.7,>=1.5.6 in /usr/local/lib/python3.10/dist-packages (from requests[socks]->gdown) (1.7.1)\n",
            "/usr/local/lib/python3.10/dist-packages/gdown/cli.py:138: FutureWarning: Option `--id` was deprecated in version 4.3.1 and will be removed in 5.0. You don't need to pass it anymore to use a file ID.\n",
            "  warnings.warn(\n",
            "Downloading...\n",
            "From: https://drive.google.com/uc?id=1YYIEzxfWH15CClrzOKoLxPJARrsjFRV3\n",
            "To: /content/dataset.csv\n",
            "100% 82.2M/82.2M [00:00<00:00, 106MB/s]\n"
          ]
        }
      ]
    },
    {
      "cell_type": "markdown",
      "source": [
        "Tuve que subirlo a mi drive y cargalo desde ahí porque a mi pc le costaba mucho el cargalo y en ocasiones ni llegaba a hacerlo."
      ],
      "metadata": {
        "id": "67aHAhG5Dm27"
      }
    },
    {
      "cell_type": "code",
      "source": [
        "data = pd.read_csv(\"dataset.csv\")\n",
        "data"
      ],
      "metadata": {
        "colab": {
          "base_uri": "https://localhost:8080/",
          "height": 424
        },
        "id": "KdWdDJSgCF-R",
        "outputId": "a530b545-d502-4a51-a65d-57e9233d7089"
      },
      "execution_count": null,
      "outputs": [
        {
          "output_type": "execute_result",
          "data": {
            "text/plain": [
              "        time_created date_created  up_votes  down_votes  \\\n",
              "0         1201232046   2008-01-25         3           0   \n",
              "1         1201232075   2008-01-25         2           0   \n",
              "2         1201232523   2008-01-25         3           0   \n",
              "3         1201233290   2008-01-25         1           0   \n",
              "4         1201274720   2008-01-25         4           0   \n",
              "...              ...          ...       ...         ...   \n",
              "509231    1479816764   2016-11-22         5           0   \n",
              "509232    1479816772   2016-11-22         1           0   \n",
              "509233    1479817056   2016-11-22         1           0   \n",
              "509234    1479817157   2016-11-22         1           0   \n",
              "509235    1479817346   2016-11-22         1           0   \n",
              "\n",
              "                                                    title  over_18  \\\n",
              "0                       Scores killed in Pakistan clashes    False   \n",
              "1                        Japan resumes refuelling mission    False   \n",
              "2                         US presses Egypt on Gaza border    False   \n",
              "3            Jump-start economy: Give health care to all     False   \n",
              "4         Council of Europe bashes EU&UN terror blacklist    False   \n",
              "...                                                   ...      ...   \n",
              "509231   Heil Trump : Donald Trump s  alt-right  white...    False   \n",
              "509232  There are people speculating that this could b...    False   \n",
              "509233          Professor receives Arab Researchers Award    False   \n",
              "509234  Nigel Farage attacks response to Trump ambassa...    False   \n",
              "509235  Palestinian wielding knife shot dead in West B...    False   \n",
              "\n",
              "               author  subreddit  \n",
              "0               polar  worldnews  \n",
              "1               polar  worldnews  \n",
              "2               polar  worldnews  \n",
              "3             fadi420  worldnews  \n",
              "4            mhermans  worldnews  \n",
              "...               ...        ...  \n",
              "509231  nonamenoglory  worldnews  \n",
              "509232      SummerRay  worldnews  \n",
              "509233      AUSharjah  worldnews  \n",
              "509234    smilyflower  worldnews  \n",
              "509235     superislam  worldnews  \n",
              "\n",
              "[509236 rows x 8 columns]"
            ],
            "text/html": [
              "\n",
              "  <div id=\"df-41f471ab-fd30-4377-8846-ca1bc6e488a7\" class=\"colab-df-container\">\n",
              "    <div>\n",
              "<style scoped>\n",
              "    .dataframe tbody tr th:only-of-type {\n",
              "        vertical-align: middle;\n",
              "    }\n",
              "\n",
              "    .dataframe tbody tr th {\n",
              "        vertical-align: top;\n",
              "    }\n",
              "\n",
              "    .dataframe thead th {\n",
              "        text-align: right;\n",
              "    }\n",
              "</style>\n",
              "<table border=\"1\" class=\"dataframe\">\n",
              "  <thead>\n",
              "    <tr style=\"text-align: right;\">\n",
              "      <th></th>\n",
              "      <th>time_created</th>\n",
              "      <th>date_created</th>\n",
              "      <th>up_votes</th>\n",
              "      <th>down_votes</th>\n",
              "      <th>title</th>\n",
              "      <th>over_18</th>\n",
              "      <th>author</th>\n",
              "      <th>subreddit</th>\n",
              "    </tr>\n",
              "  </thead>\n",
              "  <tbody>\n",
              "    <tr>\n",
              "      <th>0</th>\n",
              "      <td>1201232046</td>\n",
              "      <td>2008-01-25</td>\n",
              "      <td>3</td>\n",
              "      <td>0</td>\n",
              "      <td>Scores killed in Pakistan clashes</td>\n",
              "      <td>False</td>\n",
              "      <td>polar</td>\n",
              "      <td>worldnews</td>\n",
              "    </tr>\n",
              "    <tr>\n",
              "      <th>1</th>\n",
              "      <td>1201232075</td>\n",
              "      <td>2008-01-25</td>\n",
              "      <td>2</td>\n",
              "      <td>0</td>\n",
              "      <td>Japan resumes refuelling mission</td>\n",
              "      <td>False</td>\n",
              "      <td>polar</td>\n",
              "      <td>worldnews</td>\n",
              "    </tr>\n",
              "    <tr>\n",
              "      <th>2</th>\n",
              "      <td>1201232523</td>\n",
              "      <td>2008-01-25</td>\n",
              "      <td>3</td>\n",
              "      <td>0</td>\n",
              "      <td>US presses Egypt on Gaza border</td>\n",
              "      <td>False</td>\n",
              "      <td>polar</td>\n",
              "      <td>worldnews</td>\n",
              "    </tr>\n",
              "    <tr>\n",
              "      <th>3</th>\n",
              "      <td>1201233290</td>\n",
              "      <td>2008-01-25</td>\n",
              "      <td>1</td>\n",
              "      <td>0</td>\n",
              "      <td>Jump-start economy: Give health care to all</td>\n",
              "      <td>False</td>\n",
              "      <td>fadi420</td>\n",
              "      <td>worldnews</td>\n",
              "    </tr>\n",
              "    <tr>\n",
              "      <th>4</th>\n",
              "      <td>1201274720</td>\n",
              "      <td>2008-01-25</td>\n",
              "      <td>4</td>\n",
              "      <td>0</td>\n",
              "      <td>Council of Europe bashes EU&amp;UN terror blacklist</td>\n",
              "      <td>False</td>\n",
              "      <td>mhermans</td>\n",
              "      <td>worldnews</td>\n",
              "    </tr>\n",
              "    <tr>\n",
              "      <th>...</th>\n",
              "      <td>...</td>\n",
              "      <td>...</td>\n",
              "      <td>...</td>\n",
              "      <td>...</td>\n",
              "      <td>...</td>\n",
              "      <td>...</td>\n",
              "      <td>...</td>\n",
              "      <td>...</td>\n",
              "    </tr>\n",
              "    <tr>\n",
              "      <th>509231</th>\n",
              "      <td>1479816764</td>\n",
              "      <td>2016-11-22</td>\n",
              "      <td>5</td>\n",
              "      <td>0</td>\n",
              "      <td>Heil Trump : Donald Trump s  alt-right  white...</td>\n",
              "      <td>False</td>\n",
              "      <td>nonamenoglory</td>\n",
              "      <td>worldnews</td>\n",
              "    </tr>\n",
              "    <tr>\n",
              "      <th>509232</th>\n",
              "      <td>1479816772</td>\n",
              "      <td>2016-11-22</td>\n",
              "      <td>1</td>\n",
              "      <td>0</td>\n",
              "      <td>There are people speculating that this could b...</td>\n",
              "      <td>False</td>\n",
              "      <td>SummerRay</td>\n",
              "      <td>worldnews</td>\n",
              "    </tr>\n",
              "    <tr>\n",
              "      <th>509233</th>\n",
              "      <td>1479817056</td>\n",
              "      <td>2016-11-22</td>\n",
              "      <td>1</td>\n",
              "      <td>0</td>\n",
              "      <td>Professor receives Arab Researchers Award</td>\n",
              "      <td>False</td>\n",
              "      <td>AUSharjah</td>\n",
              "      <td>worldnews</td>\n",
              "    </tr>\n",
              "    <tr>\n",
              "      <th>509234</th>\n",
              "      <td>1479817157</td>\n",
              "      <td>2016-11-22</td>\n",
              "      <td>1</td>\n",
              "      <td>0</td>\n",
              "      <td>Nigel Farage attacks response to Trump ambassa...</td>\n",
              "      <td>False</td>\n",
              "      <td>smilyflower</td>\n",
              "      <td>worldnews</td>\n",
              "    </tr>\n",
              "    <tr>\n",
              "      <th>509235</th>\n",
              "      <td>1479817346</td>\n",
              "      <td>2016-11-22</td>\n",
              "      <td>1</td>\n",
              "      <td>0</td>\n",
              "      <td>Palestinian wielding knife shot dead in West B...</td>\n",
              "      <td>False</td>\n",
              "      <td>superislam</td>\n",
              "      <td>worldnews</td>\n",
              "    </tr>\n",
              "  </tbody>\n",
              "</table>\n",
              "<p>509236 rows × 8 columns</p>\n",
              "</div>\n",
              "    <div class=\"colab-df-buttons\">\n",
              "\n",
              "  <div class=\"colab-df-container\">\n",
              "    <button class=\"colab-df-convert\" onclick=\"convertToInteractive('df-41f471ab-fd30-4377-8846-ca1bc6e488a7')\"\n",
              "            title=\"Convert this dataframe to an interactive table.\"\n",
              "            style=\"display:none;\">\n",
              "\n",
              "  <svg xmlns=\"http://www.w3.org/2000/svg\" height=\"24px\" viewBox=\"0 -960 960 960\">\n",
              "    <path d=\"M120-120v-720h720v720H120Zm60-500h600v-160H180v160Zm220 220h160v-160H400v160Zm0 220h160v-160H400v160ZM180-400h160v-160H180v160Zm440 0h160v-160H620v160ZM180-180h160v-160H180v160Zm440 0h160v-160H620v160Z\"/>\n",
              "  </svg>\n",
              "    </button>\n",
              "\n",
              "  <style>\n",
              "    .colab-df-container {\n",
              "      display:flex;\n",
              "      gap: 12px;\n",
              "    }\n",
              "\n",
              "    .colab-df-convert {\n",
              "      background-color: #E8F0FE;\n",
              "      border: none;\n",
              "      border-radius: 50%;\n",
              "      cursor: pointer;\n",
              "      display: none;\n",
              "      fill: #1967D2;\n",
              "      height: 32px;\n",
              "      padding: 0 0 0 0;\n",
              "      width: 32px;\n",
              "    }\n",
              "\n",
              "    .colab-df-convert:hover {\n",
              "      background-color: #E2EBFA;\n",
              "      box-shadow: 0px 1px 2px rgba(60, 64, 67, 0.3), 0px 1px 3px 1px rgba(60, 64, 67, 0.15);\n",
              "      fill: #174EA6;\n",
              "    }\n",
              "\n",
              "    .colab-df-buttons div {\n",
              "      margin-bottom: 4px;\n",
              "    }\n",
              "\n",
              "    [theme=dark] .colab-df-convert {\n",
              "      background-color: #3B4455;\n",
              "      fill: #D2E3FC;\n",
              "    }\n",
              "\n",
              "    [theme=dark] .colab-df-convert:hover {\n",
              "      background-color: #434B5C;\n",
              "      box-shadow: 0px 1px 3px 1px rgba(0, 0, 0, 0.15);\n",
              "      filter: drop-shadow(0px 1px 2px rgba(0, 0, 0, 0.3));\n",
              "      fill: #FFFFFF;\n",
              "    }\n",
              "  </style>\n",
              "\n",
              "    <script>\n",
              "      const buttonEl =\n",
              "        document.querySelector('#df-41f471ab-fd30-4377-8846-ca1bc6e488a7 button.colab-df-convert');\n",
              "      buttonEl.style.display =\n",
              "        google.colab.kernel.accessAllowed ? 'block' : 'none';\n",
              "\n",
              "      async function convertToInteractive(key) {\n",
              "        const element = document.querySelector('#df-41f471ab-fd30-4377-8846-ca1bc6e488a7');\n",
              "        const dataTable =\n",
              "          await google.colab.kernel.invokeFunction('convertToInteractive',\n",
              "                                                    [key], {});\n",
              "        if (!dataTable) return;\n",
              "\n",
              "        const docLinkHtml = 'Like what you see? Visit the ' +\n",
              "          '<a target=\"_blank\" href=https://colab.research.google.com/notebooks/data_table.ipynb>data table notebook</a>'\n",
              "          + ' to learn more about interactive tables.';\n",
              "        element.innerHTML = '';\n",
              "        dataTable['output_type'] = 'display_data';\n",
              "        await google.colab.output.renderOutput(dataTable, element);\n",
              "        const docLink = document.createElement('div');\n",
              "        docLink.innerHTML = docLinkHtml;\n",
              "        element.appendChild(docLink);\n",
              "      }\n",
              "    </script>\n",
              "  </div>\n",
              "\n",
              "\n",
              "<div id=\"df-b6d0ef44-1af7-4603-b532-c9dd00d73ae6\">\n",
              "  <button class=\"colab-df-quickchart\" onclick=\"quickchart('df-b6d0ef44-1af7-4603-b532-c9dd00d73ae6')\"\n",
              "            title=\"Suggest charts\"\n",
              "            style=\"display:none;\">\n",
              "\n",
              "<svg xmlns=\"http://www.w3.org/2000/svg\" height=\"24px\"viewBox=\"0 0 24 24\"\n",
              "     width=\"24px\">\n",
              "    <g>\n",
              "        <path d=\"M19 3H5c-1.1 0-2 .9-2 2v14c0 1.1.9 2 2 2h14c1.1 0 2-.9 2-2V5c0-1.1-.9-2-2-2zM9 17H7v-7h2v7zm4 0h-2V7h2v10zm4 0h-2v-4h2v4z\"/>\n",
              "    </g>\n",
              "</svg>\n",
              "  </button>\n",
              "\n",
              "<style>\n",
              "  .colab-df-quickchart {\n",
              "      --bg-color: #E8F0FE;\n",
              "      --fill-color: #1967D2;\n",
              "      --hover-bg-color: #E2EBFA;\n",
              "      --hover-fill-color: #174EA6;\n",
              "      --disabled-fill-color: #AAA;\n",
              "      --disabled-bg-color: #DDD;\n",
              "  }\n",
              "\n",
              "  [theme=dark] .colab-df-quickchart {\n",
              "      --bg-color: #3B4455;\n",
              "      --fill-color: #D2E3FC;\n",
              "      --hover-bg-color: #434B5C;\n",
              "      --hover-fill-color: #FFFFFF;\n",
              "      --disabled-bg-color: #3B4455;\n",
              "      --disabled-fill-color: #666;\n",
              "  }\n",
              "\n",
              "  .colab-df-quickchart {\n",
              "    background-color: var(--bg-color);\n",
              "    border: none;\n",
              "    border-radius: 50%;\n",
              "    cursor: pointer;\n",
              "    display: none;\n",
              "    fill: var(--fill-color);\n",
              "    height: 32px;\n",
              "    padding: 0;\n",
              "    width: 32px;\n",
              "  }\n",
              "\n",
              "  .colab-df-quickchart:hover {\n",
              "    background-color: var(--hover-bg-color);\n",
              "    box-shadow: 0 1px 2px rgba(60, 64, 67, 0.3), 0 1px 3px 1px rgba(60, 64, 67, 0.15);\n",
              "    fill: var(--button-hover-fill-color);\n",
              "  }\n",
              "\n",
              "  .colab-df-quickchart-complete:disabled,\n",
              "  .colab-df-quickchart-complete:disabled:hover {\n",
              "    background-color: var(--disabled-bg-color);\n",
              "    fill: var(--disabled-fill-color);\n",
              "    box-shadow: none;\n",
              "  }\n",
              "\n",
              "  .colab-df-spinner {\n",
              "    border: 2px solid var(--fill-color);\n",
              "    border-color: transparent;\n",
              "    border-bottom-color: var(--fill-color);\n",
              "    animation:\n",
              "      spin 1s steps(1) infinite;\n",
              "  }\n",
              "\n",
              "  @keyframes spin {\n",
              "    0% {\n",
              "      border-color: transparent;\n",
              "      border-bottom-color: var(--fill-color);\n",
              "      border-left-color: var(--fill-color);\n",
              "    }\n",
              "    20% {\n",
              "      border-color: transparent;\n",
              "      border-left-color: var(--fill-color);\n",
              "      border-top-color: var(--fill-color);\n",
              "    }\n",
              "    30% {\n",
              "      border-color: transparent;\n",
              "      border-left-color: var(--fill-color);\n",
              "      border-top-color: var(--fill-color);\n",
              "      border-right-color: var(--fill-color);\n",
              "    }\n",
              "    40% {\n",
              "      border-color: transparent;\n",
              "      border-right-color: var(--fill-color);\n",
              "      border-top-color: var(--fill-color);\n",
              "    }\n",
              "    60% {\n",
              "      border-color: transparent;\n",
              "      border-right-color: var(--fill-color);\n",
              "    }\n",
              "    80% {\n",
              "      border-color: transparent;\n",
              "      border-right-color: var(--fill-color);\n",
              "      border-bottom-color: var(--fill-color);\n",
              "    }\n",
              "    90% {\n",
              "      border-color: transparent;\n",
              "      border-bottom-color: var(--fill-color);\n",
              "    }\n",
              "  }\n",
              "</style>\n",
              "\n",
              "  <script>\n",
              "    async function quickchart(key) {\n",
              "      const quickchartButtonEl =\n",
              "        document.querySelector('#' + key + ' button');\n",
              "      quickchartButtonEl.disabled = true;  // To prevent multiple clicks.\n",
              "      quickchartButtonEl.classList.add('colab-df-spinner');\n",
              "      try {\n",
              "        const charts = await google.colab.kernel.invokeFunction(\n",
              "            'suggestCharts', [key], {});\n",
              "      } catch (error) {\n",
              "        console.error('Error during call to suggestCharts:', error);\n",
              "      }\n",
              "      quickchartButtonEl.classList.remove('colab-df-spinner');\n",
              "      quickchartButtonEl.classList.add('colab-df-quickchart-complete');\n",
              "    }\n",
              "    (() => {\n",
              "      let quickchartButtonEl =\n",
              "        document.querySelector('#df-b6d0ef44-1af7-4603-b532-c9dd00d73ae6 button');\n",
              "      quickchartButtonEl.style.display =\n",
              "        google.colab.kernel.accessAllowed ? 'block' : 'none';\n",
              "    })();\n",
              "  </script>\n",
              "</div>\n",
              "    </div>\n",
              "  </div>\n"
            ],
            "application/vnd.google.colaboratory.intrinsic+json": {
              "type": "dataframe",
              "variable_name": "data"
            }
          },
          "metadata": {},
          "execution_count": 16
        }
      ]
    },
    {
      "cell_type": "markdown",
      "source": [
        "Vemos los datos del dataset, el cual es bastante grande teniendo 8 columnas y 509236 filas, siendo de los datasets más grandes que he tenido que manipular."
      ],
      "metadata": {
        "id": "K2_gy7pycY4D"
      }
    },
    {
      "cell_type": "markdown",
      "source": [
        "# Manipulación de los datos"
      ],
      "metadata": {
        "id": "wgcWKyu4cz54"
      }
    },
    {
      "cell_type": "markdown",
      "source": [
        "Vemos los títulos de las noticias"
      ],
      "metadata": {
        "id": "nQvHOULCdHh-"
      }
    },
    {
      "cell_type": "code",
      "source": [
        "newstitle = data[\"title\"].values\n",
        "newstitle"
      ],
      "metadata": {
        "colab": {
          "base_uri": "https://localhost:8080/"
        },
        "id": "wpGzMTSxcr8Q",
        "outputId": "0d585adb-4816-4f85-d6f4-caa5284e9e03"
      },
      "execution_count": null,
      "outputs": [
        {
          "output_type": "execute_result",
          "data": {
            "text/plain": [
              "array(['Scores killed in Pakistan clashes',\n",
              "       'Japan resumes refuelling mission',\n",
              "       'US presses Egypt on Gaza border', ...,\n",
              "       'Professor receives Arab Researchers Award',\n",
              "       'Nigel Farage attacks response to Trump ambassador tweet',\n",
              "       'Palestinian wielding knife shot dead in West Bank: Israel police'],\n",
              "      dtype=object)"
            ]
          },
          "metadata": {},
          "execution_count": 17
        }
      ]
    },
    {
      "cell_type": "code",
      "source": [
        "# Instalar nltk si no está instalado\n",
        "try:\n",
        "    nltk.data.find('tokenizers/punkt')\n",
        "except LookupError:\n",
        "    nltk.download('punkt')"
      ],
      "metadata": {
        "id": "ELRhxPZYdg-v",
        "colab": {
          "base_uri": "https://localhost:8080/"
        },
        "outputId": "d9987f65-3dd4-4071-c94a-96e193967711"
      },
      "execution_count": null,
      "outputs": [
        {
          "output_type": "stream",
          "name": "stderr",
          "text": [
            "[nltk_data] Downloading package punkt to /root/nltk_data...\n",
            "[nltk_data]   Unzipping tokenizers/punkt.zip.\n"
          ]
        }
      ]
    },
    {
      "cell_type": "markdown",
      "source": [
        "Dividimos por palabras los títulos."
      ],
      "metadata": {
        "id": "JHjTbwVemSjp"
      }
    },
    {
      "cell_type": "code",
      "source": [
        "newsVec = [nltk.word_tokenize(title) for title in newstitle]"
      ],
      "metadata": {
        "id": "RuKs5YR4em84"
      },
      "execution_count": null,
      "outputs": []
    },
    {
      "cell_type": "code",
      "source": [
        "#Vemos los títulos divididos por palabras.\n",
        "newsVec"
      ],
      "metadata": {
        "id": "mmUZLNH-l9Tf"
      },
      "execution_count": null,
      "outputs": []
    },
    {
      "cell_type": "markdown",
      "source": [
        "Aquí lo que haremos será dividir los títulos de las noticias en palabras individuales creando así listas en donde cada título tiene sus palabras divididas. Recuerda que son muchas por lo que el resultado de verlas es muy largo, por lo que recomiendo solo ver algunos ejemplos de como ha quedado."
      ],
      "metadata": {
        "id": "sOvacREziQAl"
      }
    },
    {
      "cell_type": "markdown",
      "source": [
        "# Creamos el modelo"
      ],
      "metadata": {
        "id": "nVPI1qvyxypq"
      }
    },
    {
      "cell_type": "code",
      "source": [
        "model = Word2Vec(newsVec, min_count= 1, vector_size=32)"
      ],
      "metadata": {
        "id": "Qox7ua_Gx0K-"
      },
      "execution_count": null,
      "outputs": []
    },
    {
      "cell_type": "markdown",
      "source": [
        "Aquí me dio un problema de compatibilidad. Estaba siguiendo el video pero cuando fui a ejecutar el modelo, me dio un error en el parámetro **size** pero gracias a mi amigo chatgpt, me dio la solución al problema y era que **size** ya no se usaba o da problemas con la nueva versión de gensim pero se puede usar vector_size en su lugar."
      ],
      "metadata": {
        "id": "GpOVN0wR0XZ_"
      }
    },
    {
      "cell_type": "markdown",
      "source": [
        "Probamos de que es capaz de búscar similitudes con otras palabras."
      ],
      "metadata": {
        "id": "qXu4GqY23KiU"
      }
    },
    {
      "cell_type": "code",
      "source": [
        "model.wv.most_similar('men')"
      ],
      "metadata": {
        "colab": {
          "base_uri": "https://localhost:8080/"
        },
        "id": "obMk-KRD1ZD2",
        "outputId": "8d0c0940-7d45-439b-db43-635442147d14"
      },
      "execution_count": null,
      "outputs": [
        {
          "output_type": "execute_result",
          "data": {
            "text/plain": [
              "[('girls', 0.8853245377540588),\n",
              " ('boys', 0.8837795257568359),\n",
              " ('teenagers', 0.8684070706367493),\n",
              " ('foreigners', 0.8496828079223633),\n",
              " ('students', 0.8481076955795288),\n",
              " ('women', 0.84235018491745),\n",
              " ('inmates', 0.8333673477172852),\n",
              " ('children', 0.8329078555107117),\n",
              " ('males', 0.8269201517105103),\n",
              " ('people', 0.8179082274436951)]"
            ]
          },
          "metadata": {},
          "execution_count": 24
        }
      ]
    },
    {
      "cell_type": "markdown",
      "source": [
        "En este caso también tuve un problema, otra vez con la versión del gensim que tengo, la cual es la actual frente a la que utilizó en el 2019 el chico del vídeo. Pero este error también tiene solución y es facíl de identificar ya que en el mismo vídeo al chico le sale un mensaje diciendole que sí, funciona pero con la nueva versión esta opción se perderá y le sugiere usar la nueva, que es la que he usado en este proyecto. En este resultado, se pueden ver 10 palabras y su porcentaje de relación según el entrenamiento de nuestro modelo."
      ],
      "metadata": {
        "id": "bchev4e12uT9"
      }
    },
    {
      "cell_type": "code",
      "source": [
        "vec = model.wv['king'] - model.wv['man'] + model.wv[\"woman\"]\n",
        "model.wv.most_similar([vec])"
      ],
      "metadata": {
        "colab": {
          "base_uri": "https://localhost:8080/"
        },
        "id": "hg6sNqA_SCyi",
        "outputId": "39aba0c5-5339-4da2-9833-704976a7a64b"
      },
      "execution_count": 27,
      "outputs": [
        {
          "output_type": "execute_result",
          "data": {
            "text/plain": [
              "[('king', 0.9628679752349854),\n",
              " ('prince', 0.7986353039741516),\n",
              " ('King', 0.7536882162094116),\n",
              " ('monarchy', 0.7425538897514343),\n",
              " ('cleric', 0.7374668121337891),\n",
              " ('princess', 0.7316463589668274),\n",
              " ('politician', 0.7245654463768005),\n",
              " ('blogger', 0.7024559378623962),\n",
              " ('royal', 0.6953523755073547),\n",
              " ('crown', 0.6906578540802002)]"
            ]
          },
          "metadata": {},
          "execution_count": 27
        }
      ]
    },
    {
      "cell_type": "markdown",
      "source": [
        "Aquí lo que intentamos hacer es conseguir palabras relacionadas a King pero en el contexto de las palabras man y woman. Dándonos como resultado todas las palabras que ves ahí que tienen que ver con la monarquía como puede ser el propio king, prince, monarchy, princess ect."
      ],
      "metadata": {
        "id": "_7odQ4Vnn6W8"
      }
    }
  ]
}