{
  "nbformat": 4,
  "nbformat_minor": 0,
  "metadata": {
    "colab": {
      "provenance": [],
      "authorship_tag": "ABX9TyPI3ZmwBuRr0wwPUpQ9prM2",
      "include_colab_link": true
    },
    "kernelspec": {
      "name": "python3",
      "display_name": "Python 3"
    },
    "language_info": {
      "name": "python"
    }
  },
  "cells": [
    {
      "cell_type": "markdown",
      "metadata": {
        "id": "view-in-github",
        "colab_type": "text"
      },
      "source": [
        "<a href=\"https://colab.research.google.com/github/Yamito548/Trabajos-cursos-IA-y-big-data/blob/main/TAREA_8_RNN_USANDO_EMBEDDINGS_(TRAFALGAR).ipynb\" target=\"_parent\"><img src=\"https://colab.research.google.com/assets/colab-badge.svg\" alt=\"Open In Colab\"/></a>"
      ]
    },
    {
      "cell_type": "markdown",
      "source": [
        "# Librerías"
      ],
      "metadata": {
        "id": "czxvg7LZXwYB"
      }
    },
    {
      "cell_type": "code",
      "execution_count": 1,
      "metadata": {
        "id": "jA9xQnPVXc71"
      },
      "outputs": [],
      "source": [
        "import numpy as np\n",
        "import keras\n",
        "import matplotlib.pyplot as plt\n",
        "from keras.callbacks import LambdaCallback\n",
        "from keras.models import Sequential\n",
        "from keras.layers import Dense\n",
        "from keras.layers import LSTM\n",
        "import random\n",
        "import io"
      ]
    },
    {
      "cell_type": "markdown",
      "source": [
        "Importamos las librerías que vamos a utilizar en este trabajo. Algunas de las más comunes que solemos hacer."
      ],
      "metadata": {
        "id": "U4LpgmpsbX5w"
      }
    },
    {
      "cell_type": "markdown",
      "source": [
        "# Descargamos el Quijote"
      ],
      "metadata": {
        "id": "3wf3GTh7X2El"
      }
    },
    {
      "cell_type": "markdown",
      "source": [
        "Con este código, descargamos un archivo txt sobre El Quijote."
      ],
      "metadata": {
        "id": "r0wBCidvbs6c"
      }
    },
    {
      "cell_type": "code",
      "source": [
        "path = keras.utils.get_file(\n",
        "  fname=\"/content/don_quijote2.txt\",\n",
        "  origin=\"https://raw.githubusercontent.com/Yamito548/Trabajos-cursos-IA-y-big-data/main/quijote.txt\"\n",
        ")\n",
        "path"
      ],
      "metadata": {
        "colab": {
          "base_uri": "https://localhost:8080/",
          "height": 35
        },
        "id": "GTwEO5aPX46I",
        "outputId": "ac151051-e9b8-45d8-d9cd-b2340ea415ed"
      },
      "execution_count": 2,
      "outputs": [
        {
          "output_type": "execute_result",
          "data": {
            "text/plain": [
              "'/content/don_quijote2.txt'"
            ],
            "application/vnd.google.colaboratory.intrinsic+json": {
              "type": "string"
            }
          },
          "metadata": {},
          "execution_count": 2
        }
      ]
    },
    {
      "cell_type": "markdown",
      "source": [
        "# Manipulamos los datos"
      ],
      "metadata": {
        "id": "Fm_mFFbfb5Fm"
      }
    },
    {
      "cell_type": "markdown",
      "source": [
        "Para que el modelo entrene mucho mejor, vamos a hacer que todas las letras sean minúsculas. Así el modelo no tendrá que aprender a diferenciar entre mayúsculas y minúsculas."
      ],
      "metadata": {
        "id": "n7pasR6Cb8yA"
      }
    },
    {
      "cell_type": "code",
      "source": [
        "text = open(path).read().lower()\n",
        "#Comprobamos la longitud del texto.\n",
        "print(\"Longitud del texto: {}\".format(len(text)))\n",
        "#También vemos un ejemplo del texto.\n",
        "print(text[0:300])"
      ],
      "metadata": {
        "colab": {
          "base_uri": "https://localhost:8080/"
        },
        "id": "U6nMBLWUb4PS",
        "outputId": "10ca6b65-4d19-4bc1-8028-0fb4e227c79e"
      },
      "execution_count": 3,
      "outputs": [
        {
          "output_type": "stream",
          "name": "stdout",
          "text": [
            "Longitud del texto: 2097953\n",
            "el ingenioso hidalgo don quijote de la mancha\n",
            "\n",
            "\n",
            "tasa\n",
            "\n",
            "yo, juan gallo de andrada, escribano de cámara del rey nuestro señor, de\n",
            "los que residen en su consejo, certifico y doy fe que, habiendo visto por\n",
            "los señores dél un libro intitulado el ingenioso hidalgo de la mancha,\n",
            "compuesto por miguel de cerv\n"
          ]
        }
      ]
    },
    {
      "cell_type": "markdown",
      "source": [
        "Podemos ver que el texto efectivamente, solo presenta minúsculas."
      ],
      "metadata": {
        "id": "B_urXenBdwbu"
      }
    },
    {
      "cell_type": "markdown",
      "source": [
        "En esta parte del código, lo que hacemos es revisar el Quijote en busca de carácteres, los cuales no puedes dar problemas a la hora de trabajar con el modelo, además de que no nos sirven para nada. Lo que hace este código es recorrer el texto del Quijote, si la letra que lea no es un carácter, lo meterá en la nueva variable llamada texto. Ya luego, hacemos que text tenga el contenido de texto, es decir sin carácteres."
      ],
      "metadata": {
        "id": "L1TRHG3teMMN"
      }
    },
    {
      "cell_type": "code",
      "source": [
        "texto=\"\"\n",
        "for letra in text:\n",
        "  if not letra in \"?¿.,;'¡!()-{};[]»«:\\\"\":\n",
        "    texto+=letra\n",
        "text=texto"
      ],
      "metadata": {
        "id": "YoIK226CdqWm"
      },
      "execution_count": 4,
      "outputs": []
    },
    {
      "cell_type": "markdown",
      "source": [
        "Seguimos con la manipulación, y en este caso lo que haremos será dividir el texto en palabras. Además, se crea otra variable en donde se almacenan todas las palabras únicas. Y luego se crea un diccionario con esta última variable."
      ],
      "metadata": {
        "id": "bfIJFaplfdPE"
      }
    },
    {
      "cell_type": "code",
      "source": [
        "palabras = text.split()\n",
        "palabras_unicas = set(palabras)\n",
        "word_index = {}\n",
        "k=0\n",
        "for palabra in palabras_unicas:\n",
        "  word_index[palabra] = k\n",
        "  k+=1"
      ],
      "metadata": {
        "id": "ACk6qD5cfUtY"
      },
      "execution_count": 5,
      "outputs": []
    },
    {
      "cell_type": "markdown",
      "source": [
        "# Descargamos el nltk"
      ],
      "metadata": {
        "id": "VmVSFcBdfwhc"
      }
    },
    {
      "cell_type": "markdown",
      "source": [
        "Esto es una librería para el procesamiento del lenguaje natural (NLP). Por otro lado, punkt es un modelo de tokenización."
      ],
      "metadata": {
        "id": "bWGLc24SgRgK"
      }
    },
    {
      "cell_type": "code",
      "source": [
        "import nltk\n",
        "nltk.download('punkt')"
      ],
      "metadata": {
        "colab": {
          "base_uri": "https://localhost:8080/"
        },
        "id": "jWp3iFqkgQxG",
        "outputId": "fff27bbe-e3f2-4f9d-8686-705a4a963743"
      },
      "execution_count": 6,
      "outputs": [
        {
          "output_type": "stream",
          "name": "stderr",
          "text": [
            "[nltk_data] Downloading package punkt to /root/nltk_data...\n",
            "[nltk_data]   Package punkt is already up-to-date!\n"
          ]
        },
        {
          "output_type": "execute_result",
          "data": {
            "text/plain": [
              "True"
            ]
          },
          "metadata": {},
          "execution_count": 6
        }
      ]
    },
    {
      "cell_type": "markdown",
      "source": [
        "Además de este diccionario, creamos su inverso."
      ],
      "metadata": {
        "id": "2QC1L_8Lg98k"
      }
    },
    {
      "cell_type": "code",
      "source": [
        "reverse_word_index = dict([(value, key) for (key, value) in word_index.items()])\n",
        "#Revisamos el tamaño de la variable de palabras\n",
        "len(palabras)"
      ],
      "metadata": {
        "colab": {
          "base_uri": "https://localhost:8080/"
        },
        "id": "bTcOYC4bgpwq",
        "outputId": "7eeed6d6-1628-473a-a76a-dad6136949e5"
      },
      "execution_count": 7,
      "outputs": [
        {
          "output_type": "execute_result",
          "data": {
            "text/plain": [
              "381215"
            ]
          },
          "metadata": {},
          "execution_count": 7
        }
      ]
    },
    {
      "cell_type": "markdown",
      "source": [
        "# Obtención de secuencias de entrada y palabra a predecir"
      ],
      "metadata": {
        "id": "BDtT7DMbhtAm"
      }
    },
    {
      "cell_type": "markdown",
      "source": [
        "Ahora vamos a obtener las sequencias de entrada y la palabra a predecir."
      ],
      "metadata": {
        "id": "nbopbh_Lh72Q"
      }
    },
    {
      "cell_type": "code",
      "source": [
        "#Definimos el tamaño de las secuencias.\n",
        "SEQ_LENGTH = 5\n",
        "step = 1 #Para que la siguiente palabra este a la izquierda\n",
        "\n",
        "sequences = []\n",
        "next_words = []"
      ],
      "metadata": {
        "id": "Dv1HnZeHhjoO"
      },
      "execution_count": 8,
      "outputs": []
    },
    {
      "cell_type": "markdown",
      "source": [
        "En este código, recorremos la variable de las palabras. Con un rango entre 0 y la cantidad de palabras que hay. Restándole el SEQ_LENGTH y indicando de que debe seguir a la izquierda."
      ],
      "metadata": {
        "id": "Ow7HBHXhifjS"
      }
    },
    {
      "cell_type": "code",
      "source": [
        "for i in range(0,len(palabras)-SEQ_LENGTH, step):\n",
        "  sequences.append(palabras[i:i+SEQ_LENGTH])\n",
        "  next_words.append(palabras[i+SEQ_LENGTH])\n",
        "\n",
        "\n",
        "#Vemos las secuencias, ejemplo\n",
        "sequences[7]\n",
        "#Y la siguiente palabra\n",
        "next_words[7]"
      ],
      "metadata": {
        "colab": {
          "base_uri": "https://localhost:8080/",
          "height": 35
        },
        "id": "H8yQcpbriWhQ",
        "outputId": "8fb391a0-19f3-47b4-a690-5b7a3b0f173e"
      },
      "execution_count": 9,
      "outputs": [
        {
          "output_type": "execute_result",
          "data": {
            "text/plain": [
              "'de'"
            ],
            "application/vnd.google.colaboratory.intrinsic+json": {
              "type": "string"
            }
          },
          "metadata": {},
          "execution_count": 9
        }
      ]
    },
    {
      "cell_type": "markdown",
      "source": [
        "Vamos a reducir el modelo, debido a que el quijote es muy grande y podría llevarnos a problemas de tiempo. Pero ten en cuenta que a menos datos, peor será el modelo. Esto no quiere decir que si quitas 1000 palabras vaya a ser muy malo, me refiero a que tampoco te pases quitando datos. Por ejemplo, usar el 70-90% porciento creo que estaría bien, y usar menos de eso podría llevar a que el modelo no sea tan preciso."
      ],
      "metadata": {
        "id": "L8L6MrcpjK8F"
      }
    },
    {
      "cell_type": "code",
      "source": [
        "#Cantidad máxima de secuencias\n",
        "MAX_SEQUENCES = 31000\n",
        "\n",
        "#Se reorganiza de forma aleatoria los indices.\n",
        "perm = np.random.permutation(len(sequences))\n",
        "#Convertimos a una array numpy\n",
        "sequences, next_words = np.array(sequences), np.array(next_words)\n",
        "sequences, next_words = sequences[perm], next_words[perm]\n",
        "#Reducción del tamaño\n",
        "sequences, next_words = list(sequences[:MAX_SEQUENCES]), list(next_words[:MAX_SEQUENCES])"
      ],
      "metadata": {
        "id": "xsmllDMijoph"
      },
      "execution_count": 10,
      "outputs": []
    },
    {
      "cell_type": "markdown",
      "source": [
        "En este código, por cada secuencia se crea una cadena de palabras, luego se agrega a la lista de frases. Ya por último, divide la frase en palabras individuales."
      ],
      "metadata": {
        "id": "YcV63HRdljRm"
      }
    },
    {
      "cell_type": "code",
      "source": [
        "#Convertimos las sequencias en frases\n",
        "frases = []\n",
        "for i in range(len(sequences)):\n",
        "  frase = ' '.join(sequences[i])\n",
        "  frases.append(frase)\n",
        "#Tokenizar las frases\n",
        "newsVec = [nltk.word_tokenize(frase) for frase in frases]\n",
        "newsVec"
      ],
      "metadata": {
        "colab": {
          "base_uri": "https://localhost:8080/"
        },
        "id": "qe4np8T8k78G",
        "outputId": "4a9f9370-fa3f-486a-eeba-9023ec0164eb"
      },
      "execution_count": 11,
      "outputs": [
        {
          "output_type": "execute_result",
          "data": {
            "text/plain": [
              "[['hasta', 'los', 'encantadores', 'son', 'médicos'],\n",
              " ['que', 'debes', 'a', 'nuestra', 'amistad'],\n",
              " ['tal', 'retablo', 'tenía', 'una', 'varilla'],\n",
              " ['hasta', 'los', 'encantados', 'no', 'perdona'],\n",
              " ['cual', 'gustando', 'de', 'oírle', 'decir'],\n",
              " ['que', 'tomando', 'don', 'fernando', 'una'],\n",
              " ['armas', 'señor', 'respondió', 'sancho', 'no'],\n",
              " ['merced', 'quiere', 'un', 'traguito', 'aunque'],\n",
              " ['las', 'entrañas', 'y', 'por', 'más'],\n",
              " ['costillas', 'quebradas', 'y', 'aunque', 'tonto'],\n",
              " ['luscinda', 'un', 'libro', 'de', 'caballerías'],\n",
              " ['aldea', 'y', 'aun', 'a', 'todos'],\n",
              " ['hicieron', 'titubear', 'en', 'su', 'propósito'],\n",
              " ['señor', 'que', 'ayer', 'o', 'antes'],\n",
              " ['añadidura', 'estas', 'dos', 'pistolas', 'y'],\n",
              " ['se', 'afrontara', 'a', 'fee', 'que'],\n",
              " ['baja', 'le', 'dijo', 'todas', 'estas'],\n",
              " ['dellos', 'la', 'mitad', 'de', 'los'],\n",
              " ['me', 'place', 'respondió', 'el', 'mozo'],\n",
              " ['haya', 'alguno', 'dellos', 'tomado', 'su'],\n",
              " ['lo', 'menos', 'a', 'mí', 'tales'],\n",
              " ['se', 'quietó', 'y', 'prosiguió', 'su'],\n",
              " ['de', 'lo', 'uno', 'a', 'lo'],\n",
              " ['que', 'vuesa', 'merced', 'nos', 'ha'],\n",
              " ['peregrinación', 'que', 'llevo', 'a', 'lo'],\n",
              " ['él', 'que', 'libre', 'y', 'seguro'],\n",
              " ['paso', 'acabe', 'y', 'menéese', 'que'],\n",
              " ['la', 'doncella', 'tercera', 'que', 'ha'],\n",
              " ['señal', 'y', 'por', 'felicísimo', 'agüero'],\n",
              " ['preguntándoles', 'qué', 'era', 'la', 'causa'],\n",
              " ['que', 'luego', 'al', 'momento', 'se'],\n",
              " ['manera', 'que', 'él', 'las', 'hizo'],\n",
              " ['os', 'parece', 'que', 'éstas', 'son'],\n",
              " ['se', 'ejecuta', 'en', 'ella', 'su'],\n",
              " ['hubiera', 'hecho', 'y', 'quedaron', 'de'],\n",
              " ['causa', 'que', 'siendo', 'él', 'de'],\n",
              " ['hora', 'y', 'dios', 'te', 'guíe'],\n",
              " ['panza', 'y', 'alabáronsela', 'mucho', 'y'],\n",
              " ['flaqueza', 'de', 'rocinante', 'y', 'otras'],\n",
              " ['marsilio', 'y', 'carlomagno', 'carlomagno', 'por'],\n",
              " ['peregrina', 'historia', 'ruégote', 'que', 'no'],\n",
              " ['habían', 'puesto', 'cortada', 'pues', 'la'],\n",
              " ['trata', 'de', 'lo', 'que', 'verá'],\n",
              " ['queda', 'para', 'volver', 'a', 'nuestro'],\n",
              " ['tanto', 'que', 'bien', 'habrá', 'para'],\n",
              " ['de', 'hacer', 'los', 'desposorios', 'y'],\n",
              " ['qué', 'paciencia', 'podré', 'llevar', 'que'],\n",
              " ['merced', 'que', 'es', 'el', 'famoso'],\n",
              " ['lugar', 'como', 'sagrado', 'que', 'había'],\n",
              " ['así', 'estaba', 'escrito', 'en', 'los'],\n",
              " ['veras', 'procuraba', 'irse', 'por', 'no'],\n",
              " ['a', 'tanto', 'su', 'curiosidad', 'y'],\n",
              " ['no', 'perderá', 'vuesa', 'merced', 'la'],\n",
              " ['van', 'a', 'estudiar', 'a', 'salamanca'],\n",
              " ['frescor', 'de', 'la', 'mañana', 'y'],\n",
              " ['unos', 'a', 'otros', 'no', 'podían'],\n",
              " ['con', 'lo', 'que', 'ellos', 'pensaban'],\n",
              " ['stupendo', 'ven', 'conmigo', 'señor', 'clarísimo'],\n",
              " ['cuando', 'algún', 'pintor', 'quiere', 'salir'],\n",
              " ['podría', 'subir', 'en', 'un', 'púlpito'],\n",
              " ['soy', 'agora', 'como', 'he', 'dicho'],\n",
              " ['el', 'señor', 'don', 'quijote', 'de'],\n",
              " ['y', 'el', 'cura', 'fue', 'por'],\n",
              " ['emiende', 'los', 'vocablos', 'si', 'es'],\n",
              " ['me', 'atrevo', 'a', 'decirlo', 'pero'],\n",
              " ['tesoro', 'de', 'contento', 'y', 'una'],\n",
              " ['como', 'un', 'príncipe', 'fue', 'sancho'],\n",
              " ['a', 'sus', 'oídos', 'que', 'con'],\n",
              " ['señor', 'respondió', 'sancho', 'porque', 'le'],\n",
              " ['tú', 'sancho', 'por', 'ventura', 'que'],\n",
              " ['un', 'desdichado', 'desgobernado', 'gobernador', 'parecióle'],\n",
              " ['tan', 'mísera', 'y', 'atenuada', 'que'],\n",
              " ['tan', 'buenos', 'términos', 'iba', 'prosiguiendo'],\n",
              " ['ahínco', 'que', 'todos', 'los', 'que'],\n",
              " ['para', 'que', 'le', 'sirviese', 'de'],\n",
              " ['de', 'pajes', 'todas', 'industriadas', 'y'],\n",
              " ['otra', 'mucha', 'gente', 'de', 'casa'],\n",
              " ['y', 'felicemente', 'se', 'volvieron', 'a'],\n",
              " ['grande', 'nos', 'ha', 'sucedido', 'ves'],\n",
              " ['no', 'se', 'me', 'pasará', 'del'],\n",
              " ['ver', 'la', 'figura', 'de', 'don'],\n",
              " ['a', 'un', 'animal', 'que', 'si'],\n",
              " ['un', 'garrotazo', 'acabaste', 'la', 'carrera'],\n",
              " ['mayor', 'trabajo', 'que', 'aquellos', 'que'],\n",
              " ['la', 'hice', 'dueño', 'de', 'mi'],\n",
              " ['dijo', 'el', 'ventero', 'que', 'se'],\n",
              " ['aporreado', 'respondió', 'don', 'quijote', 'no'],\n",
              " ['entre', 'el', 'libro', 'de', 'amadís'],\n",
              " ['veces', 'decía', 'ellas', 'eran', 'sus'],\n",
              " ['pidieron', 'a', 'don', 'quijote', 'se'],\n",
              " ['armas', 'no', 'se', 'puede', 'llevar'],\n",
              " ['la', 'mitad', 'de', 'la', 'cena'],\n",
              " ['un', 'poco', 'y', 'con', 'turbada'],\n",
              " ['en', 'la', 'resurreción', 'de', 'altisidora'],\n",
              " ['donde', 'tienes', 'sazonada', 'la', 'virtud'],\n",
              " ['porque', 'los', 'encantadores', 'que', 'le'],\n",
              " ['la', 'hija', 'del', 'oidor', 'estaba'],\n",
              " ['partió', 'de', 'muy', 'buena', 'gana'],\n",
              " ['yo', 'sé', 'bien', 'a', 'lo'],\n",
              " ['ha', 'de', 'pasar', 'de', 'un'],\n",
              " ['os', 'digo', 'que', 'si', 'no'],\n",
              " ['llegó', 'a', 'él', 'y', 'con'],\n",
              " ['parecer', 'que', 'le', 'dejen', 'seguir'],\n",
              " ['llega', 'elena', 'ni', 'la', 'alcanza'],\n",
              " ['me', 'significó', 'que', 'la', 'señal'],\n",
              " ['de', 'castigallos', 'y', 'si', 'diese'],\n",
              " ['de', 'nuevo', 'de', 'los', 'juicios'],\n",
              " ['a', 'mucho', 'que', 'cosas', 'y'],\n",
              " ['que', 'estoy', 'obligado', 'a', 'cumplir'],\n",
              " ['también', 'come', 'cordero', 'como', 'carnero'],\n",
              " ['fuese', 'debajo', 'de', 'dorados', 'techos'],\n",
              " ['abundancia', 'por', 'dicha', 'vas', 'caminando'],\n",
              " ['hizo', 'y', 'forjó', 'el', 'dios'],\n",
              " ['le', 'satisfaga', 'y', 'haciendo', 'fuerza'],\n",
              " ['dar', 'librea', 'no', 'la', 'alcanzan'],\n",
              " ['donde', 'se', 'ponen', 'los', 'versos'],\n",
              " ['anda', 'un', 'poco', 'descaminado', 'el'],\n",
              " ['sino', 'el', 'inaudito', 'bachiller', 'sansón'],\n",
              " ['los', 'turcos', 'dejándome', 'solo', 'con'],\n",
              " ['hora', 'era', 'respondiéronle', 'que', 'ya'],\n",
              " ['habéis', 'contado', 'aún', 'podría', 'ser'],\n",
              " ['y', 'fementido', 'lecho', 'de', 'don'],\n",
              " ['que', 'tiene', 'para', 'sí', 'ser'],\n",
              " ['abrazado', 'con', 'el', 'muslo', 'izquierdo'],\n",
              " ['esperiencia', 'que', 'dan', 'los', 'años'],\n",
              " ['de', 'su', 'señor', 'el', 'caballero'],\n",
              " ['vez', 'primera', 'y', 'aquí', 'con'],\n",
              " ['mí', 'tampoco', 'respondió', 'sancho', 'porque'],\n",
              " ['un', 'cordel', 'donde', 'venían', 'más'],\n",
              " ['fuera', 'un', 'bendito', 'queréis', 'otra'],\n",
              " ['y', 'la', 'razón', 'es', 'que'],\n",
              " ['quijote', 'yo', 'apostaré', 'replicó', 'sancho'],\n",
              " ['se', 'lo', 'preguntaremos', 'el', 'caballero'],\n",
              " ['yo', 'lo', 'llevaré', 'en', 'paciencia'],\n",
              " ['con', 'bigotes', 'tenga', 'yo', 'mi'],\n",
              " ['mandaron', 'que', 'esta', 'tasa', 'se'],\n",
              " ['en', 'el', 'gobierno', 'te', 'sucediere'],\n",
              " ['tomado', 'en', 'la', 'memoria', 'cuando'],\n",
              " ['nuevas', 'aventuras', 'que', 'pueda', 'imaginar'],\n",
              " ['para', 'que', 'no', 'vea', 'sus'],\n",
              " ['le', 'esperes', 'en', 'el', 'mismo'],\n",
              " ['espuma', 'de', 'los', 'caballeros', 'andantes'],\n",
              " ['las', 'cosas', 'presentes', 'he', 'aquí'],\n",
              " ['contó', 'luego', 'a', 'cardenio', 'y'],\n",
              " ['dejará', 'llevarse', 'a', 'lo', 'que'],\n",
              " ['labios', 'las', 'labradoras', 'estaban', 'asimismo'],\n",
              " ['ni', 'espanto', 'no', 'niego', 'yo'],\n",
              " ['y', 'tendida', 'en', 'el', 'coche'],\n",
              " ['la', 'hubiera', 'dejado', 'de', 'mi'],\n",
              " ['sudar', 'el', 'hopo', 'calla', 'dijo'],\n",
              " ['laguna', 'meona', 'digo', 'meótides', 'que'],\n",
              " ['una', 'gran', 'caída', 'miré', 'por'],\n",
              " ['en', 'aquel', 'traje', 'y', 'él'],\n",
              " ['oyentes', 'los', 'cuales', 'se', 'estuvieron'],\n",
              " ['que', 'están', 'presentes', 'y', 'después'],\n",
              " ['malo', 'para', 'prueba', 'de', 'lo'],\n",
              " ['podéis', 'llamar', 'venturosa', 'por', 'haber'],\n",
              " ['tengo', 'de', 'hallar', 'aunque', 'os'],\n",
              " ['panza', 'se', 'puso', 'en', 'pie'],\n",
              " ['aún', 'no', 'se', 'había', 'apeado'],\n",
              " ['él', 'se', 'las', 'tenía', 'tiesas'],\n",
              " ['remediar', 'respondió', 'sancho', 'porque', 'sé'],\n",
              " ['mi', 'reino', 'que', 'no', 'aguardase'],\n",
              " ['vuesa', 'merced', 'señor', 'don', 'quijote'],\n",
              " ['propósito', 'y', 'no', 'menos', 'le'],\n",
              " ['hablador', 'que', 'por', 'mentiroso', 'pero'],\n",
              " ['cabestro', 'a', 'su', 'asno', 'después'],\n",
              " ['y', 'como', 'a', 'la', 'vida'],\n",
              " ['eso', 'basta', 'dijo', 'dorotea', 'porque'],\n",
              " ['risa', 'como', 'fuerza', 'y', 'donde'],\n",
              " ['que', 'a', 'pesar', 'de', 'la'],\n",
              " ['verte', 'yo', 'a', 'ti', 'de'],\n",
              " ['razón', 'podía', 'echar', 'vuestra', 'merced'],\n",
              " ['tembló', 'sancho', 'panza', 'y', 'finalmente'],\n",
              " ['respetar', 'como', 'si', 'lo', 'fuesen'],\n",
              " ['días', 'en', 'que', 'no', 'la'],\n",
              " ['se', 'alzó', 'de', 'nuevo', 'en'],\n",
              " ['coligiendo', 'por', 'su', 'huida', 'su'],\n",
              " ['una', 'rapaza', 'que', 'apenas', 'sabe'],\n",
              " ['prosupuesto', 'de', 'seguirle', 'el', 'humor'],\n",
              " ['mi', 'alma', 'que', 'a', 'todo'],\n",
              " ['prospere', 'tus', 'ansias', 'si', 'te'],\n",
              " ['ponerme', 'en', 'camino', 'que', 'me'],\n",
              " ['de', 'sus', 'virtudes', 'desta', 'mesma'],\n",
              " ['pesar', 'del', 'mismo', 'mundo', 'que'],\n",
              " ['tal', 'respondieron', 'y', 'por', 'el'],\n",
              " ['a', 'teresa', 'panza', 'mujer', 'de'],\n",
              " ['rescatado', 'y', 'que', 'sólo', 'faltaba'],\n",
              " ['le', 'dijo', 'vive', 'el', 'señor'],\n",
              " ['dejó', 'de', 'admirarse', 'en', 'oír'],\n",
              " ['si', 'lo', 'entendía', 'díjome', 'que'],\n",
              " ['sino', 'molinos', 'de', 'viento', 'y'],\n",
              " ['que', 'arrojó', 'a', 'horacio', 'del'],\n",
              " ['decir', 'a', 'mi', 'amo', 'semejante'],\n",
              " ['me', 'haga', 'las', 'muelas', 'sancho'],\n",
              " ['y', 'fuere', 'menester', 'a', 'lo'],\n",
              " ['representan', 'sino', 'que', 'he', 'visto'],\n",
              " ['a', 'mí', 'me', 'parece', 'este'],\n",
              " ['ya', 'que', 'quieres', 'cruel', 'que'],\n",
              " ['rumor', 'alguno', 'se', 'soltó', 'la'],\n",
              " ['esto', 'hermanos', 'preguntó', 'la', 'duquesa'],\n",
              " ['don', 'quijote', 'recibió', 'pesadumbre', 'y'],\n",
              " ['conocían', 'que', 'lo', 'hacía', 'no'],\n",
              " ['parezca', 'lo', 'que', 'ha', 'de'],\n",
              " ['tú', 'debes', 'sancho', 'dijo', 'don'],\n",
              " ['voz', 'levantada', 'que', 'parecía', 'grito'],\n",
              " ['que', 'yo', 'vencí', 'pero', 'según'],\n",
              " ['los', 'escritos', 'de', 'miguel', 'de'],\n",
              " ['reyes', 'y', 'príncipes', 'que', 'otro'],\n",
              " ['compadre', 'y', 'démonos', 'prisa', 'que'],\n",
              " ['r', 'porque', 'nunca', 'se', 'come'],\n",
              " ['hojearle', 'y', 'de', 'allí', 'a'],\n",
              " ['francés', 'llamado', 'pierres', 'papín', 'señor'],\n",
              " ['mundo', 'en', 'fin', 'como', 'tú'],\n",
              " ['faunos', 'y', 'silvanos', 'de', 'aquellos'],\n",
              " ['lástima', 'y', 'no', 'podré', 'dejar'],\n",
              " ['pues', 'se', 'le', 'olvida', 'de'],\n",
              " ['cide', 'hamete', 'vio', 'don', 'quijote'],\n",
              " ['debe', 'de', 'haber', 'pensado', 'sino'],\n",
              " ['llama', 'y', 'deseo', 'a', 'deseo'],\n",
              " ['de', 'tu', 'aljaba', 'desta', 'casa'],\n",
              " ['doncellas', 'cuyos', 'galanos', 'y', 'vistosos'],\n",
              " ['solas', 'las', 'vidas', 'de', 'cuantos'],\n",
              " ['con', 'sólo', 'esto', 'que', 'os'],\n",
              " ['echase', 'de', 'ver', 'en', 'lo'],\n",
              " ['a', 'cuanto', 'le', 'decían', 'callaba'],\n",
              " ['derrota', 'y', 'que', 'primero', 'había'],\n",
              " ['tal', 'manera', 'quedaron', 'todos', 'en'],\n",
              " ['daremos', 'orden', 'como', 'vaya', 'presto'],\n",
              " ['hay', 'sino', 'decilla', 'que', 'yo'],\n",
              " ['de', 'ovejas', 'suyas', 'proprias', 'y'],\n",
              " ['de', 'todos', 'cuantos', 'hubo', 'en'],\n",
              " ['os', 'vais', 'tras', 'la', 'opinión'],\n",
              " ['el', 'peligro', 'de', 'su', 'muerte'],\n",
              " ['de', 'aquella', 'noche', 'y', 'de'],\n",
              " ['era', 'la', 'obediencia', 'que', 'le'],\n",
              " ['guerra', 'con', 'otro', 'tan', 'poderoso'],\n",
              " ['que', 'en', 'vuestro', 'provecho', 'sabed'],\n",
              " ['ya', 'estaba', 'a', 'caballo', 'sancho'],\n",
              " ['la', 'hora', 'de', 'medio', 'día'],\n",
              " ['y', 'esta', 'espada', 'con', 'el'],\n",
              " ['martino', 'que', 'vuestra', 'merced', 'derribó'],\n",
              " ['de', 'tu', 'crédito', 'y', 'fama'],\n",
              " ['querida', 'dulcinea', 'del', 'toboso', 'allí'],\n",
              " ['bastantes', 'para', 'enjaularme', 'qué', 'quieres'],\n",
              " ['llevaron', 'luego', 'maritornes', 'y', 'su'],\n",
              " ['a', 'sus', 'allegados', 'y', 'favoridos'],\n",
              " ['y', 'jabonaron', 'muy', 'bien', 'y'],\n",
              " ['y', 'que', 'sólo', 'estoy', 'enamorado'],\n",
              " ['que', 'fue', 'tan', 'callado', 'que'],\n",
              " ['y', 'venciéndose', 'a', 'sí', 'mismo'],\n",
              " ['librase', 'temiendo', 'a', 'cada', 'paso'],\n",
              " ['en', 'ella', 'si', 'dios', 'me'],\n",
              " ['y', 'sitio', 'un', 'trofeo', 'capítulo'],\n",
              " ['de', 'clavileño', 'le', 'pegaron', 'fuego'],\n",
              " ['ganadero', 'movió', 'a', 'admiración', 'a'],\n",
              " ['el', 'de', 'la', 'misericordia', 'que'],\n",
              " ['al', 'mundo', 'reprochándole', 'el', 'quebrantamiento'],\n",
              " ['la', 'afición', 'no', 'les', 'hagan'],\n",
              " ['al', 'corral', 'con', 'ellos', 'diéronselos'],\n",
              " ['o', 'en', 'comedias', 'alegres', 'y'],\n",
              " ['rostro', 'a', 'su', 'enemigo', 'quedara'],\n",
              " ['de', 'la', 'dulce', 'mi', 'enemiga'],\n",
              " ['fuéronle', 'ganando', 'los', 'turcos', 'palmo'],\n",
              " ['algunas', 'hacía', 'barato', 'según', 'tomaba'],\n",
              " ['beltenebros', 'despidióse', 'del', 'cabrero', 'don'],\n",
              " ['las', 'pláticas', 'que', 'tienen', 'así'],\n",
              " ['tales', 'encantadores', 'sus', 'contrarios', 'no'],\n",
              " ['trocalle', 'con', 'este', 'mío', 'que'],\n",
              " ['peor', 'que', 'fue', 'en', 'el'],\n",
              " ['la', 'vista', 'se', 'le', 'ofrecieron'],\n",
              " ['y', 'presto', 'se', 'les', 'pasó'],\n",
              " ['le', 'había', 'conducido', 'todo', 'lo'],\n",
              " ['no', 'faltarán', 'otros', 'que', 'sirvan'],\n",
              " ['se', 'me', 'ponga', 'un', 'laúd'],\n",
              " ['en', 'llegando', 'allá', 'y', 'es'],\n",
              " ['los', 'diablos', 'y', 'por', 'la'],\n",
              " ['la', 'honestidad', 'que', 'de', 'mí'],\n",
              " ['se', 'emboscó', 'corriendo', 'por', 'entre'],\n",
              " ['hechos', 'de', 'los', 'otros', 'oigo'],\n",
              " ['alzó', 'los', 'ojos', 'y', 'vio'],\n",
              " ['yo', 'qué', 'replicar', 'respondió', 'sancho'],\n",
              " ['el', 'rucio', 'llegasen', 'llegaron', 'volvieron'],\n",
              " ['o', 'con', 'una', 'mitra', 'en'],\n",
              " ['y', 'parientes', 'os', 'vean', 'gozar'],\n",
              " ['a', 'desafiar', 'a', 'su', 'enemigo'],\n",
              " ['lotario', 'la', 'viese', 'a', 'solas'],\n",
              " ['hombres', 'vestidos', 'de', 'luto', 'tan'],\n",
              " ['candaya', 'si', 'el', 'caballo', 'se'],\n",
              " ['sí', 'los', 'de', 'la', 'caza'],\n",
              " ['con', 'que', 'yo', 'siempre', 'la'],\n",
              " ['que', 'déstos', 'hay', 'muy', 'pocos'],\n",
              " ['de', 'aliagas', 'sintieron', 'los', 'pobres'],\n",
              " ['había', 'enviado', 'y', 'no', 'tan'],\n",
              " ['aquí', 'y', 'sin', 'ponerme', 'a'],\n",
              " ['la', 'vi', 'toda', 'mirad', 'sancho'],\n",
              " ['él', 'en', 'confirmación', 'de', 'lo'],\n",
              " ['dijo', 'trabaje', 'vuestra', 'merced', 'señor'],\n",
              " ['por', 'tu', 'descuido', 'y', 'negligencia'],\n",
              " ['o', 'quiébrome', 'la', 'cabeza', 'dice'],\n",
              " ['hemos', 'andado', 'en', 'no', 'habernos'],\n",
              " ['un', 'girifalte', 'pero', 'en', 'lo'],\n",
              " ['la', 'mía', 'dijo', 'sancho', 'que'],\n",
              " ['volvía', 'a', 'su', 'primer', 'tema'],\n",
              " ['que', 'ella', 'quisiera', 'esta', 'gentil'],\n",
              " ['se', 'llegó', 'adonde', 'doña', 'rodríguez'],\n",
              " ['fue', 'cardenio', 'y', 'dorotea', 'poniendo'],\n",
              " ['ha', 'parecido', 'caballero', 'sino', 'tú'],\n",
              " ['aquel', 'hombre', 'que', 'vimos', 'el'],\n",
              " ['mono', 'con', 'que', 'gane', 'de'],\n",
              " ['aconsejaría', 'que', 'mirase', 'más', 'a'],\n",
              " ['que', 'por', 'qué', 'pecados', 'iba'],\n",
              " ['luego', 'otra', 'vez', 'habéis', 'estado'],\n",
              " ['que', 'me', 'ha', 'sucedido', 'después'],\n",
              " ['él', 'bien', 'que', 'le', 'había'],\n",
              " ['lugar', 'donde', 'estoy', 'y', 'la'],\n",
              " ['canalla', 'a', 'que', 'por', 'ruegos'],\n",
              " ['favor', 'todo', 'lo', 'que', 'quisiere'],\n",
              " ['de', 'una', 'encina', 'un', 'pesado'],\n",
              " ['carta', 'de', 'sancho', 'panza', 'a'],\n",
              " ['alcanzar', 'cómo', 'siendo', 'el', 'principio'],\n",
              " ['sabe', 'la', 'verdad', 'de', 'todo'],\n",
              " ['para', 'los', 'gobernadores', 'en', 'lo'],\n",
              " ['allí', 'se', 'usa', 'más', 'declaraba'],\n",
              " ['doncellas', 'o', 'enanos', 'que', 'les'],\n",
              " ['en', 'fin', 'siempre', 'tienen', 'y'],\n",
              " ['pareció', 'que', 'por', 'buenos', 'respetos'],\n",
              " ['desiguales', 'en', 'los', 'bienes', 'de'],\n",
              " ['si', 'acaso', 'iban', 'un', 'mesmo'],\n",
              " ['y', 'no', 'ponga', 'a', 'troche'],\n",
              " ['y', 'pequeño', 'para', 'los', 'infinitos'],\n",
              " ['al', 'día', 'daré', 'rienda', 'a'],\n",
              " ['no', 'se', 'haga', 'acto', 'público'],\n",
              " ['yo', 'otro', 'respondió', 'sancho', 'que'],\n",
              " ['de', 'los', 'bueyes', 'don', 'quijote'],\n",
              " ['suya', 'y', 'de', 'muchas', 'maldiciones'],\n",
              " ['las', 'hubo', 'oído', 'cuando', 'dijo'],\n",
              " ['lanzones', 'ballestas', 'partesanas', 'alabardas', 'y'],\n",
              " ['el', 'mesmo', 'día', 'que', 'se'],\n",
              " ['ahora', 'respondió', 'el', 'huésped', 'no'],\n",
              " ['las', 'mostraré', 'mujer', 'dijo', 'panza'],\n",
              " ['la', 'cólera', 'y', 'como', 'no'],\n",
              " ['de', 'migas', 'qué', 'de', 'natas'],\n",
              " ['cae', 'puede', 'levantarse', 'mañana', 'si'],\n",
              " ['de', 'mujer', 'en', 'el', 'barco'],\n",
              " ['tomándome', 'entre', 'sus', 'brazos', 'porque'],\n",
              " ['venta', 'sin', 'tocar', 'en', 'la'],\n",
              " ['derecho', 'que', 'no', 'alcanzaba', 'a'],\n",
              " ['del', 'cielo', 'y', 'ardiendo', 'en'],\n",
              " ['y', 'denuedo', 'se', 'afirmó', 'bien'],\n",
              " ['ya', 'que', 'sancho', 'no', 'se'],\n",
              " ['habrá', 'quien', 'me', 'lo', 'quite'],\n",
              " ['de', 'buen', 'talante', 'en', 'ninguna'],\n",
              " ['boca', 'pienso', 'mover', 'la', 'voz'],\n",
              " ['el', 'vizcaíno', 'y', 'del', 'peligro'],\n",
              " ['a', 'quien', 'dio', 'felice', 'cima'],\n",
              " ['que', 'se', 'desmandó', 'a', 'hacerla'],\n",
              " ['su', 'rostro', 'sacudiendo', 'de', 'sus'],\n",
              " ['las', 'galeras', 'el', 'cuatralbo', 'que'],\n",
              " ['nadar', 'que', 'una', 'vez', 'aprendida'],\n",
              " ['apartarle', 'de', 'tan', 'mal', 'pensamiento'],\n",
              " ['el', 'edificio', 'que', 'más', 'entero'],\n",
              " ['el', 'mozo', 'de', 'mulas', 'junto'],\n",
              " ['comisión', 'y', 'mandado', 'de', 'los'],\n",
              " ['cielos', 'infundan', 'en', 'el', 'corazón'],\n",
              " ['en', 'verdad', 'señor', 'caballero', 'de'],\n",
              " ['lo', 'que', 'habéis', 'visto', 'en'],\n",
              " ['su', 'padre', 'la', 'había', 'mandado'],\n",
              " ['entender', 'la', 'antigüedad', 'de', 'los'],\n",
              " ['mucho', 'que', 'por', 'allí', 'había'],\n",
              " ['sé', 'cómo', 'rióse', 'don', 'quijote'],\n",
              " ['terrible', 'aprieto', 'y', 'angustia', 'le'],\n",
              " ['y', 'no', 'le', 'pareció', 'cordura'],\n",
              " ['haber', 'tenido', 'tan', 'honrosa', 'determinación'],\n",
              " ['tú', 'dices', 'que', 'a', 'mí'],\n",
              " ['esperando', 'a', 'que', 'el', 'gran'],\n",
              " ['blandones', 'y', 'por', 'los', 'corredores'],\n",
              " ['aprendida', 'nunca', 'se', 'olvida', 'y'],\n",
              " ['tan', 'gran', 'caballero', 'tan', 'inútil'],\n",
              " ['la', 'verdad', 'dijo', 'andrés', 'pero'],\n",
              " ['vino', 'a', 'comer', 'con', 'su'],\n",
              " ['le', 'dijese', 'y', 'así', 'lo'],\n",
              " ['que', 'es', 'olla', 'podrida', 'que'],\n",
              " ['se', 'quieren', 'dio', 'luego', 'traza'],\n",
              " ['todo', 'tan', 'bien', 'que', 'cuando'],\n",
              " ['su', 'ayudador', 'y', 'de', 'su'],\n",
              " ['una', 'estancia', 'más', 'cerrada', 'y'],\n",
              " ['de', 'la', 'enamorada', 'doncella', 'altisidora'],\n",
              " ['lo', 'haré', 'por', 'cuanto', 'hay'],\n",
              " ['por', 'mentiroso', 'pero', 'de', 'aquí'],\n",
              " ['la', 'llaneza', 'escudera', 'con', 'que'],\n",
              " ['porque', 'los', 'muchos', 'de', 'don'],\n",
              " ['nos', 'diere', 'de', 'vida', 'si'],\n",
              " ['bien', 'haya', 'el', 'que', 'inventó'],\n",
              " ['algunas', 'que', 'estaba', 'atado', 'en'],\n",
              " ['todos', 'se', 'recogiesen', 'a', 'sus'],\n",
              " ['por', 'una', 'de', 'las', 'más'],\n",
              " ['que', 'el', 'ausentarse', 'por', 'algunos'],\n",
              " ['que', 'yo', 'no', 'la', 'haya'],\n",
              " ['sino', 'estrellas', 'que', 'se', 'movían'],\n",
              " ['nos', 'llegásemos', 'poco', 'a', 'poco'],\n",
              " ['eterno', 'mío', 'en', 'todos', 'mis'],\n",
              " ['otros', 'le', 'dejan', 'éstos', 'le'],\n",
              " ['ventaja', 'a', 'la', 'de', 'don'],\n",
              " ['te', 'había', 'de', 'dar', 'a'],\n",
              " ['duda', 'en', 'eso', 'replicó', 'don'],\n",
              " ['peñas', 'por', 'donde', 'entienden', 'que'],\n",
              " ['el', 'más', 'desdichado', 'de', 'los'],\n",
              " ['volvíme', 'al', 'terrado', 'hecimos', 'todos'],\n",
              " ['cual', 'no', 'hay', 'que', 'tener'],\n",
              " ['fruta', 'delante', 'pero', 'apenas', 'hubo'],\n",
              " ['volvió', 'don', 'quijote', 'la', 'cabeza'],\n",
              " ['sé', 'que', 'malambruno', 'no', 'tiene'],\n",
              " ['mal', 'advertida', 'y', 'peor', 'engañada'],\n",
              " ['agora', 'conozco', 'y', 'experimento', 'lo'],\n",
              " ['rondar', 'que', 'es', 'mi', 'intención'],\n",
              " ['caballero', 'andante', 'sin', 'amores', 'y'],\n",
              " ['intervalos', 'fuéronse', 'a', 'comer', 'y'],\n",
              " ['muerte', 'espantable', 'y', 'fea', 'fue'],\n",
              " ['pues', 'en', 'tierra', 'más', 'mojados'],\n",
              " ['y', 'generosos', 'no', 'hacer', 'caso'],\n",
              " ['caballeros', 'pasados', 'cuál', 'se', 'llamaba'],\n",
              " ['mesmo', 'y', 'pagar', 'yo', 'porque'],\n",
              " ['a', 'la', 'labradora', 'con', 'título'],\n",
              " ['lugar', 'para', 'decir', 'todo', 'lo'],\n",
              " ['tres', 'faldas', 'o', 'tres', 'colas'],\n",
              " ['y', 'que', 'si', 'lo', 'hacía'],\n",
              " ['se', 'holgaron', 'el', 'duque', 'y'],\n",
              " ['las', 'demás', 'naciones', 'y', 'el'],\n",
              " ['mancebo', 'señor', 'que', 'aquí', 'vees'],\n",
              " ['el', 'ruido', 'del', 'agua', 'con'],\n",
              " ['pero', 'llamadme', 'aquí', 'a', 'mi'],\n",
              " ['viéndole', 'sancho', 'comenzó', 'a', 'herir'],\n",
              " ['casa', 'de', 'su', 'padre', 'quizá'],\n",
              " ['mandamiento', 'si', 'no', 'por', 'la'],\n",
              " ['a', 'lo', 'cual', 'respondió', 'sancho'],\n",
              " ['clara', 'y', 'con', 'manos', 'no'],\n",
              " ['rodela', 'y', 'el', 'arremeter', 'al'],\n",
              " ['los', 'otros', 'del', 'ajeno', 'que'],\n",
              " ['dejó', 'su', 'fe', 'y', 'fue'],\n",
              " ['su', 'padre', 'que', 'él', 'la'],\n",
              " ['sancho', 'aunque', 'sé', 'decir', 'al'],\n",
              " ['imitación', 'de', 'amadís', 'que', 'sin'],\n",
              " ['triste', 'y', 'aciago', 'para', 'sancho'],\n",
              " ['lleno', 'de', 'espanto', 'y', 'no'],\n",
              " ['madre', 'sin', 'gobierno', 'habéis', 'vivido'],\n",
              " ['las', 'muelas', 'don', 'quijote', 'como'],\n",
              " ['hanse', 'eslabonado', 'las', 'venganzas', 'de'],\n",
              " ['famoso', 'rocinante', 'no', 'me', 'descontenta'],\n",
              " ['besóla', 'púsosela', 'sobre', 'la', 'cabeza'],\n",
              " ['su', 'camino', 'a', 'zaragoza', 'capítulo'],\n",
              " ['rocinante', 'y', 'otras', 'circunstancias', 'de'],\n",
              " ['no', 'le', 'pareció', 'tan', 'bien'],\n",
              " ['las', 'espaldas', 'y', 'se', 'entró'],\n",
              " ['fuera', 'bastante', 'para', 'borrarle', 'de'],\n",
              " ['quijote', 'y', 'daba', 'unos', 'gemidos'],\n",
              " ['alguna', 'fantasma', 'vana', 'y', 'contrahecha'],\n",
              " ['de', 'la', 'agua', 'encantada', 'y'],\n",
              " ['algo', 'de', 'buena', 'invención', 'propone'],\n",
              " ['el', 'paso', 'en', 'que', 'estaba'],\n",
              " ['los', 'ojos', 'pensáis', 'por', 'ventura'],\n",
              " ['que', 'subiese', 'se', 'hincó', 'de'],\n",
              " ['que', 'os', 'aventuréis', 'a', 'hacerme'],\n",
              " ['a', 'dulcinea', 'por', 'el', 'toboso'],\n",
              " ['y', 'vuestros', 'ángulos', 'y', 'ciencia'],\n",
              " ['preso', 'a', 'quien', 'alcanzó', 'uno'],\n",
              " ['que', 'a', 'él', 'no', 'tocaba'],\n",
              " ['europa', 'la', 'segunda', 'en', 'asia'],\n",
              " ['don', 'quijote', 'y', 'a', 'sancho'],\n",
              " ['traje', 'de', 'moharracho', 'que', 'traes'],\n",
              " ['hacían', 'todo', 'eso', 'que', 'de'],\n",
              " ['movió', 'al', 'autor', 'a', 'valerse'],\n",
              " ['ser', 'que', 'volviese', 'a', 'su'],\n",
              " ['que', 'se', 'dilataba', 'y', 'alargaba'],\n",
              " ['detener', 'una', 'rueda', 'de', 'molino'],\n",
              " ['confieso', 'juzgo', 'y', 'siento', 'como'],\n",
              " ['en', 'ella', 'una', 'novela', 'intitulada'],\n",
              " ['dellos', 'cada', 'año', 'a', 'visitar'],\n",
              " ['quien', 'dios', 'maldiga', 'y', 'a'],\n",
              " ['enterrarte', 'eso', 'es', 'dijo', 'el'],\n",
              " ['conocimiento', 'puso', 'en', 'sosiego', 'el'],\n",
              " ['hacer', 'en', 'peligros', 'semejantes', 'antes'],\n",
              " ['y', 'caer', 'sobre', 'las', 'ancas'],\n",
              " ['no', 'le', 'ha', 'de', 'valer'],\n",
              " ['y', 'por', 'parecerme', 'a', 'mí'],\n",
              " ['ya', 'por', 'acudir', 'a', 'los'],\n",
              " ['sobre', 'el', 'labio', 'derecho', 'a'],\n",
              " ['comiendo', 'hasta', 'una', 'docena', 'de'],\n",
              " ['estaban', 'sobre', 'él', 'y', 'metiéndose'],\n",
              " ['sancho', 'lo', 'que', 'será', 'bien'],\n",
              " ['lo', 'perfecto', 'y', 'que', 'lo'],\n",
              " ['dejado', 'la', 'conversación', 'daban', 'grandes'],\n",
              " ['entonces', 'me', 'pareció', 'que', 'salía'],\n",
              " ['entre', 'otros', 'árboles', 'por', 'dar'],\n",
              " ['por', 'el', 'barato', 'con', 'que'],\n",
              " ['aquella', 'gente', 'maligna', 'y', 'mal'],\n",
              " ['y', 'melancolías', 'éste', 'fue', 'el'],\n",
              " ['noticia', 'de', 'las', 'cosas', 'que'],\n",
              " ['pueda', 'dar', 'el', 'nombre', 'de'],\n",
              " ['mesmo', 'modo', 'que', 'él', 'había'],\n",
              " ['y', 'luego', 'en', 'el', 'margen'],\n",
              " ['panza', 'adónde', 'queda', 'vuestro', 'amo'],\n",
              " ['respondió', 'don', 'quijote', 'con', 'toda'],\n",
              " ['torres', 'de', 'la', 'vanidad', 'de'],\n",
              " ['de', 'ración', 'y', 'quitación', 'tan'],\n",
              " ['cuenta', 'que', 'es', 'la', 'más'],\n",
              " ['está', 'claro', 'pues', 'cuando', 'camila'],\n",
              " ['de', 'contino', 'le', 'hace', 'la'],\n",
              " ['mirábanle', 'todos', 'y', 'admirábanse', 'de'],\n",
              " ['me', 'engaño', 'o', 'ésta', 'ha'],\n",
              " ['maravilla', 'a', 'uno', 'dellos', 'nuevo'],\n",
              " ['que', 'había', 'de', 'ser', 'alto'],\n",
              " ['debía', 'de', 'oler', 'a', 'lo'],\n",
              " ['quiero', 'decirte', 'hasme', 'de', 'jurar'],\n",
              " ['y', 'dijo', 'no', 'se', 'me'],\n",
              " ['acomodó', 'su', 'barba', 'y', 'siguieron'],\n",
              " ['no', 'encubriera', 'yo', 'nada', 'porque'],\n",
              " ['hazaña', 'al', 'mismo', 'rey', 'cuando'],\n",
              " ['apenas', 'hubo', 'puesto', 'los', 'dedos'],\n",
              " ['desta', 'estrecheza', 'en', 'que', 'por'],\n",
              " ['diablo', 'por', 'caballero', 'andante', 'que'],\n",
              " ['esta', 'verdad', 'y', 'la', 'toquéis'],\n",
              " ['luego', 'una', 'gran', 'reverencia', 'menos'],\n",
              " ['sobre', 'un', 'carro', 'de', 'bueyes'],\n",
              " ['los', 'dos', 'la', 'subieron', 'en'],\n",
              " ['se', 'arrepienta', 'de', 'haber', 'tomado'],\n",
              " ['se', 'habían', 'de', 'hacer', 'y'],\n",
              " ['sin', 'dejarle', 'pelo', 'en', 'las'],\n",
              " ['quieres', 'hacer', 'señor', 'de', 'lo'],\n",
              " ['no', 'le', 'tocaban', 'las', 'generales'],\n",
              " ['los', 'temores', 'o', 'valentías', 'ajenas'],\n",
              " ['esto', 'aquí', 'y', 'advertid', 'que'],\n",
              " ['ojos', 'confundo', 'todas', 'vuestras', 'dificultades'],\n",
              " ['hasta', 'haberlo', 'puesto', 'en', 'aquella'],\n",
              " ['se', 'duela', 'dellas', 'y', 'si'],\n",
              " ['de', 'bien', 'también', 'le', 'pregunté'],\n",
              " ['santo', 'los', 'milagros', 'de', 'otro'],\n",
              " ['atrevo', 'a', 'decirlo', 'pero', 'vaya'],\n",
              " ['historiado', 'y', 'referido', 'ay', 'dijo'],\n",
              " ['cabeza', 'una', 'cosa', 'que', 'relumbra'],\n",
              " ['delante', 'de', 'la', 'carreta', 'y'],\n",
              " ['quien', 'lo', 'dijo', 'si', 'tratáredes'],\n",
              " ['el', 'más', 'verdadero', 'hidalgo', 'y'],\n",
              " ['nos', 'espera', 'y', 'que', 'sabe'],\n",
              " ['pues', 'dijo', 'el', 'barbero', 'que'],\n",
              " ['muy', 'a', 'satisfación', 'de', 'su'],\n",
              " ['fama', 'en', 'este', 'pueblo', 'que'],\n",
              " ['para', 'lo', 'que', 'nacistes', 'parecieron'],\n",
              " ['diera', 'toda', 'según', 'era', 'de'],\n",
              " ['viniere', 'en', 'gusto', 'mas', 'si'],\n",
              " ['el', 'punto', 'que', 'estaban', 'los'],\n",
              " ['entendió', 'que', 'estaba', 'resuelta', 'en'],\n",
              " ['félix', 'y', 'su', 'padre', 'quedasen'],\n",
              " ['grandísimo', 'amigo', 'suyo', 'y', 'que'],\n",
              " ['su', 'alcaidía', 'de', 'suerte', 'que'],\n",
              " ['se', 'mostrasen', 'aunque', 'le', 'costase'],\n",
              " ['cuando', 'conocí', 'ser', 'la', 'una'],\n",
              " ['don', 'lorenzo', 'pero', 'grande', 'ni'],\n",
              " ['y', 'vieron', 'que', 'las', 'daba'],\n",
              " ['recebirle', 'y', 'a', 'desarmarle', 'encerróse'],\n",
              " ['caballero', 'don', 'quijote', 'de', 'la'],\n",
              " ['para', 'suplir', 'los', 'menesteres', 'del'],\n",
              " ['ínsula', 'o', 'con', 'un', 'condado'],\n",
              " ['la', 'mancha', 'ni', 'en', 'otras'],\n",
              " ['comida', 'subieron', 'luego', 'a', 'caballo'],\n",
              " ['y', 'el', 'no', 'tener', 'aunque'],\n",
              " ['locura', 'de', 'roldán', 'el', 'furioso'],\n",
              " ['vista', 'se', 'le', 'ofrecieron', 'fueron'],\n",
              " ['linda', 'carta', 'como', 'aquélla', 'y'],\n",
              " ['voz', 'me', 'dijo', 'mi', 'señora'],\n",
              " ['que', 'nunca', 'yo', 'se', 'lo'],\n",
              " ['hará', 'lo', 'mesmo', 'con', 'la'],\n",
              " ['del', 'rebuzno', 'contra', 'otro', 'lugar'],\n",
              " ['mi', 'ventura', 'tus', 'proezas', 'envidio'],\n",
              " ['por', 'pienso', 'que', 'no', 'les'],\n",
              " ['recado', 'y', 'embajada', 'que', 'había'],\n",
              " ['el', 'encantado', 'moro', 'llegó', 'el'],\n",
              " ['señor', 'hasta', 'las', 'últimas', 'partes'],\n",
              " ['los', 'ánimos', 'y', 'atraer', 'las'],\n",
              " ['porque', 'todas', 'las', 'veces', 'que'],\n",
              " ['más', 'larga', 'la', 'más', 'blanca'],\n",
              " ['a', 'sancho', 'en', 'la', 'frontera'],\n",
              " ['sacar', 'el', 'tesoro', 'que', 'dejé'],\n",
              " ['los', 'lados', 'vio', 'que', 'sus'],\n",
              " ['a', 'la', 'sombra', 'y', 'a'],\n",
              " ['te', 'he', 'dicho', 'oh', 'anselmo'],\n",
              " ['coronas', 'veen', 'honrados', 'y', 'adornadas'],\n",
              " ['ahí', 'la', 'aventura', 'de', 'los'],\n",
              " ['tardó', 'tres', 'días', 'tardara', 'tres'],\n",
              " ['como', 'los', 'demás', 'y', 'no'],\n",
              " ['escribí', 'cuán', 'regaladas', 'y', 'honestas'],\n",
              " ['gracias', 'que', 'llovidas', 'y', 'si'],\n",
              " ['lector', 'válame', 'dios', 'y', 'con'],\n",
              " ['hija', 'respondió', 'teresa', 'pero', 'déjamela'],\n",
              " ['don', 'quijote', 'del', 'lugar', 'de'],\n",
              " ['ventana', 'de', 'su', 'casa', 'que'],\n",
              " ['burla', 'de', 'habérsela', 'hecho', 'tan'],\n",
              " ['y', 'fuese', 'cabizbaja', 'y', 'mal'],\n",
              " ['mentiras', 'y', 'los', 'historiadores', 'que'],\n",
              " ['ferido', 'besa', 'a', 'vuestra', 'merced'],\n",
              " ['inexpugnable', 'y', 'no', 'se', 'perdió'],\n",
              " ['hizo', 'a', 'su', 'escudero', 'conde'],\n",
              " ['los', 'hidalgos', 'dicen', 'que', 'no'],\n",
              " ['ese', 'mismo', 'abecedario', 'pondréis', 'vos'],\n",
              " ['abrigo', 'del', 'clarísimo', 'nombre', 'de'],\n",
              " ['consejo', 'se', 'vio', 'que', 'va'],\n",
              " ['tuviera', 'de', 'agua', 'respondió', 'sancho'],\n",
              " ['él', 'diciéndole', 'sosiégate', 'señor', 'mío'],\n",
              " ['corría', 'por', 'la', 'misma', 'cuenta'],\n",
              " ['por', 'despecho', 'de', 'la', 'demasía'],\n",
              " ['el', 'muladar', 'todo', 'el', 'día'],\n",
              " ['escritura', 'este', 'soldado', 'pues', 'que'],\n",
              " ['que', 'jamás', 'sirvió', 'a', 'caballero'],\n",
              " ['respondido', 'pero', 'en', 'lo', 'de'],\n",
              " ['las', 'plazas', 'como', 'vuestra', 'merced'],\n",
              " ['caballero', 'parece', 'que', 'de', 'industria'],\n",
              " ['tierra', 'y', 'todos', 'los', 'hombres'],\n",
              " ['sus', 'hombros', 'ni', 'asunto', 'de'],\n",
              " ['para', 'mi', 'santiguada', 'que', 'yo'],\n",
              " ['hubiera', 'visto', 'con', 'mis', 'ojos'],\n",
              " ['escudos', 'y', 'nos', 'avisó', 'de'],\n",
              " ['en', 'zaragoza', 'tal', 'era', 'el'],\n",
              " ['mujer', 'teresa', 'panza', 'por', 'momentos'],\n",
              " ['se', 'precia', 'más', 'que', 'grecia'],\n",
              " ['lo', 'que', 'me', 'tiene', 'admirado'],\n",
              " ['de', 'la', 'encina', 'donde', 'estaba'],\n",
              " ['la', 'salud', 'de', 'un', 'solo'],\n",
              " ['otra', 'tercia', 'parte', 'par', 'el'],\n",
              " ['salida', 'de', 'don', 'quijote', 'que'],\n",
              " ['de', 'las', 'mujeres', 'de', 'su'],\n",
              " ['libro', 'preguntó', 'don', 'quijote', 'la'],\n",
              " ['querido', 'yo', 'dar', 'con', 'el'],\n",
              " ['mis', 'comedias', 'antes', 'impresas', 'que'],\n",
              " ['ni', 'del', 'prestado', 'ni', 'de'],\n",
              " ['halla', 'puestas', 'las', 'mesas', 'con'],\n",
              " ['su', 'estraña', 'figura', 'como', 'la'],\n",
              " ['es', 'mi', 'profesión', 'favorecer', 'y'],\n",
              " ['carta', 'y', 'el', 'pañuelo', 'y'],\n",
              " ['ventura', 'me', 'había', 'puesto', 'en'],\n",
              " ['ciudad', 'fortaleza', 'o', 'castillo', 'dice'],\n",
              " ['en', 'el', 'cielo', 'perdonadme', 'fermosas'],\n",
              " ['la', 'cabeza', 'y', 'los', 'desbarató'],\n",
              " ['señor', 'don', 'quijote', 'de', 'la'],\n",
              " ['que', 'bastaba', 'a', 'darse', 'a'],\n",
              " ['ellas', 'mal', 'andante', 'caballería', 'procuraban'],\n",
              " ['se', 'pensaba', 'respondió', 'el', 'otro'],\n",
              " ['dios', 'prospere', 'más', 'años', 'que'],\n",
              " ['desdichas', 'de', 'lo', 'que', 'contaste'],\n",
              " ['algún', 'amigo', 'que', 'le', 'advirtiese'],\n",
              " ['tristísima', 'que', 'dice', 'tú', 'caballero'],\n",
              " ['se', 'emboscasen', 'en', 'la', 'sierra'],\n",
              " ['eso', 'es', 'respondió', 'don', 'quijote'],\n",
              " ['mil', 'satanases', 'por', 'no', 'maldecirte'],\n",
              " ['atrevidillo', 'con', 'su', 'señor', 'a'],\n",
              " ['pidiendo', 'favor', 'a', 'la', 'santa'],\n",
              " ['se', 'entró', 'en', 'el', 'aposento'],\n",
              " ['bien', 'respondió', 'el', 'bachiller', 'que'],\n",
              " ['en', 'ello', 'y', 'era', 'que'],\n",
              " ['así', 'de', 'don', 'quijote', 'como'],\n",
              " ['donde', 'camila', 'estaba', 'casi', 'en'],\n",
              " ['podíamos', 'llegar', 'al', 'cielo', 'donde'],\n",
              " ['mi', 'pecado', 'que', 'soy', 'tan'],\n",
              " ['por', 'cierto', 'digo', 'pues', 'que'],\n",
              " ['ponga', 'esta', 'nuestra', 'licencia', 'y'],\n",
              " ['años', 'la', 'goce', 'y', 'a'],\n",
              " ['saben', 'cuál', 'es', 'su', 'mano'],\n",
              " ['la', 'desgracia', 'desta', 'burla', 'que'],\n",
              " ['merced', 'la', 'cabeza', 'y', 'alégrese'],\n",
              " ['verdad', 'respondió', 'vivaldo', 'y', 'queriendo'],\n",
              " ['con', 'la', 'mayor', 'ternura', 'del'],\n",
              " ['una', 'tumba', 'con', 'voz', 'debilitada'],\n",
              " ['casar', 'a', 'su', 'hija', 'con'],\n",
              " ['ella', 'hubiéredes', 'pasado', 'condiciones', 'que'],\n",
              " ['garganta', 'que', 'no', 'le', 'dejaba'],\n",
              " ['lo', 'tienen', 'a', 'ventura', 'porque'],\n",
              " ['que', 'el', 'gran', 'duque', 'de'],\n",
              " ['el', 'de', 'la', 'triste', 'figura'],\n",
              " ['locuras', 'tuviesen', 'noticia', 'seis', 'días'],\n",
              " ['su', 'casa', 'preguntó', 'a', 'camila'],\n",
              " ['había', 'quitado', 'las', 'cortezas', 'a'],\n",
              " ['de', 'las', 'palabras', 'y', 'razones'],\n",
              " ['estas', 'pláticas', 'quiso', 'la', 'suerte'],\n",
              " ['él', 'quisiera', 'y', 'como', 'lo'],\n",
              " ['cierto', 'el', 'temor', 'de', 'camila'],\n",
              " ['enjaulado', 'y', 'a', 'su', 'parecer'],\n",
              " ['sino', 'a', 'las', 'tres', 'labradoras'],\n",
              " ['mí', 'manchada', 'que', 'tiempo', 'nos'],\n",
              " ['un', 'caballero', 'sea', 'desamorado', 'pero'],\n",
              " ['los', 'leo', 'en', 'tanto', 'que'],\n",
              " ['halló', 'un', 'buen', 'montoncillo', 'de'],\n",
              " ['gentes', 'estando', 'en', 'la', 'mitad'],\n",
              " ['respondió', 'sancho', 'que', 'muchas', 'veces'],\n",
              " ['un', 'poco', 'sobre', 'la', 'verde'],\n",
              " ['y', 'hermosura', 'fuego', 'soy', 'apartado'],\n",
              " ['dijo', 'sancho', 'que', 'vuesa', 'merced'],\n",
              " ['en', 'peso', 'las', 'antiguas', 'piedras'],\n",
              " ['el', 'otro', 'siguiendo', 'la', 'mesma'],\n",
              " ['dar', 'con', 'todas', 'las', 'circunstancias'],\n",
              " ['del', 'sur', 'dos', 'leguas', 'más'],\n",
              " ['la', 'doncella', 'barbera', 'cuando', 'le'],\n",
              " ['con', 'tan', 'amorosas', 'razones', 'que'],\n",
              " ['la', 'mesma', 'mentira', 'de', 'la'],\n",
              " ['y', 'mis', 'armas', 'y', 'espérenme'],\n",
              " ['satisfación', 'que', 'me', 'dio', 'el'],\n",
              " ['me', 'deparare', 'en', 'ayuda', 'de'],\n",
              " ['la', 'daba', 'en', 'gastalla', 'y'],\n",
              " ['competientes', 'como', 'sea', 'contra', 'ellos'],\n",
              " ['tu', 'vida', 'y', 'más', 'que'],\n",
              " ['quiero', 'que', 'sepa', 'la', 'señora'],\n",
              " ['había', 'sucedido', 'que', 'a', 'no'],\n",
              " ['el', 'agravio', 'que', 'me', 'habían'],\n",
              " ['y', 'esto', 'me', 'has', 'de'],\n",
              " ['queréis', 'oír', 'alguna', 'mentira', 'de'],\n",
              " ['de', 'mi', 'señora', 'dijo', 'don'],\n",
              " ['cabeza', 'y', 'serán', 'tuyos', 'los'],\n",
              " ['torcida', 'soga', 'mas', 'ay', 'de'],\n",
              " ['que', 'por', 'solas', 'estas', 'últimas'],\n",
              " ['es', 'que', 'mire', 'cómo', 'gobierna'],\n",
              " ['y', 'démonos', 'priesa', 'que', 'se'],\n",
              " ['pienso', 'respondió', 'sancho', 'ponerle', 'otro'],\n",
              " ['al', 'duque', 'lo', 'que', 'le'],\n",
              " ['está', 'delante', 'que', 'quiere', 'que'],\n",
              " ['la', 'mota', 'en', 'el', 'ojo'],\n",
              " ['muestras', 'la', 'razón', 'que', 'me'],\n",
              " ['nobles', 'ten', 'por', 'cierto', 'teresa'],\n",
              " ['el', 'trágico', 'suceso', 'de', 'claudia'],\n",
              " ['boca', 'y', 'bostezó', 'muy', 'despacio'],\n",
              " ['como', 'a', 'vuesa', 'merced', 'su'],\n",
              " ['las', 'estrañas', 'éste', 'es', 'mi'],\n",
              " ['me', 'siento', 'tibio', 'desmazalado', 'y'],\n",
              " ['la', 'gente', 'más', 'lucida', 'de'],\n",
              " ['fajas', 'y', 'mantillas', 'aun', 'mal'],\n",
              " ['se', 'tuvieron', 'por', 'seguros', 'de'],\n",
              " ['tanto', 'amor', 'como', 'a', 'su'],\n",
              " ['merced', 'señor', 'don', 'quijote', 'la'],\n",
              " ['que', 'se', 'decía', 'que', 'me'],\n",
              " ['priesa', 'que', 'dieron', 'con', 'don'],\n",
              " ['considerando', 'la', 'mala', 'burla', 'que'],\n",
              " ['lo', 'promete', 'por', 'lo', 'menos'],\n",
              " ['suerte', 'tener', 'sujeto', 'y', 'rendido'],\n",
              " ['alegrarle', 'diciéndole', 'el', 'bachiller', 'que'],\n",
              " ['y', 'honrada', 'resolución', 'y', 'se'],\n",
              " ['así', 'lo', 'hizo', 'y', 'la'],\n",
              " ['leones', 'que', 'no', 'ha', 'mucho'],\n",
              " ['gran', 'deseo', 'de', 'volver', 'a'],\n",
              " ['dos', 'almas', 'no', 'tienen', 'más'],\n",
              " ['escribió', 'lo', 'que', 'saliere', 'o'],\n",
              " ['y', 'no', 'abiertos', 'con', 'molde'],\n",
              " ['gobernador', 'de', 'una', 'ínsula', 'y'],\n",
              " ['caído', 'a', 'cardenio', 'la', 'cabeza'],\n",
              " ['puso', 'piernas', 'al', 'castillo', 'de'],\n",
              " ['a', 'cuantas', 'yo', 'he', 'leído'],\n",
              " ['aposento', 'alguno', 'sólo', 'se', 'nos'],\n",
              " ['cuadrillero', 'que', 'estaba', 'escuchando', 'en'],\n",
              " ['engañado', 'y', 'debajo', 'de', 'su'],\n",
              " ['que', 'puso', 'pavor', 'en', 'todos'],\n",
              " ['de', 'miedo', 'estoy', 'ya', 'para'],\n",
              " ['tenemos', 'algo', 'de', 'nuevo', 'qué'],\n",
              " ['a', 'un', 'gigante', 'antes', 'que'],\n",
              " ['tú', 'que', 'siempre', 'sales', 'y'],\n",
              " ['que', 'tenía', 'hecha', 'en', 'el'],\n",
              " ['en', 'berbería', 'donde', 'con', 'la'],\n",
              " ['las', 'preguntas', 'y', 'como', 'nadie'],\n",
              " ['quijote', 'y', 'así', 'digo', 'que'],\n",
              " ['que', 'si', 'esto', 'sucede', 'con'],\n",
              " ['espantóse', 'la', 'muerta', 'de', 'la'],\n",
              " ['quijote', 'una', 'cuchillada', 'a', 'uno'],\n",
              " ['dolorida', 'dijo', 'sancho', 'qué', 'nombre'],\n",
              " ['el', 'ver', 'que', 'rocinante', 'pugnaba'],\n",
              " ['oro', 'que', 'en', 'esta', 'nuestra'],\n",
              " ['estudiante', 'y', 'muy', 'aficionado', 'a'],\n",
              " ['granjeado', 'en', 'solos', 'diez', 'días'],\n",
              " ['que', 'no', 'estaban', 'hechas', 'a'],\n",
              " ['todos', 'de', 'ver', 'la', 'nueva'],\n",
              " ['o', 'la', 'del', 'de', 'los'],\n",
              " ['sé', 'cierto', 'sin', 'que', 'hasta'],\n",
              " ['señora', 'dulcinea', 'y', 'aunque', 'la'],\n",
              " ['no', 'comer', 'otra', 'cosa', 'sino'],\n",
              " ['si', 'entra', 'en', 'el', 'pastoral'],\n",
              " ['cuanto', 'en', 'aquella', 'casa', 'pasaba'],\n",
              " ['don', 'quijote', 'él', 'se', 'lo'],\n",
              " ['de', 'caballeros', 'andantes', 'el', 'no'],\n",
              " ['el', 'mesmo', 'infierno', 'debe', 'de'],\n",
              " ['es', 'razón', 'concluyente', 'que', 'el'],\n",
              " ['sus', 'pinos', 'de', 'manera', 'que'],\n",
              " ['flores', 'y', 'en', 'verdad', 'que'],\n",
              " ['se', 'entreparecía', 'una', 'longísima', 'barba'],\n",
              " ['trabajo', 'eso', 'creo', 'yo', 'muy'],\n",
              " ['pues', 'con', 'el', 'ayuda', 'del'],\n",
              " ['pesar', 'de', 'la', 'abadesa', 'y'],\n",
              " ['generosos', 'pechos', 'pero', 'quédese', 'esto'],\n",
              " ['merecen', 'y', 'así', 'me', 'parece'],\n",
              " ['quien', 'ha', 'de', 'tocar', 'el'],\n",
              " ['tu', 'rigor', 'tan', 'sin', 'segundo'],\n",
              " ['otra', 'tercia', 'parte', 'para', 'el'],\n",
              " ['le', 'abrió', 'la', 'cabeza', 'casi'],\n",
              " ['fuerza', 'de', 'un', 'encantador', 'malicioso'],\n",
              " ['lo', 'a', 'ellos', 'posible', 'para'],\n",
              " ['sutil', 'parecía', 'colcha', 'lleno', 'de'],\n",
              " ['como', 'yo', 'deseo', 'y', 'tú'],\n",
              " ['antes', 'y', 'primero', 'de', 'todos'],\n",
              " ['la', 'ingrata', 'quiteria', 'largos', 'y'],\n",
              " ['ser', 'el', 'duque', 'y', 'la'],\n",
              " ['y', 'siguieron', 'su', 'camino', 'guiándolos'],\n",
              " ['fue', 'haber', 'muerto', 'a', 'manos'],\n",
              " ['las', 'indias', 'orientales', 'una', 'de'],\n",
              " ['que', 'don', 'quijote', 'hacía', 'sobre'],\n",
              " ['hermano', 'andrés', 'que', 'a', 'todos'],\n",
              " ['que', 'mi', 'buen', 'amigo', 'debe'],\n",
              " ['a', 'caballero', 'lo', 'que', 'se'],\n",
              " ['con', 'el', 'loco', 'y', 'que'],\n",
              " ['de', 'oro', 'que', 'en', 'una'],\n",
              " ['ciudad', 'de', 'sansueña', 'que', 'así'],\n",
              " ['consiste', 'en', 'la', 'opinión', 'buena'],\n",
              " ['el', 'cuadrillero', 'decía', 'y', 'cómo'],\n",
              " ['tanta', 'diferencia', 'de', 'sarna', 'a'],\n",
              " ['acaso', 'hubiese', 'galeras', 'por', 'esta'],\n",
              " ['y', 'un', 'pecado', 'a', 'otro'],\n",
              " ['de', 'apeles', 'y', 'los', 'buriles'],\n",
              " ['ignorante', 'y', 'un', 'grandísimo', 'bellaco'],\n",
              " ['y', 'esto', 'que', 'voy', 'a'],\n",
              " ['a', 'largo', 'la', 'boca', 'cosida'],\n",
              " ['echan', 'grillos', 'y', 'cadenas', 'y'],\n",
              " ['había', 'dicho', 'que', 'tenía', 'noticia'],\n",
              " ['a', 'todas', 'las', 'razones', 'que'],\n",
              " ['como', 'liebre', 'toda', 'la', 'venta'],\n",
              " ['caso', 'a', 'los', 'señores', 'inquisidores'],\n",
              " ['huelen', 'no', 'pueden', 'oler', 'cosas'],\n",
              " ['sido', 'sino', 'alcaldes', 'a', 'lo'],\n",
              " ['acete', 'y', 'venga', 'a', 'responder'],\n",
              " ['tenían', 'sus', 'descomulgados', 'libros', 'digo'],\n",
              " ['muchas', 'tinajas', 'a', 'la', 'redonda'],\n",
              " ['se', 'me', 'ha', 'de', 'podrir'],\n",
              " ['rogó', 'que', 'algo', 'más', 'cantase'],\n",
              " ['de', 'ciprés', 'entre', 'seis', 'dellos'],\n",
              " ['una', 'de', 'las', 'más', 'nuevas'],\n",
              " ['pastor', 'estudiante', 'llamado', 'grisóstomo', 'y'],\n",
              " ['poeta', 'y', 'púsola', 'cual', 'no'],\n",
              " ['una', 'alcuza', 'o', 'aceitera', 'de'],\n",
              " ['la', 'dolorida', 'dueña', 'dijo', 'si'],\n",
              " ['ludovico', 'ariosto', 'al', 'cual', 'si'],\n",
              " ['qué', 'digo', 'miserable', 'no', 'soy'],\n",
              " ['y', 'oí', 'decir', 'que', 'se'],\n",
              " ['lugar', 'de', 'contemplar', 'parte', 'por'],\n",
              " ['así', 'es', 'dijo', 'don', 'quijote'],\n",
              " ['de', 'más', 'excelencia', 'advirtiendo', 'que'],\n",
              " ['con', 'dios', 'seré', 'su', 'esposa'],\n",
              " ['como', 'aquella', 'lucrecia', 'de', 'quien'],\n",
              " ['recibió', 'grandísimo', 'contento', 'comieron', 'y'],\n",
              " ['acá', 'ladrones', 'en', 'cuadrilla', 'que'],\n",
              " ['que', 'su', 'mesmo', 'dueño', 'pues'],\n",
              " ['más', 'común', 'habitación', 'es', 'en'],\n",
              " ['decir', 'que', 'del', 'vientre', 'de'],\n",
              " ['nizarani', 'como', 'si', 'dijera', 'o'],\n",
              " ['hermano', 'está', 'en', 'el', 'pirú'],\n",
              " ['principales', 'traen', 'consigo', 'cocinero', 'despensero'],\n",
              " ['de', 'una', 'alma', 'lacayuna', 'y'],\n",
              " ['y', 'la', 'resolución', 'de', 'mi'],\n",
              " ['mis', 'promesas', 'que', 'aunque', 'se'],\n",
              " ['diese', 'siquiera', 'ocho', 'reales', 'pues'],\n",
              " ['divinas', 'y', 'vuelvo', 'a', 'decir'],\n",
              " ['amigo', 'durandarte', 'flor', 'y', 'espejo'],\n",
              " ['yo', 'de', 'qué', 'proceden', 'estos'],\n",
              " ['y', 'traerle', 'a', 'la', 'memoria'],\n",
              " ['pasó', 'ni', 'más', 'ni', 'menos'],\n",
              " ['escondidos', 'por', 'diversas', 'partes', 'de'],\n",
              " ['mía', 'o', 'si', 'no', 'por'],\n",
              " ['sobre', 'hojuelas', 'bueno', 'sería', 'que'],\n",
              " ['y', 'si', 'él', 'allá', 'llega'],\n",
              " ['escondida', 'que', 'no', 'te', 'sienta'],\n",
              " ['a', 'su', 'casa', 'como', 'en'],\n",
              " ['no', 'se', 'atrevan', 'a', 'tomar'],\n",
              " ['y', 'a', 'volver', 'a', 'sus'],\n",
              " ['parte', 'del', 'lugar', 'donde', 'nos'],\n",
              " ['bajó', 'del', 'recuesto', 'y', 'acercóse'],\n",
              " ['judiciarias', 'que', 'tanto', 'ahora', 'se'],\n",
              " ['volviendo', 'adonde', 'tengo', 'mis', 'libros'],\n",
              " ['pecho', 'entallad', 'o', 'imprimid', 'lo'],\n",
              " ['endereza', 'tuertos', 'estando', 'por', 'la'],\n",
              " ['estremos', 'de', 'oro', 'yo', 'me'],\n",
              " ['decía', 'y', 'levantándose', 'con', 'un'],\n",
              " ['a', 'la', 'noche', 'se', 'halla'],\n",
              " ['tomó', 'sus', 'simples', 'de', 'los'],\n",
              " ['para', 'sólo', 'ellos', 'y', 'no'],\n",
              " ['sé', 'que', 'tiene', 'vuestra', 'merced'],\n",
              " ['no', 'tienen', 'comparación', 'ni', 'se'],\n",
              " ['día', 'habéis', 'de', 'ir', 'al'],\n",
              " ['abiertas', 'quién', 'no', 'abrirá', 'de'],\n",
              " ['pensamiento', 'pues', 'así', 'como', 'vuestra'],\n",
              " ['hacer', 'dellos', 'ecetuando', 'a', 'un'],\n",
              " ['qué', 'hay', 'necesidad', 'de', 'hacer'],\n",
              " ['acudiéronme', 'lágrimas', 'a', 'los', 'ojos'],\n",
              " ['el', 'pobre', 'y', 'apenas', 'la'],\n",
              " ['de', 'las', 'cuchillas', 'de', 'muchos'],\n",
              " ['aunque', 'le', 'costase', 'la', 'vida'],\n",
              " ['a', 'las', 'espadas', 'ni', 'hemos'],\n",
              " ['los', 'carros', 'formaban', 'todos', 'juntos'],\n",
              " ['pero', 'estáme', 'atento', 'y', 'mira'],\n",
              " ['gigante', 'aunque', 'más', 'tuvieron', 'que'],\n",
              " ['mí', 'todo', 'lo', 'que', 'quisieren'],\n",
              " ['arrodillado', 'ante', 'vuestra', 'sublimada', 'presencia'],\n",
              " ['encaminar', 'de', 'manera', 'vuestros', 'negocios'],\n",
              " ['las', 'continuas', 'lágrimas', 'no', 'me'],\n",
              " ['fue', 'lucifer', 'cuando', 'le', 'echaron'],\n",
              " ['había', 'hecho', 'pedazos', 'quedó', 'como'],\n",
              " ['y', 'pintados', 'pajarillos', 'con', 'sus'],\n",
              " ['y', 'les', 'dijese', 'lo', 'que'],\n",
              " ['acudieron', 'todos', 'a', 'ver', 'lo'],\n",
              " ['con', 'que', 'hacerlo', 'al', 'natural'],\n",
              " ['la', 'quiere', 'cumplir', 'y', 'aunque'],\n",
              " ['date', 'trecientos', 'o', 'cuatrocientos', 'azotes'],\n",
              " ['por', 'ser', 'muy', 'bueno', 'que'],\n",
              " ['yo', 'sé', 'rebuznar', 'maravillosamente', 'y'],\n",
              " ['burlas', 'como', 'lo', 'mostró', 'en'],\n",
              " ['ojos', 'della', 'y', 'de', 'cuando'],\n",
              " ['don', 'álvaro', 'tarfe', 'del', 'error'],\n",
              " ['que', 'me', 'limpie', 'que', 'el'],\n",
              " ['idas', 'en', 'casa', 'de', 'anselmo'],\n",
              " ['lo', 'menos', 'de', 'barato', 'como'],\n",
              " ['oficio', 'o', 'dignidad', 'que', 'se'],\n",
              " ['y', 'verás', 'cómo', 'te', 'digo'],\n",
              " ['y', 'tan', 'sublimado', 'que', 'no'],\n",
              " ['estos', 'razonamientos', 'gustosos', 'a', 'todos'],\n",
              " ['que', 'la', 'miraban', 'preguntó', 'don'],\n",
              " ['don', 'quijote', 'que', 'en', 'todo'],\n",
              " ['habló', 'fue', 'una', 'de', 'las'],\n",
              " ['buena', 'suerte', 'no', 'ayudara', 'a'],\n",
              " ['sin', 'sentido', 'alguno', 'y', 'echándole'],\n",
              " ['atentos', 'a', 'mirarle', 'sin', 'que'],\n",
              " ['por', 'encerrarlo', 'todo', 'en', 'breves'],\n",
              " ['que', 'no', 'aciertes', 'a', 'salir'],\n",
              " ['bastaba', 'el', 'ánimo', 'ni', 'lo'],\n",
              " ['y', 'allá', 'se', 'lo', 'hayan'],\n",
              " ['estienden', 'a', 'dejar', 'trocar', 'un'],\n",
              " ['día', 'y', 'aun', 'otros', 'cuatro'],\n",
              " ['imaginando', 'algún', 'día', 'será', 'menester'],\n",
              " ['y', 'hazañas', 'para', 'que', 'otros'],\n",
              " ['que', 'gusta', 'que', 'nadie', 'se'],\n",
              " ['podía', 'temer', 'a', 'lo', 'cual'],\n",
              " ['don', 'quijote', 'y', 'conociéronle', 'tan'],\n",
              " ['que', 'ellos', 'piden', 'defendiéndola', 'con'],\n",
              " ['un', 'tal', 'de', 'avellaneda', 'natural'],\n",
              " ['ahí', 'dijo', 'el', 'del', 'bosque'],\n",
              " ['y', 'asimismo', 'le', 'podréis', 'decir'],\n",
              " ['fernando', 'dio', 'priesa', 'por', 'partirse'],\n",
              " ['justicia', 'y', 'tan', 'auténticamente', 'aquel'],\n",
              " ['si', 'fueran', 'ladrones', 'no', 'se'],\n",
              " ['replicó', 'sancho', 'dígote', 'ricote', 'amigo'],\n",
              " ['haría', 'de', 'suerte', 'que', 'se'],\n",
              " ['se', 'aventaja', 'en', 'belleza', 'a'],\n",
              " ['en', 'tan', 'impertinente', 'huida', 'porque'],\n",
              " ['cuando', 'vio', 'su', 'adeliño', 'y'],\n",
              " ['el', 'vencido', 'y', 'asendereado', 'don'],\n",
              " ['nos', 'convidaba', 'con', 'el', 'suyo'],\n",
              " ['dos', 'con', 'recíproca', 'amistad', 'se'],\n",
              " ['muy', 'mal', 'arte', 'aunque', 'no'],\n",
              " ['lugar', 'tan', 'acomodado', 'a', 'hallar'],\n",
              " ['él', 'se', 'encierra', 'y', 'cifra'],\n",
              " ['celos', 'de', 'ti', 'que', 'tú'],\n",
              " ['españa', 'es', 'verdad', 'todavía', 'yo'],\n",
              " ['don', 'quijote', 'la', 'pendencia', 'que'],\n",
              " ['y', 'acarrea', 'la', 'muerte', 'todas'],\n",
              " ['yo', 'he', 'dicho', 'y', 'juro'],\n",
              " ['dióselo', 'diciéndoles', 'por', 'señas', 'que'],\n",
              " ['tomó', 'la', 'mano', 'y', 'en'],\n",
              " ['entró', 'en', 'la', 'galera', 'cuando'],\n",
              " ['más', 'fantasmas', 'que', 'sean', 'dijo'],\n",
              " ['merced', 'pueda', 'hablarla', 'ni', 'verse'],\n",
              " ['en', 'la', 'mitad', 'del', 'camino'],\n",
              " ['manera', 'yo', 'os', 'agradezco', 'señor'],\n",
              " ['que', 'en', 'esta', 'ínsula', 'no'],\n",
              " ['suspendió', 'a', 'don', 'fernando', 'y'],\n",
              " ['de', 'las', 'niñas', 'de', 'sus'],\n",
              " ['allí', 'me', 'hallaréis', 'donde', 'os'],\n",
              " ['amo', 'velando', 'capítulo', 'lxviii', 'de'],\n",
              " ['mala', 'mujer', 'cristiana', 'y', 'es'],\n",
              " ['y', 'sean', 'testigos', 'desta', 'verdad'],\n",
              " ['traidor', 'que', 'contra', 'todo', 'derecho'],\n",
              " ['daría', 'aliento', 'para', 'confesarse', 'en'],\n",
              " ['había', 'muerto', 'su', 'madre', 'y'],\n",
              " ['y', 'lo', 'que', 'tocaba', 'porque'],\n",
              " ['quien', 'respondían', 'los', 'que', 'estaban'],\n",
              " ['díjole', 'don', 'quijote', 'que', 'contase'],\n",
              " ['cerrada', 'con', 'una', 'cadenilla', 'y'],\n",
              " ['uno', 'lo', 'que', 'es', 'suyo'],\n",
              " ['el', 'cual', 'vicente', 'venía', 'de'],\n",
              " ['sino', 'que', 'por', 'decir', 'que'],\n",
              " ['una', 'noche', 'a', 'la', 'luz'],\n",
              " ['la', 'transformaron', 'y', 'volvieron', 'en'],\n",
              " ['a', 'entender', 'que', 'había', 'de'],\n",
              " ['un', 'famoso', 'poeta', 'destos', 'reinos'],\n",
              " ['de', 'otras', 'mesas', 'donde', 'me'],\n",
              " ['sancho', 'dijo', 'don', 'quijote', 'mil'],\n",
              " ['iglesia', 'o', 'navegue', 'ejercitando', 'el'],\n",
              " ['valer', 'al', 'hijo', 'la', 'bondad'],\n",
              " ['monacillo', 'que', 'sabía', 'escribir', 'el'],\n",
              " ['truje', 'o', 'no', 'truje', 'si'],\n",
              " ['las', 'mil', 'lindezas', 'dejándole', 'mejorado'],\n",
              " ['el', 'caso', 'es', 'de', 'importancia'],\n",
              " ['escudos', 'de', 'oro', 'que', 'en'],\n",
              " ...]"
            ]
          },
          "metadata": {},
          "execution_count": 11
        }
      ]
    },
    {
      "cell_type": "markdown",
      "source": [
        "En este caso, me di cuenta de que en uno de las características que no se habían filatrado era el punto y coma, me di cuenta y antes de seguir pues lo añadí a la lista de características no deseadas."
      ],
      "metadata": {
        "id": "R6iKLH73nVzQ"
      }
    },
    {
      "cell_type": "markdown",
      "source": [
        "# Creamos el modelo"
      ],
      "metadata": {
        "id": "0VM-dvEzmf-c"
      }
    },
    {
      "cell_type": "markdown",
      "source": [
        "Importamos el modelo word2vec"
      ],
      "metadata": {
        "id": "juPtczxfmnVT"
      }
    },
    {
      "cell_type": "code",
      "source": [
        "from gensim.models import Word2Vec\n",
        "model = Word2Vec(newsVec,min_count=1,vector_size=32)"
      ],
      "metadata": {
        "id": "5RSyU_-UmkP0"
      },
      "execution_count": 12,
      "outputs": []
    },
    {
      "cell_type": "markdown",
      "source": [
        "Aquí también me dio un fallo, aunque era más bien por temas de versión. En este caso, tuve que cambiar el parámetro **size** por **vector size**. Por otro lado, no entendía para que servía el **min_count** y bueno me parece importante indicar que es un parámetro que indica cuantas veces debe aparecer una palabra para poder ser incluida en el modelo, en este caso por defecto esta puesta en 1, es decir que todas pueden ser usadas."
      ],
      "metadata": {
        "id": "hVdV8L-Yn4CK"
      }
    },
    {
      "cell_type": "code",
      "source": [
        "#Vemos el vector de cualquier palabra\n",
        "model.wv[\"caballero\"]"
      ],
      "metadata": {
        "colab": {
          "base_uri": "https://localhost:8080/"
        },
        "id": "nO8XnyW_ottp",
        "outputId": "8eff926c-c9ce-4707-afc5-b602a1580bef"
      },
      "execution_count": 13,
      "outputs": [
        {
          "output_type": "execute_result",
          "data": {
            "text/plain": [
              "array([-0.43750364, -0.8821288 ,  0.636035  ,  0.7817121 ,  0.37992623,\n",
              "       -0.6697675 ,  0.9843641 ,  0.4509089 , -0.26649204,  0.3525724 ,\n",
              "        0.75283694, -0.7382355 ,  0.5252056 , -0.6217387 , -0.24697876,\n",
              "        0.39434132, -0.22025648,  0.8736286 , -0.30933324,  0.3845086 ,\n",
              "        1.1636933 ,  1.5162797 ,  1.7234327 , -0.085145  ,  0.4494232 ,\n",
              "        0.04075314, -1.1647332 ,  0.06514525,  0.45351535, -1.0334464 ,\n",
              "       -0.4744515 ,  0.5249122 ], dtype=float32)"
            ]
          },
          "metadata": {},
          "execution_count": 13
        }
      ]
    },
    {
      "cell_type": "markdown",
      "source": [
        "Ahora toca una de las partes que más me gustan, y es la de ver las palabras similares"
      ],
      "metadata": {
        "id": "C-Uwc7KjpInB"
      }
    },
    {
      "cell_type": "code",
      "source": [
        "model.wv.most_similar(\"caballero\")"
      ],
      "metadata": {
        "colab": {
          "base_uri": "https://localhost:8080/"
        },
        "id": "lac0cD4IpA2B",
        "outputId": "5bc96fcd-070f-4f5e-eddb-eac219262758"
      },
      "execution_count": 14,
      "outputs": [
        {
          "output_type": "execute_result",
          "data": {
            "text/plain": [
              "[('gobernador', 0.9958556890487671),\n",
              " ('mío', 0.9957267642021179),\n",
              " ('duque', 0.9950684309005737),\n",
              " ('sansón', 0.9943887591362),\n",
              " ('dios', 0.992843747138977),\n",
              " ('famoso', 0.9925079345703125),\n",
              " ('diciéndole', 0.9917805790901184),\n",
              " ('preguntó', 0.9917787909507751),\n",
              " ('hidalgo', 0.9917699694633484),\n",
              " ('pues', 0.9915176630020142)]"
            ]
          },
          "metadata": {},
          "execution_count": 14
        }
      ]
    },
    {
      "cell_type": "markdown",
      "source": [
        "Como vemos, muchas de las palabras que vemos concuerdan con la palabra caballero, como lo es caballería o hombre. En esta línea tuve otro problema, esta vez con la versión del gensim, lo arreglé y funcionó enseguida."
      ],
      "metadata": {
        "id": "qwz4vHTqqCT4"
      }
    },
    {
      "cell_type": "markdown",
      "source": [
        "# Definición de X e y"
      ],
      "metadata": {
        "id": "ZjwrXfxkquZl"
      }
    },
    {
      "cell_type": "markdown",
      "source": [
        "Para esta tarea, usaremos embedings."
      ],
      "metadata": {
        "id": "ePVPIdcQq9v_"
      }
    },
    {
      "cell_type": "code",
      "source": [
        "NUM_SEQUENCES = len(sequences)\n",
        "X = np.zeros((NUM_SEQUENCES, SEQ_LENGTH, 32))\n",
        "y = np.zeros((NUM_SEQUENCES, len(palabras_unicas)))"
      ],
      "metadata": {
        "id": "jo366wllqmVe"
      },
      "execution_count": 15,
      "outputs": []
    },
    {
      "cell_type": "code",
      "source": [
        "#Codificación de la y\n",
        "for k in range(NUM_SEQUENCES):\n",
        "  palabra=next_words[k]\n",
        "  y[k,word_index[palabra]]=1 #codificación ONE-HOT"
      ],
      "metadata": {
        "id": "GRyVuqmZsEfc"
      },
      "execution_count": 16,
      "outputs": []
    },
    {
      "cell_type": "code",
      "source": [
        "#Codificación de la X\n",
        "for k in range(NUM_SEQUENCES):\n",
        "  for w in range(SEQ_LENGTH):\n",
        "    word=sequences[k][w]\n",
        "    X[k,w]=model.wv[word]"
      ],
      "metadata": {
        "id": "KejmDdc_sKKw"
      },
      "execution_count": 17,
      "outputs": []
    },
    {
      "cell_type": "markdown",
      "source": [
        "# Terminamos el modelo"
      ],
      "metadata": {
        "id": "HWpRKS5LsYoe"
      }
    },
    {
      "cell_type": "markdown",
      "source": [
        "Ya queda poco para terminar, lo siguiente a hacer es definir el modelo que vamos a utilizar como lo son su tipo, tamaño y capas. En este caso, solo hay 2 capas."
      ],
      "metadata": {
        "id": "DIcB4UcPsmgc"
      }
    },
    {
      "cell_type": "code",
      "source": [
        "vocabulary_size=len(palabras_unicas)\n",
        "model=Sequential()\n",
        "model.add(LSTM(128, input_shape=(SEQ_LENGTH,32)))\n",
        "model.add(Dense(vocabulary_size,activation='softmax'))\n",
        "print(model.summary())"
      ],
      "metadata": {
        "colab": {
          "base_uri": "https://localhost:8080/"
        },
        "id": "EOp5H6ZTscdu",
        "outputId": "79df2a10-c4f3-4115-fd67-ba1803cd0df7"
      },
      "execution_count": 18,
      "outputs": [
        {
          "output_type": "stream",
          "name": "stdout",
          "text": [
            "Model: \"sequential\"\n",
            "_________________________________________________________________\n",
            " Layer (type)                Output Shape              Param #   \n",
            "=================================================================\n",
            " lstm (LSTM)                 (None, 128)               82432     \n",
            "                                                                 \n",
            " dense (Dense)               (None, 22949)             2960421   \n",
            "                                                                 \n",
            "=================================================================\n",
            "Total params: 3042853 (11.61 MB)\n",
            "Trainable params: 3042853 (11.61 MB)\n",
            "Non-trainable params: 0 (0.00 Byte)\n",
            "_________________________________________________________________\n",
            "None\n"
          ]
        }
      ]
    },
    {
      "cell_type": "markdown",
      "source": [
        "Compilamos el modelo antes de entrenarlo. Usaremos el optimizador adam para esta tarea y la metrica para saber si el modelo va bien será el accuracy."
      ],
      "metadata": {
        "id": "JKX0IwB5s-9Y"
      }
    },
    {
      "cell_type": "code",
      "source": [
        "optimizer='adam'\n",
        "model.compile(loss='categorical_crossentropy',optimizer=optimizer,metrics=['accuracy'])"
      ],
      "metadata": {
        "id": "rdKj_XbutBTJ"
      },
      "execution_count": 19,
      "outputs": []
    },
    {
      "cell_type": "markdown",
      "source": [
        "Entrenamos el modelo, esto puede tardar un poco. Usamos como variables de los datos la X y y que creamos antes, con un poquito de porcentaje para los datos de validación, con solo 1 epoca y por último que los datos esten mesclados para un mejor entrenamiento."
      ],
      "metadata": {
        "id": "2twskHvWtOLG"
      }
    },
    {
      "cell_type": "code",
      "source": [
        "history=model.fit(X,y, validation_split=0.05, batch_size=128, epochs=1,shuffle=True)"
      ],
      "metadata": {
        "colab": {
          "base_uri": "https://localhost:8080/"
        },
        "id": "HcuO8Lsis4e5",
        "outputId": "bd937ed3-57fa-4c54-fa3e-7a47e0e2e27f"
      },
      "execution_count": 20,
      "outputs": [
        {
          "output_type": "stream",
          "name": "stdout",
          "text": [
            "231/231 [==============================] - 36s 144ms/step - loss: 7.2415 - accuracy: 0.0506 - val_loss: 6.8800 - val_accuracy: 0.0574\n"
          ]
        }
      ]
    }
  ]
}