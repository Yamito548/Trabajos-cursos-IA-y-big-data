{
  "cells": [
    {
      "cell_type": "markdown",
      "metadata": {
        "id": "view-in-github",
        "colab_type": "text"
      },
      "source": [
        "<a href=\"https://colab.research.google.com/github/Yamito548/Trabajos-cursos-IA-y-big-data/blob/main/Clasificaci%C3%B3n_de_im%C3%A1genes_(Carlos_act).ipynb\" target=\"_parent\"><img src=\"https://colab.research.google.com/assets/colab-badge.svg\" alt=\"Open In Colab\"/></a>"
      ]
    },
    {
      "cell_type": "markdown",
      "metadata": {
        "id": "eKcj_2-LMBhm"
      },
      "source": [
        "El dataset que vamos a utilizar esta sacado desde [kaggle](https://www.kaggle.com/datasets/niteshfre/chessman-image-dataset?resource=download). Básicamente lo que haremos será un ejercicio de clasificación usando redes reurnonales para la clasificación de piezas de ajedrez. También usé de  [ayuda](https://www.kaggle.com/code/hariharanalm/95-accuracy-tensorflow-chess)"
      ]
    },
    {
      "cell_type": "markdown",
      "metadata": {
        "id": "r6Q2FZP4M0Sw"
      },
      "source": [
        "# Cargamos los datos"
      ]
    },
    {
      "cell_type": "markdown",
      "metadata": {
        "id": "DFIpZlEjtWNk"
      },
      "source": [
        "Cargamos varias de las librerías que vamos a usar en este trabajo."
      ]
    },
    {
      "cell_type": "code",
      "execution_count": 1,
      "metadata": {
        "id": "TJsoSwSNDmrp"
      },
      "outputs": [],
      "source": [
        "import numpy as np\n",
        "import pandas as pd\n",
        "import os\n",
        "import cv2\n",
        "import matplotlib.pyplot as plt\n",
        "import seaborn as sns\n",
        "import tensorflow as tf\n",
        "import keras\n",
        "from keras.models import Model\n",
        "from keras.models import Sequential\n",
        "from keras.layers import *\n",
        "from tensorflow.keras import layers\n",
        "%matplotlib inline"
      ]
    },
    {
      "cell_type": "markdown",
      "metadata": {
        "id": "BXm8baPWP8TG"
      },
      "source": [
        "Tuve un pequeño problema a la hora de hacer esta parte, ya que me metía por defecto el archivo en root y no tenía los permisos para poder resolver ese problema pero usando **chatgpt** pues pude modificar la línea de carga de los datos para que poder indicarle dónde quería que estuviese exactamente, siendo en mi caso en /content. A pesar de lo anterior no paraba de darme problemas por lo que decidí usar la función de drive para que me funcione correctamente ya que por alguna razón no me leía bien ninguno de los formato de compresión que existen. Haciendo esto, si me dejaba descomprimir el archivo en cuestión."
      ]
    },
    {
      "cell_type": "markdown",
      "metadata": {
        "id": "Hmf37SkHBs4P"
      },
      "source": [
        "# EMPEZAMOS"
      ]
    },
    {
      "cell_type": "code",
      "execution_count": null,
      "metadata": {
        "id": "_DviInScNKuw"
      },
      "outputs": [],
      "source": [
        "#Cargamos los datos de entrenamiento.\n",
        "from google.colab import drive\n",
        "#Montamos mi unidad de drive.\n",
        "drive.mount('/content/drive')\n",
        "#Descomprimimos el archivo zip\n",
        "!unzip /content/drive/MyDrive/rar/ajedrez.zip -d /content"
      ]
    },
    {
      "cell_type": "markdown",
      "metadata": {
        "id": "BFOAPTafEiZk"
      },
      "source": [
        "En esta parte, vemos cuantas fotos y sus formatos hay. Por simple curiosidad y ver si había mucha diferencia en temas de cantidad siendo que sí, ya que hay muchas más fotos con formato **jpg** que con **png**."
      ]
    },
    {
      "cell_type": "markdown",
      "metadata": {
        "id": "kN5GXnShBnWH"
      },
      "source": [
        "# OTRO METODO DE PRUEBA"
      ]
    },
    {
      "cell_type": "code",
      "execution_count": 3,
      "metadata": {
        "id": "hQjUYhQN1Q-X"
      },
      "outputs": [],
      "source": [
        "#Almacenamos la ruta para guardar las imágenes.\n",
        "ruta = []\n",
        "\n",
        "#Recorremos las carpetas que tienen las imágenes\n",
        "for dirname, _, filenames in os.walk(\"/content/Chessman-image-dataset\"):\n",
        "  for filename in filenames:\n",
        "    ruta.append(os.path.join(dirname,filename))\n",
        "\n",
        "#Creamos el dataset\n",
        "ruta = pd.DataFrame(ruta, columns=[\"Imagen\"])"
      ]
    },
    {
      "cell_type": "markdown",
      "metadata": {
        "id": "Dof_7aUb3Syg"
      },
      "source": [
        "En esta parte, lo que hago es una mejora del anterior código. Añado una lista y un bucle, en el bucle guardo, el nombre del directorio principal, los nombres de las subcarpetas (las etiquetas) y por último el nombre de las imágenes. Ya en la otra parte del bucle, recorremos el subdirectorio actual y añadimos los nombres de las imágenes. Además con la parte del os.path.jpin lo que haremos será juntar la ruta del archivo junto a su nombre."
      ]
    },
    {
      "cell_type": "markdown",
      "metadata": {
        "id": "wWDA48AP-ST1"
      },
      "source": [
        "Ahora junto al dataset de imágenes, vamos a añadir sus categorías."
      ]
    },
    {
      "cell_type": "code",
      "execution_count": 4,
      "metadata": {
        "id": "5f_UXiqY-aVL"
      },
      "outputs": [],
      "source": [
        "clases_dataset = []\n",
        "\n",
        "for paths in ruta['Imagen']:\n",
        "  m=paths.split('/')\n",
        "  if len(m) <=8:\n",
        "    for i in range(len(m)):\n",
        "      if m[i] == 'Chessman-image-dataset':\n",
        "        clases_dataset.append(m[i+1])\n",
        "clases_dataset= pd.DataFrame(clases_dataset, columns=['Categoría'])"
      ]
    },
    {
      "cell_type": "markdown",
      "metadata": {
        "id": "XXj55yNDAYFW"
      },
      "source": [
        "Aquí tuve un error importante, ya que esta parte **\"if m[i] == 'Chessman-image-dataset':\"** puse un nombre que no era, y por lo tanto a la hora de crear el dataframe, me daba bien en el sentiedo de que me lo creaba pero en la categoría me salía todo el rato NaN, por lo que al menos sabía que no era problema de un código erroneo en sí sino que había alguna variable mal escrita."
      ]
    },
    {
      "cell_type": "code",
      "execution_count": 5,
      "metadata": {
        "colab": {
          "base_uri": "https://localhost:8080/",
          "height": 424
        },
        "id": "-qsMLTt93C-8",
        "outputId": "a683a42e-9e06-43f0-94f8-82393ac79c5e"
      },
      "outputs": [
        {
          "output_type": "execute_result",
          "data": {
            "text/plain": [
              "                                                Imagen Categoría\n",
              "0    /content/Chessman-image-dataset/Knight/0000008...    Knight\n",
              "1    /content/Chessman-image-dataset/Knight/0000014...    Knight\n",
              "2    /content/Chessman-image-dataset/Knight/0000009...    Knight\n",
              "3    /content/Chessman-image-dataset/Knight/0000017...    Knight\n",
              "4    /content/Chessman-image-dataset/Knight/0000004...    Knight\n",
              "..                                                 ...       ...\n",
              "551  /content/Chessman-image-dataset/King/00000003.jpg      King\n",
              "552  /content/Chessman-image-dataset/King/00000056.jpg      King\n",
              "553  /content/Chessman-image-dataset/King/00000069.jpg      King\n",
              "554  /content/Chessman-image-dataset/King/00000194.jpg      King\n",
              "555  /content/Chessman-image-dataset/King/00000087.jpg      King\n",
              "\n",
              "[556 rows x 2 columns]"
            ],
            "text/html": [
              "\n",
              "  <div id=\"df-44d037c7-19f5-4a2a-8b62-2ba245f5994d\" class=\"colab-df-container\">\n",
              "    <div>\n",
              "<style scoped>\n",
              "    .dataframe tbody tr th:only-of-type {\n",
              "        vertical-align: middle;\n",
              "    }\n",
              "\n",
              "    .dataframe tbody tr th {\n",
              "        vertical-align: top;\n",
              "    }\n",
              "\n",
              "    .dataframe thead th {\n",
              "        text-align: right;\n",
              "    }\n",
              "</style>\n",
              "<table border=\"1\" class=\"dataframe\">\n",
              "  <thead>\n",
              "    <tr style=\"text-align: right;\">\n",
              "      <th></th>\n",
              "      <th>Imagen</th>\n",
              "      <th>Categoría</th>\n",
              "    </tr>\n",
              "  </thead>\n",
              "  <tbody>\n",
              "    <tr>\n",
              "      <th>0</th>\n",
              "      <td>/content/Chessman-image-dataset/Knight/0000008...</td>\n",
              "      <td>Knight</td>\n",
              "    </tr>\n",
              "    <tr>\n",
              "      <th>1</th>\n",
              "      <td>/content/Chessman-image-dataset/Knight/0000014...</td>\n",
              "      <td>Knight</td>\n",
              "    </tr>\n",
              "    <tr>\n",
              "      <th>2</th>\n",
              "      <td>/content/Chessman-image-dataset/Knight/0000009...</td>\n",
              "      <td>Knight</td>\n",
              "    </tr>\n",
              "    <tr>\n",
              "      <th>3</th>\n",
              "      <td>/content/Chessman-image-dataset/Knight/0000017...</td>\n",
              "      <td>Knight</td>\n",
              "    </tr>\n",
              "    <tr>\n",
              "      <th>4</th>\n",
              "      <td>/content/Chessman-image-dataset/Knight/0000004...</td>\n",
              "      <td>Knight</td>\n",
              "    </tr>\n",
              "    <tr>\n",
              "      <th>...</th>\n",
              "      <td>...</td>\n",
              "      <td>...</td>\n",
              "    </tr>\n",
              "    <tr>\n",
              "      <th>551</th>\n",
              "      <td>/content/Chessman-image-dataset/King/00000003.jpg</td>\n",
              "      <td>King</td>\n",
              "    </tr>\n",
              "    <tr>\n",
              "      <th>552</th>\n",
              "      <td>/content/Chessman-image-dataset/King/00000056.jpg</td>\n",
              "      <td>King</td>\n",
              "    </tr>\n",
              "    <tr>\n",
              "      <th>553</th>\n",
              "      <td>/content/Chessman-image-dataset/King/00000069.jpg</td>\n",
              "      <td>King</td>\n",
              "    </tr>\n",
              "    <tr>\n",
              "      <th>554</th>\n",
              "      <td>/content/Chessman-image-dataset/King/00000194.jpg</td>\n",
              "      <td>King</td>\n",
              "    </tr>\n",
              "    <tr>\n",
              "      <th>555</th>\n",
              "      <td>/content/Chessman-image-dataset/King/00000087.jpg</td>\n",
              "      <td>King</td>\n",
              "    </tr>\n",
              "  </tbody>\n",
              "</table>\n",
              "<p>556 rows × 2 columns</p>\n",
              "</div>\n",
              "    <div class=\"colab-df-buttons\">\n",
              "\n",
              "  <div class=\"colab-df-container\">\n",
              "    <button class=\"colab-df-convert\" onclick=\"convertToInteractive('df-44d037c7-19f5-4a2a-8b62-2ba245f5994d')\"\n",
              "            title=\"Convert this dataframe to an interactive table.\"\n",
              "            style=\"display:none;\">\n",
              "\n",
              "  <svg xmlns=\"http://www.w3.org/2000/svg\" height=\"24px\" viewBox=\"0 -960 960 960\">\n",
              "    <path d=\"M120-120v-720h720v720H120Zm60-500h600v-160H180v160Zm220 220h160v-160H400v160Zm0 220h160v-160H400v160ZM180-400h160v-160H180v160Zm440 0h160v-160H620v160ZM180-180h160v-160H180v160Zm440 0h160v-160H620v160Z\"/>\n",
              "  </svg>\n",
              "    </button>\n",
              "\n",
              "  <style>\n",
              "    .colab-df-container {\n",
              "      display:flex;\n",
              "      gap: 12px;\n",
              "    }\n",
              "\n",
              "    .colab-df-convert {\n",
              "      background-color: #E8F0FE;\n",
              "      border: none;\n",
              "      border-radius: 50%;\n",
              "      cursor: pointer;\n",
              "      display: none;\n",
              "      fill: #1967D2;\n",
              "      height: 32px;\n",
              "      padding: 0 0 0 0;\n",
              "      width: 32px;\n",
              "    }\n",
              "\n",
              "    .colab-df-convert:hover {\n",
              "      background-color: #E2EBFA;\n",
              "      box-shadow: 0px 1px 2px rgba(60, 64, 67, 0.3), 0px 1px 3px 1px rgba(60, 64, 67, 0.15);\n",
              "      fill: #174EA6;\n",
              "    }\n",
              "\n",
              "    .colab-df-buttons div {\n",
              "      margin-bottom: 4px;\n",
              "    }\n",
              "\n",
              "    [theme=dark] .colab-df-convert {\n",
              "      background-color: #3B4455;\n",
              "      fill: #D2E3FC;\n",
              "    }\n",
              "\n",
              "    [theme=dark] .colab-df-convert:hover {\n",
              "      background-color: #434B5C;\n",
              "      box-shadow: 0px 1px 3px 1px rgba(0, 0, 0, 0.15);\n",
              "      filter: drop-shadow(0px 1px 2px rgba(0, 0, 0, 0.3));\n",
              "      fill: #FFFFFF;\n",
              "    }\n",
              "  </style>\n",
              "\n",
              "    <script>\n",
              "      const buttonEl =\n",
              "        document.querySelector('#df-44d037c7-19f5-4a2a-8b62-2ba245f5994d button.colab-df-convert');\n",
              "      buttonEl.style.display =\n",
              "        google.colab.kernel.accessAllowed ? 'block' : 'none';\n",
              "\n",
              "      async function convertToInteractive(key) {\n",
              "        const element = document.querySelector('#df-44d037c7-19f5-4a2a-8b62-2ba245f5994d');\n",
              "        const dataTable =\n",
              "          await google.colab.kernel.invokeFunction('convertToInteractive',\n",
              "                                                    [key], {});\n",
              "        if (!dataTable) return;\n",
              "\n",
              "        const docLinkHtml = 'Like what you see? Visit the ' +\n",
              "          '<a target=\"_blank\" href=https://colab.research.google.com/notebooks/data_table.ipynb>data table notebook</a>'\n",
              "          + ' to learn more about interactive tables.';\n",
              "        element.innerHTML = '';\n",
              "        dataTable['output_type'] = 'display_data';\n",
              "        await google.colab.output.renderOutput(dataTable, element);\n",
              "        const docLink = document.createElement('div');\n",
              "        docLink.innerHTML = docLinkHtml;\n",
              "        element.appendChild(docLink);\n",
              "      }\n",
              "    </script>\n",
              "  </div>\n",
              "\n",
              "\n",
              "<div id=\"df-56f5e8ea-9cfb-411f-9ff8-9d8af787117d\">\n",
              "  <button class=\"colab-df-quickchart\" onclick=\"quickchart('df-56f5e8ea-9cfb-411f-9ff8-9d8af787117d')\"\n",
              "            title=\"Suggest charts\"\n",
              "            style=\"display:none;\">\n",
              "\n",
              "<svg xmlns=\"http://www.w3.org/2000/svg\" height=\"24px\"viewBox=\"0 0 24 24\"\n",
              "     width=\"24px\">\n",
              "    <g>\n",
              "        <path d=\"M19 3H5c-1.1 0-2 .9-2 2v14c0 1.1.9 2 2 2h14c1.1 0 2-.9 2-2V5c0-1.1-.9-2-2-2zM9 17H7v-7h2v7zm4 0h-2V7h2v10zm4 0h-2v-4h2v4z\"/>\n",
              "    </g>\n",
              "</svg>\n",
              "  </button>\n",
              "\n",
              "<style>\n",
              "  .colab-df-quickchart {\n",
              "      --bg-color: #E8F0FE;\n",
              "      --fill-color: #1967D2;\n",
              "      --hover-bg-color: #E2EBFA;\n",
              "      --hover-fill-color: #174EA6;\n",
              "      --disabled-fill-color: #AAA;\n",
              "      --disabled-bg-color: #DDD;\n",
              "  }\n",
              "\n",
              "  [theme=dark] .colab-df-quickchart {\n",
              "      --bg-color: #3B4455;\n",
              "      --fill-color: #D2E3FC;\n",
              "      --hover-bg-color: #434B5C;\n",
              "      --hover-fill-color: #FFFFFF;\n",
              "      --disabled-bg-color: #3B4455;\n",
              "      --disabled-fill-color: #666;\n",
              "  }\n",
              "\n",
              "  .colab-df-quickchart {\n",
              "    background-color: var(--bg-color);\n",
              "    border: none;\n",
              "    border-radius: 50%;\n",
              "    cursor: pointer;\n",
              "    display: none;\n",
              "    fill: var(--fill-color);\n",
              "    height: 32px;\n",
              "    padding: 0;\n",
              "    width: 32px;\n",
              "  }\n",
              "\n",
              "  .colab-df-quickchart:hover {\n",
              "    background-color: var(--hover-bg-color);\n",
              "    box-shadow: 0 1px 2px rgba(60, 64, 67, 0.3), 0 1px 3px 1px rgba(60, 64, 67, 0.15);\n",
              "    fill: var(--button-hover-fill-color);\n",
              "  }\n",
              "\n",
              "  .colab-df-quickchart-complete:disabled,\n",
              "  .colab-df-quickchart-complete:disabled:hover {\n",
              "    background-color: var(--disabled-bg-color);\n",
              "    fill: var(--disabled-fill-color);\n",
              "    box-shadow: none;\n",
              "  }\n",
              "\n",
              "  .colab-df-spinner {\n",
              "    border: 2px solid var(--fill-color);\n",
              "    border-color: transparent;\n",
              "    border-bottom-color: var(--fill-color);\n",
              "    animation:\n",
              "      spin 1s steps(1) infinite;\n",
              "  }\n",
              "\n",
              "  @keyframes spin {\n",
              "    0% {\n",
              "      border-color: transparent;\n",
              "      border-bottom-color: var(--fill-color);\n",
              "      border-left-color: var(--fill-color);\n",
              "    }\n",
              "    20% {\n",
              "      border-color: transparent;\n",
              "      border-left-color: var(--fill-color);\n",
              "      border-top-color: var(--fill-color);\n",
              "    }\n",
              "    30% {\n",
              "      border-color: transparent;\n",
              "      border-left-color: var(--fill-color);\n",
              "      border-top-color: var(--fill-color);\n",
              "      border-right-color: var(--fill-color);\n",
              "    }\n",
              "    40% {\n",
              "      border-color: transparent;\n",
              "      border-right-color: var(--fill-color);\n",
              "      border-top-color: var(--fill-color);\n",
              "    }\n",
              "    60% {\n",
              "      border-color: transparent;\n",
              "      border-right-color: var(--fill-color);\n",
              "    }\n",
              "    80% {\n",
              "      border-color: transparent;\n",
              "      border-right-color: var(--fill-color);\n",
              "      border-bottom-color: var(--fill-color);\n",
              "    }\n",
              "    90% {\n",
              "      border-color: transparent;\n",
              "      border-bottom-color: var(--fill-color);\n",
              "    }\n",
              "  }\n",
              "</style>\n",
              "\n",
              "  <script>\n",
              "    async function quickchart(key) {\n",
              "      const quickchartButtonEl =\n",
              "        document.querySelector('#' + key + ' button');\n",
              "      quickchartButtonEl.disabled = true;  // To prevent multiple clicks.\n",
              "      quickchartButtonEl.classList.add('colab-df-spinner');\n",
              "      try {\n",
              "        const charts = await google.colab.kernel.invokeFunction(\n",
              "            'suggestCharts', [key], {});\n",
              "      } catch (error) {\n",
              "        console.error('Error during call to suggestCharts:', error);\n",
              "      }\n",
              "      quickchartButtonEl.classList.remove('colab-df-spinner');\n",
              "      quickchartButtonEl.classList.add('colab-df-quickchart-complete');\n",
              "    }\n",
              "    (() => {\n",
              "      let quickchartButtonEl =\n",
              "        document.querySelector('#df-56f5e8ea-9cfb-411f-9ff8-9d8af787117d button');\n",
              "      quickchartButtonEl.style.display =\n",
              "        google.colab.kernel.accessAllowed ? 'block' : 'none';\n",
              "    })();\n",
              "  </script>\n",
              "</div>\n",
              "    </div>\n",
              "  </div>\n"
            ],
            "application/vnd.google.colaboratory.intrinsic+json": {
              "type": "dataframe",
              "variable_name": "data",
              "summary": "{\n  \"name\": \"data\",\n  \"rows\": 556,\n  \"fields\": [\n    {\n      \"column\": \"Imagen\",\n      \"properties\": {\n        \"dtype\": \"string\",\n        \"num_unique_values\": 556,\n        \"samples\": [\n          \"/content/Chessman-image-dataset/Rook/00000171.jpg\",\n          \"/content/Chessman-image-dataset/Pawn/00000116.jpg\",\n          \"/content/Chessman-image-dataset/Knight/00000079.jpg\"\n        ],\n        \"semantic_type\": \"\",\n        \"description\": \"\"\n      }\n    },\n    {\n      \"column\": \"Categor\\u00eda\",\n      \"properties\": {\n        \"dtype\": \"category\",\n        \"num_unique_values\": 6,\n        \"samples\": [\n          \"Knight\",\n          \"Pawn\",\n          \"King\"\n        ],\n        \"semantic_type\": \"\",\n        \"description\": \"\"\n      }\n    }\n  ]\n}"
            }
          },
          "metadata": {},
          "execution_count": 5
        }
      ],
      "source": [
        "#Vemos el dataset con las imágenes.\n",
        "data=pd.concat([ruta,clases_dataset],axis=1)\n",
        "data"
      ]
    },
    {
      "cell_type": "code",
      "execution_count": 6,
      "metadata": {
        "colab": {
          "base_uri": "https://localhost:8080/"
        },
        "id": "O5e2xbt7CBo6",
        "outputId": "019824bf-dde3-491f-885a-86038144d2b6"
      },
      "outputs": [
        {
          "output_type": "stream",
          "name": "stdout",
          "text": [
            "La cantidad de archivos de /content/Chessman-image-dataset es de 0\n",
            "La cantidad de archivos de /content/Chessman-image-dataset/Knight es de 106\n",
            "La cantidad de archivos de /content/Chessman-image-dataset/Pawn es de 107\n",
            "La cantidad de archivos de /content/Chessman-image-dataset/Queen es de 78\n",
            "La cantidad de archivos de /content/Chessman-image-dataset/Bishop es de 87\n",
            "La cantidad de archivos de /content/Chessman-image-dataset/Rook es de 102\n",
            "La cantidad de archivos de /content/Chessman-image-dataset/King es de 76\n",
            "La cantidad total de archivos en todos los directorios es de 556\n"
          ]
        }
      ],
      "source": [
        "import os\n",
        "\n",
        "# Directorio raíz que deseas recorrer\n",
        "directorio_raiz = '/content/Chessman-image-dataset'\n",
        "\n",
        "# Inicializar un contador para el total de archivos\n",
        "total_archivos = 0\n",
        "\n",
        "# Recorrer el directorio raíz y sus subdirectorios\n",
        "for directorios, _, name_files in os.walk(directorio_raiz):\n",
        "  num_archivos = len(name_files)\n",
        "\n",
        "  print(f\"La cantidad de archivos de {directorios} es de {num_archivos}\")\n",
        "\n",
        "  total_archivos+=num_archivos\n",
        "\n",
        "print(f\"La cantidad total de archivos en todos los directorios es de {total_archivos}\")"
      ]
    },
    {
      "cell_type": "markdown",
      "metadata": {
        "id": "8_sf5HE-CvfR"
      },
      "source": [
        "Tenía duda de cuantos archivos había por cada subcarpeta, y como pensaba, el bucle se para en la subcarpeta **Pawn**. Por lo que el total de archivos es mayor que 556, pero al no recorrer esas carpetas no cuenta. Quice hacer una prueba, para comprobar si había algún problema más por lo que no recorría el bucle por lo que en este mismo código indiqué que me contará solo las dos últimas subcarpetas, dandome que en la de **Queen** había 78 archivo y en la de **Rook** 102.Dando un total real de 736 archivos. Puede que la diferencia entre las cantidades de las imágenes lleve a un rendimiento algo bajo."
      ]
    },
    {
      "cell_type": "code",
      "execution_count": 7,
      "metadata": {
        "colab": {
          "base_uri": "https://localhost:8080/"
        },
        "id": "3yOztMxwIwMh",
        "outputId": "3ac76fe0-54a7-4ae8-a65f-34dfee89e770"
      },
      "outputs": [
        {
          "output_type": "execute_result",
          "data": {
            "text/plain": [
              "array(['Knight', 'Pawn', 'Queen', 'Bishop', 'Rook', 'King'], dtype=object)"
            ]
          },
          "metadata": {},
          "execution_count": 7
        }
      ],
      "source": [
        "categorias_diferentes = data['Categoría'].unique()\n",
        "categorias_diferentes"
      ]
    },
    {
      "cell_type": "markdown",
      "metadata": {
        "id": "3tCharMGIxi9"
      },
      "source": [
        "Aunque buscando las categorías dentro de mi dataset, veo que estan todas las categorías y más adelante podremos ver que si que hay imágenes de las categorías las cuales supuestamente no habían entrado. Eso sí, no estoy seguro de que se hayan almacenado todas las que posee pero apriori todo va bien."
      ]
    },
    {
      "cell_type": "markdown",
      "metadata": {
        "id": "nGEb37rNFgGu"
      },
      "source": [
        "# Vemos imágenes almacenadas del dataset"
      ]
    },
    {
      "cell_type": "code",
      "execution_count": 8,
      "metadata": {
        "colab": {
          "base_uri": "https://localhost:8080/",
          "height": 225
        },
        "id": "u1UVPg-dFkYy",
        "outputId": "7fa7b1eb-9809-46f0-97d9-2384a3db709d"
      },
      "outputs": [
        {
          "output_type": "display_data",
          "data": {
            "text/plain": [
              "<Figure size 700x700 with 3 Axes>"
            ],
            "image/png": "[encoded data removed]"
          },
          "metadata": {}
        }
      ],
      "source": [
        "#Guardamos 3 imágenes\n",
        "img1=cv2.imread(data['Imagen'][200])\n",
        "img2=cv2.imread(data['Imagen'][300])\n",
        "img3=cv2.imread(data['Imagen'][400])\n",
        "\n",
        "#Para la primera figura\n",
        "plt.figure(figsize=(7,7))\n",
        "plt.subplot(2,3,1)\n",
        "plt.imshow(img1)\n",
        "plt.title(data['Categoría'][200])\n",
        "plt.axis('off')\n",
        "\n",
        "#Para la segunda figura\n",
        "plt.subplot(2,3,2)\n",
        "plt.imshow(img2)\n",
        "plt.title(data['Categoría'][300])\n",
        "plt.axis('off')\n",
        "\n",
        "#Para la tercera figura\n",
        "plt.subplot(2,3,3)\n",
        "plt.imshow(img3)\n",
        "plt.title(data['Categoría'][400])\n",
        "plt.axis('off')\n",
        "plt.show()"
      ]
    },
    {
      "cell_type": "markdown",
      "source": [
        "Esto es simplemenete para ver algunos ejemplos de nuestro dataset, con el mismo tamaño."
      ],
      "metadata": {
        "id": "918BodHHBRPA"
      }
    },
    {
      "cell_type": "code",
      "execution_count": 9,
      "metadata": {
        "id": "fBXGtQvQJ7KW"
      },
      "outputs": [],
      "source": [
        "#Ahora vamos a procesar las imágenes para su uso en python\n",
        "from PIL import Image\n",
        "X = []\n",
        "for path in data[\"Imagen\"]:\n",
        "  Imagen = Image.open(path)\n",
        "  nueva_imagen = np.array(Imagen)\n",
        "  X.append(nueva_imagen)"
      ]
    },
    {
      "cell_type": "markdown",
      "metadata": {
        "id": "uPZvPz-9LXBx"
      },
      "source": [
        "Ya esto comienza a tener más familiridad para mi, debido a que ya estamos dividiendo los datos en X y Y, siendo X los datos y Y la categoría que queremos etiquetar, como las actividades de dataset que hemos hecho en clases de Salvador. Las convertimos en numpy simplmente para que tengan un formato más sencillo de procesar."
      ]
    },
    {
      "cell_type": "code",
      "execution_count": 10,
      "metadata": {
        "colab": {
          "base_uri": "https://localhost:8080/"
        },
        "id": "nv9h-jV1K3EL",
        "outputId": "ecbef15e-3877-4c9a-fd09-a624c1ba361a"
      },
      "outputs": [
        {
          "output_type": "stream",
          "name": "stdout",
          "text": [
            "Vemos la cantidad de valores que tiene la 556\n"
          ]
        }
      ],
      "source": [
        "print(f\"Vemos la cantidad de valores que tiene la {len(X)}\")"
      ]
    },
    {
      "cell_type": "code",
      "execution_count": 11,
      "metadata": {
        "colab": {
          "base_uri": "https://localhost:8080/"
        },
        "id": "PLTGosoNLsw7",
        "outputId": "d8cafdbc-64f1-429c-a4b9-115c78832f59"
      },
      "outputs": [
        {
          "output_type": "execute_result",
          "data": {
            "text/plain": [
              "555"
            ]
          },
          "metadata": {},
          "execution_count": 11
        }
      ],
      "source": [
        "# Lista auxiliar para almacenar las imágenes redimensionadas con dimensiones correctas\n",
        "X_redimensionado = []\n",
        "# Redimensionar las imágenes y eliminar aquellas con dimensiones incorrectas\n",
        "for i in range(len(X)):\n",
        "    imagen_redimensionada = cv2.resize(X[i], (256, 256))\n",
        "    forma_redimensionada = imagen_redimensionada.shape\n",
        "    # Verificar si la forma de la imagen redimensionada es diferente a (256, 256, 3)\n",
        "    if forma_redimensionada == (256, 256, 3):\n",
        "        X_redimensionado.append(imagen_redimensionada)\n",
        "\n",
        "# Convertir la lista de imágenes redimensionadas con dimensiones correctas a una matriz NumPy\n",
        "X = np.stack(X_redimensionado)\n",
        "len(X)"
      ]
    },
    {
      "cell_type": "markdown",
      "metadata": {
        "id": "25Jg0yWZLzEN"
      },
      "source": [
        "Ahora vamos a redimencionar las imágenes, para que tengan un tamaño más pequeño y que sean más faciles de procesar, así como que el proceso no dure demasiado. Tuve otro problema, en este caso de que una imágen de las 556 que tenía no se redimensionaba correctamente, intenté otros metodos pero este fue el que sirvió, que es simplemente almacenar todas las imágenes que si que rendimensionaron bien, es decir la gran mayoría. Y no meter la única que daba problemas."
      ]
    },
    {
      "cell_type": "code",
      "execution_count": 12,
      "metadata": {
        "colab": {
          "base_uri": "https://localhost:8080/"
        },
        "id": "2iE35wmhNQ9I",
        "outputId": "eb26aa9c-bae7-4be9-f2c6-ccb3ae65d757"
      },
      "outputs": [
        {
          "output_type": "execute_result",
          "data": {
            "text/plain": [
              "555"
            ]
          },
          "metadata": {},
          "execution_count": 12
        }
      ],
      "source": [
        "#Obtenemos nuestra y de categorías\n",
        "y = data['Categoría']\n",
        "y = y[:-1]\n",
        "len(y)"
      ]
    },
    {
      "cell_type": "markdown",
      "source": [
        "He quitado el útlimo registro debido a que al haber quitado el registro que daba fallos en la X, la cual daba problemas a la hora de redinmensionar las imágenes. Sino hacia esto pues a la hora de dividir los datos me daría problemas debido a que en la X habría una fila menos que la y pero con este ajuste solucioné el problema."
      ],
      "metadata": {
        "id": "66jaRCY5JrgN"
      }
    },
    {
      "cell_type": "code",
      "execution_count": 14,
      "metadata": {
        "id": "dzu2YITFNr6m"
      },
      "outputs": [],
      "source": [
        "#Normalizamos los datos, para que tengan valores entre 0 y 1.\n",
        "X= X/255"
      ]
    },
    {
      "cell_type": "markdown",
      "metadata": {
        "id": "9xVvq73PT-Sw"
      },
      "source": [
        "Esto es necesario para que los procesos sean más rápidos y sencillos. Al dividirlos por 255 hará que todos los números esten por debajo de 1 haciendo así que al ser procesados sea más sencillo."
      ]
    },
    {
      "cell_type": "code",
      "execution_count": 15,
      "metadata": {
        "colab": {
          "base_uri": "https://localhost:8080/"
        },
        "id": "ZoWB5lJsTFuw",
        "outputId": "1685ba89-d5a6-42b1-c850-d8a45dc753fb"
      },
      "outputs": [
        {
          "output_type": "execute_result",
          "data": {
            "text/plain": [
              "{2: 'Knight', 3: 'Pawn', 4: 'Queen', 0: 'Bishop', 5: 'Rook', 1: 'King'}"
            ]
          },
          "metadata": {},
          "execution_count": 15
        }
      ],
      "source": [
        "#Ahora codificamos las categorías, es decir las pasamos a números.\n",
        "from sklearn.preprocessing import LabelEncoder\n",
        "encoder = LabelEncoder()\n",
        "y = encoder.fit_transform(y)\n",
        "label = encoder.fit_transform(data[\"Categoría\"].unique())\n",
        "code = dict(zip(label,data[\"Categoría\"].unique()))\n",
        "code"
      ]
    },
    {
      "cell_type": "markdown",
      "metadata": {
        "id": "M9TMWfrtgQN6"
      },
      "source": [
        "Aquí ya hemos convertido las características a un valor númerico usando laberencoder, esto es para que el sistema lo pueda leer correctamente sino dará problemas a la hora de procesarlo ya que solo puede procesar números."
      ]
    },
    {
      "cell_type": "markdown",
      "metadata": {
        "id": "s44-b3aTghc2"
      },
      "source": [
        "# Modelos"
      ]
    },
    {
      "cell_type": "code",
      "execution_count": 16,
      "metadata": {
        "id": "TdeCZaBIgjs9"
      },
      "outputs": [],
      "source": [
        "#Usaremos el modelo sequential\n",
        "model = Sequential()\n",
        "\n",
        "#Añadimos más información a nuestra capa.\n",
        "model.add(Conv2D(filters=8,kernel_size=(4,4),strides=(1,1),input_shape=(256,256,3),kernel_initializer='random_normal',activation='relu',padding='same'))\n",
        "model.add(MaxPooling2D(pool_size=(2,2)))\n",
        "model.add(BatchNormalization())\n",
        "#Añadimos una segunda capa\n",
        "model.add(Conv2D(filters=16, kernel_size=(4,4),strides=(1,1),kernel_initializer='random_normal',activation='relu',padding='same'))\n",
        "model.add(MaxPooling2D(pool_size=(2,2)))\n",
        "model.add(BatchNormalization())\n",
        "#Añadimos una tercera capa\n",
        "model.add(Conv2D(filters=64,kernel_size=(2,2),strides=(1,1),kernel_initializer='random_normal',activation='relu',padding='same'))\n",
        "model.add(MaxPooling2D(pool_size=(2,2)))\n",
        "model.add(BatchNormalization())\n",
        "#Añadimos una cuarta capa\n",
        "model.add(Conv2D(filters=128,kernel_size=(2,2),strides=(1,1),kernel_initializer='random_normal',activation='relu',padding='same'))\n",
        "model.add(MaxPooling2D(pool_size=(2,2)))\n",
        "model.add(BatchNormalization())\n",
        "\n",
        "model.add(Flatten())\n",
        "from tensorflow.keras import regularizers\n",
        "#Probar para ver si mejora kernel_regularizer=regularizers.l2(0.01)\n",
        "model.add(Dense(activation='relu', units=32,kernel_regularizer=regularizers.l2(0.1)))\n",
        "#Añadimos un dropout para evitar o reducir el overfitting\n",
        "model.add(Dropout(0.20))\n",
        "model.add(Dense(activation='relu', units=16,kernel_regularizer=regularizers.l2(0.1)))\n",
        "model.add(Dropout(0.20))\n",
        "#Última capa, 6 neuronas por las 6 clases existentes\n",
        "model.add(Dense(activation='softmax', units=6))"
      ]
    },
    {
      "cell_type": "markdown",
      "metadata": {
        "id": "sIrykbAXDVHJ"
      },
      "source": [
        "Aquí creamos las capas que habrán en nuestro modelo, con diferentes tamaños y neuronas"
      ]
    },
    {
      "cell_type": "code",
      "execution_count": null,
      "metadata": {
        "id": "f9G5XrthDUcQ"
      },
      "outputs": [],
      "source": [
        "#Vemos la información del modelo\n",
        "model.summary()"
      ]
    },
    {
      "cell_type": "markdown",
      "metadata": {
        "id": "uv6-glnSDwEl"
      },
      "source": [
        "Esto es muy útil para poder ver un resumen de todo lo establecido con anterioridad."
      ]
    },
    {
      "cell_type": "markdown",
      "metadata": {
        "id": "3vC3Lr5aETWg"
      },
      "source": [
        "División de los datos"
      ]
    },
    {
      "cell_type": "code",
      "execution_count": 18,
      "metadata": {
        "id": "75uaPtAQERFU"
      },
      "outputs": [],
      "source": [
        "from sklearn.model_selection import train_test_split\n",
        "X_train,X_test, y_train,y_test = train_test_split(X,y, test_size=0.20, random_state=100, shuffle=True)"
      ]
    },
    {
      "cell_type": "code",
      "execution_count": null,
      "metadata": {
        "colab": {
          "base_uri": "https://localhost:8080/"
        },
        "id": "UFrwOjP9HysB",
        "outputId": "ac9750a7-3bfd-4e16-e6b9-f46b1cc0bfd7"
      },
      "outputs": [
        {
          "output_type": "stream",
          "name": "stdout",
          "text": [
            "Epoch 1/100\n",
            "14/14 [==============================] - 30s 2s/step - loss: 2.9941 - accuracy: 0.1802 - val_loss: 3.0535 - val_accuracy: 0.2162\n",
            "Epoch 2/100\n",
            "14/14 [==============================] - 28s 2s/step - loss: 3.0326 - accuracy: 0.1937 - val_loss: 2.8512 - val_accuracy: 0.2072\n",
            "Epoch 3/100\n",
            "14/14 [==============================] - 28s 2s/step - loss: 2.6526 - accuracy: 0.2230 - val_loss: 2.4694 - val_accuracy: 0.2252\n",
            "Epoch 4/100\n",
            "14/14 [==============================] - 28s 2s/step - loss: 2.3892 - accuracy: 0.2162 - val_loss: 2.2810 - val_accuracy: 0.2072\n",
            "Epoch 5/100\n",
            "14/14 [==============================] - 28s 2s/step - loss: 2.2062 - accuracy: 0.2050 - val_loss: 2.1634 - val_accuracy: 0.1892\n",
            "Epoch 6/100\n",
            "14/14 [==============================] - 28s 2s/step - loss: 2.1101 - accuracy: 0.2387 - val_loss: 2.0890 - val_accuracy: 0.1622\n",
            "Epoch 7/100\n",
            "14/14 [==============================] - 27s 2s/step - loss: 2.0545 - accuracy: 0.2230 - val_loss: 2.0885 - val_accuracy: 0.1892\n",
            "Epoch 8/100\n",
            "14/14 [==============================] - 29s 2s/step - loss: 2.0893 - accuracy: 0.2275 - val_loss: 2.1063 - val_accuracy: 0.1712\n",
            "Epoch 9/100\n",
            "14/14 [==============================] - 27s 2s/step - loss: 2.0694 - accuracy: 0.2162 - val_loss: 2.0784 - val_accuracy: 0.1802\n",
            "Epoch 10/100\n",
            "14/14 [==============================] - 26s 2s/step - loss: 2.0043 - accuracy: 0.2072 - val_loss: 2.0150 - val_accuracy: 0.1081\n",
            "Epoch 11/100\n",
            "14/14 [==============================] - 26s 2s/step - loss: 2.0093 - accuracy: 0.2162 - val_loss: 2.0778 - val_accuracy: 0.2793\n",
            "Epoch 12/100\n",
            "14/14 [==============================] - 28s 2s/step - loss: 2.0201 - accuracy: 0.2725 - val_loss: 2.0765 - val_accuracy: 0.2342\n",
            "Epoch 13/100\n",
            "14/14 [==============================] - 27s 2s/step - loss: 1.9705 - accuracy: 0.2477 - val_loss: 2.0471 - val_accuracy: 0.2432\n",
            "Epoch 14/100\n",
            "14/14 [==============================] - 27s 2s/step - loss: 1.9928 - accuracy: 0.2635 - val_loss: 2.1097 - val_accuracy: 0.1802\n",
            "Epoch 15/100\n",
            "14/14 [==============================] - 28s 2s/step - loss: 2.0587 - accuracy: 0.2703 - val_loss: 2.1775 - val_accuracy: 0.2162\n",
            "Epoch 16/100\n",
            "14/14 [==============================] - 32s 2s/step - loss: 2.0615 - accuracy: 0.3063 - val_loss: 2.1851 - val_accuracy: 0.2883\n",
            "Epoch 17/100\n",
            "14/14 [==============================] - 28s 2s/step - loss: 2.0429 - accuracy: 0.3986 - val_loss: 2.1559 - val_accuracy: 0.3874\n",
            "Epoch 18/100\n",
            "14/14 [==============================] - 27s 2s/step - loss: 2.0208 - accuracy: 0.3806 - val_loss: 2.1445 - val_accuracy: 0.3784\n",
            "Epoch 19/100\n",
            "14/14 [==============================] - 27s 2s/step - loss: 1.9320 - accuracy: 0.4662 - val_loss: 2.2252 - val_accuracy: 0.2883\n",
            "Epoch 20/100\n",
            "14/14 [==============================] - 27s 2s/step - loss: 1.8408 - accuracy: 0.4752 - val_loss: 2.1441 - val_accuracy: 0.3514\n",
            "Epoch 21/100\n",
            "14/14 [==============================] - 28s 2s/step - loss: 1.8067 - accuracy: 0.5158 - val_loss: 2.1997 - val_accuracy: 0.3243\n",
            "Epoch 22/100\n",
            "14/14 [==============================] - 28s 2s/step - loss: 1.9691 - accuracy: 0.5135 - val_loss: 2.3710 - val_accuracy: 0.2883\n",
            "Epoch 23/100\n",
            "14/14 [==============================] - 28s 2s/step - loss: 1.8871 - accuracy: 0.5631 - val_loss: 2.2635 - val_accuracy: 0.3514\n",
            "Epoch 24/100\n",
            "14/14 [==============================] - 28s 2s/step - loss: 1.8415 - accuracy: 0.5923 - val_loss: 2.3678 - val_accuracy: 0.3423\n",
            "Epoch 25/100\n",
            "14/14 [==============================] - 28s 2s/step - loss: 1.7667 - accuracy: 0.6419 - val_loss: 2.3677 - val_accuracy: 0.3333\n",
            "Epoch 26/100\n",
            "14/14 [==============================] - 27s 2s/step - loss: 1.6540 - accuracy: 0.6622 - val_loss: 2.3660 - val_accuracy: 0.3243\n",
            "Epoch 27/100\n",
            "14/14 [==============================] - 29s 2s/step - loss: 1.6061 - accuracy: 0.6959 - val_loss: 2.2259 - val_accuracy: 0.4414\n",
            "Epoch 28/100\n",
            "14/14 [==============================] - 27s 2s/step - loss: 1.6771 - accuracy: 0.7027 - val_loss: 2.3324 - val_accuracy: 0.3514\n",
            "Epoch 29/100\n",
            "14/14 [==============================] - 26s 2s/step - loss: 1.6740 - accuracy: 0.7207 - val_loss: 2.5263 - val_accuracy: 0.3784\n",
            "Epoch 30/100\n",
            "14/14 [==============================] - 27s 2s/step - loss: 1.6474 - accuracy: 0.7523 - val_loss: 2.4244 - val_accuracy: 0.4324\n",
            "Epoch 31/100\n",
            "14/14 [==============================] - 27s 2s/step - loss: 1.5832 - accuracy: 0.7860 - val_loss: 2.4867 - val_accuracy: 0.4144\n",
            "Epoch 32/100\n",
            "14/14 [==============================] - 27s 2s/step - loss: 1.5915 - accuracy: 0.7860 - val_loss: 2.4353 - val_accuracy: 0.4144\n",
            "Epoch 33/100\n",
            "14/14 [==============================] - 27s 2s/step - loss: 1.5681 - accuracy: 0.7928 - val_loss: 2.8316 - val_accuracy: 0.2793\n",
            "Epoch 34/100\n",
            "14/14 [==============================] - 26s 2s/step - loss: 1.5201 - accuracy: 0.7905 - val_loss: 2.4239 - val_accuracy: 0.4054\n",
            "Epoch 35/100\n",
            "14/14 [==============================] - 27s 2s/step - loss: 1.5641 - accuracy: 0.7635 - val_loss: 2.5718 - val_accuracy: 0.3694\n",
            "Epoch 36/100\n",
            "14/14 [==============================] - 27s 2s/step - loss: 1.6422 - accuracy: 0.7838 - val_loss: 2.4877 - val_accuracy: 0.4414\n",
            "Epoch 37/100\n",
            "14/14 [==============================] - 28s 2s/step - loss: 1.6535 - accuracy: 0.8356 - val_loss: 2.4900 - val_accuracy: 0.4865\n",
            "Epoch 38/100\n",
            "14/14 [==============================] - 27s 2s/step - loss: 1.6156 - accuracy: 0.8333 - val_loss: 2.4693 - val_accuracy: 0.4414\n",
            "Epoch 39/100\n",
            "14/14 [==============================] - 26s 2s/step - loss: 1.5499 - accuracy: 0.8401 - val_loss: 2.2646 - val_accuracy: 0.4775\n",
            "Epoch 40/100\n",
            "14/14 [==============================] - 27s 2s/step - loss: 1.4723 - accuracy: 0.8559 - val_loss: 2.4134 - val_accuracy: 0.4144\n",
            "Epoch 41/100\n",
            "14/14 [==============================] - 28s 2s/step - loss: 1.4025 - accuracy: 0.8514 - val_loss: 2.5017 - val_accuracy: 0.4144\n",
            "Epoch 42/100\n",
            "14/14 [==============================] - 27s 2s/step - loss: 1.4433 - accuracy: 0.8536 - val_loss: 2.7334 - val_accuracy: 0.3514\n",
            "Epoch 43/100\n",
            "14/14 [==============================] - 27s 2s/step - loss: 1.3538 - accuracy: 0.8784 - val_loss: 2.2087 - val_accuracy: 0.4955\n",
            "Epoch 44/100\n",
            "14/14 [==============================] - 28s 2s/step - loss: 1.1985 - accuracy: 0.8896 - val_loss: 2.2258 - val_accuracy: 0.4685\n",
            "Epoch 45/100\n",
            "14/14 [==============================] - 27s 2s/step - loss: 1.1530 - accuracy: 0.8874 - val_loss: 2.1164 - val_accuracy: 0.4955\n",
            "Epoch 46/100\n",
            "14/14 [==============================] - 27s 2s/step - loss: 1.2533 - accuracy: 0.8941 - val_loss: 2.4164 - val_accuracy: 0.4234\n",
            "Epoch 47/100\n",
            "14/14 [==============================] - 27s 2s/step - loss: 1.2397 - accuracy: 0.9257 - val_loss: 2.4388 - val_accuracy: 0.4505\n",
            "Epoch 48/100\n",
            "14/14 [==============================] - 29s 2s/step - loss: 1.1619 - accuracy: 0.9144 - val_loss: 2.3290 - val_accuracy: 0.4414\n",
            "Epoch 49/100\n",
            "14/14 [==============================] - 31s 2s/step - loss: 1.1614 - accuracy: 0.9099 - val_loss: 2.3599 - val_accuracy: 0.4234\n",
            "Epoch 50/100\n",
            " 5/14 [=========>....................] - ETA: 17s - loss: 1.1520 - accuracy: 0.9563"
          ]
        }
      ],
      "source": [
        "model.compile(optimizer='adam', loss=tf.keras.losses.SparseCategoricalCrossentropy(from_logits=True), metrics=['accuracy'])\n",
        "#Entrenamos el modelo usar entre 200 a 300 epochas. Precisión del 0.85 %\n",
        "model.fit(X_train,y_train,validation_data=(X_test,y_test),batch_size=32,shuffle=True, epochs = 100)"
      ]
    },
    {
      "cell_type": "markdown",
      "source": [
        "Entrenamos el modelo con unas 70 epocas. Lo deje en esta cantidad debido a que a más épocas peor iba el modelo a nivel de accuracy. Luego fui toqueteando los pesos del modelo hasta ajustarlo y que me quedase de esa manera, es decir con un validation accuracy de **0.53 %**. Que sigue siendo bajo pero es mucho mejor rendimiento que el que me daba sin usar las técnicas de regularización."
      ],
      "metadata": {
        "id": "MxvuoST3CMsG"
      }
    },
    {
      "cell_type": "code",
      "source": [
        "grafico = model.history\n",
        "plt.plot(grafico.history['accuracy'],label=\"Precisión con datos de entrenamiento\")\n",
        "plt.plot(grafico.history['val_accuracy'],label=\"Precisión con datos de validación\")\n",
        "plt.legend()"
      ],
      "metadata": {
        "id": "URXqJliNKMT3"
      },
      "execution_count": null,
      "outputs": []
    },
    {
      "cell_type": "markdown",
      "source": [
        "Vemos un gráfico en donde se comparan los datos de entrenamiento frente a los de validación y podemos así ver sus diferencias y si esta siendo el entramiento efectivo o no. En est caso no mucho la verdad, ya que la gráfica del train es más alta que la de validación."
      ],
      "metadata": {
        "id": "F2PF3CmNaN0J"
      }
    },
    {
      "cell_type": "code",
      "source": [
        "# Evaluamos el modelo con los datos de prueba\n",
        "loss, accuracy = model.evaluate(X_test, y_test)\n",
        "print(\"Precisión final en los datos de prueba:\", accuracy)\n",
        "\n",
        "# Realizamos una predicción\n",
        "predictions = model.predict(X_test)\n",
        "\n",
        "# Mostramos algunas predicciones junto con las etiquetas reales\n",
        "plt.figure(figsize=(10, 10))\n",
        "for i in range(9):\n",
        "    plt.subplot(3, 3, i + 1)\n",
        "    plt.imshow(X_test[i])\n",
        "    plt.title(\"Predicción: {}\\nEtiqueta Real: {}\".format(code[np.argmax(predictions[i])], code[y_test[i]]))\n",
        "    plt.axis('off')\n",
        "plt.show()\n"
      ],
      "metadata": {
        "id": "0sAa83IzCPba"
      },
      "execution_count": null,
      "outputs": []
    },
    {
      "cell_type": "markdown",
      "metadata": {
        "id": "Ia9OTbvbBxZI"
      },
      "source": [
        "# SEGUIMOS SIN PARTE DE PRUEBA"
      ]
    },
    {
      "cell_type": "code",
      "execution_count": null,
      "metadata": {
        "id": "5F4c6lqkCse6"
      },
      "outputs": [],
      "source": [
        "#Vemos la cantidad de imágenes que tienen formato jpg y png en todos los directorios del dataset.\n",
        "import pathlib\n",
        "data_dir = '/content/Chessman-image-dataset'\n",
        "data_dir = pathlib.Path(data_dir).with_suffix('')\n",
        "\n",
        "#Buscamos los tipos de imágenes\n",
        "image_count = len(list(data_dir.glob('*/*.jpg')))\n",
        "image_count2 = len(list(data_dir.glob('*/*.png')))\n",
        "\n",
        "print(f\"\"\"\n",
        "      El número de imágenes con formato jpg es de {image_count} con formato png hay {image_count2}.\n",
        "      Y hay unas 10 con JPG, pero en mayúsculas.\"\"\")"
      ]
    },
    {
      "cell_type": "markdown",
      "metadata": {
        "id": "E_J56nfzEe7N"
      },
      "source": [
        "# Visualización de los datos"
      ]
    },
    {
      "cell_type": "markdown",
      "metadata": {
        "id": "ZvrWmHKOE0vg"
      },
      "source": [
        "En esta parte vemos los datos, para ver como son."
      ]
    },
    {
      "cell_type": "code",
      "execution_count": null,
      "metadata": {
        "id": "Ibx4n40-dWqJ"
      },
      "outputs": [],
      "source": [
        "import PIL #Librería para manipular y abrir fotos en python\n",
        "queen = list(data_dir.glob('Queen/*')) #Seleccionamos la carpeta con las fotos que queremos ver\n",
        "PIL.Image.open(str(queen[0])) #Seleccionamos la foto que veremos"
      ]
    },
    {
      "cell_type": "code",
      "execution_count": null,
      "metadata": {
        "id": "h9EFkxGIGzik"
      },
      "outputs": [],
      "source": [
        "#Vemos el tamaño de la imagen\n",
        "PIL.Image.open(str(queen[0])).size"
      ]
    },
    {
      "cell_type": "markdown",
      "metadata": {
        "id": "DU5PvkO92psQ"
      },
      "source": [
        "# Dividimos los datos"
      ]
    },
    {
      "cell_type": "code",
      "execution_count": null,
      "metadata": {
        "id": "eLaqb9AAIEad"
      },
      "outputs": [],
      "source": [
        "#Definimos el tamaño de las imágenes, el tamaño del batch y las épocas que usaremos\n",
        "img_height,img_width,batch_size = 300,300,64\n",
        "epochs = 50\n",
        "#Train\n",
        "print(\"División para los datos de train\")\n",
        "train = tf.keras.utils.image_dataset_from_directory(\n",
        "    data_dir,\n",
        "    validation_split = 0.2,\n",
        "    subset='training',\n",
        "    seed = 100,\n",
        "    image_size= (img_height,img_width),\n",
        "    batch_size=batch_size\n",
        ")\n",
        "#Validación\n",
        "print(\"\\nDivisión para los datos de validation\")\n",
        "validacion = tf.keras.utils.image_dataset_from_directory(\n",
        "    data_dir,\n",
        "    validation_split=0.3,\n",
        "    subset=\"validation\",\n",
        "    seed = 100,\n",
        "    image_size= (img_height,img_width),\n",
        "    batch_size=batch_size\n",
        ")"
      ]
    },
    {
      "cell_type": "markdown",
      "metadata": {
        "id": "LtCXpDq4aHh_"
      },
      "source": [
        "Ya hemos dividio los datos en train y validación. Todos los datos se han codigo de las subcarpetas del dataset y tienen el mismos tamaño que fue especificado en image_size"
      ]
    },
    {
      "cell_type": "markdown",
      "metadata": {
        "id": "pFl3a_oTZyhS"
      },
      "source": [
        "# Estandarizar los datos"
      ]
    },
    {
      "cell_type": "markdown",
      "metadata": {
        "id": "mgQiiNmCaYxA"
      },
      "source": [
        "Ahora vamos a estandarizar los datos para que los valores esten entre 0 y 1, para que de mejores resultados a la hora de entrenar."
      ]
    },
    {
      "cell_type": "code",
      "execution_count": null,
      "metadata": {
        "id": "roO8bmzYZ-jY"
      },
      "outputs": [],
      "source": [
        "capa_estandar = layers.Rescaling(1./255)"
      ]
    },
    {
      "cell_type": "markdown",
      "metadata": {
        "id": "MPae7cq9bOFJ"
      },
      "source": [
        "Aquí lo que haremos será normalizar a cada conjunto de datos que tiene el conjunto de datos de entrenamiento que hemos creado (entrada y su etiqueta). Lo que hace este código es coger la imagen x y hace una tuple con su etiqueta y."
      ]
    },
    {
      "cell_type": "code",
      "execution_count": null,
      "metadata": {
        "id": "PwEk4DWpbNir"
      },
      "outputs": [],
      "source": [
        "#X representa a la imagen y Y a su etiqueta.\n",
        "estandar_ds = train.map(lambda x, y : (capa_estandar(x), y))\n",
        "image_batch, labels_batch = (next(iter(estandar_ds)))\n",
        "first_image = image_batch[2]\n",
        "print(f\"Píxels mínimos: {round((np.min(first_image)),3)} \\nPíxels máximos: {round((np.max(first_image)),3)}\")"
      ]
    },
    {
      "cell_type": "markdown",
      "metadata": {
        "id": "7U0aWJ-3efDB"
      },
      "source": [
        "Podemos ver que los píxeles mínimos y máximos no se salen de la escala entre 0 y 1. Como lo establecimos antes."
      ]
    },
    {
      "cell_type": "code",
      "execution_count": null,
      "metadata": {
        "id": "X-LnX8BUfcGS"
      },
      "outputs": [],
      "source": [
        "from tensorflow import keras\n",
        "data_augmentation = keras.Sequential(\n",
        "  [\n",
        "    layers.RandomFlip(\"horizontal\",input_shape=(img_height,img_width,3)),\n",
        "    layers.RandomRotation(0.1),\n",
        "    layers.RandomZoom(0.1),\n",
        "  ]\n",
        ")"
      ]
    },
    {
      "cell_type": "markdown",
      "metadata": {
        "id": "xkBQIf8_fYW8"
      },
      "source": [
        "Básicamente, en la capa de **RandomFlip** (aleatorio horizontal)lo que hacemos es crear nuevas instancias de imágenes a partir de las ya existentes pero las cambiamos de posición, en **RandomRotation** lo que hace es rotar la imágen en un ángulo de 0.1 radientes. Y la última capa, es la de **RandomZoom** la cual hace que se haga zoom a las imágenes de forma aleatoria también con un ángulo de 0.1."
      ]
    },
    {
      "cell_type": "markdown",
      "metadata": {
        "id": "FOIsB636LvXI"
      },
      "source": [
        "# Modelo aprendizaje profundo"
      ]
    },
    {
      "cell_type": "code",
      "execution_count": null,
      "metadata": {
        "id": "G-aTnd0Wg7tQ"
      },
      "outputs": [],
      "source": [
        "num_clases = len(train.class_names)\n",
        "print(f\"La cantidad de clases existentes son de {num_clases}.\")"
      ]
    },
    {
      "cell_type": "markdown",
      "metadata": {
        "id": "3PcqL_wXMPqQ"
      },
      "source": [
        "Vemos que la cantidad de clases es la correcta, esto se puede comprobar facilmente al ir a la carpeta del dataset y contar las subcarpetas que este posee, siendo efectivamente 6."
      ]
    },
    {
      "cell_type": "code",
      "execution_count": null,
      "metadata": {
        "id": "C7dUESepMRh1"
      },
      "outputs": [],
      "source": [
        "model = Sequential([\n",
        "    layers.Rescaling(1./255),\n",
        "    layers.Conv2D(16,3, padding=\"same\",activation='relu'),\n",
        "    layers.MaxPooling2D(),\n",
        "    layers.Conv2D(32,3, padding='same',activation='relu'),\n",
        "    layers.MaxPooling2D(),\n",
        "    layers.Flatten(),\n",
        "    layers.Dense(64,activation='relu'),\n",
        "    layers.Dense(num_clases)\n",
        "])"
      ]
    },
    {
      "cell_type": "code",
      "execution_count": null,
      "metadata": {
        "id": "UgEbehHJKNNE"
      },
      "outputs": [],
      "source": [
        "model.compile(optimizer='adam', loss=tf.keras.losses.SparseCategoricalCrossentropy(from_logits=True), metrics=['accuracy'])"
      ]
    },
    {
      "cell_type": "code",
      "execution_count": null,
      "metadata": {
        "id": "nB9VJVczX7ed"
      },
      "outputs": [],
      "source": [
        "entrenamiento =model.fit(train, validation_data=validacion, epochs=epochs)"
      ]
    },
    {
      "cell_type": "code",
      "execution_count": null,
      "metadata": {
        "id": "2ywX3604tiEF"
      },
      "outputs": [],
      "source": []
    }
  ],
  "metadata": {
    "colab": {
      "provenance": [],
      "gpuType": "T4",
      "authorship_tag": "ABX9TyOn4/Wy/XsUGQmyQP0cfFlX",
      "include_colab_link": true
    },
    "kernelspec": {
      "display_name": "Python 3",
      "name": "python3"
    },
    "language_info": {
      "name": "python"
    },
    "accelerator": "GPU"
  },
  "nbformat": 4,
  "nbformat_minor": 0
}