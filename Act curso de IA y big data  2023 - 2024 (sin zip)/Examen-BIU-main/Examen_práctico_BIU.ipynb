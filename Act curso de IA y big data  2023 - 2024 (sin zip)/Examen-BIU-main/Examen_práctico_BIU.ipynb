{
  "nbformat": 4,
  "nbformat_minor": 0,
  "metadata": {
    "colab": {
      "provenance": [],
      "authorship_tag": "ABX9TyMnPFanoVJpwi2Fr8nMO2m/",
      "include_colab_link": true
    },
    "kernelspec": {
      "name": "python3",
      "display_name": "Python 3"
    },
    "language_info": {
      "name": "python"
    }
  },
  "cells": [
    {
      "cell_type": "markdown",
      "metadata": {
        "id": "view-in-github",
        "colab_type": "text"
      },
      "source": [
        "<a href=\"https://colab.research.google.com/github/Yamito548/Examen-BIU/blob/main/Examen_pr%C3%A1ctico_BIU.ipynb\" target=\"_parent\"><img src=\"https://colab.research.google.com/assets/colab-badge.svg\" alt=\"Open In Colab\"/></a>"
      ]
    },
    {
      "cell_type": "markdown",
      "source": [
        "Por Dylan Jesús Ramírez Bermúdez"
      ],
      "metadata": {
        "id": "-SnFRK6xxzpp"
      }
    },
    {
      "cell_type": "markdown",
      "source": [
        "# Librerías"
      ],
      "metadata": {
        "id": "0spQnUgDW67w"
      }
    },
    {
      "cell_type": "code",
      "source": [
        "import pandas as pd\n",
        "import matplotlib.pyplot as plt"
      ],
      "metadata": {
        "id": "F3e1h1zeW9xt"
      },
      "execution_count": 176,
      "outputs": []
    },
    {
      "cell_type": "markdown",
      "source": [
        "# Ejecutamos pig"
      ],
      "metadata": {
        "id": "f8pL30yhybmW"
      }
    },
    {
      "cell_type": "code",
      "source": [
        "!apt-get install openjdk-8-jdk-headless -qq > /dev/null"
      ],
      "metadata": {
        "id": "YWWSKn4Xya6N"
      },
      "execution_count": 177,
      "outputs": []
    },
    {
      "cell_type": "code",
      "source": [
        "# !wget http://apache.osuosl.org/pig/pig-0.17.0/pig-0.17.0.tar.gz\n",
        "# !tar -xvf pig-0.17.0.tar.gz\n",
        "# !ls"
      ],
      "metadata": {
        "id": "haH4JeHryanS"
      },
      "execution_count": 178,
      "outputs": []
    },
    {
      "cell_type": "code",
      "source": [
        "#Vemos la versión de pig\n",
        "import os\n",
        "os.environ['JAVA_HOME'] = '/usr/lib/jvm/java-8-openjdk-amd64'\n",
        "os.environ['PIG_HOME'] = '/content/pig-0.17.0'\n",
        "os.environ['PATH'] = '%s/bin:%s' % (os.environ['PIG_HOME'], os.environ['PATH'])\n",
        "\n",
        "!pig -version"
      ],
      "metadata": {
        "colab": {
          "base_uri": "https://localhost:8080/"
        },
        "id": "iJcOJqkCQIpi",
        "outputId": "a34b904c-2bb1-42ac-8801-2aefcd00f2f1"
      },
      "execution_count": 179,
      "outputs": [
        {
          "output_type": "stream",
          "name": "stdout",
          "text": [
            "Apache Pig version 0.17.0 (r1797386) \n",
            "compiled Jun 02 2017, 15:41:58\n"
          ]
        }
      ]
    },
    {
      "cell_type": "markdown",
      "source": [
        "# 1. Lectura y Análisis de Datos Meteorológicos:"
      ],
      "metadata": {
        "id": "ZwA3L7_Wx6jw"
      }
    },
    {
      "cell_type": "code",
      "execution_count": 180,
      "metadata": {
        "colab": {
          "base_uri": "https://localhost:8080/"
        },
        "id": "OgQA5pWhxfbY",
        "outputId": "c08aeb83-9ea1-4b06-8163-abfd365f8b85"
      },
      "outputs": [
        {
          "output_type": "stream",
          "name": "stdout",
          "text": [
            "Overwriting primero.pig\n"
          ]
        }
      ],
      "source": [
        "%%writefile primero.pig\n",
        "-- Cargar datos desde un archivo CSV\n",
        "weather_data = LOAD '/content/weather.csv' USING PigStorage(',') AS (\n",
        "date:chararray,\n",
        "temperature:int,\n",
        "pressure:int,\n",
        "humidity:int\n",
        ");\n",
        "-- Visualización básica del contenido\n",
        "DUMP weather_data;\n",
        "DEFINE shared_data 'weather_data';"
      ]
    },
    {
      "cell_type": "code",
      "source": [
        "#Ejecutamos el código anterior\n",
        "!pig -x local -f primero.pig"
      ],
      "metadata": {
        "id": "NQOBzdyzy2of",
        "colab": {
          "base_uri": "https://localhost:8080/"
        },
        "outputId": "c4b17c30-aeaa-44d2-f6ec-639ae9b4ac8a"
      },
      "execution_count": 181,
      "outputs": [
        {
          "output_type": "stream",
          "name": "stdout",
          "text": [
            "2024-01-16 18:17:33,097 INFO  [main] pig.ExecTypeProvider (ExecTypeProvider.java:selectExecType(41)) - Trying ExecType : LOCAL\n",
            "2024-01-16 18:17:33,100 INFO  [main] pig.ExecTypeProvider (ExecTypeProvider.java:selectExecType(43)) - Picked LOCAL as the ExecType\n",
            "2024-01-16 18:17:33,174 [main] INFO  org.apache.pig.Main - Apache Pig version 0.17.0 (r1797386) compiled Jun 02 2017, 15:41:58\n",
            "2024-01-16 18:17:33,174 [main] INFO  org.apache.pig.Main - Logging error messages to: /content/pig_1705429053157.log\n",
            "2024-01-16 18:17:33,195 [main] INFO  org.apache.hadoop.conf.Configuration.deprecation - user.name is deprecated. Instead, use mapreduce.job.user.name\n",
            "2024-01-16 18:17:33,626 [main] INFO  org.apache.pig.impl.util.Utils - Default bootup file /root/.pigbootup not found\n",
            "2024-01-16 18:17:33,783 [main] INFO  org.apache.hadoop.conf.Configuration.deprecation - mapred.job.tracker is deprecated. Instead, use mapreduce.jobtracker.address\n",
            "2024-01-16 18:17:33,785 [main] INFO  org.apache.pig.backend.hadoop.executionengine.HExecutionEngine - Connecting to hadoop file system at: file:///\n",
            "2024-01-16 18:17:33,813 [main] INFO  org.apache.pig.PigServer - Pig Script ID for the session: PIG-primero.pig-d73163d6-78d3-41e6-a163-9c085144b01a\n",
            "2024-01-16 18:17:33,813 [main] WARN  org.apache.pig.PigServer - ATS is disabled since yarn.timeline-service.enabled set to false\n",
            "2024-01-16 18:17:34,301 [main] WARN  org.apache.hadoop.util.NativeCodeLoader - Unable to load native-hadoop library for your platform... using builtin-java classes where applicable\n",
            "2024-01-16 18:17:34,348 [main] INFO  org.apache.pig.tools.pigstats.ScriptState - Pig features used in the script: UNKNOWN\n",
            "2024-01-16 18:17:34,424 [main] INFO  org.apache.pig.newplan.logical.optimizer.LogicalPlanOptimizer - {RULES_ENABLED=[AddForEach, ColumnMapKeyPrune, ConstantCalculator, GroupByConstParallelSetter, LimitOptimizer, LoadTypeCastInserter, MergeFilter, MergeForEach, NestedLimitOptimizer, PartitionFilterOptimizer, PredicatePushdownOptimizer, PushDownForEachFlatten, PushUpFilter, SplitFilter, StreamTypeCastInserter]}\n",
            "2024-01-16 18:17:34,500 [main] INFO  org.apache.pig.impl.util.SpillableMemoryManager - Selected heap (PS Old Gen) of size 699400192 to monitor. collectionUsageThreshold = 489580128, usageThreshold = 489580128\n",
            "2024-01-16 18:17:34,558 [main] INFO  org.apache.pig.backend.hadoop.executionengine.mapReduceLayer.MRCompiler - File concatenation threshold: 100 optimistic? false\n",
            "2024-01-16 18:17:34,579 [main] INFO  org.apache.pig.backend.hadoop.executionengine.mapReduceLayer.MultiQueryOptimizer - MR plan size before optimization: 1\n",
            "2024-01-16 18:17:34,580 [main] INFO  org.apache.pig.backend.hadoop.executionengine.mapReduceLayer.MultiQueryOptimizer - MR plan size after optimization: 1\n",
            "2024-01-16 18:17:34,633 [main] INFO  org.apache.hadoop.conf.Configuration.deprecation - session.id is deprecated. Instead, use dfs.metrics.session-id\n",
            "2024-01-16 18:17:34,634 [main] INFO  org.apache.hadoop.metrics.jvm.JvmMetrics - Initializing JVM Metrics with processName=JobTracker, sessionId=\n",
            "2024-01-16 18:17:34,667 [main] INFO  org.apache.pig.tools.pigstats.mapreduce.MRScriptState - Pig script settings are added to the job\n",
            "2024-01-16 18:17:34,673 [main] INFO  org.apache.hadoop.conf.Configuration.deprecation - mapred.job.reduce.markreset.buffer.percent is deprecated. Instead, use mapreduce.reduce.markreset.buffer.percent\n",
            "2024-01-16 18:17:34,673 [main] INFO  org.apache.pig.backend.hadoop.executionengine.mapReduceLayer.JobControlCompiler - mapred.job.reduce.markreset.buffer.percent is not set, set to default 0.3\n",
            "2024-01-16 18:17:34,677 [main] INFO  org.apache.hadoop.conf.Configuration.deprecation - mapred.output.compress is deprecated. Instead, use mapreduce.output.fileoutputformat.compress\n",
            "2024-01-16 18:17:34,695 [main] INFO  org.apache.pig.backend.hadoop.executionengine.mapReduceLayer.JobControlCompiler - Setting up single store job\n",
            "2024-01-16 18:17:34,710 [main] INFO  org.apache.pig.data.SchemaTupleFrontend - Key [pig.schematuple] is false, will not generate code.\n",
            "2024-01-16 18:17:34,710 [main] INFO  org.apache.pig.data.SchemaTupleFrontend - Starting process to move generated code to distributed cacche\n",
            "2024-01-16 18:17:34,710 [main] INFO  org.apache.pig.data.SchemaTupleFrontend - Distributed cache not supported or needed in local mode. Setting key [pig.schematuple.local.dir] with code temp directory: /tmp/1705429054710-0\n",
            "2024-01-16 18:17:34,773 [main] INFO  org.apache.pig.backend.hadoop.executionengine.mapReduceLayer.MapReduceLauncher - 1 map-reduce job(s) waiting for submission.\n",
            "2024-01-16 18:17:34,774 [main] INFO  org.apache.hadoop.conf.Configuration.deprecation - mapred.job.tracker.http.address is deprecated. Instead, use mapreduce.jobtracker.http.address\n",
            "2024-01-16 18:17:34,784 [JobControl] INFO  org.apache.hadoop.metrics.jvm.JvmMetrics - Cannot initialize JVM Metrics with processName=JobTracker, sessionId= - already initialized\n",
            "2024-01-16 18:17:34,798 [JobControl] INFO  org.apache.hadoop.conf.Configuration.deprecation - mapred.task.id is deprecated. Instead, use mapreduce.task.attempt.id\n",
            "2024-01-16 18:17:34,955 [JobControl] WARN  org.apache.hadoop.mapreduce.JobResourceUploader - No job jar file set.  User classes may not be found. See Job or Job#setJar(String).\n",
            "2024-01-16 18:17:34,969 [JobControl] INFO  org.apache.pig.builtin.PigStorage - Using PigTextInputFormat\n",
            "2024-01-16 18:17:34,977 [JobControl] INFO  org.apache.hadoop.mapreduce.lib.input.FileInputFormat - Total input paths to process : 1\n",
            "2024-01-16 18:17:34,977 [JobControl] INFO  org.apache.pig.backend.hadoop.executionengine.util.MapRedUtil - Total input paths to process : 1\n",
            "2024-01-16 18:17:34,987 [JobControl] INFO  org.apache.pig.backend.hadoop.executionengine.util.MapRedUtil - Total input paths (combined) to process : 1\n",
            "2024-01-16 18:17:35,033 [JobControl] INFO  org.apache.hadoop.mapreduce.JobSubmitter - number of splits:1\n",
            "2024-01-16 18:17:35,165 [JobControl] INFO  org.apache.hadoop.mapreduce.JobSubmitter - Submitting tokens for job: job_local453153394_0001\n",
            "2024-01-16 18:17:35,360 [JobControl] INFO  org.apache.hadoop.mapreduce.Job - The url to track the job: http://localhost:8080/\n",
            "2024-01-16 18:17:35,360 [main] INFO  org.apache.pig.backend.hadoop.executionengine.mapReduceLayer.MapReduceLauncher - HadoopJobId: job_local453153394_0001\n",
            "2024-01-16 18:17:35,360 [main] INFO  org.apache.pig.backend.hadoop.executionengine.mapReduceLayer.MapReduceLauncher - Processing aliases weather_data\n",
            "2024-01-16 18:17:35,360 [main] INFO  org.apache.pig.backend.hadoop.executionengine.mapReduceLayer.MapReduceLauncher - detailed locations: M: weather_data[2,15],weather_data[-1,-1] C:  R: \n",
            "2024-01-16 18:17:35,363 [Thread-20] INFO  org.apache.hadoop.mapred.LocalJobRunner - OutputCommitter set in config null\n",
            "2024-01-16 18:17:35,371 [main] INFO  org.apache.pig.backend.hadoop.executionengine.mapReduceLayer.MapReduceLauncher - 0% complete\n",
            "2024-01-16 18:17:35,371 [main] INFO  org.apache.pig.backend.hadoop.executionengine.mapReduceLayer.MapReduceLauncher - Running jobs are [job_local453153394_0001]\n",
            "2024-01-16 18:17:35,391 [Thread-20] INFO  org.apache.hadoop.conf.Configuration.deprecation - mapred.job.tracker is deprecated. Instead, use mapreduce.jobtracker.address\n",
            "2024-01-16 18:17:35,392 [Thread-20] INFO  org.apache.hadoop.conf.Configuration.deprecation - mapred.job.reduce.markreset.buffer.percent is deprecated. Instead, use mapreduce.reduce.markreset.buffer.percent\n",
            "2024-01-16 18:17:35,393 [Thread-20] INFO  org.apache.hadoop.mapreduce.lib.output.FileOutputCommitter - File Output Committer Algorithm version is 1\n",
            "2024-01-16 18:17:35,396 [Thread-20] INFO  org.apache.hadoop.mapred.LocalJobRunner - OutputCommitter is org.apache.pig.backend.hadoop.executionengine.mapReduceLayer.PigOutputCommitter\n",
            "2024-01-16 18:17:35,438 [Thread-20] INFO  org.apache.hadoop.mapred.LocalJobRunner - Waiting for map tasks\n",
            "2024-01-16 18:17:35,438 [LocalJobRunner Map Task Executor #0] INFO  org.apache.hadoop.mapred.LocalJobRunner - Starting task: attempt_local453153394_0001_m_000000_0\n",
            "2024-01-16 18:17:35,477 [LocalJobRunner Map Task Executor #0] INFO  org.apache.hadoop.mapreduce.lib.output.FileOutputCommitter - File Output Committer Algorithm version is 1\n",
            "2024-01-16 18:17:35,498 [LocalJobRunner Map Task Executor #0] INFO  org.apache.hadoop.mapred.Task -  Using ResourceCalculatorProcessTree : [ ]\n",
            "2024-01-16 18:17:35,514 [LocalJobRunner Map Task Executor #0] INFO  org.apache.hadoop.mapred.MapTask - Processing split: Number of splits :1\n",
            "Total Length = 622\n",
            "Input split[0]:\n",
            "   Length = 622\n",
            "   ClassName: org.apache.hadoop.mapreduce.lib.input.FileSplit\n",
            "   Locations:\n",
            "\n",
            "-----------------------\n",
            "\n",
            "2024-01-16 18:17:35,525 [LocalJobRunner Map Task Executor #0] INFO  org.apache.pig.builtin.PigStorage - Using PigTextInputFormat\n",
            "2024-01-16 18:17:35,528 [LocalJobRunner Map Task Executor #0] INFO  org.apache.pig.backend.hadoop.executionengine.mapReduceLayer.PigRecordReader - Current split being processed file:/content/weather.csv:0+622\n",
            "2024-01-16 18:17:35,534 [LocalJobRunner Map Task Executor #0] INFO  org.apache.hadoop.mapreduce.lib.output.FileOutputCommitter - File Output Committer Algorithm version is 1\n",
            "2024-01-16 18:17:35,554 [LocalJobRunner Map Task Executor #0] INFO  org.apache.pig.impl.util.SpillableMemoryManager - Selected heap (PS Old Gen) of size 699400192 to monitor. collectionUsageThreshold = 489580128, usageThreshold = 489580128\n",
            "2024-01-16 18:17:35,556 [LocalJobRunner Map Task Executor #0] INFO  org.apache.pig.data.SchemaTupleBackend - Key [pig.schematuple] was not set... will not generate code.\n",
            "2024-01-16 18:17:35,578 [LocalJobRunner Map Task Executor #0] INFO  org.apache.pig.backend.hadoop.executionengine.mapReduceLayer.PigMapOnly$Map - Aliases being processed per job phase (AliasName[line,offset]): M: weather_data[2,15],weather_data[-1,-1] C:  R: \n",
            "2024-01-16 18:17:35,589 [LocalJobRunner Map Task Executor #0] INFO  org.apache.hadoop.mapred.LocalJobRunner - \n",
            "2024-01-16 18:17:35,589 [LocalJobRunner Map Task Executor #0] INFO  org.apache.hadoop.mapred.Task - Task:attempt_local453153394_0001_m_000000_0 is done. And is in the process of committing\n",
            "2024-01-16 18:17:35,600 [LocalJobRunner Map Task Executor #0] INFO  org.apache.hadoop.mapred.LocalJobRunner - \n",
            "2024-01-16 18:17:35,607 [LocalJobRunner Map Task Executor #0] INFO  org.apache.hadoop.mapred.Task - Task attempt_local453153394_0001_m_000000_0 is allowed to commit now\n",
            "2024-01-16 18:17:35,612 [LocalJobRunner Map Task Executor #0] INFO  org.apache.hadoop.mapreduce.lib.output.FileOutputCommitter - Saved output of task 'attempt_local453153394_0001_m_000000_0' to file:/tmp/temp-616242519/tmp1646821448/_temporary/0/task_local453153394_0001_m_000000\n",
            "2024-01-16 18:17:35,615 [LocalJobRunner Map Task Executor #0] INFO  org.apache.hadoop.mapred.LocalJobRunner - map\n",
            "2024-01-16 18:17:35,615 [LocalJobRunner Map Task Executor #0] INFO  org.apache.hadoop.mapred.Task - Task 'attempt_local453153394_0001_m_000000_0' done.\n",
            "2024-01-16 18:17:35,615 [LocalJobRunner Map Task Executor #0] INFO  org.apache.hadoop.mapred.LocalJobRunner - Finishing task: attempt_local453153394_0001_m_000000_0\n",
            "2024-01-16 18:17:35,615 [Thread-20] INFO  org.apache.hadoop.mapred.LocalJobRunner - map task executor complete.\n",
            "2024-01-16 18:17:35,766 [main] INFO  org.apache.hadoop.metrics.jvm.JvmMetrics - Cannot initialize JVM Metrics with processName=JobTracker, sessionId= - already initialized\n",
            "2024-01-16 18:17:35,777 [main] INFO  org.apache.hadoop.metrics.jvm.JvmMetrics - Cannot initialize JVM Metrics with processName=JobTracker, sessionId= - already initialized\n",
            "2024-01-16 18:17:35,777 [main] INFO  org.apache.hadoop.conf.Configuration.deprecation - mapred.map.tasks is deprecated. Instead, use mapreduce.job.maps\n",
            "2024-01-16 18:17:35,777 [main] INFO  org.apache.hadoop.conf.Configuration.deprecation - mapred.reduce.tasks is deprecated. Instead, use mapreduce.job.reduces\n",
            "2024-01-16 18:17:35,778 [main] INFO  org.apache.hadoop.metrics.jvm.JvmMetrics - Cannot initialize JVM Metrics with processName=JobTracker, sessionId= - already initialized\n",
            "2024-01-16 18:17:35,806 [main] INFO  org.apache.pig.backend.hadoop.executionengine.mapReduceLayer.MapReduceLauncher - 100% complete\n",
            "2024-01-16 18:17:35,808 [main] INFO  org.apache.pig.tools.pigstats.mapreduce.SimplePigStats - Script Statistics: \n",
            "\n",
            "HadoopVersion\tPigVersion\tUserId\tStartedAt\tFinishedAt\tFeatures\n",
            "2.7.3\t0.17.0\troot\t2024-01-16 18:17:34\t2024-01-16 18:17:35\tUNKNOWN\n",
            "\n",
            "Success!\n",
            "\n",
            "Job Stats (time in seconds):\n",
            "JobId\tMaps\tReduces\tMaxMapTime\tMinMapTime\tAvgMapTime\tMedianMapTime\tMaxReduceTime\tMinReduceTime\tAvgReduceTime\tMedianReducetime\tAlias\tFeature\tOutputs\n",
            "job_local453153394_0001\t1\t0\tn/a\tn/a\tn/a\tn/a\t0\t0\t0\t0\tweather_data\tMAP_ONLY\tfile:/tmp/temp-616242519/tmp1646821448,\n",
            "\n",
            "Input(s):\n",
            "Successfully read 25 records from: \"/content/weather.csv\"\n",
            "\n",
            "Output(s):\n",
            "Successfully stored 25 records in: \"file:/tmp/temp-616242519/tmp1646821448\"\n",
            "\n",
            "Counters:\n",
            "Total records written : 25\n",
            "Total bytes written : 0\n",
            "Spillable Memory Manager spill count : 0\n",
            "Total bags proactively spilled: 0\n",
            "Total records proactively spilled: 0\n",
            "\n",
            "Job DAG:\n",
            "job_local453153394_0001\n",
            "\n",
            "\n",
            "2024-01-16 18:17:35,811 [main] INFO  org.apache.hadoop.metrics.jvm.JvmMetrics - Cannot initialize JVM Metrics with processName=JobTracker, sessionId= - already initialized\n",
            "2024-01-16 18:17:35,813 [main] INFO  org.apache.hadoop.metrics.jvm.JvmMetrics - Cannot initialize JVM Metrics with processName=JobTracker, sessionId= - already initialized\n",
            "2024-01-16 18:17:35,815 [main] INFO  org.apache.hadoop.metrics.jvm.JvmMetrics - Cannot initialize JVM Metrics with processName=JobTracker, sessionId= - already initialized\n",
            "2024-01-16 18:17:35,833 [main] INFO  org.apache.pig.backend.hadoop.executionengine.mapReduceLayer.MapReduceLauncher - Success!\n",
            "2024-01-16 18:17:35,837 [main] WARN  org.apache.pig.data.SchemaTupleBackend - SchemaTupleBackend has already been initialized\n",
            "2024-01-16 18:17:35,851 [main] INFO  org.apache.hadoop.mapreduce.lib.input.FileInputFormat - Total input paths to process : 1\n",
            "2024-01-16 18:17:35,851 [main] INFO  org.apache.pig.backend.hadoop.executionengine.util.MapRedUtil - Total input paths to process : 1\n",
            "(2023-01-01,68,1018,62)\n",
            "(2023-01-02,,1015,65)\n",
            "(2023-01-03,23,1009,70)\n",
            "(2023-01-04,22,,68)\n",
            "(2023-01-05,21,1014,)\n",
            "(2023-01-06,20,1017,66)\n",
            "(2023-01-07,18,1020,61)\n",
            "(2023-01-08,20,,63)\n",
            "(2023-01-09,22,1013,67)\n",
            "(2023-01-10,23,1008,71)\n",
            "(2023-01-11,-73,1011,69)\n",
            "(2023-01-12,22,1006,73)\n",
            "(2023-01-13,24,1002,76)\n",
            "(2023-01-14,26,1000,70)\n",
            "(2023-01-15,23,1004,66)\n",
            "(2023-01-16,20,,62)\n",
            "(2023-01-17,,1015,68)\n",
            "(2023-01-18,16,1019,74)\n",
            "(2023-01-19,17,,70)\n",
            "(2023-01-20,18,,64)\n",
            "(2023-01-21,21,,61)\n",
            "(2023-01-22,22,,58)\n",
            "(2023-01-23,24,1007,55)\n",
            "(2023-01-24,21,1011,62)\n",
            "(2023-01-25,20,1015,68)\n",
            "2024-01-16 18:17:35,864 [main] ERROR org.apache.pig.PigServer - exception during parsing: Error during parsing. <file primero.pig, line 10, column 19>  Syntax error, unexpected symbol at or near ''weather_data''\n",
            "Failed to parse: <file primero.pig, line 10, column 19>  Syntax error, unexpected symbol at or near ''weather_data''\n",
            "\tat org.apache.pig.parser.QueryParserDriver.parse(QueryParserDriver.java:244)\n",
            "\tat org.apache.pig.parser.QueryParserDriver.parse(QueryParserDriver.java:182)\n",
            "\tat org.apache.pig.PigServer$Graph.parseQuery(PigServer.java:1820)\n",
            "\tat org.apache.pig.PigServer$Graph.access$000(PigServer.java:1528)\n",
            "\tat org.apache.pig.PigServer.parseAndBuild(PigServer.java:461)\n",
            "\tat org.apache.pig.PigServer.executeBatch(PigServer.java:486)\n",
            "\tat org.apache.pig.PigServer.executeBatch(PigServer.java:472)\n",
            "\tat org.apache.pig.tools.grunt.GruntParser.executeBatch(GruntParser.java:171)\n",
            "\tat org.apache.pig.tools.grunt.GruntParser.parseStopOnError(GruntParser.java:234)\n",
            "\tat org.apache.pig.tools.grunt.GruntParser.parseStopOnError(GruntParser.java:205)\n",
            "\tat org.apache.pig.tools.grunt.Grunt.exec(Grunt.java:81)\n",
            "\tat org.apache.pig.Main.run(Main.java:500)\n",
            "\tat org.apache.pig.Main.main(Main.java:175)\n",
            "2024-01-16 18:17:35,867 [main] ERROR org.apache.pig.tools.grunt.Grunt - ERROR 1200: <file primero.pig, line 10, column 19>  Syntax error, unexpected symbol at or near ''weather_data''\n",
            "Details at logfile: /content/pig_1705429053157.log\n",
            "2024-01-16 18:17:35,888 [main] INFO  org.apache.pig.Main - Pig script completed in 3 seconds and 288 milliseconds (3288 ms)\n"
          ]
        }
      ]
    },
    {
      "cell_type": "markdown",
      "source": [
        "#2. Manejo de Valores Erróneos o Faltantes en los Datos:\n"
      ],
      "metadata": {
        "id": "SB7hmSbMPOOG"
      }
    },
    {
      "cell_type": "code",
      "source": [
        "%%writefile segundo.pig\n",
        "-- Cargar datos desde un archivo CSV\n",
        "weather_data = LOAD '/content/weather.csv' USING PigStorage(',') AS (\n",
        "date:chararray,\n",
        "temperature:int,\n",
        "pressure:int,\n",
        "humidity:int\n",
        ");\n",
        "-- Filtrar registros con datos faltantes o erróneos\n",
        "clean_weather_data = FILTER weather_data BY temperature IS NOT NULL AND pressure\n",
        "IS NOT NULL AND humidity IS NOT NULL;\n",
        "-- Opcionalmente, filtrar valores que no son realistas\n",
        "valid_weather_data = FILTER clean_weather_data BY temperature > -50 AND\n",
        "temperature < 50; -- Ejemplo de rango de temperatura válido\n",
        "DUMP clean_weather_data;\n"
      ],
      "metadata": {
        "colab": {
          "base_uri": "https://localhost:8080/"
        },
        "id": "ETpeeIXxPR3S",
        "outputId": "17c16e05-f4d9-4d86-dc01-6cb6927d4766"
      },
      "execution_count": 182,
      "outputs": [
        {
          "output_type": "stream",
          "name": "stdout",
          "text": [
            "Overwriting segundo.pig\n"
          ]
        }
      ]
    },
    {
      "cell_type": "code",
      "source": [
        "#Ejecutamos el código anterior\n",
        "!pig -x local -f segundo.pig"
      ],
      "metadata": {
        "colab": {
          "base_uri": "https://localhost:8080/"
        },
        "id": "kPaTt8p2PplH",
        "outputId": "1f866999-e36d-4c4a-9c47-498e3f33c213"
      },
      "execution_count": 183,
      "outputs": [
        {
          "output_type": "stream",
          "name": "stdout",
          "text": [
            "2024-01-16 18:17:36,920 INFO  [main] pig.ExecTypeProvider (ExecTypeProvider.java:selectExecType(41)) - Trying ExecType : LOCAL\n",
            "2024-01-16 18:17:36,923 INFO  [main] pig.ExecTypeProvider (ExecTypeProvider.java:selectExecType(43)) - Picked LOCAL as the ExecType\n",
            "2024-01-16 18:17:36,976 [main] INFO  org.apache.pig.Main - Apache Pig version 0.17.0 (r1797386) compiled Jun 02 2017, 15:41:58\n",
            "2024-01-16 18:17:36,976 [main] INFO  org.apache.pig.Main - Logging error messages to: /content/pig_1705429056967.log\n",
            "2024-01-16 18:17:36,992 [main] INFO  org.apache.hadoop.conf.Configuration.deprecation - user.name is deprecated. Instead, use mapreduce.job.user.name\n",
            "2024-01-16 18:17:37,438 [main] INFO  org.apache.pig.impl.util.Utils - Default bootup file /root/.pigbootup not found\n",
            "2024-01-16 18:17:37,587 [main] INFO  org.apache.hadoop.conf.Configuration.deprecation - mapred.job.tracker is deprecated. Instead, use mapreduce.jobtracker.address\n",
            "2024-01-16 18:17:37,589 [main] INFO  org.apache.pig.backend.hadoop.executionengine.HExecutionEngine - Connecting to hadoop file system at: file:///\n",
            "2024-01-16 18:17:37,622 [main] INFO  org.apache.pig.PigServer - Pig Script ID for the session: PIG-segundo.pig-c9197d44-ed7e-4059-b9eb-fe0456fd35e2\n",
            "2024-01-16 18:17:37,622 [main] WARN  org.apache.pig.PigServer - ATS is disabled since yarn.timeline-service.enabled set to false\n",
            "2024-01-16 18:17:38,127 [main] WARN  org.apache.hadoop.util.NativeCodeLoader - Unable to load native-hadoop library for your platform... using builtin-java classes where applicable\n",
            "2024-01-16 18:17:38,166 [main] INFO  org.apache.pig.tools.pigstats.ScriptState - Pig features used in the script: FILTER\n",
            "2024-01-16 18:17:38,252 [main] INFO  org.apache.pig.newplan.logical.optimizer.LogicalPlanOptimizer - {RULES_ENABLED=[AddForEach, ColumnMapKeyPrune, ConstantCalculator, GroupByConstParallelSetter, LimitOptimizer, LoadTypeCastInserter, MergeFilter, MergeForEach, NestedLimitOptimizer, PartitionFilterOptimizer, PredicatePushdownOptimizer, PushDownForEachFlatten, PushUpFilter, SplitFilter, StreamTypeCastInserter]}\n",
            "2024-01-16 18:17:38,316 [main] INFO  org.apache.pig.impl.util.SpillableMemoryManager - Selected heap (PS Old Gen) of size 699400192 to monitor. collectionUsageThreshold = 489580128, usageThreshold = 489580128\n",
            "2024-01-16 18:17:38,370 [main] INFO  org.apache.pig.backend.hadoop.executionengine.mapReduceLayer.MRCompiler - File concatenation threshold: 100 optimistic? false\n",
            "2024-01-16 18:17:38,396 [main] INFO  org.apache.pig.backend.hadoop.executionengine.mapReduceLayer.MultiQueryOptimizer - MR plan size before optimization: 1\n",
            "2024-01-16 18:17:38,396 [main] INFO  org.apache.pig.backend.hadoop.executionengine.mapReduceLayer.MultiQueryOptimizer - MR plan size after optimization: 1\n",
            "2024-01-16 18:17:38,440 [main] INFO  org.apache.hadoop.conf.Configuration.deprecation - session.id is deprecated. Instead, use dfs.metrics.session-id\n",
            "2024-01-16 18:17:38,441 [main] INFO  org.apache.hadoop.metrics.jvm.JvmMetrics - Initializing JVM Metrics with processName=JobTracker, sessionId=\n",
            "2024-01-16 18:17:38,472 [main] INFO  org.apache.pig.tools.pigstats.mapreduce.MRScriptState - Pig script settings are added to the job\n",
            "2024-01-16 18:17:38,478 [main] INFO  org.apache.hadoop.conf.Configuration.deprecation - mapred.job.reduce.markreset.buffer.percent is deprecated. Instead, use mapreduce.reduce.markreset.buffer.percent\n",
            "2024-01-16 18:17:38,478 [main] INFO  org.apache.pig.backend.hadoop.executionengine.mapReduceLayer.JobControlCompiler - mapred.job.reduce.markreset.buffer.percent is not set, set to default 0.3\n",
            "2024-01-16 18:17:38,481 [main] INFO  org.apache.hadoop.conf.Configuration.deprecation - mapred.output.compress is deprecated. Instead, use mapreduce.output.fileoutputformat.compress\n",
            "2024-01-16 18:17:38,495 [main] INFO  org.apache.pig.backend.hadoop.executionengine.mapReduceLayer.JobControlCompiler - Setting up single store job\n",
            "2024-01-16 18:17:38,505 [main] INFO  org.apache.pig.data.SchemaTupleFrontend - Key [pig.schematuple] is false, will not generate code.\n",
            "2024-01-16 18:17:38,505 [main] INFO  org.apache.pig.data.SchemaTupleFrontend - Starting process to move generated code to distributed cacche\n",
            "2024-01-16 18:17:38,505 [main] INFO  org.apache.pig.data.SchemaTupleFrontend - Distributed cache not supported or needed in local mode. Setting key [pig.schematuple.local.dir] with code temp directory: /tmp/1705429058504-0\n",
            "2024-01-16 18:17:38,576 [main] INFO  org.apache.pig.backend.hadoop.executionengine.mapReduceLayer.MapReduceLauncher - 1 map-reduce job(s) waiting for submission.\n",
            "2024-01-16 18:17:38,580 [main] INFO  org.apache.hadoop.conf.Configuration.deprecation - mapred.job.tracker.http.address is deprecated. Instead, use mapreduce.jobtracker.http.address\n",
            "2024-01-16 18:17:38,659 [JobControl] INFO  org.apache.hadoop.metrics.jvm.JvmMetrics - Cannot initialize JVM Metrics with processName=JobTracker, sessionId= - already initialized\n",
            "2024-01-16 18:17:38,681 [JobControl] INFO  org.apache.hadoop.conf.Configuration.deprecation - mapred.task.id is deprecated. Instead, use mapreduce.task.attempt.id\n",
            "2024-01-16 18:17:38,755 [JobControl] WARN  org.apache.hadoop.mapreduce.JobResourceUploader - No job jar file set.  User classes may not be found. See Job or Job#setJar(String).\n",
            "2024-01-16 18:17:38,765 [JobControl] INFO  org.apache.pig.builtin.PigStorage - Using PigTextInputFormat\n",
            "2024-01-16 18:17:38,769 [JobControl] INFO  org.apache.hadoop.mapreduce.lib.input.FileInputFormat - Total input paths to process : 1\n",
            "2024-01-16 18:17:38,769 [JobControl] INFO  org.apache.pig.backend.hadoop.executionengine.util.MapRedUtil - Total input paths to process : 1\n",
            "2024-01-16 18:17:38,781 [JobControl] INFO  org.apache.pig.backend.hadoop.executionengine.util.MapRedUtil - Total input paths (combined) to process : 1\n",
            "2024-01-16 18:17:38,833 [JobControl] INFO  org.apache.hadoop.mapreduce.JobSubmitter - number of splits:1\n",
            "2024-01-16 18:17:38,954 [JobControl] INFO  org.apache.hadoop.mapreduce.JobSubmitter - Submitting tokens for job: job_local1700134399_0001\n",
            "2024-01-16 18:17:39,163 [JobControl] INFO  org.apache.hadoop.mapreduce.Job - The url to track the job: http://localhost:8080/\n",
            "2024-01-16 18:17:39,163 [main] INFO  org.apache.pig.backend.hadoop.executionengine.mapReduceLayer.MapReduceLauncher - HadoopJobId: job_local1700134399_0001\n",
            "2024-01-16 18:17:39,164 [main] INFO  org.apache.pig.backend.hadoop.executionengine.mapReduceLayer.MapReduceLauncher - Processing aliases clean_weather_data,weather_data\n",
            "2024-01-16 18:17:39,164 [main] INFO  org.apache.pig.backend.hadoop.executionengine.mapReduceLayer.MapReduceLauncher - detailed locations: M: weather_data[2,15],weather_data[-1,-1],clean_weather_data[9,21] C:  R: \n",
            "2024-01-16 18:17:39,168 [Thread-20] INFO  org.apache.hadoop.mapred.LocalJobRunner - OutputCommitter set in config null\n",
            "2024-01-16 18:17:39,174 [main] INFO  org.apache.pig.backend.hadoop.executionengine.mapReduceLayer.MapReduceLauncher - 0% complete\n",
            "2024-01-16 18:17:39,175 [main] INFO  org.apache.pig.backend.hadoop.executionengine.mapReduceLayer.MapReduceLauncher - Running jobs are [job_local1700134399_0001]\n",
            "2024-01-16 18:17:39,207 [Thread-20] INFO  org.apache.hadoop.conf.Configuration.deprecation - mapred.job.tracker is deprecated. Instead, use mapreduce.jobtracker.address\n",
            "2024-01-16 18:17:39,208 [Thread-20] INFO  org.apache.hadoop.conf.Configuration.deprecation - mapred.job.reduce.markreset.buffer.percent is deprecated. Instead, use mapreduce.reduce.markreset.buffer.percent\n",
            "2024-01-16 18:17:39,210 [Thread-20] INFO  org.apache.hadoop.mapreduce.lib.output.FileOutputCommitter - File Output Committer Algorithm version is 1\n",
            "2024-01-16 18:17:39,212 [Thread-20] INFO  org.apache.hadoop.mapred.LocalJobRunner - OutputCommitter is org.apache.pig.backend.hadoop.executionengine.mapReduceLayer.PigOutputCommitter\n",
            "2024-01-16 18:17:39,271 [Thread-20] INFO  org.apache.hadoop.mapred.LocalJobRunner - Waiting for map tasks\n",
            "2024-01-16 18:17:39,271 [LocalJobRunner Map Task Executor #0] INFO  org.apache.hadoop.mapred.LocalJobRunner - Starting task: attempt_local1700134399_0001_m_000000_0\n",
            "2024-01-16 18:17:39,311 [LocalJobRunner Map Task Executor #0] INFO  org.apache.hadoop.mapreduce.lib.output.FileOutputCommitter - File Output Committer Algorithm version is 1\n",
            "2024-01-16 18:17:39,341 [LocalJobRunner Map Task Executor #0] INFO  org.apache.hadoop.mapred.Task -  Using ResourceCalculatorProcessTree : [ ]\n",
            "2024-01-16 18:17:39,355 [LocalJobRunner Map Task Executor #0] INFO  org.apache.hadoop.mapred.MapTask - Processing split: Number of splits :1\n",
            "Total Length = 622\n",
            "Input split[0]:\n",
            "   Length = 622\n",
            "   ClassName: org.apache.hadoop.mapreduce.lib.input.FileSplit\n",
            "   Locations:\n",
            "\n",
            "-----------------------\n",
            "\n",
            "2024-01-16 18:17:39,366 [LocalJobRunner Map Task Executor #0] INFO  org.apache.pig.builtin.PigStorage - Using PigTextInputFormat\n",
            "2024-01-16 18:17:39,369 [LocalJobRunner Map Task Executor #0] INFO  org.apache.pig.backend.hadoop.executionengine.mapReduceLayer.PigRecordReader - Current split being processed file:/content/weather.csv:0+622\n",
            "2024-01-16 18:17:39,385 [LocalJobRunner Map Task Executor #0] INFO  org.apache.hadoop.mapreduce.lib.output.FileOutputCommitter - File Output Committer Algorithm version is 1\n",
            "2024-01-16 18:17:39,408 [LocalJobRunner Map Task Executor #0] INFO  org.apache.pig.impl.util.SpillableMemoryManager - Selected heap (PS Old Gen) of size 699400192 to monitor. collectionUsageThreshold = 489580128, usageThreshold = 489580128\n",
            "2024-01-16 18:17:39,410 [LocalJobRunner Map Task Executor #0] INFO  org.apache.pig.data.SchemaTupleBackend - Key [pig.schematuple] was not set... will not generate code.\n",
            "2024-01-16 18:17:39,423 [LocalJobRunner Map Task Executor #0] INFO  org.apache.pig.backend.hadoop.executionengine.mapReduceLayer.PigMapOnly$Map - Aliases being processed per job phase (AliasName[line,offset]): M: weather_data[2,15],weather_data[-1,-1],clean_weather_data[9,21] C:  R: \n",
            "2024-01-16 18:17:39,438 [LocalJobRunner Map Task Executor #0] INFO  org.apache.hadoop.mapred.LocalJobRunner - \n",
            "2024-01-16 18:17:39,439 [LocalJobRunner Map Task Executor #0] INFO  org.apache.hadoop.mapred.Task - Task:attempt_local1700134399_0001_m_000000_0 is done. And is in the process of committing\n",
            "2024-01-16 18:17:39,460 [LocalJobRunner Map Task Executor #0] INFO  org.apache.hadoop.mapred.LocalJobRunner - \n",
            "2024-01-16 18:17:39,460 [LocalJobRunner Map Task Executor #0] INFO  org.apache.hadoop.mapred.Task - Task attempt_local1700134399_0001_m_000000_0 is allowed to commit now\n",
            "2024-01-16 18:17:39,468 [LocalJobRunner Map Task Executor #0] INFO  org.apache.hadoop.mapreduce.lib.output.FileOutputCommitter - Saved output of task 'attempt_local1700134399_0001_m_000000_0' to file:/tmp/temp191165958/tmp2029281983/_temporary/0/task_local1700134399_0001_m_000000\n",
            "2024-01-16 18:17:39,469 [LocalJobRunner Map Task Executor #0] INFO  org.apache.hadoop.mapred.LocalJobRunner - map\n",
            "2024-01-16 18:17:39,469 [LocalJobRunner Map Task Executor #0] INFO  org.apache.hadoop.mapred.Task - Task 'attempt_local1700134399_0001_m_000000_0' done.\n",
            "2024-01-16 18:17:39,469 [LocalJobRunner Map Task Executor #0] INFO  org.apache.hadoop.mapred.LocalJobRunner - Finishing task: attempt_local1700134399_0001_m_000000_0\n",
            "2024-01-16 18:17:39,469 [Thread-20] INFO  org.apache.hadoop.mapred.LocalJobRunner - map task executor complete.\n",
            "2024-01-16 18:17:39,670 [main] INFO  org.apache.hadoop.metrics.jvm.JvmMetrics - Cannot initialize JVM Metrics with processName=JobTracker, sessionId= - already initialized\n",
            "2024-01-16 18:17:39,689 [main] INFO  org.apache.hadoop.metrics.jvm.JvmMetrics - Cannot initialize JVM Metrics with processName=JobTracker, sessionId= - already initialized\n",
            "2024-01-16 18:17:39,690 [main] INFO  org.apache.hadoop.conf.Configuration.deprecation - mapred.map.tasks is deprecated. Instead, use mapreduce.job.maps\n",
            "2024-01-16 18:17:39,690 [main] INFO  org.apache.hadoop.conf.Configuration.deprecation - mapred.reduce.tasks is deprecated. Instead, use mapreduce.job.reduces\n",
            "2024-01-16 18:17:39,691 [main] INFO  org.apache.hadoop.metrics.jvm.JvmMetrics - Cannot initialize JVM Metrics with processName=JobTracker, sessionId= - already initialized\n",
            "2024-01-16 18:17:39,721 [main] INFO  org.apache.pig.backend.hadoop.executionengine.mapReduceLayer.MapReduceLauncher - 100% complete\n",
            "2024-01-16 18:17:39,726 [main] INFO  org.apache.pig.tools.pigstats.mapreduce.SimplePigStats - Script Statistics: \n",
            "\n",
            "HadoopVersion\tPigVersion\tUserId\tStartedAt\tFinishedAt\tFeatures\n",
            "2.7.3\t0.17.0\troot\t2024-01-16 18:17:38\t2024-01-16 18:17:39\tFILTER\n",
            "\n",
            "Success!\n",
            "\n",
            "Job Stats (time in seconds):\n",
            "JobId\tMaps\tReduces\tMaxMapTime\tMinMapTime\tAvgMapTime\tMedianMapTime\tMaxReduceTime\tMinReduceTime\tAvgReduceTime\tMedianReducetime\tAlias\tFeature\tOutputs\n",
            "job_local1700134399_0001\t1\t0\tn/a\tn/a\tn/a\tn/a\t0\t0\t0\t0\tclean_weather_data,weather_data\tMAP_ONLY\tfile:/tmp/temp191165958/tmp2029281983,\n",
            "\n",
            "Input(s):\n",
            "Successfully read 25 records from: \"/content/weather.csv\"\n",
            "\n",
            "Output(s):\n",
            "Successfully stored 15 records in: \"file:/tmp/temp191165958/tmp2029281983\"\n",
            "\n",
            "Counters:\n",
            "Total records written : 15\n",
            "Total bytes written : 0\n",
            "Spillable Memory Manager spill count : 0\n",
            "Total bags proactively spilled: 0\n",
            "Total records proactively spilled: 0\n",
            "\n",
            "Job DAG:\n",
            "job_local1700134399_0001\n",
            "\n",
            "\n",
            "2024-01-16 18:17:39,728 [main] INFO  org.apache.hadoop.metrics.jvm.JvmMetrics - Cannot initialize JVM Metrics with processName=JobTracker, sessionId= - already initialized\n",
            "2024-01-16 18:17:39,731 [main] INFO  org.apache.hadoop.metrics.jvm.JvmMetrics - Cannot initialize JVM Metrics with processName=JobTracker, sessionId= - already initialized\n",
            "2024-01-16 18:17:39,732 [main] INFO  org.apache.hadoop.metrics.jvm.JvmMetrics - Cannot initialize JVM Metrics with processName=JobTracker, sessionId= - already initialized\n",
            "2024-01-16 18:17:39,751 [main] INFO  org.apache.pig.backend.hadoop.executionengine.mapReduceLayer.MapReduceLauncher - Success!\n",
            "2024-01-16 18:17:39,755 [main] WARN  org.apache.pig.data.SchemaTupleBackend - SchemaTupleBackend has already been initialized\n",
            "2024-01-16 18:17:39,779 [main] INFO  org.apache.hadoop.mapreduce.lib.input.FileInputFormat - Total input paths to process : 1\n",
            "2024-01-16 18:17:39,779 [main] INFO  org.apache.pig.backend.hadoop.executionengine.util.MapRedUtil - Total input paths to process : 1\n",
            "(2023-01-01,68,1018,62)\n",
            "(2023-01-03,23,1009,70)\n",
            "(2023-01-06,20,1017,66)\n",
            "(2023-01-07,18,1020,61)\n",
            "(2023-01-09,22,1013,67)\n",
            "(2023-01-10,23,1008,71)\n",
            "(2023-01-11,-73,1011,69)\n",
            "(2023-01-12,22,1006,73)\n",
            "(2023-01-13,24,1002,76)\n",
            "(2023-01-14,26,1000,70)\n",
            "(2023-01-15,23,1004,66)\n",
            "(2023-01-18,16,1019,74)\n",
            "(2023-01-23,24,1007,55)\n",
            "(2023-01-24,21,1011,62)\n",
            "(2023-01-25,20,1015,68)\n",
            "2024-01-16 18:17:39,820 [main] INFO  org.apache.pig.Main - Pig script completed in 3 seconds and 413 milliseconds (3413 ms)\n"
          ]
        }
      ]
    },
    {
      "cell_type": "markdown",
      "source": [
        "# 3. Cálculo de la Temperatura Media con Manejo de Datos Faltantes:\n"
      ],
      "metadata": {
        "id": "N9ja52d5QeM2"
      }
    },
    {
      "cell_type": "code",
      "source": [
        "%%writefile tercero.pig\n",
        "-- Cargar datos desde un archivo CSV\n",
        "weather_data = LOAD '/content/weather.csv' USING PigStorage(',') AS (\n",
        "date:chararray,\n",
        "temperature:int,\n",
        "pressure:int,\n",
        "humidity:int\n",
        ");\n",
        "-- Filtrar registros con datos faltantes o erróneos\n",
        "clean_weather_data = FILTER weather_data BY temperature IS NOT NULL AND pressure\n",
        "IS NOT NULL AND humidity IS NOT NULL;\n",
        "\n",
        "-- Opcionalmente, filtrar valores que no son realistas\n",
        "valid_weather_data = FILTER clean_weather_data BY temperature > -50 AND\n",
        "temperature < 50;\n",
        "\n",
        "-- Calcular la temperatura media excluyendo registros incompletos\n",
        "grouped_data = GROUP valid_weather_data ALL;\n",
        "average_temperature = FOREACH grouped_data GENERATE\n",
        "AVG(valid_weather_data.temperature) AS avg_temp;\n",
        "DUMP average_temperature;\n"
      ],
      "metadata": {
        "colab": {
          "base_uri": "https://localhost:8080/"
        },
        "id": "5C1QuyddQdvq",
        "outputId": "c2614184-7c44-4b50-b175-8728e8929b0a"
      },
      "execution_count": 184,
      "outputs": [
        {
          "output_type": "stream",
          "name": "stdout",
          "text": [
            "Overwriting tercero.pig\n"
          ]
        }
      ]
    },
    {
      "cell_type": "code",
      "source": [
        "!pig -x local -f tercero.pig"
      ],
      "metadata": {
        "colab": {
          "base_uri": "https://localhost:8080/"
        },
        "id": "GsmlZ9UJQrjZ",
        "outputId": "c585b6b7-46df-424b-813a-4fd167895e95"
      },
      "execution_count": 185,
      "outputs": [
        {
          "output_type": "stream",
          "name": "stdout",
          "text": [
            "2024-01-16 18:17:40,782 INFO  [main] pig.ExecTypeProvider (ExecTypeProvider.java:selectExecType(41)) - Trying ExecType : LOCAL\n",
            "2024-01-16 18:17:40,785 INFO  [main] pig.ExecTypeProvider (ExecTypeProvider.java:selectExecType(43)) - Picked LOCAL as the ExecType\n",
            "2024-01-16 18:17:40,835 [main] INFO  org.apache.pig.Main - Apache Pig version 0.17.0 (r1797386) compiled Jun 02 2017, 15:41:58\n",
            "2024-01-16 18:17:40,835 [main] INFO  org.apache.pig.Main - Logging error messages to: /content/pig_1705429060827.log\n",
            "2024-01-16 18:17:40,849 [main] INFO  org.apache.hadoop.conf.Configuration.deprecation - user.name is deprecated. Instead, use mapreduce.job.user.name\n",
            "2024-01-16 18:17:41,280 [main] INFO  org.apache.pig.impl.util.Utils - Default bootup file /root/.pigbootup not found\n",
            "2024-01-16 18:17:41,476 [main] INFO  org.apache.hadoop.conf.Configuration.deprecation - mapred.job.tracker is deprecated. Instead, use mapreduce.jobtracker.address\n",
            "2024-01-16 18:17:41,479 [main] INFO  org.apache.pig.backend.hadoop.executionengine.HExecutionEngine - Connecting to hadoop file system at: file:///\n",
            "2024-01-16 18:17:41,522 [main] INFO  org.apache.pig.PigServer - Pig Script ID for the session: PIG-tercero.pig-7a3c20ea-cb13-4c5f-ae4e-26b494a73528\n",
            "2024-01-16 18:17:41,523 [main] WARN  org.apache.pig.PigServer - ATS is disabled since yarn.timeline-service.enabled set to false\n",
            "2024-01-16 18:17:42,122 [main] WARN  org.apache.hadoop.util.NativeCodeLoader - Unable to load native-hadoop library for your platform... using builtin-java classes where applicable\n",
            "2024-01-16 18:17:42,179 [main] INFO  org.apache.pig.tools.pigstats.ScriptState - Pig features used in the script: GROUP_BY,FILTER\n",
            "2024-01-16 18:17:42,270 [main] INFO  org.apache.pig.newplan.logical.optimizer.LogicalPlanOptimizer - {RULES_ENABLED=[AddForEach, ColumnMapKeyPrune, ConstantCalculator, GroupByConstParallelSetter, LimitOptimizer, LoadTypeCastInserter, MergeFilter, MergeForEach, NestedLimitOptimizer, PartitionFilterOptimizer, PredicatePushdownOptimizer, PushDownForEachFlatten, PushUpFilter, SplitFilter, StreamTypeCastInserter]}\n",
            "2024-01-16 18:17:42,302 [main] INFO  org.apache.pig.impl.util.SpillableMemoryManager - Selected heap (PS Old Gen) of size 699400192 to monitor. collectionUsageThreshold = 489580128, usageThreshold = 489580128\n",
            "2024-01-16 18:17:42,491 [main] INFO  org.apache.pig.backend.hadoop.executionengine.mapReduceLayer.MRCompiler - File concatenation threshold: 100 optimistic? false\n",
            "2024-01-16 18:17:42,513 [main] INFO  org.apache.pig.backend.hadoop.executionengine.util.CombinerOptimizerUtil - Choosing to move algebraic foreach to combiner\n",
            "2024-01-16 18:17:42,571 [main] INFO  org.apache.pig.backend.hadoop.executionengine.mapReduceLayer.MultiQueryOptimizer - MR plan size before optimization: 1\n",
            "2024-01-16 18:17:42,572 [main] INFO  org.apache.pig.backend.hadoop.executionengine.mapReduceLayer.MultiQueryOptimizer - MR plan size after optimization: 1\n",
            "2024-01-16 18:17:42,666 [main] INFO  org.apache.hadoop.conf.Configuration.deprecation - session.id is deprecated. Instead, use dfs.metrics.session-id\n",
            "2024-01-16 18:17:42,667 [main] INFO  org.apache.hadoop.metrics.jvm.JvmMetrics - Initializing JVM Metrics with processName=JobTracker, sessionId=\n",
            "2024-01-16 18:17:42,805 [main] INFO  org.apache.pig.tools.pigstats.mapreduce.MRScriptState - Pig script settings are added to the job\n",
            "2024-01-16 18:17:42,811 [main] INFO  org.apache.hadoop.conf.Configuration.deprecation - mapred.job.reduce.markreset.buffer.percent is deprecated. Instead, use mapreduce.reduce.markreset.buffer.percent\n",
            "2024-01-16 18:17:42,811 [main] INFO  org.apache.pig.backend.hadoop.executionengine.mapReduceLayer.JobControlCompiler - mapred.job.reduce.markreset.buffer.percent is not set, set to default 0.3\n",
            "2024-01-16 18:17:42,814 [main] INFO  org.apache.hadoop.conf.Configuration.deprecation - mapred.output.compress is deprecated. Instead, use mapreduce.output.fileoutputformat.compress\n",
            "2024-01-16 18:17:42,816 [main] INFO  org.apache.pig.backend.hadoop.executionengine.mapReduceLayer.JobControlCompiler - Reduce phase detected, estimating # of required reducers.\n",
            "2024-01-16 18:17:42,816 [main] INFO  org.apache.pig.backend.hadoop.executionengine.mapReduceLayer.JobControlCompiler - Setting Parallelism to 1\n",
            "2024-01-16 18:17:42,816 [main] INFO  org.apache.hadoop.conf.Configuration.deprecation - mapred.reduce.tasks is deprecated. Instead, use mapreduce.job.reduces\n",
            "2024-01-16 18:17:42,829 [main] INFO  org.apache.pig.backend.hadoop.executionengine.mapReduceLayer.JobControlCompiler - Setting up single store job\n",
            "2024-01-16 18:17:42,855 [main] INFO  org.apache.pig.data.SchemaTupleFrontend - Key [pig.schematuple] is false, will not generate code.\n",
            "2024-01-16 18:17:42,855 [main] INFO  org.apache.pig.data.SchemaTupleFrontend - Starting process to move generated code to distributed cacche\n",
            "2024-01-16 18:17:42,862 [main] INFO  org.apache.pig.data.SchemaTupleFrontend - Distributed cache not supported or needed in local mode. Setting key [pig.schematuple.local.dir] with code temp directory: /tmp/1705429062854-0\n",
            "2024-01-16 18:17:43,022 [main] INFO  org.apache.pig.backend.hadoop.executionengine.mapReduceLayer.MapReduceLauncher - 1 map-reduce job(s) waiting for submission.\n",
            "2024-01-16 18:17:43,023 [main] INFO  org.apache.hadoop.conf.Configuration.deprecation - mapred.job.tracker.http.address is deprecated. Instead, use mapreduce.jobtracker.http.address\n",
            "2024-01-16 18:17:43,046 [JobControl] INFO  org.apache.hadoop.metrics.jvm.JvmMetrics - Cannot initialize JVM Metrics with processName=JobTracker, sessionId= - already initialized\n",
            "2024-01-16 18:17:43,071 [JobControl] INFO  org.apache.hadoop.conf.Configuration.deprecation - mapred.task.id is deprecated. Instead, use mapreduce.task.attempt.id\n",
            "2024-01-16 18:17:43,185 [JobControl] WARN  org.apache.hadoop.mapreduce.JobResourceUploader - No job jar file set.  User classes may not be found. See Job or Job#setJar(String).\n",
            "2024-01-16 18:17:43,208 [JobControl] INFO  org.apache.pig.builtin.PigStorage - Using PigTextInputFormat\n",
            "2024-01-16 18:17:43,220 [JobControl] INFO  org.apache.hadoop.mapreduce.lib.input.FileInputFormat - Total input paths to process : 1\n",
            "2024-01-16 18:17:43,221 [JobControl] INFO  org.apache.pig.backend.hadoop.executionengine.util.MapRedUtil - Total input paths to process : 1\n",
            "2024-01-16 18:17:43,251 [JobControl] INFO  org.apache.pig.backend.hadoop.executionengine.util.MapRedUtil - Total input paths (combined) to process : 1\n",
            "2024-01-16 18:17:43,335 [JobControl] INFO  org.apache.hadoop.mapreduce.JobSubmitter - number of splits:1\n",
            "2024-01-16 18:17:43,575 [JobControl] INFO  org.apache.hadoop.mapreduce.JobSubmitter - Submitting tokens for job: job_local1661437355_0001\n",
            "2024-01-16 18:17:43,899 [JobControl] INFO  org.apache.hadoop.mapreduce.Job - The url to track the job: http://localhost:8080/\n",
            "2024-01-16 18:17:43,900 [main] INFO  org.apache.pig.backend.hadoop.executionengine.mapReduceLayer.MapReduceLauncher - HadoopJobId: job_local1661437355_0001\n",
            "2024-01-16 18:17:43,900 [main] INFO  org.apache.pig.backend.hadoop.executionengine.mapReduceLayer.MapReduceLauncher - Processing aliases average_temperature,clean_weather_data,grouped_data,weather_data\n",
            "2024-01-16 18:17:43,900 [main] INFO  org.apache.pig.backend.hadoop.executionengine.mapReduceLayer.MapReduceLauncher - detailed locations: M: weather_data[2,15],weather_data[-1,-1],clean_weather_data[9,21],average_temperature[18,22],grouped_data[17,15] C: average_temperature[18,22],grouped_data[17,15] R: average_temperature[18,22]\n",
            "2024-01-16 18:17:43,904 [Thread-20] INFO  org.apache.hadoop.mapred.LocalJobRunner - OutputCommitter set in config null\n",
            "2024-01-16 18:17:43,910 [main] INFO  org.apache.pig.backend.hadoop.executionengine.mapReduceLayer.MapReduceLauncher - 0% complete\n",
            "2024-01-16 18:17:43,911 [main] INFO  org.apache.pig.backend.hadoop.executionengine.mapReduceLayer.MapReduceLauncher - Running jobs are [job_local1661437355_0001]\n",
            "2024-01-16 18:17:43,971 [Thread-20] INFO  org.apache.hadoop.conf.Configuration.deprecation - mapred.job.tracker is deprecated. Instead, use mapreduce.jobtracker.address\n",
            "2024-01-16 18:17:43,971 [Thread-20] INFO  org.apache.hadoop.conf.Configuration.deprecation - mapred.job.reduce.markreset.buffer.percent is deprecated. Instead, use mapreduce.reduce.markreset.buffer.percent\n",
            "2024-01-16 18:17:43,971 [Thread-20] INFO  org.apache.hadoop.conf.Configuration.deprecation - mapred.reduce.tasks is deprecated. Instead, use mapreduce.job.reduces\n",
            "2024-01-16 18:17:43,976 [Thread-20] INFO  org.apache.hadoop.mapreduce.lib.output.FileOutputCommitter - File Output Committer Algorithm version is 1\n",
            "2024-01-16 18:17:43,981 [Thread-20] INFO  org.apache.hadoop.mapred.LocalJobRunner - OutputCommitter is org.apache.pig.backend.hadoop.executionengine.mapReduceLayer.PigOutputCommitter\n",
            "2024-01-16 18:17:44,090 [Thread-20] INFO  org.apache.hadoop.mapred.LocalJobRunner - Waiting for map tasks\n",
            "2024-01-16 18:17:44,091 [LocalJobRunner Map Task Executor #0] INFO  org.apache.hadoop.mapred.LocalJobRunner - Starting task: attempt_local1661437355_0001_m_000000_0\n",
            "2024-01-16 18:17:44,193 [LocalJobRunner Map Task Executor #0] INFO  org.apache.hadoop.mapreduce.lib.output.FileOutputCommitter - File Output Committer Algorithm version is 1\n",
            "2024-01-16 18:17:44,236 [LocalJobRunner Map Task Executor #0] INFO  org.apache.hadoop.mapred.Task -  Using ResourceCalculatorProcessTree : [ ]\n",
            "2024-01-16 18:17:44,255 [LocalJobRunner Map Task Executor #0] INFO  org.apache.hadoop.mapred.MapTask - Processing split: Number of splits :1\n",
            "Total Length = 622\n",
            "Input split[0]:\n",
            "   Length = 622\n",
            "   ClassName: org.apache.hadoop.mapreduce.lib.input.FileSplit\n",
            "   Locations:\n",
            "\n",
            "-----------------------\n",
            "\n",
            "2024-01-16 18:17:44,283 [LocalJobRunner Map Task Executor #0] INFO  org.apache.pig.builtin.PigStorage - Using PigTextInputFormat\n",
            "2024-01-16 18:17:44,287 [LocalJobRunner Map Task Executor #0] INFO  org.apache.pig.backend.hadoop.executionengine.mapReduceLayer.PigRecordReader - Current split being processed file:/content/weather.csv:0+622\n",
            "2024-01-16 18:17:44,410 [LocalJobRunner Map Task Executor #0] INFO  org.apache.hadoop.mapred.MapTask - (EQUATOR) 0 kvi 26214396(104857584)\n",
            "2024-01-16 18:17:44,410 [LocalJobRunner Map Task Executor #0] INFO  org.apache.hadoop.mapred.MapTask - mapreduce.task.io.sort.mb: 100\n",
            "2024-01-16 18:17:44,410 [LocalJobRunner Map Task Executor #0] INFO  org.apache.hadoop.mapred.MapTask - soft limit at 83886080\n",
            "2024-01-16 18:17:44,410 [LocalJobRunner Map Task Executor #0] INFO  org.apache.hadoop.mapred.MapTask - bufstart = 0; bufvoid = 104857600\n",
            "2024-01-16 18:17:44,410 [LocalJobRunner Map Task Executor #0] INFO  org.apache.hadoop.mapred.MapTask - kvstart = 26214396; length = 6553600\n",
            "2024-01-16 18:17:44,416 [LocalJobRunner Map Task Executor #0] INFO  org.apache.hadoop.mapred.MapTask - Map output collector class = org.apache.hadoop.mapred.MapTask$MapOutputBuffer\n",
            "2024-01-16 18:17:44,422 [LocalJobRunner Map Task Executor #0] INFO  org.apache.pig.impl.util.SpillableMemoryManager - Selected heap (PS Old Gen) of size 699400192 to monitor. collectionUsageThreshold = 489580128, usageThreshold = 489580128\n",
            "2024-01-16 18:17:44,423 [LocalJobRunner Map Task Executor #0] INFO  org.apache.pig.data.SchemaTupleBackend - Key [pig.schematuple] was not set... will not generate code.\n",
            "2024-01-16 18:17:44,441 [LocalJobRunner Map Task Executor #0] INFO  org.apache.pig.backend.hadoop.executionengine.mapReduceLayer.PigGenericMapReduce$Map - Aliases being processed per job phase (AliasName[line,offset]): M: weather_data[2,15],weather_data[-1,-1],clean_weather_data[9,21],average_temperature[18,22],grouped_data[17,15] C: average_temperature[18,22],grouped_data[17,15] R: average_temperature[18,22]\n",
            "2024-01-16 18:17:44,454 [LocalJobRunner Map Task Executor #0] INFO  org.apache.hadoop.mapred.LocalJobRunner - \n",
            "2024-01-16 18:17:44,454 [LocalJobRunner Map Task Executor #0] INFO  org.apache.hadoop.mapred.MapTask - Starting flush of map output\n",
            "2024-01-16 18:17:44,454 [LocalJobRunner Map Task Executor #0] INFO  org.apache.hadoop.mapred.MapTask - Spilling map output\n",
            "2024-01-16 18:17:44,454 [LocalJobRunner Map Task Executor #0] INFO  org.apache.hadoop.mapred.MapTask - bufstart = 0; bufend = 169; bufvoid = 104857600\n",
            "2024-01-16 18:17:44,454 [LocalJobRunner Map Task Executor #0] INFO  org.apache.hadoop.mapred.MapTask - kvstart = 26214396(104857584); kvend = 26214348(104857392); length = 49/6553600\n",
            "2024-01-16 18:17:44,514 [LocalJobRunner Map Task Executor #0] INFO  org.apache.pig.backend.hadoop.executionengine.mapReduceLayer.PigCombiner$Combine - Aliases being processed per job phase (AliasName[line,offset]): M: weather_data[2,15],weather_data[-1,-1],clean_weather_data[9,21],average_temperature[18,22],grouped_data[17,15] C: average_temperature[18,22],grouped_data[17,15] R: average_temperature[18,22]\n",
            "2024-01-16 18:17:44,526 [LocalJobRunner Map Task Executor #0] INFO  org.apache.hadoop.mapred.MapTask - Finished spill 0\n",
            "2024-01-16 18:17:44,549 [LocalJobRunner Map Task Executor #0] INFO  org.apache.hadoop.mapred.Task - Task:attempt_local1661437355_0001_m_000000_0 is done. And is in the process of committing\n",
            "2024-01-16 18:17:44,585 [LocalJobRunner Map Task Executor #0] INFO  org.apache.hadoop.mapred.LocalJobRunner - map\n",
            "2024-01-16 18:17:44,585 [LocalJobRunner Map Task Executor #0] INFO  org.apache.hadoop.mapred.Task - Task 'attempt_local1661437355_0001_m_000000_0' done.\n",
            "2024-01-16 18:17:44,585 [LocalJobRunner Map Task Executor #0] INFO  org.apache.hadoop.mapred.LocalJobRunner - Finishing task: attempt_local1661437355_0001_m_000000_0\n",
            "2024-01-16 18:17:44,585 [Thread-20] INFO  org.apache.hadoop.mapred.LocalJobRunner - map task executor complete.\n",
            "2024-01-16 18:17:44,593 [Thread-20] INFO  org.apache.hadoop.mapred.LocalJobRunner - Waiting for reduce tasks\n",
            "2024-01-16 18:17:44,594 [pool-3-thread-1] INFO  org.apache.hadoop.mapred.LocalJobRunner - Starting task: attempt_local1661437355_0001_r_000000_0\n",
            "2024-01-16 18:17:44,643 [pool-3-thread-1] INFO  org.apache.hadoop.mapreduce.lib.output.FileOutputCommitter - File Output Committer Algorithm version is 1\n",
            "2024-01-16 18:17:44,659 [pool-3-thread-1] INFO  org.apache.hadoop.mapred.Task -  Using ResourceCalculatorProcessTree : [ ]\n",
            "2024-01-16 18:17:44,663 [pool-3-thread-1] INFO  org.apache.hadoop.mapred.ReduceTask - Using ShuffleConsumerPlugin: org.apache.hadoop.mapreduce.task.reduce.Shuffle@64ea1a46\n",
            "2024-01-16 18:17:44,684 [pool-3-thread-1] INFO  org.apache.hadoop.mapreduce.task.reduce.MergeManagerImpl - MergerManager: memoryLimit=652528832, maxSingleShuffleLimit=163132208, mergeThreshold=430669056, ioSortFactor=10, memToMemMergeOutputsThreshold=10\n",
            "2024-01-16 18:17:44,697 [EventFetcher for fetching Map Completion Events] INFO  org.apache.hadoop.mapreduce.task.reduce.EventFetcher - attempt_local1661437355_0001_r_000000_0 Thread started: EventFetcher for fetching Map Completion Events\n",
            "2024-01-16 18:17:44,759 [localfetcher#1] INFO  org.apache.hadoop.mapreduce.task.reduce.LocalFetcher - localfetcher#1 about to shuffle output of map attempt_local1661437355_0001_m_000000_0 decomp: 19 len: 23 to MEMORY\n",
            "2024-01-16 18:17:44,766 [localfetcher#1] INFO  org.apache.hadoop.mapreduce.task.reduce.InMemoryMapOutput - Read 19 bytes from map-output for attempt_local1661437355_0001_m_000000_0\n",
            "2024-01-16 18:17:44,768 [localfetcher#1] INFO  org.apache.hadoop.mapreduce.task.reduce.MergeManagerImpl - closeInMemoryFile -> map-output of size: 19, inMemoryMapOutputs.size() -> 1, commitMemory -> 0, usedMemory ->19\n",
            "2024-01-16 18:17:44,769 [EventFetcher for fetching Map Completion Events] INFO  org.apache.hadoop.mapreduce.task.reduce.EventFetcher - EventFetcher is interrupted.. Returning\n",
            "2024-01-16 18:17:44,770 [pool-3-thread-1] INFO  org.apache.hadoop.mapred.LocalJobRunner - 1 / 1 copied.\n",
            "2024-01-16 18:17:44,775 [pool-3-thread-1] INFO  org.apache.hadoop.mapreduce.task.reduce.MergeManagerImpl - finalMerge called with 1 in-memory map-outputs and 0 on-disk map-outputs\n",
            "2024-01-16 18:17:44,791 [pool-3-thread-1] INFO  org.apache.hadoop.mapred.Merger - Merging 1 sorted segments\n",
            "2024-01-16 18:17:44,791 [pool-3-thread-1] INFO  org.apache.hadoop.mapred.Merger - Down to the last merge-pass, with 1 segments left of total size: 11 bytes\n",
            "2024-01-16 18:17:44,794 [pool-3-thread-1] INFO  org.apache.hadoop.mapreduce.task.reduce.MergeManagerImpl - Merged 1 segments, 19 bytes to disk to satisfy reduce memory limit\n",
            "2024-01-16 18:17:44,795 [pool-3-thread-1] INFO  org.apache.hadoop.mapreduce.task.reduce.MergeManagerImpl - Merging 1 files, 23 bytes from disk\n",
            "2024-01-16 18:17:44,797 [pool-3-thread-1] INFO  org.apache.hadoop.mapreduce.task.reduce.MergeManagerImpl - Merging 0 segments, 0 bytes from memory into reduce\n",
            "2024-01-16 18:17:44,798 [pool-3-thread-1] INFO  org.apache.hadoop.mapred.Merger - Merging 1 sorted segments\n",
            "2024-01-16 18:17:44,799 [pool-3-thread-1] INFO  org.apache.hadoop.mapred.Merger - Down to the last merge-pass, with 1 segments left of total size: 11 bytes\n",
            "2024-01-16 18:17:44,799 [pool-3-thread-1] INFO  org.apache.hadoop.mapred.LocalJobRunner - 1 / 1 copied.\n",
            "2024-01-16 18:17:44,811 [pool-3-thread-1] INFO  org.apache.hadoop.mapreduce.lib.output.FileOutputCommitter - File Output Committer Algorithm version is 1\n",
            "2024-01-16 18:17:44,841 [pool-3-thread-1] INFO  org.apache.hadoop.conf.Configuration.deprecation - mapred.skip.on is deprecated. Instead, use mapreduce.job.skiprecords\n",
            "2024-01-16 18:17:44,842 [pool-3-thread-1] INFO  org.apache.pig.impl.util.SpillableMemoryManager - Selected heap (PS Old Gen) of size 699400192 to monitor. collectionUsageThreshold = 489580128, usageThreshold = 489580128\n",
            "2024-01-16 18:17:44,842 [pool-3-thread-1] WARN  org.apache.pig.data.SchemaTupleBackend - SchemaTupleBackend has already been initialized\n",
            "2024-01-16 18:17:44,866 [pool-3-thread-1] INFO  org.apache.pig.backend.hadoop.executionengine.mapReduceLayer.PigMapReduce$Reduce - Aliases being processed per job phase (AliasName[line,offset]): M: weather_data[2,15],weather_data[-1,-1],clean_weather_data[9,21],average_temperature[18,22],grouped_data[17,15] C: average_temperature[18,22],grouped_data[17,15] R: average_temperature[18,22]\n",
            "2024-01-16 18:17:44,877 [pool-3-thread-1] INFO  org.apache.hadoop.mapred.Task - Task:attempt_local1661437355_0001_r_000000_0 is done. And is in the process of committing\n",
            "2024-01-16 18:17:44,890 [pool-3-thread-1] INFO  org.apache.hadoop.mapred.LocalJobRunner - 1 / 1 copied.\n",
            "2024-01-16 18:17:44,890 [pool-3-thread-1] INFO  org.apache.hadoop.mapred.Task - Task attempt_local1661437355_0001_r_000000_0 is allowed to commit now\n",
            "2024-01-16 18:17:44,903 [pool-3-thread-1] INFO  org.apache.hadoop.mapreduce.lib.output.FileOutputCommitter - Saved output of task 'attempt_local1661437355_0001_r_000000_0' to file:/tmp/temp1703340268/tmp606873541/_temporary/0/task_local1661437355_0001_r_000000\n",
            "2024-01-16 18:17:44,906 [pool-3-thread-1] INFO  org.apache.hadoop.mapred.LocalJobRunner - reduce > reduce\n",
            "2024-01-16 18:17:44,906 [pool-3-thread-1] INFO  org.apache.hadoop.mapred.Task - Task 'attempt_local1661437355_0001_r_000000_0' done.\n",
            "2024-01-16 18:17:44,906 [pool-3-thread-1] INFO  org.apache.hadoop.mapred.LocalJobRunner - Finishing task: attempt_local1661437355_0001_r_000000_0\n",
            "2024-01-16 18:17:44,906 [Thread-20] INFO  org.apache.hadoop.mapred.LocalJobRunner - reduce task executor complete.\n",
            "2024-01-16 18:17:44,911 [main] INFO  org.apache.pig.backend.hadoop.executionengine.mapReduceLayer.MapReduceLauncher - Running jobs are [job_local1661437355_0001]\n",
            "2024-01-16 18:17:45,115 [main] INFO  org.apache.hadoop.metrics.jvm.JvmMetrics - Cannot initialize JVM Metrics with processName=JobTracker, sessionId= - already initialized\n",
            "2024-01-16 18:17:45,140 [main] INFO  org.apache.hadoop.metrics.jvm.JvmMetrics - Cannot initialize JVM Metrics with processName=JobTracker, sessionId= - already initialized\n",
            "2024-01-16 18:17:45,140 [main] INFO  org.apache.hadoop.conf.Configuration.deprecation - mapred.map.tasks is deprecated. Instead, use mapreduce.job.maps\n",
            "2024-01-16 18:17:45,142 [main] INFO  org.apache.hadoop.metrics.jvm.JvmMetrics - Cannot initialize JVM Metrics with processName=JobTracker, sessionId= - already initialized\n",
            "2024-01-16 18:17:45,211 [main] INFO  org.apache.pig.backend.hadoop.executionengine.mapReduceLayer.MapReduceLauncher - 100% complete\n",
            "2024-01-16 18:17:45,213 [main] INFO  org.apache.pig.tools.pigstats.mapreduce.SimplePigStats - Script Statistics: \n",
            "\n",
            "HadoopVersion\tPigVersion\tUserId\tStartedAt\tFinishedAt\tFeatures\n",
            "2.7.3\t0.17.0\troot\t2024-01-16 18:17:42\t2024-01-16 18:17:45\tGROUP_BY,FILTER\n",
            "\n",
            "Success!\n",
            "\n",
            "Job Stats (time in seconds):\n",
            "JobId\tMaps\tReduces\tMaxMapTime\tMinMapTime\tAvgMapTime\tMedianMapTime\tMaxReduceTime\tMinReduceTime\tAvgReduceTime\tMedianReducetime\tAlias\tFeature\tOutputs\n",
            "job_local1661437355_0001\t1\t1\tn/a\tn/a\tn/a\tn/a\tn/a\tn/a\tn/a\tn/a\taverage_temperature,clean_weather_data,grouped_data,weather_data\tGROUP_BY,COMBINER\tfile:/tmp/temp1703340268/tmp606873541,\n",
            "\n",
            "Input(s):\n",
            "Successfully read 25 records from: \"/content/weather.csv\"\n",
            "\n",
            "Output(s):\n",
            "Successfully stored 1 records in: \"file:/tmp/temp1703340268/tmp606873541\"\n",
            "\n",
            "Counters:\n",
            "Total records written : 1\n",
            "Total bytes written : 0\n",
            "Spillable Memory Manager spill count : 0\n",
            "Total bags proactively spilled: 0\n",
            "Total records proactively spilled: 0\n",
            "\n",
            "Job DAG:\n",
            "job_local1661437355_0001\n",
            "\n",
            "\n",
            "2024-01-16 18:17:45,223 [main] INFO  org.apache.hadoop.metrics.jvm.JvmMetrics - Cannot initialize JVM Metrics with processName=JobTracker, sessionId= - already initialized\n",
            "2024-01-16 18:17:45,227 [main] INFO  org.apache.hadoop.metrics.jvm.JvmMetrics - Cannot initialize JVM Metrics with processName=JobTracker, sessionId= - already initialized\n",
            "2024-01-16 18:17:45,234 [main] INFO  org.apache.hadoop.metrics.jvm.JvmMetrics - Cannot initialize JVM Metrics with processName=JobTracker, sessionId= - already initialized\n",
            "2024-01-16 18:17:45,254 [main] INFO  org.apache.pig.backend.hadoop.executionengine.mapReduceLayer.MapReduceLauncher - Success!\n",
            "2024-01-16 18:17:45,258 [main] WARN  org.apache.pig.data.SchemaTupleBackend - SchemaTupleBackend has already been initialized\n",
            "2024-01-16 18:17:45,314 [main] INFO  org.apache.hadoop.mapreduce.lib.input.FileInputFormat - Total input paths to process : 1\n",
            "2024-01-16 18:17:45,314 [main] INFO  org.apache.pig.backend.hadoop.executionengine.util.MapRedUtil - Total input paths to process : 1\n",
            "(21.692307692307693)\n",
            "2024-01-16 18:17:45,424 [main] INFO  org.apache.pig.Main - Pig script completed in 5 seconds and 127 milliseconds (5127 ms)\n"
          ]
        }
      ]
    },
    {
      "cell_type": "markdown",
      "source": [
        "# 4. Transformaciones Avanzadas y Unión de Datos:\n"
      ],
      "metadata": {
        "id": "UTEI--8RVJxq"
      }
    },
    {
      "cell_type": "code",
      "source": [
        "%%writefile cuarto.pig\n",
        "-- Cargar datos desde un archivo CSV\n",
        "weather_data = LOAD '/content/weather.csv' USING PigStorage(',') AS (\n",
        "date:chararray,\n",
        "temperature:int,\n",
        "pressure:int,\n",
        "humidity:int\n",
        ");\n",
        "\n",
        "-- Filtrar registros con datos faltantes o erróneos\n",
        "clean_weather_data = FILTER weather_data BY temperature IS NOT NULL AND pressure\n",
        "IS NOT NULL AND humidity IS NOT NULL;\n",
        "\n",
        "-- Filtrar valores que no son realistas\n",
        "valid_weather_data = FILTER clean_weather_data BY temperature > -50 AND\n",
        "temperature < 50;\n",
        "\n",
        "-- Cargar otra fuente de datos, por ejemplo, datos de ubicación\n",
        "location_data = LOAD '/content/location.csv' USING PigStorage(',') AS (\n",
        "date:chararray,\n",
        "location:chararray\n",
        ");\n",
        "-- Unir datos meteorológicos con datos de ubicación\n",
        "joined_data = JOIN valid_weather_data BY date, location_data BY date;\n",
        "-- Aplicar transformaciones o filtros adicionales según sea necesario\n",
        "-- Por ejemplo, seleccionar sólo los datos de una ubicación específica\n",
        "filtered_data = FILTER joined_data BY location == 'Las Palmas';\n",
        "DUMP filtered_data;\n",
        "\n",
        "-- Guardar los resultados en un archivo\n",
        "STORE filtered_data INTO 'output2' USING PigStorage(',');"
      ],
      "metadata": {
        "colab": {
          "base_uri": "https://localhost:8080/"
        },
        "id": "-k16EoGmVK5I",
        "outputId": "d8cd256d-23d1-4095-80d8-0dd338bc4580"
      },
      "execution_count": 186,
      "outputs": [
        {
          "output_type": "stream",
          "name": "stdout",
          "text": [
            "Overwriting cuarto.pig\n"
          ]
        }
      ]
    },
    {
      "cell_type": "code",
      "source": [
        "!pig -x local -f cuarto.pig"
      ],
      "metadata": {
        "colab": {
          "base_uri": "https://localhost:8080/"
        },
        "id": "leYz64afVN_G",
        "outputId": "954d33b6-3569-4d61-fcf8-19844d37f34e"
      },
      "execution_count": 187,
      "outputs": [
        {
          "output_type": "stream",
          "name": "stdout",
          "text": [
            "2024-01-16 18:17:46,758 INFO  [main] pig.ExecTypeProvider (ExecTypeProvider.java:selectExecType(41)) - Trying ExecType : LOCAL\n",
            "2024-01-16 18:17:46,764 INFO  [main] pig.ExecTypeProvider (ExecTypeProvider.java:selectExecType(43)) - Picked LOCAL as the ExecType\n",
            "2024-01-16 18:17:46,828 [main] INFO  org.apache.pig.Main - Apache Pig version 0.17.0 (r1797386) compiled Jun 02 2017, 15:41:58\n",
            "2024-01-16 18:17:46,828 [main] INFO  org.apache.pig.Main - Logging error messages to: /content/pig_1705429066819.log\n",
            "2024-01-16 18:17:46,843 [main] INFO  org.apache.hadoop.conf.Configuration.deprecation - user.name is deprecated. Instead, use mapreduce.job.user.name\n",
            "2024-01-16 18:17:47,268 [main] INFO  org.apache.pig.impl.util.Utils - Default bootup file /root/.pigbootup not found\n",
            "2024-01-16 18:17:47,414 [main] INFO  org.apache.hadoop.conf.Configuration.deprecation - mapred.job.tracker is deprecated. Instead, use mapreduce.jobtracker.address\n",
            "2024-01-16 18:17:47,416 [main] INFO  org.apache.pig.backend.hadoop.executionengine.HExecutionEngine - Connecting to hadoop file system at: file:///\n",
            "2024-01-16 18:17:47,442 [main] INFO  org.apache.pig.PigServer - Pig Script ID for the session: PIG-cuarto.pig-798543e7-1453-4bde-b138-7c8fd86f7b34\n",
            "2024-01-16 18:17:47,442 [main] WARN  org.apache.pig.PigServer - ATS is disabled since yarn.timeline-service.enabled set to false\n",
            "2024-01-16 18:17:47,990 [main] WARN  org.apache.hadoop.util.NativeCodeLoader - Unable to load native-hadoop library for your platform... using builtin-java classes where applicable\n",
            "2024-01-16 18:17:48,072 [main] INFO  org.apache.pig.tools.pigstats.ScriptState - Pig features used in the script: HASH_JOIN,FILTER\n",
            "2024-01-16 18:17:48,173 [main] INFO  org.apache.pig.newplan.logical.optimizer.LogicalPlanOptimizer - {RULES_ENABLED=[AddForEach, ColumnMapKeyPrune, ConstantCalculator, GroupByConstParallelSetter, LimitOptimizer, LoadTypeCastInserter, MergeFilter, MergeForEach, NestedLimitOptimizer, PartitionFilterOptimizer, PredicatePushdownOptimizer, PushDownForEachFlatten, PushUpFilter, SplitFilter, StreamTypeCastInserter]}\n",
            "2024-01-16 18:17:48,201 [main] INFO  org.apache.pig.impl.util.SpillableMemoryManager - Selected heap (PS Old Gen) of size 699400192 to monitor. collectionUsageThreshold = 489580128, usageThreshold = 489580128\n",
            "2024-01-16 18:17:48,330 [main] INFO  org.apache.pig.backend.hadoop.executionengine.mapReduceLayer.MRCompiler - File concatenation threshold: 100 optimistic? false\n",
            "2024-01-16 18:17:48,357 [main] INFO  org.apache.pig.backend.hadoop.executionengine.mapReduceLayer.MRCompiler$LastInputStreamingOptimizer - Rewrite: POPackage->POForEach to POPackage(JoinPackager)\n",
            "2024-01-16 18:17:48,364 [main] INFO  org.apache.pig.backend.hadoop.executionengine.mapReduceLayer.MultiQueryOptimizer - MR plan size before optimization: 1\n",
            "2024-01-16 18:17:48,364 [main] INFO  org.apache.pig.backend.hadoop.executionengine.mapReduceLayer.MultiQueryOptimizer - MR plan size after optimization: 1\n",
            "2024-01-16 18:17:48,412 [main] INFO  org.apache.hadoop.conf.Configuration.deprecation - session.id is deprecated. Instead, use dfs.metrics.session-id\n",
            "2024-01-16 18:17:48,413 [main] INFO  org.apache.hadoop.metrics.jvm.JvmMetrics - Initializing JVM Metrics with processName=JobTracker, sessionId=\n",
            "2024-01-16 18:17:48,444 [main] INFO  org.apache.pig.tools.pigstats.mapreduce.MRScriptState - Pig script settings are added to the job\n",
            "2024-01-16 18:17:48,452 [main] INFO  org.apache.hadoop.conf.Configuration.deprecation - mapred.job.reduce.markreset.buffer.percent is deprecated. Instead, use mapreduce.reduce.markreset.buffer.percent\n",
            "2024-01-16 18:17:48,452 [main] INFO  org.apache.pig.backend.hadoop.executionengine.mapReduceLayer.JobControlCompiler - mapred.job.reduce.markreset.buffer.percent is not set, set to default 0.3\n",
            "2024-01-16 18:17:48,458 [main] INFO  org.apache.hadoop.conf.Configuration.deprecation - mapred.output.compress is deprecated. Instead, use mapreduce.output.fileoutputformat.compress\n",
            "2024-01-16 18:17:48,462 [main] INFO  org.apache.pig.backend.hadoop.executionengine.mapReduceLayer.JobControlCompiler - Reduce phase detected, estimating # of required reducers.\n",
            "2024-01-16 18:17:48,463 [main] INFO  org.apache.pig.backend.hadoop.executionengine.mapReduceLayer.JobControlCompiler - Using reducer estimator: org.apache.pig.backend.hadoop.executionengine.mapReduceLayer.InputSizeReducerEstimator\n",
            "2024-01-16 18:17:48,469 [main] INFO  org.apache.pig.backend.hadoop.executionengine.mapReduceLayer.InputSizeReducerEstimator - BytesPerReducer=1000000000 maxReducers=999 totalInputFileSize=1180\n",
            "2024-01-16 18:17:48,469 [main] INFO  org.apache.pig.backend.hadoop.executionengine.mapReduceLayer.JobControlCompiler - Setting Parallelism to 1\n",
            "2024-01-16 18:17:48,469 [main] INFO  org.apache.hadoop.conf.Configuration.deprecation - mapred.reduce.tasks is deprecated. Instead, use mapreduce.job.reduces\n",
            "2024-01-16 18:17:48,555 [main] INFO  org.apache.pig.backend.hadoop.executionengine.mapReduceLayer.JobControlCompiler - Setting up single store job\n",
            "2024-01-16 18:17:48,561 [main] INFO  org.apache.pig.data.SchemaTupleFrontend - Key [pig.schematuple] is false, will not generate code.\n",
            "2024-01-16 18:17:48,562 [main] INFO  org.apache.pig.data.SchemaTupleFrontend - Starting process to move generated code to distributed cacche\n",
            "2024-01-16 18:17:48,562 [main] INFO  org.apache.pig.data.SchemaTupleFrontend - Distributed cache not supported or needed in local mode. Setting key [pig.schematuple.local.dir] with code temp directory: /tmp/1705429068561-0\n",
            "2024-01-16 18:17:48,671 [main] INFO  org.apache.pig.backend.hadoop.executionengine.mapReduceLayer.MapReduceLauncher - 1 map-reduce job(s) waiting for submission.\n",
            "2024-01-16 18:17:48,673 [main] INFO  org.apache.hadoop.conf.Configuration.deprecation - mapred.job.tracker.http.address is deprecated. Instead, use mapreduce.jobtracker.http.address\n",
            "2024-01-16 18:17:48,682 [JobControl] INFO  org.apache.hadoop.metrics.jvm.JvmMetrics - Cannot initialize JVM Metrics with processName=JobTracker, sessionId= - already initialized\n",
            "2024-01-16 18:17:48,696 [JobControl] INFO  org.apache.hadoop.conf.Configuration.deprecation - mapred.task.id is deprecated. Instead, use mapreduce.task.attempt.id\n",
            "2024-01-16 18:17:48,765 [JobControl] WARN  org.apache.hadoop.mapreduce.JobResourceUploader - No job jar file set.  User classes may not be found. See Job or Job#setJar(String).\n",
            "2024-01-16 18:17:48,776 [JobControl] INFO  org.apache.pig.builtin.PigStorage - Using PigTextInputFormat\n",
            "2024-01-16 18:17:48,780 [JobControl] INFO  org.apache.hadoop.mapreduce.lib.input.FileInputFormat - Total input paths to process : 1\n",
            "2024-01-16 18:17:48,780 [JobControl] INFO  org.apache.pig.backend.hadoop.executionengine.util.MapRedUtil - Total input paths to process : 1\n",
            "2024-01-16 18:17:48,796 [JobControl] INFO  org.apache.pig.backend.hadoop.executionengine.util.MapRedUtil - Total input paths (combined) to process : 1\n",
            "2024-01-16 18:17:48,800 [JobControl] INFO  org.apache.pig.builtin.PigStorage - Using PigTextInputFormat\n",
            "2024-01-16 18:17:48,801 [JobControl] INFO  org.apache.hadoop.mapreduce.lib.input.FileInputFormat - Total input paths to process : 1\n",
            "2024-01-16 18:17:48,801 [JobControl] INFO  org.apache.pig.backend.hadoop.executionengine.util.MapRedUtil - Total input paths to process : 1\n",
            "2024-01-16 18:17:48,802 [JobControl] INFO  org.apache.pig.backend.hadoop.executionengine.util.MapRedUtil - Total input paths (combined) to process : 1\n",
            "2024-01-16 18:17:48,853 [JobControl] INFO  org.apache.hadoop.mapreduce.JobSubmitter - number of splits:2\n",
            "2024-01-16 18:17:48,987 [JobControl] INFO  org.apache.hadoop.mapreduce.JobSubmitter - Submitting tokens for job: job_local432293944_0001\n",
            "2024-01-16 18:17:49,144 [JobControl] INFO  org.apache.hadoop.mapreduce.Job - The url to track the job: http://localhost:8080/\n",
            "2024-01-16 18:17:49,146 [Thread-20] INFO  org.apache.hadoop.mapred.LocalJobRunner - OutputCommitter set in config null\n",
            "2024-01-16 18:17:49,171 [Thread-20] INFO  org.apache.hadoop.conf.Configuration.deprecation - mapred.job.tracker is deprecated. Instead, use mapreduce.jobtracker.address\n",
            "2024-01-16 18:17:49,171 [Thread-20] INFO  org.apache.hadoop.conf.Configuration.deprecation - mapred.job.reduce.markreset.buffer.percent is deprecated. Instead, use mapreduce.reduce.markreset.buffer.percent\n",
            "2024-01-16 18:17:49,172 [Thread-20] INFO  org.apache.hadoop.conf.Configuration.deprecation - mapred.reduce.tasks is deprecated. Instead, use mapreduce.job.reduces\n",
            "2024-01-16 18:17:49,175 [main] INFO  org.apache.pig.backend.hadoop.executionengine.mapReduceLayer.MapReduceLauncher - HadoopJobId: job_local432293944_0001\n",
            "2024-01-16 18:17:49,175 [main] INFO  org.apache.pig.backend.hadoop.executionengine.mapReduceLayer.MapReduceLauncher - Processing aliases clean_weather_data,filtered_data,joined_data,location_data,weather_data\n",
            "2024-01-16 18:17:49,175 [main] INFO  org.apache.pig.backend.hadoop.executionengine.mapReduceLayer.MapReduceLauncher - detailed locations: M: weather_data[2,15],weather_data[-1,-1],clean_weather_data[10,21],joined_data[23,14],location_data[18,16],location_data[-1,-1],filtered_data[26,16],joined_data[23,14] C:  R: \n",
            "2024-01-16 18:17:49,176 [Thread-20] INFO  org.apache.hadoop.mapreduce.lib.output.FileOutputCommitter - File Output Committer Algorithm version is 1\n",
            "2024-01-16 18:17:49,179 [main] INFO  org.apache.pig.backend.hadoop.executionengine.mapReduceLayer.MapReduceLauncher - 0% complete\n",
            "2024-01-16 18:17:49,180 [main] INFO  org.apache.pig.backend.hadoop.executionengine.mapReduceLayer.MapReduceLauncher - Running jobs are [job_local432293944_0001]\n",
            "2024-01-16 18:17:49,183 [Thread-20] INFO  org.apache.hadoop.mapred.LocalJobRunner - OutputCommitter is org.apache.pig.backend.hadoop.executionengine.mapReduceLayer.PigOutputCommitter\n",
            "2024-01-16 18:17:49,248 [Thread-20] INFO  org.apache.hadoop.mapred.LocalJobRunner - Waiting for map tasks\n",
            "2024-01-16 18:17:49,249 [LocalJobRunner Map Task Executor #0] INFO  org.apache.hadoop.mapred.LocalJobRunner - Starting task: attempt_local432293944_0001_m_000000_0\n",
            "2024-01-16 18:17:49,308 [LocalJobRunner Map Task Executor #0] INFO  org.apache.hadoop.mapreduce.lib.output.FileOutputCommitter - File Output Committer Algorithm version is 1\n",
            "2024-01-16 18:17:49,323 [LocalJobRunner Map Task Executor #0] INFO  org.apache.hadoop.mapred.Task -  Using ResourceCalculatorProcessTree : [ ]\n",
            "2024-01-16 18:17:49,330 [LocalJobRunner Map Task Executor #0] INFO  org.apache.hadoop.mapred.MapTask - Processing split: Number of splits :1\n",
            "Total Length = 622\n",
            "Input split[0]:\n",
            "   Length = 622\n",
            "   ClassName: org.apache.hadoop.mapreduce.lib.input.FileSplit\n",
            "   Locations:\n",
            "\n",
            "-----------------------\n",
            "\n",
            "2024-01-16 18:17:49,341 [LocalJobRunner Map Task Executor #0] INFO  org.apache.pig.builtin.PigStorage - Using PigTextInputFormat\n",
            "2024-01-16 18:17:49,345 [LocalJobRunner Map Task Executor #0] INFO  org.apache.pig.backend.hadoop.executionengine.mapReduceLayer.PigRecordReader - Current split being processed file:/content/weather.csv:0+622\n",
            "2024-01-16 18:17:49,420 [LocalJobRunner Map Task Executor #0] INFO  org.apache.hadoop.mapred.MapTask - (EQUATOR) 0 kvi 26214396(104857584)\n",
            "2024-01-16 18:17:49,420 [LocalJobRunner Map Task Executor #0] INFO  org.apache.hadoop.mapred.MapTask - mapreduce.task.io.sort.mb: 100\n",
            "2024-01-16 18:17:49,420 [LocalJobRunner Map Task Executor #0] INFO  org.apache.hadoop.mapred.MapTask - soft limit at 83886080\n",
            "2024-01-16 18:17:49,420 [LocalJobRunner Map Task Executor #0] INFO  org.apache.hadoop.mapred.MapTask - bufstart = 0; bufvoid = 104857600\n",
            "2024-01-16 18:17:49,420 [LocalJobRunner Map Task Executor #0] INFO  org.apache.hadoop.mapred.MapTask - kvstart = 26214396; length = 6553600\n",
            "2024-01-16 18:17:49,423 [LocalJobRunner Map Task Executor #0] INFO  org.apache.hadoop.mapred.MapTask - Map output collector class = org.apache.hadoop.mapred.MapTask$MapOutputBuffer\n",
            "2024-01-16 18:17:49,429 [LocalJobRunner Map Task Executor #0] INFO  org.apache.pig.impl.util.SpillableMemoryManager - Selected heap (PS Old Gen) of size 699400192 to monitor. collectionUsageThreshold = 489580128, usageThreshold = 489580128\n",
            "2024-01-16 18:17:49,430 [LocalJobRunner Map Task Executor #0] INFO  org.apache.pig.data.SchemaTupleBackend - Key [pig.schematuple] was not set... will not generate code.\n",
            "2024-01-16 18:17:49,461 [LocalJobRunner Map Task Executor #0] INFO  org.apache.pig.backend.hadoop.executionengine.mapReduceLayer.PigGenericMapReduce$Map - Aliases being processed per job phase (AliasName[line,offset]): M: weather_data[2,15],weather_data[-1,-1],clean_weather_data[10,21],joined_data[23,14],location_data[18,16],location_data[-1,-1],filtered_data[26,16],joined_data[23,14] C:  R: \n",
            "2024-01-16 18:17:49,477 [LocalJobRunner Map Task Executor #0] INFO  org.apache.hadoop.mapred.LocalJobRunner - \n",
            "2024-01-16 18:17:49,478 [LocalJobRunner Map Task Executor #0] INFO  org.apache.hadoop.mapred.MapTask - Starting flush of map output\n",
            "2024-01-16 18:17:49,478 [LocalJobRunner Map Task Executor #0] INFO  org.apache.hadoop.mapred.MapTask - Spilling map output\n",
            "2024-01-16 18:17:49,478 [LocalJobRunner Map Task Executor #0] INFO  org.apache.hadoop.mapred.MapTask - bufstart = 0; bufend = 299; bufvoid = 104857600\n",
            "2024-01-16 18:17:49,478 [LocalJobRunner Map Task Executor #0] INFO  org.apache.hadoop.mapred.MapTask - kvstart = 26214396(104857584); kvend = 26214348(104857392); length = 49/6553600\n",
            "2024-01-16 18:17:49,497 [LocalJobRunner Map Task Executor #0] INFO  org.apache.hadoop.mapred.MapTask - Finished spill 0\n",
            "2024-01-16 18:17:49,501 [LocalJobRunner Map Task Executor #0] INFO  org.apache.hadoop.mapred.Task - Task:attempt_local432293944_0001_m_000000_0 is done. And is in the process of committing\n",
            "2024-01-16 18:17:49,519 [LocalJobRunner Map Task Executor #0] INFO  org.apache.hadoop.mapred.LocalJobRunner - map\n",
            "2024-01-16 18:17:49,519 [LocalJobRunner Map Task Executor #0] INFO  org.apache.hadoop.mapred.Task - Task 'attempt_local432293944_0001_m_000000_0' done.\n",
            "2024-01-16 18:17:49,520 [LocalJobRunner Map Task Executor #0] INFO  org.apache.hadoop.mapred.LocalJobRunner - Finishing task: attempt_local432293944_0001_m_000000_0\n",
            "2024-01-16 18:17:49,520 [LocalJobRunner Map Task Executor #0] INFO  org.apache.hadoop.mapred.LocalJobRunner - Starting task: attempt_local432293944_0001_m_000001_0\n",
            "2024-01-16 18:17:49,527 [LocalJobRunner Map Task Executor #0] INFO  org.apache.hadoop.mapreduce.lib.output.FileOutputCommitter - File Output Committer Algorithm version is 1\n",
            "2024-01-16 18:17:49,528 [LocalJobRunner Map Task Executor #0] INFO  org.apache.hadoop.mapred.Task -  Using ResourceCalculatorProcessTree : [ ]\n",
            "2024-01-16 18:17:49,530 [LocalJobRunner Map Task Executor #0] INFO  org.apache.hadoop.mapred.MapTask - Processing split: Number of splits :1\n",
            "Total Length = 558\n",
            "Input split[0]:\n",
            "   Length = 558\n",
            "   ClassName: org.apache.hadoop.mapreduce.lib.input.FileSplit\n",
            "   Locations:\n",
            "\n",
            "-----------------------\n",
            "\n",
            "2024-01-16 18:17:49,534 [LocalJobRunner Map Task Executor #0] INFO  org.apache.pig.builtin.PigStorage - Using PigTextInputFormat\n",
            "2024-01-16 18:17:49,534 [LocalJobRunner Map Task Executor #0] INFO  org.apache.pig.backend.hadoop.executionengine.mapReduceLayer.PigRecordReader - Current split being processed file:/content/location.csv:0+558\n",
            "2024-01-16 18:17:49,622 [LocalJobRunner Map Task Executor #0] INFO  org.apache.hadoop.mapred.MapTask - (EQUATOR) 0 kvi 26214396(104857584)\n",
            "2024-01-16 18:17:49,622 [LocalJobRunner Map Task Executor #0] INFO  org.apache.hadoop.mapred.MapTask - mapreduce.task.io.sort.mb: 100\n",
            "2024-01-16 18:17:49,622 [LocalJobRunner Map Task Executor #0] INFO  org.apache.hadoop.mapred.MapTask - soft limit at 83886080\n",
            "2024-01-16 18:17:49,622 [LocalJobRunner Map Task Executor #0] INFO  org.apache.hadoop.mapred.MapTask - bufstart = 0; bufvoid = 104857600\n",
            "2024-01-16 18:17:49,622 [LocalJobRunner Map Task Executor #0] INFO  org.apache.hadoop.mapred.MapTask - kvstart = 26214396; length = 6553600\n",
            "2024-01-16 18:17:49,623 [LocalJobRunner Map Task Executor #0] INFO  org.apache.hadoop.mapred.MapTask - Map output collector class = org.apache.hadoop.mapred.MapTask$MapOutputBuffer\n",
            "2024-01-16 18:17:49,627 [LocalJobRunner Map Task Executor #0] INFO  org.apache.pig.impl.util.SpillableMemoryManager - Selected heap (PS Old Gen) of size 699400192 to monitor. collectionUsageThreshold = 489580128, usageThreshold = 489580128\n",
            "2024-01-16 18:17:49,628 [LocalJobRunner Map Task Executor #0] WARN  org.apache.pig.data.SchemaTupleBackend - SchemaTupleBackend has already been initialized\n",
            "2024-01-16 18:17:49,638 [LocalJobRunner Map Task Executor #0] INFO  org.apache.pig.backend.hadoop.executionengine.mapReduceLayer.PigGenericMapReduce$Map - Aliases being processed per job phase (AliasName[line,offset]): M: weather_data[2,15],weather_data[-1,-1],clean_weather_data[10,21],joined_data[23,14],location_data[18,16],location_data[-1,-1],filtered_data[26,16],joined_data[23,14] C:  R: \n",
            "2024-01-16 18:17:49,642 [LocalJobRunner Map Task Executor #0] INFO  org.apache.hadoop.mapred.LocalJobRunner - \n",
            "2024-01-16 18:17:49,642 [LocalJobRunner Map Task Executor #0] INFO  org.apache.hadoop.mapred.MapTask - Starting flush of map output\n",
            "2024-01-16 18:17:49,642 [LocalJobRunner Map Task Executor #0] INFO  org.apache.hadoop.mapred.MapTask - Spilling map output\n",
            "2024-01-16 18:17:49,642 [LocalJobRunner Map Task Executor #0] INFO  org.apache.hadoop.mapred.MapTask - bufstart = 0; bufend = 261; bufvoid = 104857600\n",
            "2024-01-16 18:17:49,642 [LocalJobRunner Map Task Executor #0] INFO  org.apache.hadoop.mapred.MapTask - kvstart = 26214396(104857584); kvend = 26214364(104857456); length = 33/6553600\n",
            "2024-01-16 18:17:49,644 [LocalJobRunner Map Task Executor #0] INFO  org.apache.hadoop.mapred.MapTask - Finished spill 0\n",
            "2024-01-16 18:17:49,645 [LocalJobRunner Map Task Executor #0] INFO  org.apache.hadoop.mapred.Task - Task:attempt_local432293944_0001_m_000001_0 is done. And is in the process of committing\n",
            "2024-01-16 18:17:49,647 [LocalJobRunner Map Task Executor #0] INFO  org.apache.hadoop.mapred.LocalJobRunner - map\n",
            "2024-01-16 18:17:49,647 [LocalJobRunner Map Task Executor #0] INFO  org.apache.hadoop.mapred.Task - Task 'attempt_local432293944_0001_m_000001_0' done.\n",
            "2024-01-16 18:17:49,647 [LocalJobRunner Map Task Executor #0] INFO  org.apache.hadoop.mapred.LocalJobRunner - Finishing task: attempt_local432293944_0001_m_000001_0\n",
            "2024-01-16 18:17:49,647 [Thread-20] INFO  org.apache.hadoop.mapred.LocalJobRunner - map task executor complete.\n",
            "2024-01-16 18:17:49,651 [Thread-20] INFO  org.apache.hadoop.mapred.LocalJobRunner - Waiting for reduce tasks\n",
            "2024-01-16 18:17:49,652 [pool-3-thread-1] INFO  org.apache.hadoop.mapred.LocalJobRunner - Starting task: attempt_local432293944_0001_r_000000_0\n",
            "2024-01-16 18:17:49,675 [pool-3-thread-1] INFO  org.apache.hadoop.mapreduce.lib.output.FileOutputCommitter - File Output Committer Algorithm version is 1\n",
            "2024-01-16 18:17:49,680 [main] INFO  org.apache.pig.backend.hadoop.executionengine.mapReduceLayer.MapReduceLauncher - 50% complete\n",
            "2024-01-16 18:17:49,680 [pool-3-thread-1] INFO  org.apache.hadoop.mapred.Task -  Using ResourceCalculatorProcessTree : [ ]\n",
            "2024-01-16 18:17:49,680 [main] INFO  org.apache.pig.backend.hadoop.executionengine.mapReduceLayer.MapReduceLauncher - Running jobs are [job_local432293944_0001]\n",
            "2024-01-16 18:17:49,683 [pool-3-thread-1] INFO  org.apache.hadoop.mapred.ReduceTask - Using ShuffleConsumerPlugin: org.apache.hadoop.mapreduce.task.reduce.Shuffle@2203405f\n",
            "2024-01-16 18:17:49,697 [pool-3-thread-1] INFO  org.apache.hadoop.mapreduce.task.reduce.MergeManagerImpl - MergerManager: memoryLimit=652528832, maxSingleShuffleLimit=163132208, mergeThreshold=430669056, ioSortFactor=10, memToMemMergeOutputsThreshold=10\n",
            "2024-01-16 18:17:49,700 [EventFetcher for fetching Map Completion Events] INFO  org.apache.hadoop.mapreduce.task.reduce.EventFetcher - attempt_local432293944_0001_r_000000_0 Thread started: EventFetcher for fetching Map Completion Events\n",
            "2024-01-16 18:17:49,780 [localfetcher#1] INFO  org.apache.hadoop.mapreduce.task.reduce.LocalFetcher - localfetcher#1 about to shuffle output of map attempt_local432293944_0001_m_000001_0 decomp: 281 len: 285 to MEMORY\n",
            "2024-01-16 18:17:49,795 [localfetcher#1] INFO  org.apache.hadoop.mapreduce.task.reduce.InMemoryMapOutput - Read 281 bytes from map-output for attempt_local432293944_0001_m_000001_0\n",
            "2024-01-16 18:17:49,801 [localfetcher#1] INFO  org.apache.hadoop.mapreduce.task.reduce.MergeManagerImpl - closeInMemoryFile -> map-output of size: 281, inMemoryMapOutputs.size() -> 1, commitMemory -> 0, usedMemory ->281\n",
            "2024-01-16 18:17:49,803 [localfetcher#1] INFO  org.apache.hadoop.mapreduce.task.reduce.LocalFetcher - localfetcher#1 about to shuffle output of map attempt_local432293944_0001_m_000000_0 decomp: 327 len: 331 to MEMORY\n",
            "2024-01-16 18:17:49,806 [localfetcher#1] INFO  org.apache.hadoop.mapreduce.task.reduce.InMemoryMapOutput - Read 327 bytes from map-output for attempt_local432293944_0001_m_000000_0\n",
            "2024-01-16 18:17:49,809 [localfetcher#1] INFO  org.apache.hadoop.mapreduce.task.reduce.MergeManagerImpl - closeInMemoryFile -> map-output of size: 327, inMemoryMapOutputs.size() -> 2, commitMemory -> 281, usedMemory ->608\n",
            "2024-01-16 18:17:49,809 [EventFetcher for fetching Map Completion Events] INFO  org.apache.hadoop.mapreduce.task.reduce.EventFetcher - EventFetcher is interrupted.. Returning\n",
            "2024-01-16 18:17:49,810 [pool-3-thread-1] INFO  org.apache.hadoop.mapred.LocalJobRunner - 2 / 2 copied.\n",
            "2024-01-16 18:17:49,810 [pool-3-thread-1] INFO  org.apache.hadoop.mapreduce.task.reduce.MergeManagerImpl - finalMerge called with 2 in-memory map-outputs and 0 on-disk map-outputs\n",
            "2024-01-16 18:17:49,829 [pool-3-thread-1] INFO  org.apache.hadoop.mapred.Merger - Merging 2 sorted segments\n",
            "2024-01-16 18:17:49,830 [pool-3-thread-1] INFO  org.apache.hadoop.mapred.Merger - Down to the last merge-pass, with 2 segments left of total size: 578 bytes\n",
            "2024-01-16 18:17:49,832 [pool-3-thread-1] INFO  org.apache.hadoop.mapreduce.task.reduce.MergeManagerImpl - Merged 2 segments, 608 bytes to disk to satisfy reduce memory limit\n",
            "2024-01-16 18:17:49,833 [pool-3-thread-1] INFO  org.apache.hadoop.mapreduce.task.reduce.MergeManagerImpl - Merging 1 files, 610 bytes from disk\n",
            "2024-01-16 18:17:49,833 [pool-3-thread-1] INFO  org.apache.hadoop.mapreduce.task.reduce.MergeManagerImpl - Merging 0 segments, 0 bytes from memory into reduce\n",
            "2024-01-16 18:17:49,833 [pool-3-thread-1] INFO  org.apache.hadoop.mapred.Merger - Merging 1 sorted segments\n",
            "2024-01-16 18:17:49,834 [pool-3-thread-1] INFO  org.apache.hadoop.mapred.Merger - Down to the last merge-pass, with 1 segments left of total size: 591 bytes\n",
            "2024-01-16 18:17:49,837 [pool-3-thread-1] INFO  org.apache.hadoop.mapred.LocalJobRunner - 2 / 2 copied.\n",
            "2024-01-16 18:17:49,851 [pool-3-thread-1] INFO  org.apache.hadoop.mapreduce.lib.output.FileOutputCommitter - File Output Committer Algorithm version is 1\n",
            "2024-01-16 18:17:49,865 [pool-3-thread-1] INFO  org.apache.hadoop.conf.Configuration.deprecation - mapred.skip.on is deprecated. Instead, use mapreduce.job.skiprecords\n",
            "2024-01-16 18:17:49,873 [pool-3-thread-1] INFO  org.apache.pig.impl.util.SpillableMemoryManager - Selected heap (PS Old Gen) of size 699400192 to monitor. collectionUsageThreshold = 489580128, usageThreshold = 489580128\n",
            "2024-01-16 18:17:49,874 [pool-3-thread-1] WARN  org.apache.pig.data.SchemaTupleBackend - SchemaTupleBackend has already been initialized\n",
            "2024-01-16 18:17:49,879 [pool-3-thread-1] INFO  org.apache.pig.backend.hadoop.executionengine.mapReduceLayer.PigMapReduce$Reduce - Aliases being processed per job phase (AliasName[line,offset]): M: weather_data[2,15],weather_data[-1,-1],clean_weather_data[10,21],joined_data[23,14],location_data[18,16],location_data[-1,-1],filtered_data[26,16],joined_data[23,14] C:  R: \n",
            "2024-01-16 18:17:49,898 [pool-3-thread-1] INFO  org.apache.hadoop.mapred.Task - Task:attempt_local432293944_0001_r_000000_0 is done. And is in the process of committing\n",
            "2024-01-16 18:17:49,903 [pool-3-thread-1] INFO  org.apache.hadoop.mapred.LocalJobRunner - 2 / 2 copied.\n",
            "2024-01-16 18:17:49,903 [pool-3-thread-1] INFO  org.apache.hadoop.mapred.Task - Task attempt_local432293944_0001_r_000000_0 is allowed to commit now\n",
            "2024-01-16 18:17:49,908 [pool-3-thread-1] INFO  org.apache.hadoop.mapreduce.lib.output.FileOutputCommitter - Saved output of task 'attempt_local432293944_0001_r_000000_0' to file:/tmp/temp-345937610/tmp236650947/_temporary/0/task_local432293944_0001_r_000000\n",
            "2024-01-16 18:17:49,910 [pool-3-thread-1] INFO  org.apache.hadoop.mapred.LocalJobRunner - reduce > reduce\n",
            "2024-01-16 18:17:49,910 [pool-3-thread-1] INFO  org.apache.hadoop.mapred.Task - Task 'attempt_local432293944_0001_r_000000_0' done.\n",
            "2024-01-16 18:17:49,910 [pool-3-thread-1] INFO  org.apache.hadoop.mapred.LocalJobRunner - Finishing task: attempt_local432293944_0001_r_000000_0\n",
            "2024-01-16 18:17:49,910 [Thread-20] INFO  org.apache.hadoop.mapred.LocalJobRunner - reduce task executor complete.\n",
            "2024-01-16 18:17:50,051 [main] INFO  org.apache.hadoop.metrics.jvm.JvmMetrics - Cannot initialize JVM Metrics with processName=JobTracker, sessionId= - already initialized\n",
            "2024-01-16 18:17:50,063 [main] INFO  org.apache.hadoop.metrics.jvm.JvmMetrics - Cannot initialize JVM Metrics with processName=JobTracker, sessionId= - already initialized\n",
            "2024-01-16 18:17:50,063 [main] INFO  org.apache.hadoop.conf.Configuration.deprecation - mapred.map.tasks is deprecated. Instead, use mapreduce.job.maps\n",
            "2024-01-16 18:17:50,065 [main] INFO  org.apache.hadoop.metrics.jvm.JvmMetrics - Cannot initialize JVM Metrics with processName=JobTracker, sessionId= - already initialized\n",
            "2024-01-16 18:17:50,104 [main] INFO  org.apache.pig.backend.hadoop.executionengine.mapReduceLayer.MapReduceLauncher - 100% complete\n",
            "2024-01-16 18:17:50,105 [main] INFO  org.apache.pig.tools.pigstats.mapreduce.SimplePigStats - Script Statistics: \n",
            "\n",
            "HadoopVersion\tPigVersion\tUserId\tStartedAt\tFinishedAt\tFeatures\n",
            "2.7.3\t0.17.0\troot\t2024-01-16 18:17:48\t2024-01-16 18:17:50\tHASH_JOIN,FILTER\n",
            "\n",
            "Success!\n",
            "\n",
            "Job Stats (time in seconds):\n",
            "JobId\tMaps\tReduces\tMaxMapTime\tMinMapTime\tAvgMapTime\tMedianMapTime\tMaxReduceTime\tMinReduceTime\tAvgReduceTime\tMedianReducetime\tAlias\tFeature\tOutputs\n",
            "job_local432293944_0001\t2\t1\tn/a\tn/a\tn/a\tn/a\tn/a\tn/a\tn/a\tn/a\tclean_weather_data,filtered_data,joined_data,location_data,weather_data\tHASH_JOIN\tfile:/tmp/temp-345937610/tmp236650947,\n",
            "\n",
            "Input(s):\n",
            "Successfully read 25 records from: \"/content/weather.csv\"\n",
            "Successfully read 25 records from: \"/content/location.csv\"\n",
            "\n",
            "Output(s):\n",
            "Successfully stored 5 records in: \"file:/tmp/temp-345937610/tmp236650947\"\n",
            "\n",
            "Counters:\n",
            "Total records written : 5\n",
            "Total bytes written : 0\n",
            "Spillable Memory Manager spill count : 0\n",
            "Total bags proactively spilled: 0\n",
            "Total records proactively spilled: 0\n",
            "\n",
            "Job DAG:\n",
            "job_local432293944_0001\n",
            "\n",
            "\n",
            "2024-01-16 18:17:50,107 [main] INFO  org.apache.hadoop.metrics.jvm.JvmMetrics - Cannot initialize JVM Metrics with processName=JobTracker, sessionId= - already initialized\n",
            "2024-01-16 18:17:50,108 [main] INFO  org.apache.hadoop.metrics.jvm.JvmMetrics - Cannot initialize JVM Metrics with processName=JobTracker, sessionId= - already initialized\n",
            "2024-01-16 18:17:50,109 [main] INFO  org.apache.hadoop.metrics.jvm.JvmMetrics - Cannot initialize JVM Metrics with processName=JobTracker, sessionId= - already initialized\n",
            "2024-01-16 18:17:50,116 [main] INFO  org.apache.pig.backend.hadoop.executionengine.mapReduceLayer.MapReduceLauncher - Success!\n",
            "2024-01-16 18:17:50,121 [main] WARN  org.apache.pig.data.SchemaTupleBackend - SchemaTupleBackend has already been initialized\n",
            "2024-01-16 18:17:50,137 [main] INFO  org.apache.hadoop.mapreduce.lib.input.FileInputFormat - Total input paths to process : 1\n",
            "2024-01-16 18:17:50,137 [main] INFO  org.apache.pig.backend.hadoop.executionengine.util.MapRedUtil - Total input paths to process : 1\n",
            "(2023-01-12,22,1006,73,2023-01-12,Las Palmas)\n",
            "(2023-01-13,24,1002,76,2023-01-13,Las Palmas)\n",
            "(2023-01-14,26,1000,70,2023-01-14,Las Palmas)\n",
            "(2023-01-23,24,1007,55,2023-01-23,Las Palmas)\n",
            "(2023-01-25,20,1015,68,2023-01-25,Las Palmas)\n",
            "2024-01-16 18:17:50,223 [main] INFO  org.apache.hadoop.conf.Configuration.deprecation - mapred.textoutputformat.separator is deprecated. Instead, use mapreduce.output.textoutputformat.separator\n",
            "2024-01-16 18:17:50,228 [main] ERROR org.apache.pig.tools.grunt.Grunt - ERROR 6000: <file cuarto.pig, line 30, column 0> Output Location Validation Failed for: 'file:///content/output2 More info to follow:\n",
            "Output directory file:/content/output2 already exists\n",
            "Details at logfile: /content/pig_1705429066819.log\n",
            "2024-01-16 18:17:50,248 [main] INFO  org.apache.pig.Main - Pig script completed in 4 seconds and 95 milliseconds (4095 ms)\n"
          ]
        }
      ]
    },
    {
      "cell_type": "code",
      "source": [
        "!mv /content/output2/part-r-00000 /content/output.csv"
      ],
      "metadata": {
        "colab": {
          "base_uri": "https://localhost:8080/"
        },
        "id": "dKAzCCEFbbwS",
        "outputId": "381f6670-757b-48a6-8d3c-7e2f1d741769"
      },
      "execution_count": 188,
      "outputs": [
        {
          "output_type": "stream",
          "name": "stdout",
          "text": [
            "mv: cannot stat '/content/output2/part-r-00000': No such file or directory\n"
          ]
        }
      ]
    },
    {
      "cell_type": "markdown",
      "source": [
        "# 5. Exportación de Datos para Visualización:\n"
      ],
      "metadata": {
        "id": "EmZ23PmbWYh7"
      }
    },
    {
      "cell_type": "code",
      "source": [
        "# %%writefile quinto.pig\n",
        "# -- Aplicar transformaciones o filtros adicionales según sea necesario\n",
        "# -- Por ejemplo, seleccionar sólo los datos de una ubicación específica\n",
        "# filtered_data = FILTER joined_data BY location == 'Las Palmas\n",
        "\n",
        "# -- Guardar los resultados en un archivo\n",
        "# STORE filtered_data INTO '/path/to/output' USING PigStorage(',');\n",
        "\n",
        "# -- movemos el archivo de salida y lo cambiamos de nombre\n",
        "# !mv /content/output2/part-r-00000 /content/output.csv"
      ],
      "metadata": {
        "id": "M4JMYiK5WXqS"
      },
      "execution_count": 189,
      "outputs": []
    },
    {
      "cell_type": "code",
      "source": [
        "!pig -x local -f quinto.pig"
      ],
      "metadata": {
        "colab": {
          "base_uri": "https://localhost:8080/"
        },
        "id": "2nWLqIH6Xb8o",
        "outputId": "abbb5ad3-b841-4f15-fa57-6b45ba922d0d"
      },
      "execution_count": 190,
      "outputs": [
        {
          "output_type": "stream",
          "name": "stdout",
          "text": [
            "2024-01-16 18:17:51,380 INFO  [main] pig.ExecTypeProvider (ExecTypeProvider.java:selectExecType(41)) - Trying ExecType : LOCAL\n",
            "2024-01-16 18:17:51,382 INFO  [main] pig.ExecTypeProvider (ExecTypeProvider.java:selectExecType(43)) - Picked LOCAL as the ExecType\n",
            "2024-01-16 18:17:51,430 [main] INFO  org.apache.pig.Main - Apache Pig version 0.17.0 (r1797386) compiled Jun 02 2017, 15:41:58\n",
            "2024-01-16 18:17:51,432 [main] INFO  org.apache.pig.Main - Logging error messages to: /content/pig_1705429071422.log\n",
            "2024-01-16 18:17:51,452 [main] INFO  org.apache.hadoop.conf.Configuration.deprecation - user.name is deprecated. Instead, use mapreduce.job.user.name\n",
            "2024-01-16 18:17:51,896 [main] INFO  org.apache.pig.impl.util.Utils - Default bootup file /root/.pigbootup not found\n",
            "2024-01-16 18:17:52,034 [main] INFO  org.apache.hadoop.conf.Configuration.deprecation - mapred.job.tracker is deprecated. Instead, use mapreduce.jobtracker.address\n",
            "2024-01-16 18:17:52,036 [main] INFO  org.apache.pig.backend.hadoop.executionengine.HExecutionEngine - Connecting to hadoop file system at: file:///\n",
            "2024-01-16 18:17:52,068 [main] INFO  org.apache.pig.PigServer - Pig Script ID for the session: PIG-quinto.pig-7995a845-2008-45c7-a96b-49299bc0a40d\n",
            "2024-01-16 18:17:52,068 [main] WARN  org.apache.pig.PigServer - ATS is disabled since yarn.timeline-service.enabled set to false\n",
            "2024-01-16 18:17:52,117 [main] ERROR org.apache.pig.tools.grunt.Grunt - ERROR 1000: Error during parsing. Lexical error at line 10, column 0.  Encountered: <EOF> after : \"\"\n",
            "Details at logfile: /content/pig_1705429071422.log\n",
            "2024-01-16 18:17:52,131 [main] INFO  org.apache.pig.Main - Pig script completed in 1 second and 323 milliseconds (1323 ms)\n"
          ]
        }
      ]
    },
    {
      "cell_type": "markdown",
      "source": [
        "# Vemos los datos"
      ],
      "metadata": {
        "id": "XPh0ZNPIXSEI"
      }
    },
    {
      "cell_type": "code",
      "source": [
        "#Cargamos los datos y seleccionamos las dos primeras columnas\n",
        "data = pd.read_csv('/content/output.csv', header=None, usecols=[0, 1])"
      ],
      "metadata": {
        "id": "tq31SJEHXTt1"
      },
      "execution_count": 191,
      "outputs": []
    },
    {
      "cell_type": "code",
      "source": [
        "#Asiganmos nombres a estas columnas\n",
        "data.columns = ['date','temperature']\n",
        "#Visualizar los datos temporales\n",
        "plt.plot(data['date'], data['temperature'])\n",
        "plt.title('Temperatura a lo largo del tiempo')\n",
        "plt.xlabel('Fecha')\n",
        "plt.ylabel('Temperatura')\n",
        "plt.show()"
      ],
      "metadata": {
        "colab": {
          "base_uri": "https://localhost:8080/",
          "height": 472
        },
        "id": "5ywTInxjWrl1",
        "outputId": "f0babec4-ca73-4355-cbdc-0e218b92961d"
      },
      "execution_count": 192,
      "outputs": [
        {
          "output_type": "display_data",
          "data": {
            "text/plain": [
              "<Figure size 640x480 with 1 Axes>"
            ],
            "image/png": "[encoded data removed]"
          },
          "metadata": {}
        }
      ]
    }
  ]
}