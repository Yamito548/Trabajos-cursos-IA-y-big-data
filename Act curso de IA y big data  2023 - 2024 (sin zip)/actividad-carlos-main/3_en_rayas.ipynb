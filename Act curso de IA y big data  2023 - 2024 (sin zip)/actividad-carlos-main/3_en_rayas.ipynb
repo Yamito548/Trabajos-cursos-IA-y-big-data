{
  "nbformat": 4,
  "nbformat_minor": 0,
  "metadata": {
    "colab": {
      "provenance": [],
      "collapsed_sections": [
        "ZgYdLVyzNhCF"
      ],
      "authorship_tag": "ABX9TyP2i/urmq0FxdMcpVElW9OU",
      "include_colab_link": true
    },
    "kernelspec": {
      "name": "python3",
      "display_name": "Python 3"
    },
    "language_info": {
      "name": "python"
    }
  },
  "cells": [
    {
      "cell_type": "markdown",
      "metadata": {
        "id": "view-in-github",
        "colab_type": "text"
      },
      "source": [
        "<a href=\"https://colab.research.google.com/github/Yamito548/actividad-carlos/blob/main/3_en_rayas.ipynb\" target=\"_parent\"><img src=\"https://colab.research.google.com/assets/colab-badge.svg\" alt=\"Open In Colab\"/></a>"
      ]
    },
    {
      "cell_type": "markdown",
      "source": [
        "# Librerías"
      ],
      "metadata": {
        "id": "ph1TC-Vq4XIl"
      }
    },
    {
      "cell_type": "code",
      "source": [
        "import numpy as np\n",
        "import math"
      ],
      "metadata": {
        "id": "75yjwg8S4ZAB"
      },
      "execution_count": 28,
      "outputs": []
    },
    {
      "cell_type": "markdown",
      "source": [
        "# Funciones"
      ],
      "metadata": {
        "id": "R930DM7gXJP3"
      }
    },
    {
      "cell_type": "code",
      "source": [
        "def cont(numero):\n",
        "  if a == numero or b == numero or c == numero or d == numero or e == numero or f == numero or g == numero or h == numero or i == numero:\n",
        "    contador += 1"
      ],
      "metadata": {
        "id": "7JjNao4XglW7"
      },
      "execution_count": 29,
      "outputs": []
    },
    {
      "cell_type": "code",
      "source": [
        "#Variables y diccionarios\n",
        "lista = []\n",
        "count = 0\n",
        "diccionario = {}\n",
        "diccionario_inverso = {}"
      ],
      "metadata": {
        "id": "k-XpI2aJ-8-_"
      },
      "execution_count": 30,
      "outputs": []
    },
    {
      "cell_type": "markdown",
      "source": [
        "# Generación, recorrido, diccionarios y estados posibles"
      ],
      "metadata": {
        "id": "-lPiony2WiLf"
      }
    },
    {
      "cell_type": "code",
      "execution_count": 82,
      "metadata": {
        "id": "gVgAIqfnyB3b"
      },
      "outputs": [],
      "source": [
        "#Generar todos los estados\n",
        "#Recorremos las posibles opciones.\n",
        "estados_posibles = 0\n",
        "estado_num_pos = []\n",
        "estados_totales = 0\n",
        "estado_num_lista = []\n",
        "#Acciones posibles\n",
        "# acciones_posibles = [(fila, columna) for fila in range(3) for columna in range(3)]\n",
        "for a in range(3):\n",
        "  for b in range(3):\n",
        "    for c in range(3):\n",
        "      for d in range(3):\n",
        "        for e in range(3):\n",
        "          for f in range(3):\n",
        "            for g in range(3):\n",
        "              for h in range(3):\n",
        "                for i in range(3):\n",
        "                  #Pillamos el conjuto de números que nos suelta.\n",
        "                  esta_num = [a,b,c,d,e,f,g,h,i]\n",
        "                  estado_num_lista.append(esta_num)\n",
        "                  #Buscamos la cantidad de unos y dos que haya.\n",
        "                  cont1 = np.count_nonzero(esta_num == 1)\n",
        "                  cont2 = np.count_nonzero(esta_num == 2)\n",
        "                  #En el caso de que la cantidad de 2 sea igual que 1 o dos siendo mayor que 1 por 1 número. RECUERDA los parentesís son importantes.\n",
        "                  if (cont2 == cont1) or (cont2 == (cont1-1)):\n",
        "                    estado = pow(3,8)*a + pow(3,7)*b + pow(3,6)*c + pow(3,5)*d + pow(3,4)*e + pow(3,3)*f + pow(3,2)*g + 3*h + i\n",
        "                    if estado not in lista:\n",
        "                      lista.append(estado)\n",
        "                      estados_posibles +=1\n",
        "                      #Añadimos los estados a los diccionarios\n",
        "                      diccionario[estado] = count\n",
        "                      diccionario_inverso[count] = estado\n",
        "                      count += 1\n",
        "\n",
        "                    #Recorremos el estado.\n",
        "                    for letra in range(8, -1, -1):\n",
        "                      variable = estado % 3\n",
        "                      estado -= variable\n",
        "                      estado //= 3\n",
        "                      esta_num[letra] = variable\n",
        "\n",
        "# print(diccionario)\n",
        "# len(diccionario_inverso)"
      ]
    },
    {
      "cell_type": "markdown",
      "source": [
        "# Matriz"
      ],
      "metadata": {
        "id": "Wc8N7N8ZUrng"
      }
    },
    {
      "cell_type": "code",
      "source": [
        "#Creamos tabla de trasnciciones\n",
        "tabla_transiciones = np.full((len(diccionario), 9), 0)\n",
        "\n",
        "tabla_recompensas = np.zeros(len(diccionario))\n",
        "\n",
        "jugador = 2  # Comienza el segundo agente\n",
        "\n",
        "for estado in diccionario:\n",
        "    # Representación.\n",
        "    r = list(map(int, list(np.base_repr(diccionario[estado], base=3).zfill(9))))\n",
        "\n",
        "    # Para cada acción a de ese estado\n",
        "    for a in range(9):\n",
        "        # Probar si es posible realizar la acción a sobre r\n",
        "        if r[a] == 0:  # Asumiendo que un valor de 0 en r indica una casilla vacía\n",
        "            # Si es posible, calcular la representación de estado resultante k\n",
        "            k = r.copy()\n",
        "            k[a] = jugador\n",
        "            # Usar diccionario inverso para obtener número de estado\n",
        "            estado = int(''.join(map(str, k)), 3)\n",
        "            if estado in diccionario_inverso:\n",
        "                # Actualizar valor de la tabla con el número de estado\n",
        "                tabla_transiciones[estado, a] = jugador\n",
        "                # Cambia el jugador para el siguiente estado\n",
        "                jugador = 3 - jugador  # Esto alternará entre 1 y 2\n",
        "\n",
        "tabla_transiciones[3000]\n",
        "#Tabla_recompensas"
      ],
      "metadata": {
        "colab": {
          "base_uri": "https://localhost:8080/"
        },
        "id": "b_snprPgSx57",
        "outputId": "8194dc91-9880-4efd-aa6c-d0ed7149318c"
      },
      "execution_count": 87,
      "outputs": [
        {
          "output_type": "execute_result",
          "data": {
            "text/plain": [
              "array([0, 1, 1, 0, 0, 0, 0, 0, 0])"
            ]
          },
          "metadata": {},
          "execution_count": 87
        }
      ]
    },
    {
      "cell_type": "code",
      "source": [
        "# Definir el conjunto específico de números a buscar\n",
        "conjunto_a_buscar =  [0, 2, 2, 0, 0, 1, 2, 2, 1]\n",
        "\n",
        "# Encontrar la posición del conjunto en la tabla\n",
        "posiciones = np.where(np.all(tabla_transiciones == conjunto_a_buscar, axis=1))\n",
        "\n",
        "# Mostrar las posiciones encontradas\n",
        "if posiciones[0].size > 0:\n",
        "    print(f\"El conjunto {conjunto_a_buscar} se encuentra en la fila {posiciones[0][0]} de la tabla.\")\n",
        "else:\n",
        "    print(f\"No se encontró el conjunto {conjunto_a_buscar} en la tabla.\")"
      ],
      "metadata": {
        "colab": {
          "base_uri": "https://localhost:8080/"
        },
        "id": "ylWbodZUSudb",
        "outputId": "877c3f19-f07e-4cab-bcab-b790d723bb97"
      },
      "execution_count": 33,
      "outputs": [
        {
          "output_type": "stream",
          "name": "stdout",
          "text": [
            "No se encontró el conjunto [0, 2, 2, 0, 0, 1, 2, 2, 1] en la tabla.\n"
          ]
        }
      ]
    },
    {
      "cell_type": "markdown",
      "source": [
        "# Tabla de recompensas"
      ],
      "metadata": {
        "id": "QedZjZphUwAv"
      }
    },
    {
      "cell_type": "code",
      "source": [
        "\n"
      ],
      "metadata": {
        "id": "aV5_W2m3UvNO"
      },
      "execution_count": 33,
      "outputs": []
    },
    {
      "cell_type": "markdown",
      "source": [
        "# **Ocultar**"
      ],
      "metadata": {
        "id": "ZgYdLVyzNhCF"
      }
    },
    {
      "cell_type": "code",
      "source": [
        "import numpy as np\n",
        "\n",
        "# Crear un array de ejemplo\n",
        "mi_array = np.array([1, 2, 3, 2, 4, 2, 5, 2, 6])\n",
        "\n",
        "# Número que deseas contar\n",
        "numero_a_contar = 2\n",
        "\n",
        "# Contar el número de veces que aparece el valor en el array\n",
        "numero_de_repeticiones = np.count_nonzero(mi_array == numero_a_contar)\n",
        "\n",
        "print(f\"El número de veces que {numero_a_contar} aparece en el array es: {numero_de_repeticiones}\")\n"
      ],
      "metadata": {
        "colab": {
          "base_uri": "https://localhost:8080/"
        },
        "id": "IrQQvGIuLRvX",
        "outputId": "65396cb3-067d-4d4a-f7e4-8a760236ecb5"
      },
      "execution_count": 34,
      "outputs": [
        {
          "output_type": "stream",
          "name": "stdout",
          "text": [
            "El número de veces que 2 aparece en el array es: 4\n"
          ]
        }
      ]
    }
  ]
}