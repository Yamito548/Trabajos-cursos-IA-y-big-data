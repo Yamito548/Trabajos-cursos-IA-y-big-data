{
  "nbformat": 4,
  "nbformat_minor": 0,
  "metadata": {
    "colab": {
      "provenance": [],
      "authorship_tag": "ABX9TyOl6QVGZgb9E3aQhk4jUygw",
      "include_colab_link": true
    },
    "kernelspec": {
      "name": "python3",
      "display_name": "Python 3"
    },
    "language_info": {
      "name": "python"
    }
  },
  "cells": [
    {
      "cell_type": "markdown",
      "metadata": {
        "id": "view-in-github",
        "colab_type": "text"
      },
      "source": [
        "<a href=\"https://colab.research.google.com/github/Yamito548/Act-3.3/blob/main/(Resubido)Actividad_3_3_%E2%80%93_IRIS_con_NaiveBayes_y_Cross_Validation.ipynb\" target=\"_parent\"><img src=\"https://colab.research.google.com/assets/colab-badge.svg\" alt=\"Open In Colab\"/></a>"
      ]
    },
    {
      "cell_type": "markdown",
      "source": [
        "**Ejercicicio 3.3** by Dylan J. Ramírez Bermúdez\n",
        "Dataset pingüinos (Revisado)"
      ],
      "metadata": {
        "id": "oZr2EOVIfOYq"
      }
    },
    {
      "cell_type": "markdown",
      "source": [
        "# Cross validation"
      ],
      "metadata": {
        "id": "EBv4fSPLVPzO"
      }
    },
    {
      "cell_type": "code",
      "execution_count": 1,
      "metadata": {
        "id": "_WTOzBTYTm9g",
        "outputId": "2331cbd9-e39b-4740-e925-15ebb5c8ee4d",
        "colab": {
          "base_uri": "https://localhost:8080/",
          "height": 424
        }
      },
      "outputs": [
        {
          "output_type": "execute_result",
          "data": {
            "text/plain": [
              "    species     island  bill_length_mm  bill_depth_mm  flipper_length_mm  \\\n",
              "0    Adelie  Torgersen            39.1           18.7              181.0   \n",
              "1    Adelie  Torgersen            39.5           17.4              186.0   \n",
              "2    Adelie  Torgersen            40.3           18.0              195.0   \n",
              "3    Adelie  Torgersen             NaN            NaN                NaN   \n",
              "4    Adelie  Torgersen            36.7           19.3              193.0   \n",
              "..      ...        ...             ...            ...                ...   \n",
              "339  Gentoo     Biscoe             NaN            NaN                NaN   \n",
              "340  Gentoo     Biscoe            46.8           14.3              215.0   \n",
              "341  Gentoo     Biscoe            50.4           15.7              222.0   \n",
              "342  Gentoo     Biscoe            45.2           14.8              212.0   \n",
              "343  Gentoo     Biscoe            49.9           16.1              213.0   \n",
              "\n",
              "     body_mass_g     sex  \n",
              "0         3750.0    Male  \n",
              "1         3800.0  Female  \n",
              "2         3250.0  Female  \n",
              "3            NaN     NaN  \n",
              "4         3450.0  Female  \n",
              "..           ...     ...  \n",
              "339          NaN     NaN  \n",
              "340       4850.0  Female  \n",
              "341       5750.0    Male  \n",
              "342       5200.0  Female  \n",
              "343       5400.0    Male  \n",
              "\n",
              "[344 rows x 7 columns]"
            ],
            "text/html": [
              "\n",
              "  <div id=\"df-3956687d-bf87-441f-98b2-e86fbb83a938\" class=\"colab-df-container\">\n",
              "    <div>\n",
              "<style scoped>\n",
              "    .dataframe tbody tr th:only-of-type {\n",
              "        vertical-align: middle;\n",
              "    }\n",
              "\n",
              "    .dataframe tbody tr th {\n",
              "        vertical-align: top;\n",
              "    }\n",
              "\n",
              "    .dataframe thead th {\n",
              "        text-align: right;\n",
              "    }\n",
              "</style>\n",
              "<table border=\"1\" class=\"dataframe\">\n",
              "  <thead>\n",
              "    <tr style=\"text-align: right;\">\n",
              "      <th></th>\n",
              "      <th>species</th>\n",
              "      <th>island</th>\n",
              "      <th>bill_length_mm</th>\n",
              "      <th>bill_depth_mm</th>\n",
              "      <th>flipper_length_mm</th>\n",
              "      <th>body_mass_g</th>\n",
              "      <th>sex</th>\n",
              "    </tr>\n",
              "  </thead>\n",
              "  <tbody>\n",
              "    <tr>\n",
              "      <th>0</th>\n",
              "      <td>Adelie</td>\n",
              "      <td>Torgersen</td>\n",
              "      <td>39.1</td>\n",
              "      <td>18.7</td>\n",
              "      <td>181.0</td>\n",
              "      <td>3750.0</td>\n",
              "      <td>Male</td>\n",
              "    </tr>\n",
              "    <tr>\n",
              "      <th>1</th>\n",
              "      <td>Adelie</td>\n",
              "      <td>Torgersen</td>\n",
              "      <td>39.5</td>\n",
              "      <td>17.4</td>\n",
              "      <td>186.0</td>\n",
              "      <td>3800.0</td>\n",
              "      <td>Female</td>\n",
              "    </tr>\n",
              "    <tr>\n",
              "      <th>2</th>\n",
              "      <td>Adelie</td>\n",
              "      <td>Torgersen</td>\n",
              "      <td>40.3</td>\n",
              "      <td>18.0</td>\n",
              "      <td>195.0</td>\n",
              "      <td>3250.0</td>\n",
              "      <td>Female</td>\n",
              "    </tr>\n",
              "    <tr>\n",
              "      <th>3</th>\n",
              "      <td>Adelie</td>\n",
              "      <td>Torgersen</td>\n",
              "      <td>NaN</td>\n",
              "      <td>NaN</td>\n",
              "      <td>NaN</td>\n",
              "      <td>NaN</td>\n",
              "      <td>NaN</td>\n",
              "    </tr>\n",
              "    <tr>\n",
              "      <th>4</th>\n",
              "      <td>Adelie</td>\n",
              "      <td>Torgersen</td>\n",
              "      <td>36.7</td>\n",
              "      <td>19.3</td>\n",
              "      <td>193.0</td>\n",
              "      <td>3450.0</td>\n",
              "      <td>Female</td>\n",
              "    </tr>\n",
              "    <tr>\n",
              "      <th>...</th>\n",
              "      <td>...</td>\n",
              "      <td>...</td>\n",
              "      <td>...</td>\n",
              "      <td>...</td>\n",
              "      <td>...</td>\n",
              "      <td>...</td>\n",
              "      <td>...</td>\n",
              "    </tr>\n",
              "    <tr>\n",
              "      <th>339</th>\n",
              "      <td>Gentoo</td>\n",
              "      <td>Biscoe</td>\n",
              "      <td>NaN</td>\n",
              "      <td>NaN</td>\n",
              "      <td>NaN</td>\n",
              "      <td>NaN</td>\n",
              "      <td>NaN</td>\n",
              "    </tr>\n",
              "    <tr>\n",
              "      <th>340</th>\n",
              "      <td>Gentoo</td>\n",
              "      <td>Biscoe</td>\n",
              "      <td>46.8</td>\n",
              "      <td>14.3</td>\n",
              "      <td>215.0</td>\n",
              "      <td>4850.0</td>\n",
              "      <td>Female</td>\n",
              "    </tr>\n",
              "    <tr>\n",
              "      <th>341</th>\n",
              "      <td>Gentoo</td>\n",
              "      <td>Biscoe</td>\n",
              "      <td>50.4</td>\n",
              "      <td>15.7</td>\n",
              "      <td>222.0</td>\n",
              "      <td>5750.0</td>\n",
              "      <td>Male</td>\n",
              "    </tr>\n",
              "    <tr>\n",
              "      <th>342</th>\n",
              "      <td>Gentoo</td>\n",
              "      <td>Biscoe</td>\n",
              "      <td>45.2</td>\n",
              "      <td>14.8</td>\n",
              "      <td>212.0</td>\n",
              "      <td>5200.0</td>\n",
              "      <td>Female</td>\n",
              "    </tr>\n",
              "    <tr>\n",
              "      <th>343</th>\n",
              "      <td>Gentoo</td>\n",
              "      <td>Biscoe</td>\n",
              "      <td>49.9</td>\n",
              "      <td>16.1</td>\n",
              "      <td>213.0</td>\n",
              "      <td>5400.0</td>\n",
              "      <td>Male</td>\n",
              "    </tr>\n",
              "  </tbody>\n",
              "</table>\n",
              "<p>344 rows × 7 columns</p>\n",
              "</div>\n",
              "    <div class=\"colab-df-buttons\">\n",
              "\n",
              "  <div class=\"colab-df-container\">\n",
              "    <button class=\"colab-df-convert\" onclick=\"convertToInteractive('df-3956687d-bf87-441f-98b2-e86fbb83a938')\"\n",
              "            title=\"Convert this dataframe to an interactive table.\"\n",
              "            style=\"display:none;\">\n",
              "\n",
              "  <svg xmlns=\"http://www.w3.org/2000/svg\" height=\"24px\" viewBox=\"0 -960 960 960\">\n",
              "    <path d=\"M120-120v-720h720v720H120Zm60-500h600v-160H180v160Zm220 220h160v-160H400v160Zm0 220h160v-160H400v160ZM180-400h160v-160H180v160Zm440 0h160v-160H620v160ZM180-180h160v-160H180v160Zm440 0h160v-160H620v160Z\"/>\n",
              "  </svg>\n",
              "    </button>\n",
              "\n",
              "  <style>\n",
              "    .colab-df-container {\n",
              "      display:flex;\n",
              "      gap: 12px;\n",
              "    }\n",
              "\n",
              "    .colab-df-convert {\n",
              "      background-color: #E8F0FE;\n",
              "      border: none;\n",
              "      border-radius: 50%;\n",
              "      cursor: pointer;\n",
              "      display: none;\n",
              "      fill: #1967D2;\n",
              "      height: 32px;\n",
              "      padding: 0 0 0 0;\n",
              "      width: 32px;\n",
              "    }\n",
              "\n",
              "    .colab-df-convert:hover {\n",
              "      background-color: #E2EBFA;\n",
              "      box-shadow: 0px 1px 2px rgba(60, 64, 67, 0.3), 0px 1px 3px 1px rgba(60, 64, 67, 0.15);\n",
              "      fill: #174EA6;\n",
              "    }\n",
              "\n",
              "    .colab-df-buttons div {\n",
              "      margin-bottom: 4px;\n",
              "    }\n",
              "\n",
              "    [theme=dark] .colab-df-convert {\n",
              "      background-color: #3B4455;\n",
              "      fill: #D2E3FC;\n",
              "    }\n",
              "\n",
              "    [theme=dark] .colab-df-convert:hover {\n",
              "      background-color: #434B5C;\n",
              "      box-shadow: 0px 1px 3px 1px rgba(0, 0, 0, 0.15);\n",
              "      filter: drop-shadow(0px 1px 2px rgba(0, 0, 0, 0.3));\n",
              "      fill: #FFFFFF;\n",
              "    }\n",
              "  </style>\n",
              "\n",
              "    <script>\n",
              "      const buttonEl =\n",
              "        document.querySelector('#df-3956687d-bf87-441f-98b2-e86fbb83a938 button.colab-df-convert');\n",
              "      buttonEl.style.display =\n",
              "        google.colab.kernel.accessAllowed ? 'block' : 'none';\n",
              "\n",
              "      async function convertToInteractive(key) {\n",
              "        const element = document.querySelector('#df-3956687d-bf87-441f-98b2-e86fbb83a938');\n",
              "        const dataTable =\n",
              "          await google.colab.kernel.invokeFunction('convertToInteractive',\n",
              "                                                    [key], {});\n",
              "        if (!dataTable) return;\n",
              "\n",
              "        const docLinkHtml = 'Like what you see? Visit the ' +\n",
              "          '<a target=\"_blank\" href=https://colab.research.google.com/notebooks/data_table.ipynb>data table notebook</a>'\n",
              "          + ' to learn more about interactive tables.';\n",
              "        element.innerHTML = '';\n",
              "        dataTable['output_type'] = 'display_data';\n",
              "        await google.colab.output.renderOutput(dataTable, element);\n",
              "        const docLink = document.createElement('div');\n",
              "        docLink.innerHTML = docLinkHtml;\n",
              "        element.appendChild(docLink);\n",
              "      }\n",
              "    </script>\n",
              "  </div>\n",
              "\n",
              "\n",
              "<div id=\"df-5565caa5-b752-443f-b6f5-b472a92d9f07\">\n",
              "  <button class=\"colab-df-quickchart\" onclick=\"quickchart('df-5565caa5-b752-443f-b6f5-b472a92d9f07')\"\n",
              "            title=\"Suggest charts\"\n",
              "            style=\"display:none;\">\n",
              "\n",
              "<svg xmlns=\"http://www.w3.org/2000/svg\" height=\"24px\"viewBox=\"0 0 24 24\"\n",
              "     width=\"24px\">\n",
              "    <g>\n",
              "        <path d=\"M19 3H5c-1.1 0-2 .9-2 2v14c0 1.1.9 2 2 2h14c1.1 0 2-.9 2-2V5c0-1.1-.9-2-2-2zM9 17H7v-7h2v7zm4 0h-2V7h2v10zm4 0h-2v-4h2v4z\"/>\n",
              "    </g>\n",
              "</svg>\n",
              "  </button>\n",
              "\n",
              "<style>\n",
              "  .colab-df-quickchart {\n",
              "      --bg-color: #E8F0FE;\n",
              "      --fill-color: #1967D2;\n",
              "      --hover-bg-color: #E2EBFA;\n",
              "      --hover-fill-color: #174EA6;\n",
              "      --disabled-fill-color: #AAA;\n",
              "      --disabled-bg-color: #DDD;\n",
              "  }\n",
              "\n",
              "  [theme=dark] .colab-df-quickchart {\n",
              "      --bg-color: #3B4455;\n",
              "      --fill-color: #D2E3FC;\n",
              "      --hover-bg-color: #434B5C;\n",
              "      --hover-fill-color: #FFFFFF;\n",
              "      --disabled-bg-color: #3B4455;\n",
              "      --disabled-fill-color: #666;\n",
              "  }\n",
              "\n",
              "  .colab-df-quickchart {\n",
              "    background-color: var(--bg-color);\n",
              "    border: none;\n",
              "    border-radius: 50%;\n",
              "    cursor: pointer;\n",
              "    display: none;\n",
              "    fill: var(--fill-color);\n",
              "    height: 32px;\n",
              "    padding: 0;\n",
              "    width: 32px;\n",
              "  }\n",
              "\n",
              "  .colab-df-quickchart:hover {\n",
              "    background-color: var(--hover-bg-color);\n",
              "    box-shadow: 0 1px 2px rgba(60, 64, 67, 0.3), 0 1px 3px 1px rgba(60, 64, 67, 0.15);\n",
              "    fill: var(--button-hover-fill-color);\n",
              "  }\n",
              "\n",
              "  .colab-df-quickchart-complete:disabled,\n",
              "  .colab-df-quickchart-complete:disabled:hover {\n",
              "    background-color: var(--disabled-bg-color);\n",
              "    fill: var(--disabled-fill-color);\n",
              "    box-shadow: none;\n",
              "  }\n",
              "\n",
              "  .colab-df-spinner {\n",
              "    border: 2px solid var(--fill-color);\n",
              "    border-color: transparent;\n",
              "    border-bottom-color: var(--fill-color);\n",
              "    animation:\n",
              "      spin 1s steps(1) infinite;\n",
              "  }\n",
              "\n",
              "  @keyframes spin {\n",
              "    0% {\n",
              "      border-color: transparent;\n",
              "      border-bottom-color: var(--fill-color);\n",
              "      border-left-color: var(--fill-color);\n",
              "    }\n",
              "    20% {\n",
              "      border-color: transparent;\n",
              "      border-left-color: var(--fill-color);\n",
              "      border-top-color: var(--fill-color);\n",
              "    }\n",
              "    30% {\n",
              "      border-color: transparent;\n",
              "      border-left-color: var(--fill-color);\n",
              "      border-top-color: var(--fill-color);\n",
              "      border-right-color: var(--fill-color);\n",
              "    }\n",
              "    40% {\n",
              "      border-color: transparent;\n",
              "      border-right-color: var(--fill-color);\n",
              "      border-top-color: var(--fill-color);\n",
              "    }\n",
              "    60% {\n",
              "      border-color: transparent;\n",
              "      border-right-color: var(--fill-color);\n",
              "    }\n",
              "    80% {\n",
              "      border-color: transparent;\n",
              "      border-right-color: var(--fill-color);\n",
              "      border-bottom-color: var(--fill-color);\n",
              "    }\n",
              "    90% {\n",
              "      border-color: transparent;\n",
              "      border-bottom-color: var(--fill-color);\n",
              "    }\n",
              "  }\n",
              "</style>\n",
              "\n",
              "  <script>\n",
              "    async function quickchart(key) {\n",
              "      const quickchartButtonEl =\n",
              "        document.querySelector('#' + key + ' button');\n",
              "      quickchartButtonEl.disabled = true;  // To prevent multiple clicks.\n",
              "      quickchartButtonEl.classList.add('colab-df-spinner');\n",
              "      try {\n",
              "        const charts = await google.colab.kernel.invokeFunction(\n",
              "            'suggestCharts', [key], {});\n",
              "      } catch (error) {\n",
              "        console.error('Error during call to suggestCharts:', error);\n",
              "      }\n",
              "      quickchartButtonEl.classList.remove('colab-df-spinner');\n",
              "      quickchartButtonEl.classList.add('colab-df-quickchart-complete');\n",
              "    }\n",
              "    (() => {\n",
              "      let quickchartButtonEl =\n",
              "        document.querySelector('#df-5565caa5-b752-443f-b6f5-b472a92d9f07 button');\n",
              "      quickchartButtonEl.style.display =\n",
              "        google.colab.kernel.accessAllowed ? 'block' : 'none';\n",
              "    })();\n",
              "  </script>\n",
              "</div>\n",
              "    </div>\n",
              "  </div>\n"
            ]
          },
          "metadata": {},
          "execution_count": 1
        }
      ],
      "source": [
        "#Datasets\n",
        "import seaborn as sns\n",
        "#maninuplacion de datos\n",
        "import pandas as pd\n",
        "import numpy as np\n",
        "#Gráficos\n",
        "from sklearn.model_selection import cross_val_score\n",
        "from sklearn.preprocessing import LabelEncoder\n",
        "from sklearn.model_selection import train_test_split\n",
        "from matplotlib.colors import ListedColormap\n",
        "from sklearn.preprocessing import StandardScaler, MinMaxScaler\n",
        "from sklearn.metrics import accuracy_score\n",
        "#Clasificadores\n",
        "from sklearn.naive_bayes import GaussianNB, MultinomialNB, BernoulliNB, ComplementNB\n",
        "import matplotlib.pyplot as plt\n",
        "#Dataset pingüinos\n",
        "penguin = sns.load_dataset(\"penguins\")\n",
        "penguinCopy = sns.load_dataset(\"penguins\")\n",
        "penguin"
      ]
    },
    {
      "cell_type": "code",
      "source": [
        "#Rellenamos los datos faltantes.\n",
        "penguin[['bill_length_mm', 'bill_depth_mm', 'flipper_length_mm', 'body_mass_g']] = \\\n",
        "    penguin[['bill_length_mm', 'bill_depth_mm', 'flipper_length_mm', 'body_mass_g']].fillna(penguin.mean())"
      ],
      "metadata": {
        "colab": {
          "base_uri": "https://localhost:8080/"
        },
        "id": "S9sSsP1NVvh1",
        "outputId": "4f3c88ec-5f6f-4563-a293-0251d74bb4a6"
      },
      "execution_count": 2,
      "outputs": [
        {
          "output_type": "stream",
          "name": "stderr",
          "text": [
            "<ipython-input-2-43fa0ba2d099>:3: FutureWarning: The default value of numeric_only in DataFrame.mean is deprecated. In a future version, it will default to False. In addition, specifying 'numeric_only=None' is deprecated. Select only valid columns or specify the value of numeric_only to silence this warning.\n",
            "  penguin[['bill_length_mm', 'bill_depth_mm', 'flipper_length_mm', 'body_mass_g']].fillna(penguin.mean())\n"
          ]
        }
      ]
    },
    {
      "cell_type": "markdown",
      "source": [
        "# Cambiar valores a 1"
      ],
      "metadata": {
        "id": "fPxZ2PwMeMDr"
      }
    },
    {
      "cell_type": "code",
      "source": [
        "le = LabelEncoder()\n",
        "penguin['sex'] = le.fit_transform(penguin['sex'])"
      ],
      "metadata": {
        "id": "k2cc6hmpX6ua"
      },
      "execution_count": 3,
      "outputs": []
    },
    {
      "cell_type": "code",
      "source": [
        "penguin['sex'] = penguin['sex'].fillna(penguin['sex'].mode().iloc[0])"
      ],
      "metadata": {
        "id": "aWuI9d7WV3DS"
      },
      "execution_count": 4,
      "outputs": []
    },
    {
      "cell_type": "markdown",
      "source": [
        "# Cross validation a mano"
      ],
      "metadata": {
        "id": "ugEpF1DbbrHY"
      }
    },
    {
      "cell_type": "code",
      "source": [
        "from sklearn.metrics import confusion_matrix\n",
        "from sklearn.utils.multiclass import unique_labels\n",
        "from sklearn.metrics import classification_report\n",
        "\n",
        "\n",
        "def plot_confusion_matrix(y_true, y_pred, classes,\n",
        "                          normalize=False,\n",
        "                          title=None,\n",
        "                          cmap=plt.cm.Blues):\n",
        "    print(\"Metrics \\n\"\n",
        "      +classification_report(y_true, y_pred))\n",
        "\n",
        "    if not title:\n",
        "        if normalize:\n",
        "            title = 'Normalized confusion matrix'\n",
        "        else:\n",
        "            title = 'Confusion matrix, without normalization'\n",
        "\n",
        "    # Compute confusion matrix\n",
        "    cm = confusion_matrix(y_true, y_pred)\n",
        "    # Only use the labels that appear in the data\n",
        "    classes = classes[unique_labels(y_true, y_pred)]\n",
        "    if normalize:\n",
        "        cm = cm.astype('float') / cm.sum(axis=1)[:, np.newaxis]\n",
        "        print(\"Normalized confusion matrix\")\n",
        "    else:\n",
        "        print('Confusion matrix, without normalization')\n",
        "\n",
        "    print(cm)\n",
        "\n",
        "    fig, ax = plt.subplots()\n",
        "    im = ax.imshow(cm, interpolation='nearest', cmap=cmap)\n",
        "    ax.figure.colorbar(im, ax=ax)\n",
        "    # We want to show all ticks...\n",
        "    ax.set(xticks=np.arange(cm.shape[1]),\n",
        "           yticks=np.arange(cm.shape[0]),\n",
        "           # ... and label them with the respective list entries\n",
        "           xticklabels=classes, yticklabels=classes,\n",
        "           title=title,\n",
        "           ylabel='True label',\n",
        "           xlabel='Predicted label')\n",
        "\n",
        "    # Rotate the tick labels and set their alignment.\n",
        "    plt.setp(ax.get_xticklabels(), rotation=45, ha=\"right\",\n",
        "             rotation_mode=\"anchor\")\n",
        "\n",
        "    # Loop over data dimensions and create text annotations.\n",
        "    fmt = '.2f' if normalize else 'd'\n",
        "    thresh = cm.max() / 2.\n",
        "    for i in range(cm.shape[0]):\n",
        "        for j in range(cm.shape[1]):\n",
        "            ax.text(j, i, format(cm[i, j], fmt),\n",
        "                    ha=\"center\", va=\"center\",\n",
        "                    color=\"white\" if cm[i, j] > thresh else \"black\")\n",
        "    fig.tight_layout()\n",
        "    return ax"
      ],
      "metadata": {
        "id": "AEFMjlRNYqsx"
      },
      "execution_count": 5,
      "outputs": []
    },
    {
      "cell_type": "code",
      "source": [
        "#Dividamos los datos de entrenamiento\n",
        "le = LabelEncoder()\n",
        "penguin['species'] = le.fit_transform(penguin['species'])\n",
        "caract_seleccionadas = ['bill_length_mm', 'bill_depth_mm', 'flipper_length_mm', 'body_mass_g']\n",
        "X = penguin[caract_seleccionadas]\n",
        "y = penguin['species']\n",
        "y_copy = penguinCopy['species']\n",
        "\n",
        "le = LabelEncoder()\n",
        "penguin['species'] = le.fit_transform(penguin['species'])\n",
        "\n",
        "le = LabelEncoder()\n",
        "penguin['island'] = le.fit_transform(penguin['island'])\n",
        "\n",
        "\n",
        "X_train, X_test, y_train, y_test = \\\n",
        "        train_test_split(X, y, test_size=.4, random_state=42, stratify=y)\n",
        "y"
      ],
      "metadata": {
        "colab": {
          "base_uri": "https://localhost:8080/"
        },
        "id": "qPsDaszuYY1b",
        "outputId": "3b0106ab-f8f5-4a8e-853c-ed267c4b79dd"
      },
      "execution_count": 6,
      "outputs": [
        {
          "output_type": "execute_result",
          "data": {
            "text/plain": [
              "0      0\n",
              "1      0\n",
              "2      0\n",
              "3      0\n",
              "4      0\n",
              "      ..\n",
              "339    2\n",
              "340    2\n",
              "341    2\n",
              "342    2\n",
              "343    2\n",
              "Name: species, Length: 344, dtype: int64"
            ]
          },
          "metadata": {},
          "execution_count": 6
        }
      ]
    },
    {
      "cell_type": "code",
      "source": [
        "import numpy as np\n",
        "y_train_array = y_train.to_numpy()\n",
        "y_train_array\n",
        "np.bincount(y_train_array)"
      ],
      "metadata": {
        "id": "m78wfiPDO-Kd",
        "colab": {
          "base_uri": "https://localhost:8080/"
        },
        "outputId": "967102b5-a9ae-41a0-e4c8-79815de535e7"
      },
      "execution_count": 7,
      "outputs": [
        {
          "output_type": "execute_result",
          "data": {
            "text/plain": [
              "array([91, 41, 74])"
            ]
          },
          "metadata": {},
          "execution_count": 7
        }
      ]
    },
    {
      "cell_type": "code",
      "source": [
        "from matplotlib.colors import ListedColormap\n",
        "from sklearn.preprocessing import StandardScaler, MinMaxScaler\n",
        "from sklearn.metrics import accuracy_score\n",
        "from sklearn.naive_bayes import GaussianNB, MultinomialNB, BernoulliNB, ComplementNB\n",
        "\n",
        "# classifiers\n",
        "names = [\"GaussianNB\", \"MultiNomialNB\", 'BernouilliNB', 'ComplementNB']\n",
        "classifiers = [GaussianNB(), MultinomialNB(), BernoulliNB(), ComplementNB()]\n",
        "\n",
        "for name, clf in zip(names, classifiers):\n",
        "\n",
        "  # Entrenamos el modelo\n",
        "  clf.fit(X_train, y_train)\n",
        "  # predecimos\n",
        "  score = clf.score(X_test, y_test) #Returns the mean accuracy on the given test data and labels.\n",
        "  print (\"Modelo: %s = %6.2f\" % (name, score))"
      ],
      "metadata": {
        "id": "Ae1bs7OQVjd9",
        "colab": {
          "base_uri": "https://localhost:8080/"
        },
        "outputId": "6dcbf3ef-0e91-4695-8643-fb308f78d0d3"
      },
      "execution_count": 8,
      "outputs": [
        {
          "output_type": "stream",
          "name": "stdout",
          "text": [
            "Modelo: GaussianNB =   0.94\n",
            "Modelo: MultiNomialNB =   0.86\n",
            "Modelo: BernouilliNB =   0.44\n",
            "Modelo: ComplementNB =   0.71\n"
          ]
        }
      ]
    },
    {
      "cell_type": "code",
      "source": [
        "clf = GaussianNB()\n",
        "clf.fit(X_train, y_train)\n",
        "y_pred = clf.predict(X_test)\n",
        "plot_confusion_matrix(y_test, y_pred , classes = unique_labels(y_test, y_pred), normalize=False)"
      ],
      "metadata": {
        "id": "2sQg7nHmV23M",
        "colab": {
          "base_uri": "https://localhost:8080/",
          "height": 765
        },
        "outputId": "6fe27bf2-aea2-4487-df01-9ab7ac01e862"
      },
      "execution_count": 9,
      "outputs": [
        {
          "output_type": "stream",
          "name": "stdout",
          "text": [
            "Metrics \n",
            "              precision    recall  f1-score   support\n",
            "\n",
            "           0       0.94      0.95      0.94        61\n",
            "           1       0.85      0.85      0.85        27\n",
            "           2       1.00      0.98      0.99        50\n",
            "\n",
            "    accuracy                           0.94       138\n",
            "   macro avg       0.93      0.93      0.93       138\n",
            "weighted avg       0.94      0.94      0.94       138\n",
            "\n",
            "Confusion matrix, without normalization\n",
            "[[58  3  0]\n",
            " [ 4 23  0]\n",
            " [ 0  1 49]]\n"
          ]
        },
        {
          "output_type": "execute_result",
          "data": {
            "text/plain": [
              "<Axes: title={'center': 'Confusion matrix, without normalization'}, xlabel='Predicted label', ylabel='True label'>"
            ]
          },
          "metadata": {},
          "execution_count": 9
        },
        {
          "output_type": "display_data",
          "data": {
            "text/plain": [
              "<Figure size 640x480 with 2 Axes>"
            ],
            "image/png": "[encoded data removed]"
          },
          "metadata": {}
        }
      ]
    },
    {
      "cell_type": "code",
      "source": [
        "y_pred_proba = clf.predict_proba(X_test)\n",
        "y_pred_proba"
      ],
      "metadata": {
        "id": "F1pCpUHaWXSN",
        "colab": {
          "base_uri": "https://localhost:8080/"
        },
        "outputId": "656d3424-8666-48da-8b1b-8bd9566aacd6"
      },
      "execution_count": 10,
      "outputs": [
        {
          "output_type": "execute_result",
          "data": {
            "text/plain": [
              "array([[1.56796609e-15, 2.88715384e-11, 1.00000000e+00],\n",
              "       [9.99741031e-01, 2.58968729e-04, 4.56851645e-16],\n",
              "       [1.13372699e-03, 9.98840053e-01, 2.62196539e-05],\n",
              "       [4.26851347e-15, 6.92448018e-09, 9.99999993e-01],\n",
              "       [9.70377158e-01, 2.96228409e-02, 1.13823990e-09],\n",
              "       [5.18613325e-01, 4.81386675e-01, 8.65627331e-12],\n",
              "       [5.02335433e-10, 5.20855986e-06, 9.99994791e-01],\n",
              "       [4.60693232e-12, 2.51244677e-09, 9.99999997e-01],\n",
              "       [9.78340653e-01, 2.16593475e-02, 1.05942480e-12],\n",
              "       [9.96529657e-01, 3.47034323e-03, 1.33887913e-15],\n",
              "       [2.80906462e-16, 7.99286436e-09, 9.99999992e-01],\n",
              "       [8.33120754e-01, 1.66879232e-01, 1.38573246e-08],\n",
              "       [9.99968417e-01, 3.15833420e-05, 2.17056901e-12],\n",
              "       [8.17376041e-01, 1.82623958e-01, 1.13401989e-09],\n",
              "       [1.39018096e-08, 1.53566783e-06, 9.99998450e-01],\n",
              "       [1.99160107e-09, 1.13906651e-06, 9.99998859e-01],\n",
              "       [9.92643669e-01, 7.35632403e-03, 7.38494454e-09],\n",
              "       [2.24635853e-01, 7.75359455e-01, 4.69209305e-06],\n",
              "       [2.99529788e-04, 9.99647316e-01, 5.31546629e-05],\n",
              "       [2.73111213e-08, 1.43041709e-06, 9.99998542e-01],\n",
              "       [3.59378771e-01, 6.33289754e-01, 7.33147545e-03],\n",
              "       [9.96636450e-01, 3.36354988e-03, 4.03448276e-11],\n",
              "       [7.26797241e-01, 2.72329650e-01, 8.73109704e-04],\n",
              "       [4.62599374e-11, 1.73033257e-07, 9.99999827e-01],\n",
              "       [9.99827829e-01, 1.72171463e-04, 9.19396674e-12],\n",
              "       [6.07882897e-02, 9.39211228e-01, 4.82633718e-07],\n",
              "       [1.13235487e-02, 9.87612280e-01, 1.06417121e-03],\n",
              "       [9.95840169e-01, 4.15982998e-03, 1.31029205e-09],\n",
              "       [2.24290619e-02, 9.72368556e-01, 5.20238211e-03],\n",
              "       [3.00137174e-08, 6.58931273e-06, 9.99993381e-01],\n",
              "       [7.80528532e-05, 1.39569426e-05, 9.99907990e-01],\n",
              "       [1.16194275e-01, 8.83763352e-01, 4.23734065e-05],\n",
              "       [3.12634177e-07, 9.99997691e-01, 1.99591766e-06],\n",
              "       [9.99838267e-01, 1.61732796e-04, 1.25842285e-13],\n",
              "       [5.25884830e-02, 9.47409807e-01, 1.71017558e-06],\n",
              "       [9.97796466e-01, 2.20353433e-03, 5.93906522e-11],\n",
              "       [9.99793590e-01, 2.06410460e-04, 2.08743606e-11],\n",
              "       [5.96423635e-13, 4.22647905e-11, 1.00000000e+00],\n",
              "       [3.51887080e-15, 2.48611069e-09, 9.99999998e-01],\n",
              "       [9.93834594e-01, 6.16540570e-03, 9.39265575e-12],\n",
              "       [9.97622670e-01, 2.37732852e-03, 1.10772616e-09],\n",
              "       [9.99404017e-01, 5.95982761e-04, 1.12124502e-11],\n",
              "       [5.11364567e-10, 2.03136007e-08, 9.99999979e-01],\n",
              "       [9.97755628e-01, 2.24437196e-03, 1.02822208e-12],\n",
              "       [9.99841533e-01, 1.58467103e-04, 5.28666808e-11],\n",
              "       [2.98231811e-01, 7.01766337e-01, 1.85148764e-06],\n",
              "       [1.16716506e-04, 9.99883283e-01, 1.46156525e-10],\n",
              "       [2.34978378e-10, 3.06113608e-07, 9.99999694e-01],\n",
              "       [9.89226328e-01, 1.07736675e-02, 4.16781453e-09],\n",
              "       [9.94834300e-01, 5.16569437e-03, 6.04579005e-09],\n",
              "       [9.99998027e-01, 1.97326522e-06, 9.31433303e-11],\n",
              "       [9.98766997e-01, 1.23300282e-03, 6.61067527e-11],\n",
              "       [9.14537602e-01, 8.54623970e-02, 8.61428675e-10],\n",
              "       [2.80765012e-05, 3.55844950e-06, 9.99968365e-01],\n",
              "       [9.99703655e-01, 2.96345190e-04, 1.80466164e-11],\n",
              "       [2.03714676e-05, 1.07782254e-06, 9.99978551e-01],\n",
              "       [9.99927322e-01, 7.26780277e-05, 7.28732701e-12],\n",
              "       [5.23124697e-05, 9.99946129e-01, 1.55883903e-06],\n",
              "       [3.99886750e-01, 6.00113169e-01, 8.11203720e-08],\n",
              "       [1.19780241e-01, 8.80219758e-01, 1.22488620e-09],\n",
              "       [9.86950177e-01, 1.30498233e-02, 2.68083326e-11],\n",
              "       [7.61109755e-01, 2.38890147e-01, 9.77187082e-08],\n",
              "       [3.44129603e-10, 2.03520714e-08, 9.99999979e-01],\n",
              "       [2.15414568e-08, 8.51425125e-08, 9.99999893e-01],\n",
              "       [9.99488700e-01, 5.11299675e-04, 1.11515652e-14],\n",
              "       [1.69396338e-07, 6.91070722e-07, 9.99999140e-01],\n",
              "       [9.97715766e-01, 2.28423368e-03, 6.87279025e-10],\n",
              "       [9.99882737e-01, 1.17262823e-04, 2.74811488e-11],\n",
              "       [2.41629540e-13, 4.65532120e-10, 1.00000000e+00],\n",
              "       [1.36047120e-04, 9.99863708e-01, 2.44499899e-07],\n",
              "       [4.76080518e-14, 5.29583357e-12, 1.00000000e+00],\n",
              "       [9.98918143e-01, 1.08185730e-03, 3.31723356e-11],\n",
              "       [9.55072792e-01, 4.49271684e-02, 3.94390302e-08],\n",
              "       [9.99991412e-01, 8.58785876e-06, 5.47844842e-11],\n",
              "       [3.59378771e-01, 6.33289754e-01, 7.33147545e-03],\n",
              "       [2.99606624e-05, 9.99968814e-01, 1.22496630e-06],\n",
              "       [6.68427614e-06, 1.84146212e-05, 9.99974901e-01],\n",
              "       [9.95496012e-01, 4.50398703e-03, 1.11891108e-09],\n",
              "       [2.38182990e-11, 4.08640394e-08, 9.99999959e-01],\n",
              "       [9.97265852e-01, 2.73414802e-03, 5.03643322e-12],\n",
              "       [9.92239095e-01, 7.76090464e-03, 5.53621922e-10],\n",
              "       [8.09923337e-15, 7.03452048e-11, 1.00000000e+00],\n",
              "       [2.04759070e-04, 3.64436857e-05, 9.99758797e-01],\n",
              "       [9.99753859e-01, 2.46141157e-04, 1.77654707e-10],\n",
              "       [9.62347413e-02, 9.03764868e-01, 3.90858878e-07],\n",
              "       [1.90288449e-07, 9.16557788e-06, 9.99990644e-01],\n",
              "       [9.96978495e-01, 3.02150461e-03, 2.29731412e-13],\n",
              "       [4.02704788e-10, 4.63080792e-09, 9.99999995e-01],\n",
              "       [2.37845178e-01, 7.62109771e-01, 4.50510743e-05],\n",
              "       [9.99656011e-01, 3.43989092e-04, 4.05218803e-16],\n",
              "       [1.22966028e-01, 8.77033857e-01, 1.14594538e-07],\n",
              "       [9.99352091e-01, 6.47909116e-04, 1.77330414e-12],\n",
              "       [9.84888703e-03, 9.90150744e-01, 3.69457916e-07],\n",
              "       [9.91865326e-01, 8.13467408e-03, 1.00050880e-13],\n",
              "       [7.11467465e-01, 2.88529069e-01, 3.46568743e-06],\n",
              "       [9.96201175e-01, 3.79882469e-03, 1.27932662e-11],\n",
              "       [1.27221530e-04, 9.99872772e-01, 6.95126652e-09],\n",
              "       [1.51590529e-04, 4.15863197e-06, 9.99844251e-01],\n",
              "       [9.99965156e-01, 3.48435407e-05, 4.15292539e-11],\n",
              "       [2.30228156e-06, 4.24036814e-08, 9.99997655e-01],\n",
              "       [1.39408199e-06, 2.72473952e-07, 9.99998333e-01],\n",
              "       [9.98149561e-01, 1.85043921e-03, 1.10803436e-12],\n",
              "       [9.99043939e-01, 9.56060857e-04, 1.72934552e-12],\n",
              "       [9.99301948e-01, 6.98052026e-04, 3.15588821e-13],\n",
              "       [1.54769545e-11, 6.05770365e-08, 9.99999939e-01],\n",
              "       [3.98972607e-05, 9.99960096e-01, 6.83233614e-09],\n",
              "       [2.87308241e-16, 5.17780558e-11, 1.00000000e+00],\n",
              "       [9.76443195e-03, 9.87876504e-01, 2.35906413e-03],\n",
              "       [1.58879227e-11, 9.68949730e-09, 9.99999990e-01],\n",
              "       [9.92109980e-01, 7.88973758e-03, 2.82200840e-07],\n",
              "       [9.53312221e-01, 4.66877791e-02, 8.71106149e-12],\n",
              "       [4.29867213e-07, 1.52331347e-06, 9.99998047e-01],\n",
              "       [4.64546963e-16, 1.13067915e-11, 1.00000000e+00],\n",
              "       [3.48872761e-07, 9.12513349e-07, 9.99998739e-01],\n",
              "       [4.47234082e-09, 1.81988677e-08, 9.99999977e-01],\n",
              "       [9.95816249e-01, 4.18319392e-03, 5.57206282e-07],\n",
              "       [7.57940546e-01, 2.42055483e-01, 3.97089202e-06],\n",
              "       [1.39633593e-09, 4.96215680e-08, 9.99999949e-01],\n",
              "       [7.31311955e-01, 2.68684531e-01, 3.51352933e-06],\n",
              "       [9.97030991e-01, 2.96895954e-03, 4.93457878e-08],\n",
              "       [3.66262002e-07, 1.05043013e-05, 9.99989129e-01],\n",
              "       [6.13419560e-01, 3.86576779e-01, 3.66043330e-06],\n",
              "       [9.67666966e-01, 3.23330001e-02, 3.41263087e-08],\n",
              "       [9.99978463e-01, 2.15370253e-05, 3.43791406e-14],\n",
              "       [6.96046789e-08, 1.04536121e-07, 9.99999826e-01],\n",
              "       [8.06534852e-15, 9.06667936e-09, 9.99999991e-01],\n",
              "       [5.50629977e-12, 1.12409485e-11, 1.00000000e+00],\n",
              "       [4.45184189e-08, 9.99999954e-01, 1.09706772e-09],\n",
              "       [9.99989443e-01, 1.05573776e-05, 3.04394758e-13],\n",
              "       [1.85687418e-08, 7.41035543e-07, 9.99999240e-01],\n",
              "       [2.19433050e-13, 4.63869644e-11, 1.00000000e+00],\n",
              "       [9.99671402e-01, 3.28597451e-04, 1.36705563e-10],\n",
              "       [1.56606373e-14, 1.88320565e-08, 9.99999981e-01],\n",
              "       [2.30983047e-01, 7.69016837e-01, 1.16134926e-07],\n",
              "       [8.71314331e-05, 4.11924676e-06, 9.99908749e-01],\n",
              "       [9.92120807e-01, 7.87674193e-03, 2.45134535e-06],\n",
              "       [1.53172371e-10, 1.50362008e-06, 9.99998496e-01],\n",
              "       [2.66150609e-08, 5.80778191e-07, 9.99999393e-01]])"
            ]
          },
          "metadata": {},
          "execution_count": 10
        }
      ]
    },
    {
      "cell_type": "code",
      "source": [
        "# Utilizando cross validation\n",
        "from sklearn.model_selection import KFold\n",
        "cv = KFold(n_splits = 5, shuffle = True)\n",
        "total_scores = []\n",
        "for name, clf in zip(names, classifiers):\n",
        "  fold_accuracy = []\n",
        "  for train_fold, test_fold in cv.split(X_train):\n",
        "    # División train test aleatoria\n",
        "    f_train_x = X_train.iloc[train_fold]\n",
        "    f_train_y = y_train.iloc[train_fold]\n",
        "    # entrenamiento y ejeución del modelo\n",
        "    clf.fit(f_train_x, f_train_y)\n",
        "    # Realizamos la predicción (Final evaluation) y guardamos la precisión para calcular la media posteriormente\n",
        "    y_pred = clf.predict(X_train.iloc[test_fold])\n",
        "    # evaluación del modelo\n",
        "    acc = accuracy_score(y_train.iloc[test_fold], y_pred)\n",
        "    fold_accuracy.append(acc)\n",
        "  total_scores.append(sum(fold_accuracy)/len(fold_accuracy))\n",
        "\n",
        "for i in range(len(names)):\n",
        "  print (\"Modelo: %s = %6.2f\" % (names[i], total_scores[i]))\n"
      ],
      "metadata": {
        "id": "QBUI0MQsXcJZ",
        "colab": {
          "base_uri": "https://localhost:8080/"
        },
        "outputId": "dbcb825b-180d-4318-9089-c0926d037f26"
      },
      "execution_count": 11,
      "outputs": [
        {
          "output_type": "stream",
          "name": "stdout",
          "text": [
            "Modelo: GaussianNB =   0.96\n",
            "Modelo: MultiNomialNB =   0.80\n",
            "Modelo: BernouilliNB =   0.44\n",
            "Modelo: ComplementNB =   0.69\n"
          ]
        }
      ]
    },
    {
      "cell_type": "code",
      "source": [
        "#Vemos los datos con cross validation\n",
        "print(\"Sin cross validation:\\n\")\n",
        "for name, clf in zip(names, classifiers):\n",
        "\n",
        "  # FIT THE MODEL\n",
        "  clf.fit(X_train, y_train)\n",
        "  # PREDIT AND SCORE\n",
        "  score = clf.score(X_test, y_test) #Returns the mean accuracy on the given test data and labels.\n",
        "  print (\"Modelo: %s = %6.2f\" % (name, score))\n",
        "\n",
        "print(\"Con cross validation:\")\n",
        "\n",
        "for i in range(len(names)):\n",
        "  print (\"Modelo: %s = %6.2f\" % (names[i], total_scores[i]))"
      ],
      "metadata": {
        "id": "9LDAkZTDXxzV",
        "colab": {
          "base_uri": "https://localhost:8080/"
        },
        "outputId": "d72c2df3-cb47-4edd-d2cb-e796884e637a"
      },
      "execution_count": 12,
      "outputs": [
        {
          "output_type": "stream",
          "name": "stdout",
          "text": [
            "Sin cross validation:\n",
            "\n",
            "Modelo: GaussianNB =   0.94\n",
            "Modelo: MultiNomialNB =   0.86\n",
            "Modelo: BernouilliNB =   0.44\n",
            "Modelo: ComplementNB =   0.71\n",
            "Con cross validation:\n",
            "Modelo: GaussianNB =   0.96\n",
            "Modelo: MultiNomialNB =   0.80\n",
            "Modelo: BernouilliNB =   0.44\n",
            "Modelo: ComplementNB =   0.69\n"
          ]
        }
      ]
    },
    {
      "cell_type": "markdown",
      "source": [
        "En este caso se puede ver que por lo menos para el modelo GaussianNB, si que hay una pequeña mejora, bastante poca pero igual el modelo funciona bastante bien."
      ],
      "metadata": {
        "id": "_iFwzsJVfZe8"
      }
    },
    {
      "cell_type": "code",
      "source": [
        "#Otra vez el mejor es GausianNB\n",
        "clf = GaussianNB()\n",
        "#clf = MultinomialNB()\n",
        "for train_fold, test_fold in cv.split(X_train):\n",
        "    # División train test aleatoria\n",
        "    f_train_x = X_train.iloc[train_fold] # Extrae la información (iloc), atendiendo a los indices obtenidos por CrossValidation\n",
        "    f_train_y = y_train.iloc[train_fold]\n",
        "    # entrenamiento\n",
        "    clf.fit(f_train_x, f_train_y)\n",
        "\n",
        "y_pred = clf.predict(X_test)\n",
        "# Comparamos lo predicho con lo esperado para los datos de test\n",
        "acc_GaussianNB = accuracy_score(y_test, y_pred)\n",
        "\n",
        "plot_confusion_matrix(y_test, y_pred , classes = unique_labels(y_test, y_pred), normalize=False)"
      ],
      "metadata": {
        "id": "jI_juA2IZiI4",
        "colab": {
          "base_uri": "https://localhost:8080/",
          "height": 765
        },
        "outputId": "4ebdaae0-efbf-4f40-9fb9-850e3540d46a"
      },
      "execution_count": 13,
      "outputs": [
        {
          "output_type": "stream",
          "name": "stdout",
          "text": [
            "Metrics \n",
            "              precision    recall  f1-score   support\n",
            "\n",
            "           0       0.92      0.95      0.94        61\n",
            "           1       0.85      0.81      0.83        27\n",
            "           2       1.00      0.98      0.99        50\n",
            "\n",
            "    accuracy                           0.93       138\n",
            "   macro avg       0.92      0.92      0.92       138\n",
            "weighted avg       0.93      0.93      0.93       138\n",
            "\n",
            "Confusion matrix, without normalization\n",
            "[[58  3  0]\n",
            " [ 5 22  0]\n",
            " [ 0  1 49]]\n"
          ]
        },
        {
          "output_type": "execute_result",
          "data": {
            "text/plain": [
              "<Axes: title={'center': 'Confusion matrix, without normalization'}, xlabel='Predicted label', ylabel='True label'>"
            ]
          },
          "metadata": {},
          "execution_count": 13
        },
        {
          "output_type": "display_data",
          "data": {
            "text/plain": [
              "<Figure size 640x480 with 2 Axes>"
            ],
            "image/png": "[encoded data removed]"
          },
          "metadata": {}
        }
      ]
    },
    {
      "cell_type": "markdown",
      "source": [
        "# Exportar a un fichero el modelo entrenado"
      ],
      "metadata": {
        "id": "Zvofp8rsZ6-8"
      }
    },
    {
      "cell_type": "code",
      "source": [
        "#Instalamos la librería joblib\n",
        "!pip install joblib"
      ],
      "metadata": {
        "id": "1l3q6cgYaNrs",
        "colab": {
          "base_uri": "https://localhost:8080/"
        },
        "outputId": "af66e4d0-cd75-418b-f474-09caa01c3740"
      },
      "execution_count": 14,
      "outputs": [
        {
          "output_type": "stream",
          "name": "stdout",
          "text": [
            "Requirement already satisfied: joblib in /usr/local/lib/python3.10/dist-packages (1.3.2)\n"
          ]
        }
      ]
    },
    {
      "cell_type": "code",
      "source": [
        "# Exportar modelo a fichero\n",
        "import sklearn.externals\n",
        "import joblib\n",
        "joblib.dump(clf,'pinguinos_model_dylan.pkl')"
      ],
      "metadata": {
        "id": "9dNuHh0taV8K",
        "colab": {
          "base_uri": "https://localhost:8080/"
        },
        "outputId": "de7b060a-dea4-42ad-8a4b-71055001a3e7"
      },
      "execution_count": 15,
      "outputs": [
        {
          "output_type": "execute_result",
          "data": {
            "text/plain": [
              "['pinguinos_model_dylan.pkl']"
            ]
          },
          "metadata": {},
          "execution_count": 15
        }
      ]
    },
    {
      "cell_type": "code",
      "source": [
        "#Importar el modelo entrenado y ejecutar de nuevo test\n",
        "clf_entrenado = GaussianNB().fit(X_train,y_train)\n",
        "clf_entrenado = joblib.load('pinguinos_model_dylan.pkl')\n",
        "clf_entrenado.score(X_test, y_test) # Obtenemos la precisión"
      ],
      "metadata": {
        "id": "Yh02FVc2ai-6",
        "colab": {
          "base_uri": "https://localhost:8080/"
        },
        "outputId": "9010a4b7-d281-40ca-a3f8-a881f591460d"
      },
      "execution_count": 16,
      "outputs": [
        {
          "output_type": "execute_result",
          "data": {
            "text/plain": [
              "0.9347826086956522"
            ]
          },
          "metadata": {},
          "execution_count": 16
        }
      ]
    },
    {
      "cell_type": "code",
      "source": [
        "#Obtenenmos la matriz de confusión para ver que coincide con la anterior.\n",
        "y_pred = clf_entrenado.predict(X_test)\n",
        "plot_confusion_matrix(y_test, y_pred , classes = unique_labels(y_test, y_pred), normalize=False)"
      ],
      "metadata": {
        "id": "4dKGeqkDa3os",
        "colab": {
          "base_uri": "https://localhost:8080/",
          "height": 765
        },
        "outputId": "1f981727-3fca-42bd-c429-fb0568c8d593"
      },
      "execution_count": 17,
      "outputs": [
        {
          "output_type": "stream",
          "name": "stdout",
          "text": [
            "Metrics \n",
            "              precision    recall  f1-score   support\n",
            "\n",
            "           0       0.92      0.95      0.94        61\n",
            "           1       0.85      0.81      0.83        27\n",
            "           2       1.00      0.98      0.99        50\n",
            "\n",
            "    accuracy                           0.93       138\n",
            "   macro avg       0.92      0.92      0.92       138\n",
            "weighted avg       0.93      0.93      0.93       138\n",
            "\n",
            "Confusion matrix, without normalization\n",
            "[[58  3  0]\n",
            " [ 5 22  0]\n",
            " [ 0  1 49]]\n"
          ]
        },
        {
          "output_type": "execute_result",
          "data": {
            "text/plain": [
              "<Axes: title={'center': 'Confusion matrix, without normalization'}, xlabel='Predicted label', ylabel='True label'>"
            ]
          },
          "metadata": {},
          "execution_count": 17
        },
        {
          "output_type": "display_data",
          "data": {
            "text/plain": [
              "<Figure size 640x480 with 2 Axes>"
            ],
            "image/png": "[encoded data removed]"
          },
          "metadata": {}
        }
      ]
    },
    {
      "cell_type": "code",
      "source": [
        "#Probamos introducciendo nuevos valores.\n",
        "X_prueba = np.asanyarray([39.10000,18.70000,181000000,3750.000000]).reshape(1,-1)\n",
        "predict = clf_entrenado.predict(X_prueba)\n",
        "predict[0]\n"
      ],
      "metadata": {
        "id": "XJFy-wlbbO9A",
        "colab": {
          "base_uri": "https://localhost:8080/"
        },
        "outputId": "7527bc81-8a58-4e23-94cd-25e08bb4bfe5"
      },
      "execution_count": 18,
      "outputs": [
        {
          "output_type": "stream",
          "name": "stderr",
          "text": [
            "/usr/local/lib/python3.10/dist-packages/sklearn/base.py:439: UserWarning: X does not have valid feature names, but GaussianNB was fitted with feature names\n",
            "  warnings.warn(\n"
          ]
        },
        {
          "output_type": "execute_result",
          "data": {
            "text/plain": [
              "1"
            ]
          },
          "metadata": {},
          "execution_count": 18
        }
      ]
    },
    {
      "cell_type": "code",
      "source": [
        "categorias_unicas = penguinCopy['species'].unique()\n",
        "print(categorias_unicas)"
      ],
      "metadata": {
        "id": "Dmf0AF2_fyR1",
        "outputId": "c93e6b1f-138f-4772-fb99-241d798784ab",
        "colab": {
          "base_uri": "https://localhost:8080/"
        }
      },
      "execution_count": 19,
      "outputs": [
        {
          "output_type": "stream",
          "name": "stdout",
          "text": [
            "['Adelie' 'Chinstrap' 'Gentoo']\n"
          ]
        }
      ]
    }
  ]
}