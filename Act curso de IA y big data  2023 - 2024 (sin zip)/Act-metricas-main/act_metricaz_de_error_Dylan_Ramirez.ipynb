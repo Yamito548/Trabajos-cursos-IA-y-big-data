{
  "nbformat": 4,
  "nbformat_minor": 0,
  "metadata": {
    "colab": {
      "provenance": [],
      "include_colab_link": true
    },
    "kernelspec": {
      "name": "python3",
      "display_name": "Python 3"
    },
    "language_info": {
      "name": "python"
    }
  },
  "cells": [
    {
      "cell_type": "markdown",
      "metadata": {
        "id": "view-in-github",
        "colab_type": "text"
      },
      "source": [
        "<a href=\"https://colab.research.google.com/github/Yamito548/Act-metricas/blob/main/act_metricaz_de_error_Dylan_Ramirez.ipynb\" target=\"_parent\"><img src=\"https://colab.research.google.com/assets/colab-badge.svg\" alt=\"Open In Colab\"/></a>"
      ]
    },
    {
      "cell_type": "markdown",
      "source": [
        "23_24\n",
        "\n",
        "Actividad 3.1 - Métricas de error para los problemas de regresión\n",
        "\n",
        "A partir de los ejemplos indicados realizar los ejercicios propuestos"
      ],
      "metadata": {
        "id": "irnc2RYVuYVU"
      }
    },
    {
      "cell_type": "markdown",
      "source": [
        "# Por Dylan Jesus Ramirez Bermudez\n"
      ],
      "metadata": {
        "id": "bEAH7ipiOICa"
      }
    },
    {
      "cell_type": "markdown",
      "source": [],
      "metadata": {
        "id": "mA6e1emCaU_Q"
      }
    },
    {
      "cell_type": "markdown",
      "source": [
        "# Ejercicios MAE"
      ],
      "metadata": {
        "id": "_YfV1m56Ny7K"
      }
    },
    {
      "cell_type": "code",
      "execution_count": 1,
      "metadata": {
        "colab": {
          "base_uri": "https://localhost:8080/"
        },
        "id": "jVLFdfzxdsfG",
        "outputId": "87e10580-36e4-4e82-cb66-d3c0eb1f3b48"
      },
      "outputs": [
        {
          "output_type": "execute_result",
          "data": {
            "text/plain": [
              "0.0"
            ]
          },
          "metadata": {},
          "execution_count": 1
        }
      ],
      "source": [
        "#Error absoluto medio - mae\n",
        "from sklearn.metrics import mean_absolute_error\n",
        "# Ejemplo 1\n",
        "y_true = [2.5, 0, 2, 8]\n",
        "y_pred = [2.5, 0, 2, 8]\n",
        "mean_absolute_error(y_true, y_pred)"
      ]
    },
    {
      "cell_type": "code",
      "source": [
        "# Ejer 1: Crear dos vectores/arrays de valores ciertos y valores previstos, y calcular el mae.\n",
        "y_true = [3.5, 0, 2, 8]\n",
        "y_pred = [2.5, 5, 8, 8]\n",
        "ejer1 = mean_absolute_error(y_true, y_pred)\n",
        "print(\"Ejercicio 1: \",ejer1)\n",
        "# ¿Qué valores deberían de tener el array pred para que el error fuese 0? ¿y para que error fuese de 0.25?\n",
        "# Para que tuvieran valores 0 seria poner en ambos array los mismis valores.\n",
        "y_true = [3.5, 0, 2, 8]\n",
        "y_pred = [3.5, 0, 2, 8]\n",
        "mean_absolute_error(y_true, y_pred)\n",
        "\n",
        "# #Si quieres que el valor sea 0.25 deberán ser cambiar un numero:\n",
        "y_true = [3.5, 0, 2, 8]\n",
        "y_pred = [3.5, 0.6, 2.2, 7.8]\n",
        "mean_absolute_error(y_true, y_pred)\n",
        "\n"
      ],
      "metadata": {
        "id": "67XK1bXegMai",
        "colab": {
          "base_uri": "https://localhost:8080/"
        },
        "outputId": "46c4c9a4-b274-420d-9726-09eab3df636b"
      },
      "execution_count": 2,
      "outputs": [
        {
          "output_type": "stream",
          "name": "stdout",
          "text": [
            "Ejercicio 1:  3.0\n"
          ]
        },
        {
          "output_type": "execute_result",
          "data": {
            "text/plain": [
              "0.2500000000000001"
            ]
          },
          "metadata": {},
          "execution_count": 2
        }
      ]
    },
    {
      "cell_type": "code",
      "source": [
        "# Ejemplo 2\n",
        "y_true = [[0.5, 1], [-1, 1], [7, -6]]\n",
        "y_pred = [[0, 2], [-1, 2], [8, -5]]\n",
        "mean_absolute_error(y_true, y_pred)"
      ],
      "metadata": {
        "id": "3LhzsD30f60T",
        "colab": {
          "base_uri": "https://localhost:8080/"
        },
        "outputId": "6a9e45bd-e332-4c20-92b9-c48a53e49b3d"
      },
      "execution_count": 3,
      "outputs": [
        {
          "output_type": "execute_result",
          "data": {
            "text/plain": [
              "0.75"
            ]
          },
          "metadata": {},
          "execution_count": 3
        }
      ]
    },
    {
      "cell_type": "code",
      "source": [
        "# Ejer 2: Crear dos matrices/arrays de valores ciertos y valores previstos, y calcular el mae.\n",
        "y_true = [[1.5, 1], [-1, 1], [8, -6]]\n",
        "y_pred = [[0, 2], [-2, 2], [8, -5]]\n",
        "ejer2 = mean_absolute_error(y_true, y_pred)\n",
        "print(\"Ejercicio 2: \",ejer2)\n",
        "# ¿Qué valores deberían de tener el array pred para que el error fuese 0? ¿y para que error fuese de 0.33?\n",
        "#Para que te de 0 es igual que en el primer ejercicio, que los vectores sean iguales.\n",
        "y_true = [[1.5, 1], [-1, 1], [8, -6]]\n",
        "y_pred =  [[1.5, 1], [-1, 1], [8, -6]]\n",
        "mean_absolute_error(y_true, y_pred)\n",
        "\n",
        "# #Para que sea 0.33, en esta si que tuve que hacer varios cambios hasta hayar la combinacion perfecta\n",
        "y_true = [[1.5, 1], [-1, 1], [8, -6]]\n",
        "y_pred = [[1.8, 1], [-2, 1.35], [8, -5.67]]\n",
        "mean_absolute_error(y_true, y_pred)"
      ],
      "metadata": {
        "id": "LnPx6A4Astfq",
        "colab": {
          "base_uri": "https://localhost:8080/"
        },
        "outputId": "7d5f8488-3b26-4409-cf58-68dccc567a4d"
      },
      "execution_count": 4,
      "outputs": [
        {
          "output_type": "stream",
          "name": "stdout",
          "text": [
            "Ejercicio 2:  0.9166666666666667\n"
          ]
        },
        {
          "output_type": "execute_result",
          "data": {
            "text/plain": [
              "0.33"
            ]
          },
          "metadata": {},
          "execution_count": 4
        }
      ]
    },
    {
      "cell_type": "markdown",
      "source": [
        "# Ejercicios MSE"
      ],
      "metadata": {
        "id": "WWE3PKEeN7gZ"
      }
    },
    {
      "cell_type": "code",
      "source": [
        "# Error cuadrático medio - mse\n",
        "from sklearn.metrics import mean_squared_error\n",
        "y_true = [3, -0.5, 2, 7]\n",
        "y_pred = [2.5, 0.0, 2, 8]\n",
        "mean_squared_error(y_true, y_pred)"
      ],
      "metadata": {
        "colab": {
          "base_uri": "https://localhost:8080/"
        },
        "id": "59efr-GWgKP6",
        "outputId": "fc1cf881-54ea-4b71-a2d7-68aa5ae982d0"
      },
      "execution_count": 5,
      "outputs": [
        {
          "output_type": "execute_result",
          "data": {
            "text/plain": [
              "0.375"
            ]
          },
          "metadata": {},
          "execution_count": 5
        }
      ]
    },
    {
      "cell_type": "code",
      "source": [
        "# Ejer 3: Crear dos vectores/arrays de valores ciertos y valores previstos, y calcular el mse.\n",
        "y_true = [5, -0.5, 2, 7]\n",
        "y_pred = [1.5, 1.0, 2, 8]\n",
        "ejer3 = mean_squared_error(y_true, y_pred)\n",
        "print(\"Ejercicio 3: \",ejer3)\n",
        "# ¿Qué valores deberían de tener el array pred para que el error fuese 0? ¿y para que error fuese de 0.25?\n",
        "#Para que fuese 0 sería lo mismo de siempre.\n",
        "y_true = [5, -0.5, 2, 7]\n",
        "y_pred = [5, -0.5, 2, 7]\n",
        "mean_squared_error(y_true, y_pred)\n",
        "# #Pa que fuese 0.25\n",
        "y_true = [5, -0.5, 2, 7]\n",
        "y_pred = [4.9, 0.13, 2.2, 7.75]\n",
        "mean_squared_error(y_true, y_pred)"
      ],
      "metadata": {
        "id": "FLZt6j17u7sE",
        "colab": {
          "base_uri": "https://localhost:8080/"
        },
        "outputId": "eb13b4a9-4576-466c-b0e9-da309c3235c6"
      },
      "execution_count": 6,
      "outputs": [
        {
          "output_type": "stream",
          "name": "stdout",
          "text": [
            "Ejercicio 3:  3.875\n"
          ]
        },
        {
          "output_type": "execute_result",
          "data": {
            "text/plain": [
              "0.25235"
            ]
          },
          "metadata": {},
          "execution_count": 6
        }
      ]
    },
    {
      "cell_type": "code",
      "source": [
        "# Ejer 4: Crear dos matrices/arrays de valores ciertos y valores previstos, y calcular el mae.\n",
        "y_true = [35, -0.5, 2, 7]\n",
        "y_pred = [2.5, 1.0, 2, 8]\n",
        "ejer4 = mean_absolute_error(y_true, y_pred)\n",
        "print(\"Ejercicio 4 \",ejer4)\n",
        "# ¿Qué valores deberían de tener el array pred para que el error fuese 0? ¿y para que error fuese de 0.33?\n",
        "#Que sean iguales\n",
        "y_true = [35, -0.5, 2, 7]\n",
        "y_pred = [35, -0.5, 2, 7]\n",
        "mean_absolute_error(y_true, y_pred)\n",
        "# #Que sea 0.33\n",
        "y_true = [35, -0.5, 2, 7]\n",
        "y_pred = [35.0, 0.20, 2.3, 6.65]\n",
        "mean_absolute_error(y_true, y_pred)"
      ],
      "metadata": {
        "id": "M9nZd4nLvIRB",
        "colab": {
          "base_uri": "https://localhost:8080/"
        },
        "outputId": "c010f2e9-c586-4a14-803c-4e93ebc60960"
      },
      "execution_count": 7,
      "outputs": [
        {
          "output_type": "stream",
          "name": "stdout",
          "text": [
            "Ejercicio 4  8.75\n"
          ]
        },
        {
          "output_type": "execute_result",
          "data": {
            "text/plain": [
              "0.33749999999999986"
            ]
          },
          "metadata": {},
          "execution_count": 7
        }
      ]
    },
    {
      "cell_type": "markdown",
      "source": [
        "# Ejercicio MAPE\n"
      ],
      "metadata": {
        "id": "yvxB7K4cOAsL"
      }
    },
    {
      "cell_type": "code",
      "source": [
        "# Error de porcentaje absoluto medio - mape\n",
        "from sklearn.metrics import mean_absolute_percentage_error\n",
        "y_true = [3, -0.5, 2, 7]\n",
        "y_pred = [2.5, 0.0, 2, 8]\n",
        "mean_absolute_percentage_error(y_true, y_pred)"
      ],
      "metadata": {
        "colab": {
          "base_uri": "https://localhost:8080/"
        },
        "id": "0j3DDJPnBTmF",
        "outputId": "8e558f84-1b2c-4f37-92d7-3281304ba29e"
      },
      "execution_count": 8,
      "outputs": [
        {
          "output_type": "execute_result",
          "data": {
            "text/plain": [
              "0.3273809523809524"
            ]
          },
          "metadata": {},
          "execution_count": 8
        }
      ]
    },
    {
      "cell_type": "code",
      "source": [
        "# Ejer 5: Crear dos vectores/arrays de valores ciertos y valores previstos, y calcular el mape.\n",
        "y_true = [3, -0.9, 1, 7]\n",
        "y_pred = [1.5, 1.0, 2, 8]\n",
        "ejer5 = mean_absolute_percentage_error(y_true, y_pred)\n",
        "print(\"Ejercicio 5 \",ejer5)\n",
        "# # ¿Qué valores deberían de tener el array pred para que el error fuese 0?\n",
        "y_true = [3, -0.9, 1, 7]\n",
        "y_pred = [3, -0.9, 1, 7]\n",
        "mean_absolute_percentage_error(y_true, y_pred)"
      ],
      "metadata": {
        "id": "0vsYXdRqB0TE",
        "colab": {
          "base_uri": "https://localhost:8080/"
        },
        "outputId": "d8ec8594-2d9a-449d-9ddf-0072f5e2c5f8"
      },
      "execution_count": 9,
      "outputs": [
        {
          "output_type": "stream",
          "name": "stdout",
          "text": [
            "Ejercicio 5  0.9384920634920635\n"
          ]
        },
        {
          "output_type": "execute_result",
          "data": {
            "text/plain": [
              "0.0"
            ]
          },
          "metadata": {},
          "execution_count": 9
        }
      ]
    },
    {
      "cell_type": "code",
      "source": [
        "# Ejer 6: Crear dos matrices/arrays de valores ciertos y valores previstos, y calcular el MAPE.\n",
        "y_true = [5, -1.9, 1, 7]\n",
        "y_pred = [0.5, 2.0, 2, 8]\n",
        "ejer6 = mean_absolute_percentage_error(y_true, y_pred)\n",
        "print(\"Ejercicio 6 \",ejer6)\n",
        "# ¿Qué valores deberían de tener el array pred para que el error fuese 0?\n",
        "y_true = [5, -1.9, 1, 7]\n",
        "y_pred = [5, -1.9, 1, 7]\n",
        "mean_absolute_percentage_error(y_true, y_pred)"
      ],
      "metadata": {
        "id": "085pmFVO-cA3",
        "colab": {
          "base_uri": "https://localhost:8080/"
        },
        "outputId": "b04f8172-a16a-4e62-fe5b-898012589151"
      },
      "execution_count": 10,
      "outputs": [
        {
          "output_type": "stream",
          "name": "stdout",
          "text": [
            "Ejercicio 6  1.023872180451128\n"
          ]
        },
        {
          "output_type": "execute_result",
          "data": {
            "text/plain": [
              "0.0"
            ]
          },
          "metadata": {},
          "execution_count": 10
        }
      ]
    }
  ]
}