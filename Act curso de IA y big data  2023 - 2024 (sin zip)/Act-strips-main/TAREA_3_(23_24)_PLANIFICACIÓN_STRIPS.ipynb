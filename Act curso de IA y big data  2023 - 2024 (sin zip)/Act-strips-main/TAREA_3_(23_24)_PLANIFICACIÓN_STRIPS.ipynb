{
  "cells": [
    {
      "cell_type": "markdown",
      "metadata": {
        "id": "view-in-github",
        "colab_type": "text"
      },
      "source": [
        "<a href=\"https://colab.research.google.com/github/Yamito548/Act-strips/blob/main/TAREA_3_(23_24)_PLANIFICACI%C3%93N_STRIPS.ipynb\" target=\"_parent\"><img src=\"https://colab.research.google.com/assets/colab-badge.svg\" alt=\"Open In Colab\"/></a>"
      ]
    },
    {
      "cell_type": "markdown",
      "metadata": {
        "id": "7gTBz9QjmtX2"
      },
      "source": [
        "# By: Dylan Jesus Ramirez Bermudez"
      ]
    },
    {
      "cell_type": "markdown",
      "metadata": {
        "id": "5Tgy3dSGnQdt"
      },
      "source": [
        "Tareas\n",
        "1. (2 Puntos) Define el estado inicial y el estado objetivo del problema (podrá especificarse otra).\n",
        "2. (2 Puntos) Implementa las acciones posibles que se pueden realizar, teniendo en cuenta las restricciones.\n",
        "3. (2 Puntos) Implementa la función de transición que actualiza el estado del mundo después de realizar una acción.\n",
        "4. (2 Puntos) Utiliza STRIPS para planificar una secuencia de acciones que conduzca del estado inicial al estado objetivo.\n",
        "5. (2 Puntos) Implementa las funciones necesarias para ejecutar y visualizar el plan obtenido.\n"
      ]
    },
    {
      "cell_type": "markdown",
      "metadata": {
        "id": "bI5Qj1Alm1Hq"
      },
      "source": [
        "# Importamos librerias"
      ]
    },
    {
      "cell_type": "code",
      "source": [
        "from collections import deque"
      ],
      "metadata": {
        "id": "se2wbcUM_jpS"
      },
      "execution_count": null,
      "outputs": []
    },
    {
      "cell_type": "markdown",
      "metadata": {
        "id": "tDa6W8zqoZuR"
      },
      "source": [
        "# Definimos los estados iniciales y objetivo"
      ]
    },
    {
      "cell_type": "code",
      "execution_count": null,
      "metadata": {
        "id": "pqfXmILNmpeN"
      },
      "outputs": [],
      "source": [
        "#B:01, A:00, C: 10, D: 11\n",
        "estado_inicial = [['01', '00', '10', '11'], [], []]\n",
        "estado_objetivo = [[], [], ['00', '01', '10', '11']]"
      ]
    },
    {
      "cell_type": "markdown",
      "source": [
        "# Estados, acciones y implementación"
      ],
      "metadata": {
        "id": "fqI8GxnHFU5N"
      }
    },
    {
      "cell_type": "code",
      "source": [
        "def mover(accion, estado):\n",
        "    origen, destino = accion\n",
        "    if not estado[origen]:\n",
        "        return None\n",
        "    # Crear una copia del estado para no modificar el estado original\n",
        "    nuevo_estado = [lugar.copy() for lugar in estado]\n",
        "    # Efecto: mover el bloque del lugar de origen al lugar de destino\n",
        "    bloque = nuevo_estado[origen].pop()\n",
        "    nuevo_estado[destino].append(bloque)\n",
        "    return nuevo_estado"
      ],
      "metadata": {
        "id": "NbA--_1mDZDh"
      },
      "execution_count": null,
      "outputs": []
    },
    {
      "cell_type": "markdown",
      "source": [
        "# Algoritmo de planificación (Profundidad)"
      ],
      "metadata": {
        "id": "Y2OF5S_bFelv"
      }
    },
    {
      "cell_type": "code",
      "source": [
        "def busqueda_en_profundidad(estado_inicial, estado_objetivo):\n",
        "    pila = [(estado_inicial, [])]\n",
        "\n",
        "    visitados = set()\n",
        "\n",
        "    while pila:\n",
        "        # Sacar el siguiente estado de la pila\n",
        "        estado, camino = pila.pop()\n",
        "\n",
        "        # Si hemos alcanzado el estado objetivo, devolver el camino\n",
        "        if estado == estado_objetivo:\n",
        "            return camino\n",
        "\n",
        "        visitados.add(tuple(map(tuple, estado)))\n",
        "\n",
        "        # Generar todos los estados sucesores y añadirlos a la pila\n",
        "        for accion in [(0, 1), (0, 2), (1, 0), (1, 2), (2, 0), (2, 1)]:\n",
        "            nuevo_estado = mover(accion, estado)\n",
        "            if nuevo_estado is not None and tuple(map(tuple, nuevo_estado)) not in visitados:\n",
        "                print(f\"Acción: {accion}, Estado: {nuevo_estado}\")  # Imprimir la acción y el estado\n",
        "                nuevo_camino = camino + [accion]\n",
        "                pila.append((nuevo_estado, nuevo_camino))\n",
        "\n",
        "    return None"
      ],
      "metadata": {
        "id": "5vxr7qBLu_4P"
      },
      "execution_count": null,
      "outputs": []
    },
    {
      "cell_type": "markdown",
      "source": [
        "# Ver el la solución"
      ],
      "metadata": {
        "id": "wSjbSbocLTEh"
      }
    },
    {
      "cell_type": "code",
      "source": [
        "camino = busqueda_en_profundidad(estado_inicial, estado_objetivo)\n",
        "# Aplicar cada acción en la secuencia al estado inicial\n",
        "estado = estado_inicial\n",
        "for accion in camino:\n",
        "    estado = mover(accion, estado)\n",
        "\n",
        "assert estado == estado_objetivo\n",
        "\n",
        "camino = busqueda_en_profundidad(estado_inicial, estado_objetivo)\n",
        "print(\"Se necesitaron\", len(camino), \"movimientos para alcanzar el estado objetivo.\")"
      ],
      "metadata": {
        "id": "dhkT5vh_H3aD"
      },
      "execution_count": null,
      "outputs": []
    },
    {
      "cell_type": "markdown",
      "source": [
        "# En anchura"
      ],
      "metadata": {
        "id": "d4SHPXRfL0Ro"
      }
    },
    {
      "cell_type": "code",
      "source": [
        "# Representar los bloques como números binarios\n",
        "A = '00'\n",
        "B = '01'\n",
        "C = '10'\n",
        "D = '11'\n",
        "\n",
        "lugar1 = [B, A, C, D]  # Estado inicial\n",
        "lugar2 = []\n",
        "lugar3 = []  # Estado objetivo\n",
        "\n",
        "def mover(accion, estado):\n",
        "    origen, destino = accion\n",
        "\n",
        "    # Precondición: el lugar de origen no debe estar vacío\n",
        "    if not estado[origen]:\n",
        "        return None\n",
        "\n",
        "    # Crear una copia del estado para no modificar el estado original\n",
        "    nuevo_estado = [lugar.copy() for lugar in estado]\n",
        "\n",
        "    # Efecto: mover el bloque del lugar de origen al lugar de destino\n",
        "    bloque = nuevo_estado[origen].pop()\n",
        "    nuevo_estado[destino].append(bloque)\n",
        "\n",
        "    print('Lugar 1:', ''.join(nuevo_estado[0]))\n",
        "    print('Lugar 2:', ''.join(nuevo_estado[1]))\n",
        "    print('Lugar 3:', ''.join(nuevo_estado[2]))\n",
        "    print('---')\n",
        "\n",
        "    return nuevo_estado\n",
        "\n",
        "def busqueda_en_anchura(estado_inicial, estado_objetivo):\n",
        "    # Crear una cola para almacenar los estados a explorar\n",
        "    cola = deque([(estado_inicial, [])])\n",
        "\n",
        "    # Crear un conjunto para almacenar los estados visitados\n",
        "    visitados = set()\n",
        "\n",
        "    while cola:\n",
        "        # Sacar el siguiente estado de la cola\n",
        "        estado, camino = cola.popleft()\n",
        "\n",
        "        # Si hemos alcanzado el estado objetivo, devolver el camino\n",
        "        if estado == estado_objetivo:\n",
        "            return camino\n",
        "\n",
        "        # Marcar el estado como visitado\n",
        "        visitados.add(tuple(map(tuple, estado)))\n",
        "\n",
        "        for accion in [(0, 1), (0, 2), (1, 0), (1, 2), (2, 0), (2, 1)]:\n",
        "            nuevo_estado = mover(accion, estado)\n",
        "            if nuevo_estado is not None and tuple(map(tuple, nuevo_estado)) not in visitados:\n",
        "                nuevo_camino = camino + [accion]\n",
        "                cola.append((nuevo_estado, nuevo_camino))\n",
        "\n",
        "    return None\n",
        "\n",
        "camino = busqueda_en_anchura(estado_inicial, estado_objetivo)\n",
        "print(\"Camino al estado objetivo:\", camino)\n",
        "print(\"Número de movimientos:\", len(camino))"
      ],
      "metadata": {
        "id": "lKdWaFdCLv3x"
      },
      "execution_count": null,
      "outputs": []
    },
    {
      "cell_type": "markdown",
      "source": [
        "En esta actividad, intenté aplicar lo aprendido y recomendado en clase. No supe como plantearlo exactamente como se dijo pero hice lo que pude para asemejarlo al resultado final."
      ],
      "metadata": {
        "id": "tWDahIC6DB86"
      }
    }
  ],
  "metadata": {
    "colab": {
      "provenance": [],
      "authorship_tag": "ABX9TyP9AuiUlriJCTA3OzLCCYRH",
      "include_colab_link": true
    },
    "kernelspec": {
      "display_name": "Python 3",
      "name": "python3"
    },
    "language_info": {
      "name": "python"
    }
  },
  "nbformat": 4,
  "nbformat_minor": 0
}