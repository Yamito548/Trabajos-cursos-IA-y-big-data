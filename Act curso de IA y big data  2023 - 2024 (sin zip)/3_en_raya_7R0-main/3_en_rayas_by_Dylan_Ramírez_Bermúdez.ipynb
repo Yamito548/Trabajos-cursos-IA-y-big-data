{
  "cells": [
    {
      "cell_type": "markdown",
      "metadata": {
        "id": "view-in-github",
        "colab_type": "text"
      },
      "source": [
        "<a href=\"https://colab.research.google.com/github/Yamito548/3_en_raya_7R0/blob/main/3_en_rayas_by_Dylan_Ram%C3%ADrez_Berm%C3%BAdez.ipynb\" target=\"_parent\"><img src=\"https://colab.research.google.com/assets/colab-badge.svg\" alt=\"Open In Colab\"/></a>"
      ]
    },
    {
      "cell_type": "markdown",
      "metadata": {
        "id": "bCLtVBhGQvQJ"
      },
      "source": [
        "Por Dylan Jesús Ramírez Bermúdez ----- 7RO"
      ]
    },
    {
      "cell_type": "markdown",
      "metadata": {
        "id": "ph1TC-Vq4XIl"
      },
      "source": [
        "# Librerías"
      ]
    },
    {
      "cell_type": "code",
      "execution_count": 14,
      "metadata": {
        "id": "75yjwg8S4ZAB"
      },
      "outputs": [],
      "source": [
        "import numpy as np\n",
        "import pandas as pd\n",
        "import math"
      ]
    },
    {
      "cell_type": "markdown",
      "metadata": {
        "id": "R930DM7gXJP3"
      },
      "source": [
        "# Funciones"
      ]
    },
    {
      "cell_type": "code",
      "source": [
        "#Definición de ganadores\n",
        "def ganadore_2(estado):\n",
        "  a=int(estado[0])\n",
        "  b=int(estado[1])\n",
        "  c=int(estado[2])\n",
        "  d=int(estado[3])\n",
        "  e=int(estado[4])\n",
        "  f=int(estado[5])\n",
        "  g=int(estado[6])\n",
        "  h=int(estado[7])\n",
        "  i=int(estado[8])\n",
        "  ganador_1 = ((a*b*c==1) or (d*e*f==1) or (g*h*i==1) or (a*e*i==1) or (c*e*g==1) or (a*d*g==1) or (b*e*h==1) or (c*f*i==1))\n",
        "  ganador_2 = ((a*b*c==8) or (d*e*f==8) or (g*h*i==8) or (a*e*i==8) or (c*e*g==8) or (a*d*g==8) or (b*e*h==8) or (c*f*i==8))\n",
        "  return ganador_1 and ganador_2"
      ],
      "metadata": {
        "id": "R8pVZw69db9D"
      },
      "execution_count": 15,
      "outputs": []
    },
    {
      "cell_type": "code",
      "execution_count": 16,
      "metadata": {
        "id": "WewrxtWlssmB"
      },
      "outputs": [],
      "source": [
        "#Contar valores repetidos.\n",
        "def cont_repet(num, digito):\n",
        "  cont = 0\n",
        "  for a in str(num):\n",
        "    if a == str(digito):\n",
        "      cont += 1\n",
        "  return cont"
      ]
    },
    {
      "cell_type": "code",
      "execution_count": 17,
      "metadata": {
        "id": "wlh_sOORwMQ2"
      },
      "outputs": [],
      "source": [
        "#Comprobar si el estado presente es un estado válido.\n",
        "def est_valido (num, jugador):\n",
        "  unos=cont_repet(num,1)\n",
        "  doses=cont_repet(num,2)\n",
        "  valido=False\n",
        "\n",
        "  if jugador ==1:\n",
        "    if doses+1==unos:\n",
        "      valido=True\n",
        "  else:\n",
        "    if doses == unos:\n",
        "      valido= True\n",
        "\n",
        "  return valido\n",
        "#Adaptación de este código para casos concretos: if (cont2 == cont1) or (cont2 == (cont1+1)):"
      ]
    },
    {
      "cell_type": "code",
      "execution_count": 18,
      "metadata": {
        "id": "u5EBFLu_qLKA"
      },
      "outputs": [],
      "source": [
        "#Comprobar estado ganador.\n",
        "def est_ganador(estado):\n",
        "  a=int(estado[0])\n",
        "  b=int(estado[1])\n",
        "  c=int(estado[2])\n",
        "  d=int(estado[3])\n",
        "  e=int(estado[4])\n",
        "  f=int(estado[5])\n",
        "  g=int(estado[6])\n",
        "  h=int(estado[7])\n",
        "  i=int(estado[8])\n",
        "  #Miramos las opciones para ganar\n",
        "  ganador_1 = ((a*b*c==1) or (d*e*f==1) or (g*h*i==1) or (a*e*i==1) or (c*e*g==1) or (a*d*g==1) or (b*e*h==1) or (c*f*i==1))\n",
        "  ganador_2 = ((a*b*c==8) or (d*e*f==8) or (g*h*i==8) or (a*e*i==8) or (c*e*g==8) or (a*d*g==8) or (b*e*h==8) or (c*f*i==8))\n",
        "  return ganador_1 or ganador_2"
      ]
    },
    {
      "cell_type": "code",
      "execution_count": 19,
      "metadata": {
        "id": "J7A35pRTpu1c"
      },
      "outputs": [],
      "source": [
        "#Decodificamos el conjunto de numeros.\n",
        "def deco_estado(num):\n",
        "  return np.base_repr(num, base=3).zfill(9)"
      ]
    },
    {
      "cell_type": "code",
      "execution_count": 20,
      "metadata": {
        "id": "H4-uW1sGQqLE"
      },
      "outputs": [],
      "source": [
        "#Estados imposibles\n",
        "def est_impos(matriz,indice):\n",
        "  for elem in matriz[indice]:\n",
        "    if elem != -1:\n",
        "      return False\n",
        "    return True"
      ]
    },
    {
      "cell_type": "markdown",
      "metadata": {
        "id": "-lPiony2WiLf"
      },
      "source": [
        "# Generación, recorrido, diccionarios y estados posibles"
      ]
    },
    {
      "cell_type": "code",
      "execution_count": 21,
      "metadata": {
        "colab": {
          "base_uri": "https://localhost:8080/",
          "height": 0
        },
        "id": "gVgAIqfnyB3b",
        "outputId": "b8681e2a-ca98-4d33-bfa1-b6a01e34b803"
      },
      "outputs": [
        {
          "output_type": "execute_result",
          "data": {
            "text/plain": [
              "5890"
            ]
          },
          "metadata": {},
          "execution_count": 21
        }
      ],
      "source": [
        "#Recorremos las posibles opciones.\n",
        "#Variables y diccionarios\n",
        "Q = []\n",
        "R = []\n",
        "diccionario = dict()\n",
        "diccionario_inverso = dict()\n",
        "indice = 0\n",
        "estados_posibles = 0\n",
        "lista = []\n",
        "#Acciones posibles\n",
        "for a in range(3):\n",
        "  for b in range(3):\n",
        "    for c in range(3):\n",
        "      for d in range(3):\n",
        "        for e in range(3):\n",
        "          for f in range(3):\n",
        "            for g in range(3):\n",
        "              for h in range(3):\n",
        "                for i in range(3):\n",
        "\n",
        "                  ganador_1 = False\n",
        "                  ganador_2 = False\n",
        "                  #Pillamos el conjuto de números que nos suelta.\n",
        "                  # esta_num = [a,b,c,d,e,f,g,h,i]\n",
        "                  estado =int(str(a)+str(b)+str(c)+str(d)+str(e)+str(f)+str(g)+str(h)+str(i))\n",
        "                  #Buscamos la cantidad de unos y dos que haya.\n",
        "                  # cont1 = esta_num.count(1)\n",
        "                  # cont2 = esta_num.count(2)\n",
        "\n",
        "                  #En el caso de que la cantidad de 2 sea igual que 1 o dos siendo mayor que 1 por 1 número. RECUERDA los parentesís son importantes.\n",
        "                  # if (cont2 == cont1) or (cont2 == (cont1)+1):\n",
        "                  if est_valido(estado,1) or est_valido(estado,2):\n",
        "                    # lista.append(esta_num)\n",
        "                    ganador_1 = ((a*b*c==1) or (d*e*f==1) or (g*h*i==1) or (a*e*i==1) or (c*e*g==1) or (a*d*g==1) or (b*e*h==1) or (c*f*i==1))\n",
        "                    ganador_2 = ((a*b*c==8) or (d*e*f==8) or (g*h*i==8) or (a*e*i==8) or (c*e*g==8) or (a*d*g==8) or (b*e*h==8) or (c*f*i==8))\n",
        "                    estados_posibles += 1\n",
        "\n",
        "                    if not(ganador_1 & ganador_2):\n",
        "                      indice_cod = pow(3,8)*a + pow(3,7)*b + pow(3,6)*c + pow(3,5)*d + pow(3,4)*e + pow(3,3)*f + pow(3,2)*g + 3*h + i\n",
        "                      diccionario[indice] = indice_cod\n",
        "                      diccionario_inverso[indice_cod] = indice\n",
        "                      Q.append(indice_cod)\n",
        "                      indice +=1\n",
        "\n",
        "                    #Revisamos las jugadas ganadoras, si gana le damos 100 puntos. Lo añadimos a la tabla de recompensas.\n",
        "                    if ganador_1:\n",
        "                      R.append(100)\n",
        "                    elif ganador_2:\n",
        "                      R.append(-100)\n",
        "                    else:\n",
        "                      R.append(0)\n",
        "len(Q)"
      ]
    },
    {
      "cell_type": "code",
      "source": [
        "#Comprobar que todo tiene el tamaño que debe tener.\n",
        "print(\"Longitud de Q:\", len(Q))\n",
        "print(\"Longitud de diccionario:\", len(diccionario))\n",
        "print(\"Longitud de diccionario_inverso:\", len(diccionario_inverso))"
      ],
      "metadata": {
        "colab": {
          "base_uri": "https://localhost:8080/",
          "height": 0
        },
        "id": "3dbeInapnhr5",
        "outputId": "867b06db-e310-4227-ea7a-eef72ce4815f"
      },
      "execution_count": 22,
      "outputs": [
        {
          "output_type": "stream",
          "name": "stdout",
          "text": [
            "Longitud de Q: 5890\n",
            "Longitud de diccionario: 5890\n",
            "Longitud de diccionario_inverso: 5890\n"
          ]
        }
      ]
    },
    {
      "cell_type": "markdown",
      "metadata": {
        "id": "Wc8N7N8ZUrng"
      },
      "source": [
        "# Matriz para el jugador 1"
      ]
    },
    {
      "cell_type": "code",
      "execution_count": 23,
      "metadata": {
        "id": "b_snprPgSx57",
        "colab": {
          "base_uri": "https://localhost:8080/",
          "height": 0
        },
        "outputId": "ccb6071d-b694-4790-cc5b-c0218b08e6db"
      },
      "outputs": [
        {
          "output_type": "execute_result",
          "data": {
            "text/plain": [
              "array([[   1,    2,    5, ...,  265,  746, 2103],\n",
              "       [  -1,   -1,   -1, ...,   -1,   -1,   -1],\n",
              "       [  -1,   -1,   -1, ...,   -1,   -1,   -1],\n",
              "       ...,\n",
              "       [  -1,   -1,   -1, ...,   -1,   -1,   -1],\n",
              "       [  -1,   -1,   -1, ...,   -1,   -1,   -1],\n",
              "       [  -1,   -1,   -1, ...,   -1,   -1,   -1]])"
            ]
          },
          "metadata": {},
          "execution_count": 23
        }
      ],
      "source": [
        "#Creamos tabla de trasnciciones\n",
        "tabla_transiciones = np.ones((len(Q), 9), dtype=int) * -1\n",
        "tabla_transiciones_2 = np.ones((len(Q), 9), dtype=int) * -1\n",
        "\n",
        "#Estados posibles.\n",
        "for est in range(len(Q)):\n",
        "\n",
        "    #Usamos la función antes establecida\n",
        "    Q_estado = Q[est]\n",
        "    estado_deco = diccionario[est]\n",
        "    estado_string = str(np.base_repr(estado_deco, base=3)).zfill(9)\n",
        "    #Parecido a lo que hice en la parte de contar 1 y 2.\n",
        "    num_ceros = cont_repet(estado_string,0)\n",
        "\n",
        "    if not (num_ceros==0):\n",
        "      for num in range(9):\n",
        "        estado_string = str(np.base_repr(estado_deco, base=3)).zfill(9)\n",
        "        if estado_string[8-num] =='0':\n",
        "            estado_nuevo =estado_deco + (3**num)\n",
        "            str_estado_nuevo = str(np.base_repr(estado_nuevo, base=3)).zfill(9)\n",
        "            valido=est_valido(str_estado_nuevo,1)\n",
        "\n",
        "            if valido==True and ganadore_2(str_estado_nuevo)==False:\n",
        "                #buscamos el estado en la tabla Q, con el índice del estado resultante.\n",
        "                tabla_transiciones[est,num]=diccionario_inverso[estado_nuevo]\n",
        "            else:\n",
        "              if est_valido(int(str_estado_nuevo),2) and ganadore_2(str_estado_nuevo)==False:\n",
        "                #buscamos el estado en la tabla Q, con el índice del estado resultante.\n",
        "                tabla_transiciones_2[est,num]=diccionario_inverso[int(estado_nuevo)]\n",
        "tabla_transiciones"
      ]
    },
    {
      "cell_type": "markdown",
      "metadata": {
        "id": "ROBJv6RSzN61"
      },
      "source": [
        "# Matriz para el jugador 2"
      ]
    },
    {
      "cell_type": "code",
      "source": [
        "for est in range (len(Q)): #estados posibles\n",
        "\n",
        "    Q_estado=Q[est]\n",
        "    estado_deco=diccionario[est]\n",
        "    str_estado=str(np.base_repr(estado_deco, base=3)).zfill(9)\n",
        "    ceros=cont_repet(str_estado,0)\n",
        "\n",
        "    if not (num_ceros==0): #existen ceros en el estado, hay jugada\n",
        "      for num in range (9):\n",
        "        str_estado=str(np.base_repr(estado_deco, base=3)).zfill(9)\n",
        "        if str_estado [8-num]=='0':\n",
        "          estado_nuevo =estado_deco + ((2*(3**num)))\n",
        "          str_estado_nuevo = str(np.base_repr(estado_nuevo, base=3)).zfill(9)\n",
        "          valido=est_valido(str_estado_nuevo,2)\n",
        "          if valido==True and ganadore_2(str_estado_nuevo)==False:\n",
        "              tabla_transiciones_2[est,num]=diccionario_inverso[estado_nuevo]\n",
        "          else:\n",
        "            if est_valido(int(str_estado),1) and ganadore_2(str_estado_nuevo)==False:\n",
        "                tabla_transiciones[est,num]=diccionario_inverso[estado_nuevo]\n",
        "\n",
        "len(tabla_transiciones_2)"
      ],
      "metadata": {
        "id": "l4MWAhdkmV_l",
        "colab": {
          "base_uri": "https://localhost:8080/",
          "height": 0
        },
        "outputId": "11326769-6cd5-42c2-b41d-5cfe05d01664"
      },
      "execution_count": 24,
      "outputs": [
        {
          "output_type": "execute_result",
          "data": {
            "text/plain": [
              "5890"
            ]
          },
          "metadata": {},
          "execution_count": 24
        }
      ]
    },
    {
      "cell_type": "code",
      "source": [
        "tabla_transiciones[194]"
      ],
      "metadata": {
        "id": "KzasSsYczchx",
        "colab": {
          "base_uri": "https://localhost:8080/",
          "height": 0
        },
        "outputId": "6b603064-1d9e-4339-fc45-e5e6efa5c96c"
      },
      "execution_count": 25,
      "outputs": [
        {
          "output_type": "execute_result",
          "data": {
            "text/plain": [
              "array([ 195,  196,   -1,  205,  222,   -1,  440,  921, 2278])"
            ]
          },
          "metadata": {},
          "execution_count": 25
        }
      ]
    },
    {
      "cell_type": "markdown",
      "metadata": {
        "id": "jlfAk-TYCYq1"
      },
      "source": [
        "# Juego"
      ]
    },
    {
      "cell_type": "code",
      "execution_count": 26,
      "metadata": {
        "id": "murl3RON2kjv",
        "colab": {
          "base_uri": "https://localhost:8080/",
          "height": 5570
        },
        "outputId": "3e212ece-a0ac-413f-c0d8-374f1a91f767"
      },
      "outputs": [
        {
          "output_type": "stream",
          "name": "stdout",
          "text": [
            "-----------------------\n",
            "Jugador 1 - Turno  0\n",
            "-----------------------\n",
            "jugada 1-a 0 7 746\n",
            "jugada 1-b 746 2187 2187\n",
            "[['0' '1' '0']\n",
            " ['0' '0' '0']\n",
            " ['0' '0' '0']]\n",
            "-----------------------\n",
            "Jugador 2 - Turno  1\n",
            "-----------------------\n",
            "jugada 2-a 746 6 1227\n",
            "jugada 2-b 1227 3645 012000000\n",
            "-----------------------\n",
            "Jugador 1 - Turno  2\n",
            "-----------------------\n",
            "jugada 1-a 1227 8 3174\n",
            "jugada 1-b 3174 10206 10206\n",
            "[['1' '1' '2']\n",
            " ['0' '0' '0']\n",
            " ['0' '0' '0']]\n",
            "-----------------------\n",
            "Jugador 2 - Turno  3\n",
            "-----------------------\n",
            "jugada 2-a 3174 4 3233\n",
            "jugada 2-b 3233 10368 112020000\n",
            "-----------------------\n",
            "Jugador 1 - Turno  4\n",
            "-----------------------\n",
            "jugada 1-a 3233 3 3246\n",
            "jugada 1-b 3246 10395 10395\n",
            "[['1' '1' '2']\n",
            " ['0' '2' '1']\n",
            " ['0' '0' '0']]\n",
            "-----------------------\n",
            "Jugador 2 - Turno  5\n",
            "-----------------------\n",
            "jugada 2-a 3246 1 3249\n",
            "jugada 2-b 3249 10401 112021020\n",
            "-----------------------\n",
            "Jugador 1 - Turno  6\n",
            "-----------------------\n",
            "jugada 1-a 3249 2 3252\n",
            "jugada 1-b 3252 10410 10410\n",
            "[['1' '1' '2']\n",
            " ['0' '2' '1']\n",
            " ['1' '2' '0']]\n",
            "-----------------------\n",
            "Jugador 2 - Turno  7\n",
            "-----------------------\n",
            "jugada 2-a 3252 5 3421\n",
            "jugada 2-b 3421 10896 112221120\n",
            "-----------------------\n",
            "Jugador 1 - Turno  8\n",
            "-----------------------\n",
            "jugada 1-a 3421 0 3422\n",
            "jugada 1-b 3422 10897 10897\n",
            "[['1' '1' '2']\n",
            " ['2' '2' '1']\n",
            " ['1' '2' '1']]\n",
            "-----------------------\n",
            "Jugador 2 - Turno  9\n",
            "-----------------------\n",
            "jugada 2-a 3430 5 3615\n",
            "jugada 2-b 3615 11422 120200001\n",
            "-----------------------\n",
            "Jugador 1 - Turno  10\n",
            "-----------------------\n",
            "estado imposible 1 3615\n",
            "jugada 1-a 3616 3 3626\n",
            "jugada 1-b 3626 11451 11451\n",
            "[['1' '2' '0']\n",
            " ['2' '0' '1']\n",
            " ['0' '1' '0']]\n",
            "-----------------------\n",
            "Jugador 2 - Turno  11\n",
            "-----------------------\n",
            "jugada 2-a 3626 2 3635\n",
            "jugada 2-b 3635 11469 120201210\n",
            "-----------------------\n",
            "Jugador 1 - Turno  12\n",
            "-----------------------\n",
            "jugada 1-a 3635 0 3636\n",
            "jugada 1-b 3636 11470 11470\n",
            "[['1' '2' '0']\n",
            " ['2' '0' '1']\n",
            " ['2' '1' '1']]\n",
            "-----------------------\n",
            "Jugador 2 - Turno  13\n",
            "-----------------------\n",
            "jugada 2-a 3642 6 4123\n",
            "jugada 2-b 4123 12961 122210001\n",
            "gana Q2\n",
            "-----------------------\n",
            "Jugador 2 - Turno  1\n",
            "-----------------------\n",
            "jugada 2-a 4128 3 4147\n",
            "jugada 2-b 4147 13026 122212110\n",
            "-----------------------\n",
            "Jugador 1 - Turno  2\n",
            "-----------------------\n",
            "jugada 1-a 4147 0 4148\n",
            "jugada 1-b 4148 13027 13027\n",
            "[['1' '2' '2']\n",
            " ['2' '1' '2']\n",
            " ['1' '1' '1']]\n",
            "gana Q1\n",
            "-----------------------\n",
            "Jugador 2 - Turno  1\n",
            "-----------------------\n",
            "jugada 2-a 4156 5 4325\n",
            "jugada 2-b 4325 13612 200200011\n",
            "-----------------------\n",
            "Jugador 1 - Turno  2\n",
            "-----------------------\n",
            "jugada 1-a 4325 3 4331\n",
            "jugada 1-b 4331 13639 13639\n",
            "[['2' '0' '0']\n",
            " ['2' '0' '1']\n",
            " ['0' '1' '1']]\n",
            "-----------------------\n",
            "Jugador 2 - Turno  3\n",
            "-----------------------\n",
            "jugada 2-a 4333 4 4367\n",
            "jugada 2-b 4367 13807 200221101\n",
            "-----------------------\n",
            "Jugador 1 - Turno  4\n",
            "-----------------------\n",
            "jugada 1-a 4367 7 5025\n",
            "jugada 1-b 5025 15994 15994\n",
            "[['2' '1' '0']\n",
            " ['2' '2' '1']\n",
            " ['1' '0' '1']]\n",
            "-----------------------\n",
            "Jugador 2 - Turno  5\n",
            "-----------------------\n",
            "jugada 2-a 5026 0 5027\n",
            "jugada 2-b 5027 15998 210221112\n",
            "gana Q2\n",
            "-----------------------\n",
            "Jugador 2 - Turno  1\n",
            "-----------------------\n",
            "jugada 2-a 5030 5 5200\n",
            "jugada 2-b 5200 16524 211200000\n",
            "-----------------------\n",
            "Jugador 1 - Turno  2\n",
            "-----------------------\n",
            "jugada 1-a 5200 2 5205\n",
            "jugada 1-b 5205 16533 16533\n",
            "[['2' '1' '1']\n",
            " ['2' '0' '0']\n",
            " ['1' '0' '0']]\n",
            "-----------------------\n",
            "Jugador 2 - Turno  3\n",
            "-----------------------\n",
            "jugada 2-a 5205 4 5265\n",
            "jugada 2-b 5265 16695 211220100\n",
            "-----------------------\n",
            "Jugador 1 - Turno  4\n",
            "-----------------------\n",
            "jugada 1-a 5265 1 5267\n",
            "jugada 1-b 5267 16698 16698\n",
            "[['2' '1' '1']\n",
            " ['2' '2' '0']\n",
            " ['1' '1' '0']]\n",
            "-----------------------\n",
            "Jugador 2 - Turno  5\n",
            "-----------------------\n",
            "jugada 2-a 5267 0 5268\n",
            "jugada 2-b 5268 16700 211220112\n",
            "gana Q2\n",
            "-----------------------\n",
            "Jugador 2 - Turno  1\n",
            "-----------------------\n",
            "jugada 2-a 5273 2 5281\n",
            "jugada 2-b 5281 16734 211221210\n",
            "gana Q2\n",
            "-----------------------\n",
            "Jugador 2 - Turno  1\n",
            "-----------------------\n",
            "jugada 2-a 5289 5 5454\n",
            "jugada 2-b 5454 17263 212200101\n",
            "-----------------------\n",
            "Jugador 1 - Turno  2\n",
            "-----------------------\n",
            "jugada 1-a 5454 3 5461\n",
            "jugada 1-b 5461 17290 17290\n",
            "[['2' '1' '2']\n",
            " ['2' '0' '1']\n",
            " ['1' '0' '1']]\n",
            "-----------------------\n",
            "Jugador 2 - Turno  3\n",
            "-----------------------\n",
            "jugada 2-a 5462 0 5463\n",
            "jugada 2-b 5463 17294 212201112\n",
            "-----------------------\n",
            "Jugador 1 - Turno  4\n",
            "-----------------------\n",
            "estado imposible 1 5463\n",
            "estado imposible 1 5464\n",
            "estado imposible 1 5465\n",
            "estado imposible 1 5466\n",
            "estado imposible 1 5467\n",
            "jugada 1-a 5468 0 5469\n",
            "jugada 1-b 5469 17338 17338\n",
            "[['2' '1' '2']\n",
            " ['2' '1' '0']\n",
            " ['0' '1' '1']]\n",
            "gana Q1\n",
            "-----------------------\n",
            "Jugador 2 - Turno  1\n",
            "-----------------------\n",
            "jugada 2-a 5472 3 5488\n",
            "jugada 2-b 5488 17400 212212110\n",
            "gana Q2\n",
            "-----------------------\n",
            "Jugador 2 - Turno  1\n",
            "-----------------------\n",
            "jugada 2-a 5504 0 5505\n",
            "jugada 2-b 5505 17537 220001112\n",
            "-----------------------\n",
            "Jugador 1 - Turno  2\n",
            "-----------------------\n",
            "estado imposible 1 5505\n",
            "jugada 1-a 5506 6 5653\n",
            "jugada 1-b 5653 18268 18268\n",
            "[['2' '2' '1']\n",
            " ['0' '0' '1']\n",
            " ['1' '2' '1']]\n",
            "gana Q1\n",
            "-----------------------\n",
            "Jugador 2 - Turno  1\n",
            "-----------------------\n",
            "jugada 2-a 5662 2 5671\n",
            "jugada 2-b 5671 18325 221010201\n",
            "-----------------------\n",
            "Jugador 1 - Turno  2\n",
            "-----------------------\n",
            "jugada 1-a 5671 5 5753\n",
            "jugada 1-b 5753 18568 18568\n",
            "[['2' '2' '1']\n",
            " ['1' '1' '0']\n",
            " ['2' '0' '1']]\n",
            "-----------------------\n",
            "Jugador 2 - Turno  3\n",
            "-----------------------\n",
            "jugada 2-a 5754 3 5777\n",
            "jugada 2-b 5777 18624 221112210\n",
            "-----------------------\n",
            "Jugador 1 - Turno  4\n",
            "-----------------------\n",
            "jugada 1-a 5777 0 5778\n",
            "jugada 1-b 5778 18625 18625\n",
            "[['2' '2' '1']\n",
            " ['1' '1' '2']\n",
            " ['2' '1' '1']]\n",
            "-----------------------\n",
            "Jugador 2 - Turno  5\n",
            "-----------------------\n",
            "jugada 2-a 5784 3 5801\n",
            "jugada 2-b 5801 18696 221122110\n",
            "-----------------------\n",
            "Jugador 1 - Turno  6\n",
            "-----------------------\n",
            "jugada 1-a 5801 0 5802\n",
            "jugada 1-b 5802 18697 18697\n",
            "[['2' '2' '1']\n",
            " ['1' '2' '2']\n",
            " ['1' '1' '1']]\n",
            "gana Q1\n",
            "-----------------------\n",
            "Jugador 2 - Turno  1\n",
            "-----------------------\n",
            "jugada 2-a 5809 4 5841\n",
            "jugada 2-b 5841 18904 221221011\n",
            "gana Q2\n",
            "-----------------------\n",
            "Jugador 2 - Turno  1\n",
            "-----------------------\n",
            "jugada 2-a 5856 0 5857\n",
            "jugada 2-b 5857 19076 222011112\n",
            "gana Q2\n",
            "-----------------------\n",
            "Jugador 2 - Turno  1\n",
            "-----------------------\n",
            "jugada 2-a 5867 4 5885\n",
            "jugada 2-b 5885 19396 222121101\n",
            "gana Q2\n",
            "-----------------------\n",
            "Jugador 2 - Turno  1\n",
            "-----------------------\n"
          ]
        },
        {
          "output_type": "error",
          "ename": "IndexError",
          "evalue": "index 5890 is out of bounds for axis 0 with size 5890",
          "traceback": [
            "\u001b[0;31m---------------------------------------------------------------------------\u001b[0m",
            "\u001b[0;31mIndexError\u001b[0m                                Traceback (most recent call last)",
            "\u001b[0;32m<ipython-input-26-0da62f04e8fd>\u001b[0m in \u001b[0;36m<cell line: 15>\u001b[0;34m()\u001b[0m\n\u001b[1;32m     47\u001b[0m         \u001b[0mprint\u001b[0m\u001b[0;34m(\u001b[0m\u001b[0;34m'Jugador 2 - Turno '\u001b[0m\u001b[0;34m,\u001b[0m\u001b[0mturno\u001b[0m\u001b[0;34m)\u001b[0m\u001b[0;34m\u001b[0m\u001b[0;34m\u001b[0m\u001b[0m\n\u001b[1;32m     48\u001b[0m         \u001b[0mprint\u001b[0m\u001b[0;34m(\u001b[0m\u001b[0;34m'-----------------------'\u001b[0m\u001b[0;34m)\u001b[0m\u001b[0;34m\u001b[0m\u001b[0;34m\u001b[0m\u001b[0m\n\u001b[0;32m---> 49\u001b[0;31m         \u001b[0;32mwhile\u001b[0m \u001b[0mtabla_transiciones_2\u001b[0m\u001b[0;34m[\u001b[0m\u001b[0ms\u001b[0m\u001b[0;34m,\u001b[0m\u001b[0ma\u001b[0m\u001b[0;34m]\u001b[0m\u001b[0;34m==\u001b[0m\u001b[0;34m-\u001b[0m\u001b[0;36m1\u001b[0m\u001b[0;34m:\u001b[0m\u001b[0;34m\u001b[0m\u001b[0;34m\u001b[0m\u001b[0m\n\u001b[0m\u001b[1;32m     50\u001b[0m           \u001b[0ma\u001b[0m\u001b[0;34m=\u001b[0m\u001b[0mnp\u001b[0m\u001b[0;34m.\u001b[0m\u001b[0mrandom\u001b[0m\u001b[0;34m.\u001b[0m\u001b[0mrandint\u001b[0m\u001b[0;34m(\u001b[0m\u001b[0;36m9\u001b[0m\u001b[0;34m)\u001b[0m\u001b[0;34m\u001b[0m\u001b[0;34m\u001b[0m\u001b[0m\n\u001b[1;32m     51\u001b[0m           \u001b[0;32mif\u001b[0m \u001b[0mest_impos\u001b[0m\u001b[0;34m(\u001b[0m\u001b[0mtabla_transiciones_2\u001b[0m\u001b[0;34m,\u001b[0m\u001b[0ms\u001b[0m\u001b[0;34m)\u001b[0m\u001b[0;34m==\u001b[0m\u001b[0;32mTrue\u001b[0m\u001b[0;34m:\u001b[0m\u001b[0;34m\u001b[0m\u001b[0;34m\u001b[0m\u001b[0m\n",
            "\u001b[0;31mIndexError\u001b[0m: index 5890 is out of bounds for axis 0 with size 5890"
          ]
        }
      ],
      "source": [
        "v = 0.2  # Factor de aprendizaje (learning rate)\n",
        "y = 0.8  # Factor de descuento (discount factor)\n",
        "\n",
        "vict_1 = 0\n",
        "vict_2 = 0\n",
        "# Crear un array numpy en lugar de una lista\n",
        "Q1 = np.full((len(Q), 9), 0, dtype=float)  # Cambiado a dtype=float para permitir valores decimales\n",
        "turno = 0\n",
        "partida = 1\n",
        "\n",
        "# Seleccionar un estado al azar\n",
        "s = 0  # Partimos del estado inicial\n",
        "entrenar = 0\n",
        "\n",
        "while(entrenar<1000):\n",
        "    a=np.random.randint(9)  # Acción aleatoria al azar número entero en [0,8]\n",
        "    siguiente=tabla_transiciones[s,a]\n",
        "    if (turno % 2)==0: #turno del jugador 1\n",
        "        print('-----------------------')\n",
        "        print('Jugador 1 - Turno ',turno)\n",
        "        print('-----------------------')\n",
        "        Q1[s,a]=(1-v)*Q1[s,a]+v*(R[s]+y*max(Q1[siguiente,]))\n",
        "\n",
        "        while tabla_transiciones[s,a]==-1:\n",
        "          a=np.random.randint(9)\n",
        "          if est_impos(tabla_transiciones,s)==True:\n",
        "            print('estado imposible 1',s)\n",
        "            s+=1\n",
        "        siguiente=tabla_transiciones[s,a]\n",
        "        print('jugada 1-a',s,a,tabla_transiciones[s,a])\n",
        "        print('jugada 1-b',siguiente,Q[siguiente],diccionario[siguiente])\n",
        "\n",
        "        str_estado=str(np.base_repr(diccionario[siguiente], base=3)).zfill(9)\n",
        "        estadoM=np.array(list(str_estado))\n",
        "        matrizJugada= estadoM.reshape((3,3))\n",
        "\n",
        "        print(matrizJugada)\n",
        "        if est_ganador(str_estado)==True:\n",
        "            print('gana Q1')\n",
        "            vict_1+=1\n",
        "            s=0\n",
        "            turno =0\n",
        "            partida+=1\n",
        "        s=siguiente\n",
        "    else: #turno del jugador 2\n",
        "        print('-----------------------')\n",
        "        print('Jugador 2 - Turno ',turno)\n",
        "        print('-----------------------')\n",
        "        while tabla_transiciones_2[s,a]==-1:\n",
        "          a=np.random.randint(9)\n",
        "          if est_impos(tabla_transiciones_2,s)==True:\n",
        "            s+=1\n",
        "        # T[s,a] es una transición posible\n",
        "        siguiente=tabla_transiciones_2[s,a]\n",
        "        print('jugada 2-a',s,a,tabla_transiciones_2[s,a])\n",
        "\n",
        "        str_estado=str(np.base_repr(diccionario[siguiente], base=3)).zfill(9)\n",
        "        print('jugada 2-b',siguiente,Q[siguiente],str_estado)\n",
        "        estadoM=np.array(list(str_estado))\n",
        "\n",
        "        matrizJugada= estadoM.reshape((3,3))\n",
        "        if est_ganador(str_estado)==True:\n",
        "          print('gana Q2')\n",
        "          vict_2+=1\n",
        "          s=0\n",
        "          turno =0\n",
        "          partida+=1\n",
        "        s=siguiente\n",
        "    entrenar+=1\n",
        "    turno+=1"
      ]
    }
  ],
  "metadata": {
    "colab": {
      "collapsed_sections": [
        "ph1TC-Vq4XIl"
      ],
      "provenance": [],
      "authorship_tag": "ABX9TyPiKgO9CxOGqgckOhjoAioD",
      "include_colab_link": true
    },
    "kernelspec": {
      "display_name": "Python 3",
      "name": "python3"
    },
    "language_info": {
      "name": "python"
    }
  },
  "nbformat": 4,
  "nbformat_minor": 0
}